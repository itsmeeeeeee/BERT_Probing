{
 "cells": [
  {
   "cell_type": "markdown",
   "metadata": {
    "id": "PHQNGDP-8im8"
   },
   "source": [
    "# Step 1: Importing packages and libraries"
   ]
  },
  {
   "cell_type": "code",
   "execution_count": 2,
   "metadata": {
    "id": "DletLUctI-TK"
   },
   "outputs": [],
   "source": [
    "# !pip install transformers"
   ]
  },
  {
   "cell_type": "code",
   "execution_count": 1,
   "metadata": {
    "id": "iQUNK-OG6onq"
   },
   "outputs": [],
   "source": [
    "import pandas as pd\n",
    "import numpy as np\n",
    "from ast import literal_eval\n",
    "import ast\n",
    "from transformers import BertModel\n",
    "import torch\n",
    "from sklearn.model_selection import train_test_split\n",
    "from sklearn.linear_model import LogisticRegression\n",
    "from sklearn.metrics import accuracy_score, f1_score, confusion_matrix\n",
    "from sklearn.preprocessing import StandardScaler\n",
    "from sklearn.utils import resample\n",
    "import torch.nn as nn\n",
    "import torch.optim as optim\n",
    "import pandas as pd\n",
    "import csv\n",
    "import matplotlib.pyplot as plt\n",
    "import seaborn as sns"
   ]
  },
  {
   "cell_type": "markdown",
   "metadata": {
    "id": "9z5POPN_9BnF"
   },
   "source": [
    "# Step 2: Loading datatset and BERT Model"
   ]
  },
  {
   "cell_type": "code",
   "execution_count": 4,
   "metadata": {
    "colab": {
     "base_uri": "https://localhost:8080/"
    },
    "id": "LoQhUjsGLQ6l",
    "outputId": "85f7829c-fbd2-415e-e4a7-e62da2e4bf33"
   },
   "outputs": [
    {
     "name": "stdout",
     "output_type": "stream",
     "text": [
      "Mounted at /content/drive\n"
     ]
    }
   ],
   "source": [
    "from google.colab import drive\n",
    "drive.mount('/content/drive')"
   ]
  },
  {
   "cell_type": "code",
   "execution_count": 35,
   "metadata": {
    "id": "-vckz1-a8zIW"
   },
   "outputs": [],
   "source": [
    "# Read the CSV file with specified options\n",
    "df = pd.read_csv('all_data_embedding.csv')\n",
    "#df = pd.read_csv('/content/drive/MyDrive/all_data_embedding.csv')"
   ]
  },
  {
   "cell_type": "code",
   "execution_count": 39,
   "metadata": {
    "colab": {
     "base_uri": "https://localhost:8080/",
     "height": 590
    },
    "id": "CdNkZJnWbmn_",
    "outputId": "01e4189c-7256-485e-e0b9-b31be3f4d451"
   },
   "outputs": [
    {
     "data": {
      "text/html": [
       "<div>\n",
       "<style scoped>\n",
       "    .dataframe tbody tr th:only-of-type {\n",
       "        vertical-align: middle;\n",
       "    }\n",
       "\n",
       "    .dataframe tbody tr th {\n",
       "        vertical-align: top;\n",
       "    }\n",
       "\n",
       "    .dataframe thead th {\n",
       "        text-align: right;\n",
       "    }\n",
       "</style>\n",
       "<table border=\"1\" class=\"dataframe\">\n",
       "  <thead>\n",
       "    <tr style=\"text-align: right;\">\n",
       "      <th></th>\n",
       "      <th>Unnamed: 0.2</th>\n",
       "      <th>Unnamed: 0.1</th>\n",
       "      <th>Unnamed: 0</th>\n",
       "      <th>Sentence_row</th>\n",
       "      <th>Word_count</th>\n",
       "      <th>Sentence</th>\n",
       "      <th>Sentence_no</th>\n",
       "      <th>Word</th>\n",
       "      <th>POS</th>\n",
       "      <th>end_labels</th>\n",
       "      <th>subtoken</th>\n",
       "      <th>wort_index</th>\n",
       "      <th>contextualized_vectors</th>\n",
       "    </tr>\n",
       "  </thead>\n",
       "  <tbody>\n",
       "    <tr>\n",
       "      <th>0</th>\n",
       "      <td>0</td>\n",
       "      <td>0</td>\n",
       "      <td>45</td>\n",
       "      <td>Celebration Shooting Turns Wedding Into a Fune...</td>\n",
       "      <td>82</td>\n",
       "      <td>('Celebration', 'Shooting', 'Turns', 'Wedding'...</td>\n",
       "      <td>0</td>\n",
       "      <td>celebrators</td>\n",
       "      <td>NOUN</td>\n",
       "      <td>1.0</td>\n",
       "      <td>['##ele', '##bra', '##tors']</td>\n",
       "      <td>59</td>\n",
       "      <td>[0.2368011325597763, 0.7057397961616516, 0.346...</td>\n",
       "    </tr>\n",
       "    <tr>\n",
       "      <th>1</th>\n",
       "      <td>1</td>\n",
       "      <td>1</td>\n",
       "      <td>49</td>\n",
       "      <td>Celebration Shooting Turns Wedding Into a Fune...</td>\n",
       "      <td>82</td>\n",
       "      <td>('Celebration', 'Shooting', 'Turns', 'Wedding'...</td>\n",
       "      <td>0</td>\n",
       "      <td>his</td>\n",
       "      <td>PRON</td>\n",
       "      <td>1.0</td>\n",
       "      <td>NaN</td>\n",
       "      <td>66</td>\n",
       "      <td>[0.24929575622081757, 0.2448728382587433, 0.05...</td>\n",
       "    </tr>\n",
       "    <tr>\n",
       "      <th>2</th>\n",
       "      <td>2</td>\n",
       "      <td>2</td>\n",
       "      <td>63</td>\n",
       "      <td>Celebration Shooting Turns Wedding Into a Fune...</td>\n",
       "      <td>82</td>\n",
       "      <td>('Celebration', 'Shooting', 'Turns', 'Wedding'...</td>\n",
       "      <td>0</td>\n",
       "      <td>groom</td>\n",
       "      <td>NOUN</td>\n",
       "      <td>1.0</td>\n",
       "      <td>NaN</td>\n",
       "      <td>80</td>\n",
       "      <td>[-0.31842100620269775, -0.00436730170622468, -...</td>\n",
       "    </tr>\n",
       "    <tr>\n",
       "      <th>3</th>\n",
       "      <td>3</td>\n",
       "      <td>3</td>\n",
       "      <td>65</td>\n",
       "      <td>Celebration Shooting Turns Wedding Into a Fune...</td>\n",
       "      <td>82</td>\n",
       "      <td>('Celebration', 'Shooting', 'Turns', 'Wedding'...</td>\n",
       "      <td>0</td>\n",
       "      <td>brother</td>\n",
       "      <td>NOUN</td>\n",
       "      <td>1.0</td>\n",
       "      <td>NaN</td>\n",
       "      <td>83</td>\n",
       "      <td>[0.19683638215065002, 0.23691430687904358, -0....</td>\n",
       "    </tr>\n",
       "    <tr>\n",
       "      <th>4</th>\n",
       "      <td>4</td>\n",
       "      <td>4</td>\n",
       "      <td>72</td>\n",
       "      <td>Celebration Shooting Turns Wedding Into a Fune...</td>\n",
       "      <td>82</td>\n",
       "      <td>('Celebration', 'Shooting', 'Turns', 'Wedding'...</td>\n",
       "      <td>0</td>\n",
       "      <td>his</td>\n",
       "      <td>PRON</td>\n",
       "      <td>1.0</td>\n",
       "      <td>NaN</td>\n",
       "      <td>90</td>\n",
       "      <td>[-0.11486552655696869, 0.1675049066543579, 0.3...</td>\n",
       "    </tr>\n",
       "  </tbody>\n",
       "</table>\n",
       "</div>"
      ],
      "text/plain": [
       "   Unnamed: 0.2  Unnamed: 0.1  Unnamed: 0  \\\n",
       "0             0             0          45   \n",
       "1             1             1          49   \n",
       "2             2             2          63   \n",
       "3             3             3          65   \n",
       "4             4             4          72   \n",
       "\n",
       "                                        Sentence_row  Word_count  \\\n",
       "0  Celebration Shooting Turns Wedding Into a Fune...          82   \n",
       "1  Celebration Shooting Turns Wedding Into a Fune...          82   \n",
       "2  Celebration Shooting Turns Wedding Into a Fune...          82   \n",
       "3  Celebration Shooting Turns Wedding Into a Fune...          82   \n",
       "4  Celebration Shooting Turns Wedding Into a Fune...          82   \n",
       "\n",
       "                                            Sentence  Sentence_no  \\\n",
       "0  ('Celebration', 'Shooting', 'Turns', 'Wedding'...            0   \n",
       "1  ('Celebration', 'Shooting', 'Turns', 'Wedding'...            0   \n",
       "2  ('Celebration', 'Shooting', 'Turns', 'Wedding'...            0   \n",
       "3  ('Celebration', 'Shooting', 'Turns', 'Wedding'...            0   \n",
       "4  ('Celebration', 'Shooting', 'Turns', 'Wedding'...            0   \n",
       "\n",
       "          Word   POS  end_labels                      subtoken  wort_index  \\\n",
       "0  celebrators  NOUN         1.0  ['##ele', '##bra', '##tors']          59   \n",
       "1          his  PRON         1.0                           NaN          66   \n",
       "2        groom  NOUN         1.0                           NaN          80   \n",
       "3      brother  NOUN         1.0                           NaN          83   \n",
       "4          his  PRON         1.0                           NaN          90   \n",
       "\n",
       "                              contextualized_vectors  \n",
       "0  [0.2368011325597763, 0.7057397961616516, 0.346...  \n",
       "1  [0.24929575622081757, 0.2448728382587433, 0.05...  \n",
       "2  [-0.31842100620269775, -0.00436730170622468, -...  \n",
       "3  [0.19683638215065002, 0.23691430687904358, -0....  \n",
       "4  [-0.11486552655696869, 0.1675049066543579, 0.3...  "
      ]
     },
     "execution_count": 39,
     "metadata": {},
     "output_type": "execute_result"
    }
   ],
   "source": [
    "df.head()"
   ]
  },
  {
   "cell_type": "code",
   "execution_count": 40,
   "metadata": {
    "colab": {
     "base_uri": "https://localhost:8080/",
     "height": 81,
     "referenced_widgets": [
      "f792121497c04bf58fe0fcc386a2fe7e",
      "a3019367c0f340889b12b88b18e6b317",
      "67647e2dcdcb45f6821402827c8b680c",
      "2a85c1b40cf149c69116cbc060bffa04",
      "31c72999c55a4c7385bd32558bba03bc",
      "202c09a8bfc848d6882baf744b1c3d03",
      "36ce5483dbd24b6284795839902aacf9",
      "9bc2e10679484a29b2a781b18d77eacb",
      "a84b33c9ed434d54aa82f6d37db41b6d",
      "34f90db3555e4633b869aa177ed3383a",
      "3e2a96f3f017403998c6d2b9fd90f203",
      "70f31029ddfb4d898d9216aae6d5a923",
      "cfb5bdbb80c147daa323c26a64601689",
      "c6d61e1db30e4d31aad16a594b6365e8",
      "7ac406c8cde34d4e8511e6fadaeb7868",
      "8f3a803bd33748b3aaf0dcbe9ec5351e",
      "53540123c39748578d734d4605856ec1",
      "ca2b20c0783a48f8b337563729affaa2",
      "245c8f7239e64fb28995173dcb6afdb0",
      "e1afb2a26e584e4fb747ccafdbb65349",
      "b48a9f3669f945a3b416dae83fdf3862",
      "e61ae341d81c47b3af8c15bee4a5c0bb"
     ]
    },
    "id": "5p-7t4O50XVG",
    "outputId": "8b8d1b39-d78a-4cae-b962-24fa94ccee9d"
   },
   "outputs": [
    {
     "name": "stderr",
     "output_type": "stream",
     "text": [
      "Some weights of the model checkpoint at bert-base-cased were not used when initializing BertModel: ['cls.predictions.transform.LayerNorm.weight', 'cls.predictions.transform.dense.weight', 'cls.predictions.transform.LayerNorm.bias', 'cls.seq_relationship.bias', 'cls.predictions.decoder.weight', 'cls.predictions.bias', 'cls.predictions.transform.dense.bias', 'cls.seq_relationship.weight']\n",
      "- This IS expected if you are initializing BertModel from the checkpoint of a model trained on another task or with another architecture (e.g. initializing a BertForSequenceClassification model from a BertForPreTraining model).\n",
      "- This IS NOT expected if you are initializing BertModel from the checkpoint of a model that you expect to be exactly identical (initializing a BertForSequenceClassification model from a BertForSequenceClassification model).\n"
     ]
    }
   ],
   "source": [
    "model_ckpt = \"bert-base-cased\"\n",
    "model = BertModel.from_pretrained(model_ckpt)"
   ]
  },
  {
   "cell_type": "code",
   "execution_count": 41,
   "metadata": {
    "colab": {
     "base_uri": "https://localhost:8080/"
    },
    "id": "DAVig7-Hvm26",
    "outputId": "7c9ea4a9-9e2f-4199-cc1c-7c5a987bae3e"
   },
   "outputs": [
    {
     "data": {
      "text/plain": [
       "Unnamed: 0.2                  0\n",
       "Unnamed: 0.1                  0\n",
       "Unnamed: 0                    0\n",
       "Sentence_row                  0\n",
       "Word_count                    0\n",
       "Sentence                      0\n",
       "Sentence_no                   0\n",
       "Word                          0\n",
       "POS                           0\n",
       "end_labels                    0\n",
       "subtoken                  20036\n",
       "wort_index                    0\n",
       "contextualized_vectors        0\n",
       "dtype: int64"
      ]
     },
     "execution_count": 41,
     "metadata": {},
     "output_type": "execute_result"
    }
   ],
   "source": [
    "df.isnull().sum()"
   ]
  },
  {
   "cell_type": "code",
   "execution_count": 42,
   "metadata": {
    "colab": {
     "base_uri": "https://localhost:8080/",
     "height": 466
    },
    "id": "HgcnYHvGcpiZ",
    "outputId": "7fb88f74-0a56-4405-b91b-ce803d84f664"
   },
   "outputs": [
    {
     "data": {
      "text/html": [
       "<div>\n",
       "<style scoped>\n",
       "    .dataframe tbody tr th:only-of-type {\n",
       "        vertical-align: middle;\n",
       "    }\n",
       "\n",
       "    .dataframe tbody tr th {\n",
       "        vertical-align: top;\n",
       "    }\n",
       "\n",
       "    .dataframe thead th {\n",
       "        text-align: right;\n",
       "    }\n",
       "</style>\n",
       "<table border=\"1\" class=\"dataframe\">\n",
       "  <thead>\n",
       "    <tr style=\"text-align: right;\">\n",
       "      <th></th>\n",
       "      <th>Sentence_row</th>\n",
       "      <th>Word_count</th>\n",
       "      <th>Sentence</th>\n",
       "      <th>Sentence_no</th>\n",
       "      <th>Word</th>\n",
       "      <th>POS</th>\n",
       "      <th>end_labels</th>\n",
       "      <th>subtoken</th>\n",
       "      <th>wort_index</th>\n",
       "      <th>contextualized_vectors</th>\n",
       "    </tr>\n",
       "  </thead>\n",
       "  <tbody>\n",
       "    <tr>\n",
       "      <th>0</th>\n",
       "      <td>Celebration Shooting Turns Wedding Into a Fune...</td>\n",
       "      <td>82</td>\n",
       "      <td>('Celebration', 'Shooting', 'Turns', 'Wedding'...</td>\n",
       "      <td>0</td>\n",
       "      <td>celebrators</td>\n",
       "      <td>NOUN</td>\n",
       "      <td>1.0</td>\n",
       "      <td>['##ele', '##bra', '##tors']</td>\n",
       "      <td>59</td>\n",
       "      <td>[0.2368011325597763, 0.7057397961616516, 0.346...</td>\n",
       "    </tr>\n",
       "    <tr>\n",
       "      <th>1</th>\n",
       "      <td>Celebration Shooting Turns Wedding Into a Fune...</td>\n",
       "      <td>82</td>\n",
       "      <td>('Celebration', 'Shooting', 'Turns', 'Wedding'...</td>\n",
       "      <td>0</td>\n",
       "      <td>his</td>\n",
       "      <td>PRON</td>\n",
       "      <td>1.0</td>\n",
       "      <td>NaN</td>\n",
       "      <td>66</td>\n",
       "      <td>[0.24929575622081757, 0.2448728382587433, 0.05...</td>\n",
       "    </tr>\n",
       "    <tr>\n",
       "      <th>2</th>\n",
       "      <td>Celebration Shooting Turns Wedding Into a Fune...</td>\n",
       "      <td>82</td>\n",
       "      <td>('Celebration', 'Shooting', 'Turns', 'Wedding'...</td>\n",
       "      <td>0</td>\n",
       "      <td>groom</td>\n",
       "      <td>NOUN</td>\n",
       "      <td>1.0</td>\n",
       "      <td>NaN</td>\n",
       "      <td>80</td>\n",
       "      <td>[-0.31842100620269775, -0.00436730170622468, -...</td>\n",
       "    </tr>\n",
       "    <tr>\n",
       "      <th>3</th>\n",
       "      <td>Celebration Shooting Turns Wedding Into a Fune...</td>\n",
       "      <td>82</td>\n",
       "      <td>('Celebration', 'Shooting', 'Turns', 'Wedding'...</td>\n",
       "      <td>0</td>\n",
       "      <td>brother</td>\n",
       "      <td>NOUN</td>\n",
       "      <td>1.0</td>\n",
       "      <td>NaN</td>\n",
       "      <td>83</td>\n",
       "      <td>[0.19683638215065002, 0.23691430687904358, -0....</td>\n",
       "    </tr>\n",
       "    <tr>\n",
       "      <th>4</th>\n",
       "      <td>Celebration Shooting Turns Wedding Into a Fune...</td>\n",
       "      <td>82</td>\n",
       "      <td>('Celebration', 'Shooting', 'Turns', 'Wedding'...</td>\n",
       "      <td>0</td>\n",
       "      <td>his</td>\n",
       "      <td>PRON</td>\n",
       "      <td>1.0</td>\n",
       "      <td>NaN</td>\n",
       "      <td>90</td>\n",
       "      <td>[-0.11486552655696869, 0.1675049066543579, 0.3...</td>\n",
       "    </tr>\n",
       "  </tbody>\n",
       "</table>\n",
       "</div>"
      ],
      "text/plain": [
       "                                        Sentence_row  Word_count  \\\n",
       "0  Celebration Shooting Turns Wedding Into a Fune...          82   \n",
       "1  Celebration Shooting Turns Wedding Into a Fune...          82   \n",
       "2  Celebration Shooting Turns Wedding Into a Fune...          82   \n",
       "3  Celebration Shooting Turns Wedding Into a Fune...          82   \n",
       "4  Celebration Shooting Turns Wedding Into a Fune...          82   \n",
       "\n",
       "                                            Sentence  Sentence_no  \\\n",
       "0  ('Celebration', 'Shooting', 'Turns', 'Wedding'...            0   \n",
       "1  ('Celebration', 'Shooting', 'Turns', 'Wedding'...            0   \n",
       "2  ('Celebration', 'Shooting', 'Turns', 'Wedding'...            0   \n",
       "3  ('Celebration', 'Shooting', 'Turns', 'Wedding'...            0   \n",
       "4  ('Celebration', 'Shooting', 'Turns', 'Wedding'...            0   \n",
       "\n",
       "          Word   POS  end_labels                      subtoken  wort_index  \\\n",
       "0  celebrators  NOUN         1.0  ['##ele', '##bra', '##tors']          59   \n",
       "1          his  PRON         1.0                           NaN          66   \n",
       "2        groom  NOUN         1.0                           NaN          80   \n",
       "3      brother  NOUN         1.0                           NaN          83   \n",
       "4          his  PRON         1.0                           NaN          90   \n",
       "\n",
       "                              contextualized_vectors  \n",
       "0  [0.2368011325597763, 0.7057397961616516, 0.346...  \n",
       "1  [0.24929575622081757, 0.2448728382587433, 0.05...  \n",
       "2  [-0.31842100620269775, -0.00436730170622468, -...  \n",
       "3  [0.19683638215065002, 0.23691430687904358, -0....  \n",
       "4  [-0.11486552655696869, 0.1675049066543579, 0.3...  "
      ]
     },
     "execution_count": 42,
     "metadata": {},
     "output_type": "execute_result"
    }
   ],
   "source": [
    "df_fin = df.iloc[:,3:] # optional\n",
    "df_fin.head()"
   ]
  },
  {
   "cell_type": "markdown",
   "metadata": {
    "id": "7FcFFjSWdB4M"
   },
   "source": [
    "# Basic Operations"
   ]
  },
  {
   "cell_type": "code",
   "execution_count": 43,
   "metadata": {
    "colab": {
     "base_uri": "https://localhost:8080/"
    },
    "id": "Rg7EFDzSc_C2",
    "outputId": "73e26389-784c-41ba-c470-2cef42f73523"
   },
   "outputs": [
    {
     "data": {
      "text/plain": [
       "(20591, 10)"
      ]
     },
     "execution_count": 43,
     "metadata": {},
     "output_type": "execute_result"
    }
   ],
   "source": [
    "df_fin.shape"
   ]
  },
  {
   "cell_type": "code",
   "execution_count": 44,
   "metadata": {
    "colab": {
     "base_uri": "https://localhost:8080/"
    },
    "id": "rpgohb8rc_F0",
    "outputId": "444713b5-9eef-4d07-f5cc-20c4021ce402"
   },
   "outputs": [
    {
     "name": "stdout",
     "output_type": "stream",
     "text": [
      "<class 'pandas.core.frame.DataFrame'>\n",
      "RangeIndex: 20591 entries, 0 to 20590\n",
      "Data columns (total 10 columns):\n",
      " #   Column                  Non-Null Count  Dtype  \n",
      "---  ------                  --------------  -----  \n",
      " 0   Sentence_row            20591 non-null  object \n",
      " 1   Word_count              20591 non-null  int64  \n",
      " 2   Sentence                20591 non-null  object \n",
      " 3   Sentence_no             20591 non-null  int64  \n",
      " 4   Word                    20591 non-null  object \n",
      " 5   POS                     20591 non-null  object \n",
      " 6   end_labels              20591 non-null  float64\n",
      " 7   subtoken                555 non-null    object \n",
      " 8   wort_index              20591 non-null  int64  \n",
      " 9   contextualized_vectors  20591 non-null  object \n",
      "dtypes: float64(1), int64(3), object(6)\n",
      "memory usage: 1.6+ MB\n"
     ]
    }
   ],
   "source": [
    "df_fin.info()"
   ]
  },
  {
   "cell_type": "code",
   "execution_count": 45,
   "metadata": {
    "colab": {
     "base_uri": "https://localhost:8080/"
    },
    "id": "DxKhDANbc_Ig",
    "outputId": "21567b15-0cc4-4f31-a0dc-7652d60c6944"
   },
   "outputs": [
    {
     "data": {
      "text/plain": [
       "Sentence_row                  0\n",
       "Word_count                    0\n",
       "Sentence                      0\n",
       "Sentence_no                   0\n",
       "Word                          0\n",
       "POS                           0\n",
       "end_labels                    0\n",
       "subtoken                  20036\n",
       "wort_index                    0\n",
       "contextualized_vectors        0\n",
       "dtype: int64"
      ]
     },
     "execution_count": 45,
     "metadata": {},
     "output_type": "execute_result"
    }
   ],
   "source": [
    "df_fin.isnull().sum()"
   ]
  },
  {
   "cell_type": "code",
   "execution_count": 12,
   "metadata": {
    "id": "bXHrVoScg9Cu"
   },
   "outputs": [],
   "source": []
  },
  {
   "cell_type": "code",
   "execution_count": 49,
   "metadata": {
    "id": "ZYZg6peU9Nu3"
   },
   "outputs": [],
   "source": [
    "# Drop rows with missing data\n",
    "#df_fin = df_fin.dropna(subset=['contextualized_vectors'])"
   ]
  },
  {
   "cell_type": "code",
   "execution_count": 50,
   "metadata": {
    "colab": {
     "base_uri": "https://localhost:8080/"
    },
    "id": "8YdgjBhDd_JH",
    "outputId": "24e49419-98e4-44f7-e697-006d3e44c2da"
   },
   "outputs": [],
   "source": [
    "#df_fin.isnull().sum()"
   ]
  },
  {
   "cell_type": "markdown",
   "metadata": {
    "id": "gYUpK0Npd_x5"
   },
   "source": [
    "# EDA and Preprocessing"
   ]
  },
  {
   "cell_type": "markdown",
   "metadata": {
    "id": "v5IU9NTUeKEX"
   },
   "source": [
    "# Group by a Single Column and Count Frequencies:\n",
    "To count the frequencies of each unique value in a specific column, you can use the groupby method followed by the count() method."
   ]
  },
  {
   "cell_type": "code",
   "execution_count": 51,
   "metadata": {
    "colab": {
     "base_uri": "https://localhost:8080/"
    },
    "id": "vfPhw9OGd_SR",
    "outputId": "f465718c-a649-4d72-a8a1-3d5118729a49"
   },
   "outputs": [
    {
     "data": {
      "text/plain": [
       "POS\n",
       "ADJ          3\n",
       "DET          3\n",
       "NOUN      9149\n",
       "NUM          9\n",
       "PRON     11393\n",
       "PROPN       21\n",
       "VERB        13\n",
       "Name: Word, dtype: int64"
      ]
     },
     "execution_count": 51,
     "metadata": {},
     "output_type": "execute_result"
    }
   ],
   "source": [
    "# Example: Count frequencies of each POS tag\n",
    "pos_counts = df_fin.groupby('POS')['Word'].count()\n",
    "pos_counts"
   ]
  },
  {
   "cell_type": "markdown",
   "metadata": {
    "id": "pBcJeaL1eNys"
   },
   "source": [
    "# Group by Multiple Columns and Calculate Summary Statistics:\n",
    "You can group by multiple columns and calculate summary statistics like mean, median, or standard deviation."
   ]
  },
  {
   "cell_type": "code",
   "execution_count": 52,
   "metadata": {
    "colab": {
     "base_uri": "https://localhost:8080/"
    },
    "id": "I9sp3qkoeE0G",
    "outputId": "5d8af71b-e5a9-4709-d34f-20a83d01a706"
   },
   "outputs": [
    {
     "name": "stdout",
     "output_type": "stream",
     "text": [
      "POS\n",
      "ADJ      34.333333\n",
      "DET       1.000000\n",
      "NOUN     14.597880\n",
      "NUM       8.555556\n",
      "PRON     14.074344\n",
      "PROPN    10.904762\n",
      "VERB     20.000000\n",
      "Name: wort_index, dtype: float64\n"
     ]
    }
   ],
   "source": [
    "# Example: Calculate mean wort_index for each POS tag\n",
    "pos_mean = df_fin.groupby('POS')['wort_index'].mean()\n",
    "print(pos_mean)\n"
   ]
  },
  {
   "cell_type": "markdown",
   "metadata": {
    "id": "_vzfPQV8ewwE"
   },
   "source": [
    "# Count Unique Values within Groups:\n",
    "You can count unique values within groups using the nunique() method."
   ]
  },
  {
   "cell_type": "code",
   "execution_count": 53,
   "metadata": {
    "colab": {
     "base_uri": "https://localhost:8080/"
    },
    "id": "d_5LKLrcesfA",
    "outputId": "85829097-4894-46e4-c69c-a58477ae081e"
   },
   "outputs": [
    {
     "name": "stdout",
     "output_type": "stream",
     "text": [
      "POS\n",
      "ADJ         3\n",
      "DET         1\n",
      "NOUN     2009\n",
      "NUM         1\n",
      "PRON       59\n",
      "PROPN      10\n",
      "VERB        6\n",
      "Name: Word, dtype: int64\n"
     ]
    }
   ],
   "source": [
    "# Example: Count unique words within each POS group\n",
    "pos_unique_words = df_fin.groupby('POS')['Word'].nunique()\n",
    "print(pos_unique_words)\n"
   ]
  },
  {
   "cell_type": "markdown",
   "metadata": {
    "id": "ywJ6ltQSe6CA"
   },
   "source": [
    "# Group by and Filter Data:\n",
    "You can group by a column and filter data based on group-specific conditions."
   ]
  },
  {
   "cell_type": "code",
   "execution_count": 54,
   "metadata": {
    "colab": {
     "base_uri": "https://localhost:8080/",
     "height": 857
    },
    "id": "X_0zF7qme1uz",
    "outputId": "470e3961-e800-48ef-be20-139c8e48a081"
   },
   "outputs": [
    {
     "data": {
      "text/html": [
       "<div>\n",
       "<style scoped>\n",
       "    .dataframe tbody tr th:only-of-type {\n",
       "        vertical-align: middle;\n",
       "    }\n",
       "\n",
       "    .dataframe tbody tr th {\n",
       "        vertical-align: top;\n",
       "    }\n",
       "\n",
       "    .dataframe thead th {\n",
       "        text-align: right;\n",
       "    }\n",
       "</style>\n",
       "<table border=\"1\" class=\"dataframe\">\n",
       "  <thead>\n",
       "    <tr style=\"text-align: right;\">\n",
       "      <th></th>\n",
       "      <th>Sentence_row</th>\n",
       "      <th>Word_count</th>\n",
       "      <th>Sentence</th>\n",
       "      <th>Sentence_no</th>\n",
       "      <th>Word</th>\n",
       "      <th>POS</th>\n",
       "      <th>end_labels</th>\n",
       "      <th>subtoken</th>\n",
       "      <th>wort_index</th>\n",
       "      <th>contextualized_vectors</th>\n",
       "    </tr>\n",
       "  </thead>\n",
       "  <tbody>\n",
       "    <tr>\n",
       "      <th>0</th>\n",
       "      <td>Celebration Shooting Turns Wedding Into a Fune...</td>\n",
       "      <td>82</td>\n",
       "      <td>('Celebration', 'Shooting', 'Turns', 'Wedding'...</td>\n",
       "      <td>0</td>\n",
       "      <td>celebrators</td>\n",
       "      <td>NOUN</td>\n",
       "      <td>1.0</td>\n",
       "      <td>['##ele', '##bra', '##tors']</td>\n",
       "      <td>59</td>\n",
       "      <td>[0.2368011325597763, 0.7057397961616516, 0.346...</td>\n",
       "    </tr>\n",
       "    <tr>\n",
       "      <th>1</th>\n",
       "      <td>Celebration Shooting Turns Wedding Into a Fune...</td>\n",
       "      <td>82</td>\n",
       "      <td>('Celebration', 'Shooting', 'Turns', 'Wedding'...</td>\n",
       "      <td>0</td>\n",
       "      <td>his</td>\n",
       "      <td>PRON</td>\n",
       "      <td>1.0</td>\n",
       "      <td>NaN</td>\n",
       "      <td>66</td>\n",
       "      <td>[0.24929575622081757, 0.2448728382587433, 0.05...</td>\n",
       "    </tr>\n",
       "    <tr>\n",
       "      <th>2</th>\n",
       "      <td>Celebration Shooting Turns Wedding Into a Fune...</td>\n",
       "      <td>82</td>\n",
       "      <td>('Celebration', 'Shooting', 'Turns', 'Wedding'...</td>\n",
       "      <td>0</td>\n",
       "      <td>groom</td>\n",
       "      <td>NOUN</td>\n",
       "      <td>1.0</td>\n",
       "      <td>NaN</td>\n",
       "      <td>80</td>\n",
       "      <td>[-0.31842100620269775, -0.00436730170622468, -...</td>\n",
       "    </tr>\n",
       "    <tr>\n",
       "      <th>3</th>\n",
       "      <td>Celebration Shooting Turns Wedding Into a Fune...</td>\n",
       "      <td>82</td>\n",
       "      <td>('Celebration', 'Shooting', 'Turns', 'Wedding'...</td>\n",
       "      <td>0</td>\n",
       "      <td>brother</td>\n",
       "      <td>NOUN</td>\n",
       "      <td>1.0</td>\n",
       "      <td>NaN</td>\n",
       "      <td>83</td>\n",
       "      <td>[0.19683638215065002, 0.23691430687904358, -0....</td>\n",
       "    </tr>\n",
       "    <tr>\n",
       "      <th>4</th>\n",
       "      <td>Celebration Shooting Turns Wedding Into a Fune...</td>\n",
       "      <td>82</td>\n",
       "      <td>('Celebration', 'Shooting', 'Turns', 'Wedding'...</td>\n",
       "      <td>0</td>\n",
       "      <td>his</td>\n",
       "      <td>PRON</td>\n",
       "      <td>1.0</td>\n",
       "      <td>NaN</td>\n",
       "      <td>90</td>\n",
       "      <td>[-0.11486552655696869, 0.1675049066543579, 0.3...</td>\n",
       "    </tr>\n",
       "    <tr>\n",
       "      <th>...</th>\n",
       "      <td>...</td>\n",
       "      <td>...</td>\n",
       "      <td>...</td>\n",
       "      <td>...</td>\n",
       "      <td>...</td>\n",
       "      <td>...</td>\n",
       "      <td>...</td>\n",
       "      <td>...</td>\n",
       "      <td>...</td>\n",
       "      <td>...</td>\n",
       "    </tr>\n",
       "    <tr>\n",
       "      <th>20586</th>\n",
       "      <td>270 people died in the 1988 bombing over the S...</td>\n",
       "      <td>13</td>\n",
       "      <td>('270', 'people', 'died', 'in', 'the', '1988',...</td>\n",
       "      <td>694</td>\n",
       "      <td>bombing</td>\n",
       "      <td>NOUN</td>\n",
       "      <td>0.0</td>\n",
       "      <td>NaN</td>\n",
       "      <td>7</td>\n",
       "      <td>[0.7685379981994629, 1.1152576208114624, -0.03...</td>\n",
       "    </tr>\n",
       "    <tr>\n",
       "      <th>20587</th>\n",
       "      <td>Libya initially refused   to hand over the two...</td>\n",
       "      <td>35</td>\n",
       "      <td>('Libya', 'initially', 'refused', ' ', 'to', '...</td>\n",
       "      <td>695</td>\n",
       "      <td>them</td>\n",
       "      <td>PRON</td>\n",
       "      <td>0.0</td>\n",
       "      <td>NaN</td>\n",
       "      <td>13</td>\n",
       "      <td>[0.11229117214679718, 0.1690313071012497, -0.0...</td>\n",
       "    </tr>\n",
       "    <tr>\n",
       "      <th>20588</th>\n",
       "      <td>Libya initially refused   to hand over the two...</td>\n",
       "      <td>35</td>\n",
       "      <td>('Libya', 'initially', 'refused', ' ', 'to', '...</td>\n",
       "      <td>695</td>\n",
       "      <td>they</td>\n",
       "      <td>PRON</td>\n",
       "      <td>0.0</td>\n",
       "      <td>NaN</td>\n",
       "      <td>21</td>\n",
       "      <td>[0.42757537961006165, 0.07952315360307693, 0.2...</td>\n",
       "    </tr>\n",
       "    <tr>\n",
       "      <th>20589</th>\n",
       "      <td>Opinion polls in Israel show hard - liner Arie...</td>\n",
       "      <td>27</td>\n",
       "      <td>('Opinion', 'polls', 'in', 'Israel', 'show', '...</td>\n",
       "      <td>697</td>\n",
       "      <td>liner</td>\n",
       "      <td>NOUN</td>\n",
       "      <td>0.0</td>\n",
       "      <td>NaN</td>\n",
       "      <td>10</td>\n",
       "      <td>[0.5175463557243347, -0.1255677044391632, -0.0...</td>\n",
       "    </tr>\n",
       "    <tr>\n",
       "      <th>20590</th>\n",
       "      <td>Opinion polls in Israel show hard - liner Arie...</td>\n",
       "      <td>27</td>\n",
       "      <td>('Opinion', 'polls', 'in', 'Israel', 'show', '...</td>\n",
       "      <td>697</td>\n",
       "      <td>his</td>\n",
       "      <td>PRON</td>\n",
       "      <td>0.0</td>\n",
       "      <td>NaN</td>\n",
       "      <td>14</td>\n",
       "      <td>[-0.1233411356806755, 0.00530656473711133, -0....</td>\n",
       "    </tr>\n",
       "  </tbody>\n",
       "</table>\n",
       "<p>20542 rows × 10 columns</p>\n",
       "</div>"
      ],
      "text/plain": [
       "                                            Sentence_row  Word_count  \\\n",
       "0      Celebration Shooting Turns Wedding Into a Fune...          82   \n",
       "1      Celebration Shooting Turns Wedding Into a Fune...          82   \n",
       "2      Celebration Shooting Turns Wedding Into a Fune...          82   \n",
       "3      Celebration Shooting Turns Wedding Into a Fune...          82   \n",
       "4      Celebration Shooting Turns Wedding Into a Fune...          82   \n",
       "...                                                  ...         ...   \n",
       "20586  270 people died in the 1988 bombing over the S...          13   \n",
       "20587  Libya initially refused   to hand over the two...          35   \n",
       "20588  Libya initially refused   to hand over the two...          35   \n",
       "20589  Opinion polls in Israel show hard - liner Arie...          27   \n",
       "20590  Opinion polls in Israel show hard - liner Arie...          27   \n",
       "\n",
       "                                                Sentence  Sentence_no  \\\n",
       "0      ('Celebration', 'Shooting', 'Turns', 'Wedding'...            0   \n",
       "1      ('Celebration', 'Shooting', 'Turns', 'Wedding'...            0   \n",
       "2      ('Celebration', 'Shooting', 'Turns', 'Wedding'...            0   \n",
       "3      ('Celebration', 'Shooting', 'Turns', 'Wedding'...            0   \n",
       "4      ('Celebration', 'Shooting', 'Turns', 'Wedding'...            0   \n",
       "...                                                  ...          ...   \n",
       "20586  ('270', 'people', 'died', 'in', 'the', '1988',...          694   \n",
       "20587  ('Libya', 'initially', 'refused', ' ', 'to', '...          695   \n",
       "20588  ('Libya', 'initially', 'refused', ' ', 'to', '...          695   \n",
       "20589  ('Opinion', 'polls', 'in', 'Israel', 'show', '...          697   \n",
       "20590  ('Opinion', 'polls', 'in', 'Israel', 'show', '...          697   \n",
       "\n",
       "              Word   POS  end_labels                      subtoken  \\\n",
       "0      celebrators  NOUN         1.0  ['##ele', '##bra', '##tors']   \n",
       "1              his  PRON         1.0                           NaN   \n",
       "2            groom  NOUN         1.0                           NaN   \n",
       "3          brother  NOUN         1.0                           NaN   \n",
       "4              his  PRON         1.0                           NaN   \n",
       "...            ...   ...         ...                           ...   \n",
       "20586      bombing  NOUN         0.0                           NaN   \n",
       "20587         them  PRON         0.0                           NaN   \n",
       "20588         they  PRON         0.0                           NaN   \n",
       "20589        liner  NOUN         0.0                           NaN   \n",
       "20590          his  PRON         0.0                           NaN   \n",
       "\n",
       "       wort_index                             contextualized_vectors  \n",
       "0              59  [0.2368011325597763, 0.7057397961616516, 0.346...  \n",
       "1              66  [0.24929575622081757, 0.2448728382587433, 0.05...  \n",
       "2              80  [-0.31842100620269775, -0.00436730170622468, -...  \n",
       "3              83  [0.19683638215065002, 0.23691430687904358, -0....  \n",
       "4              90  [-0.11486552655696869, 0.1675049066543579, 0.3...  \n",
       "...           ...                                                ...  \n",
       "20586           7  [0.7685379981994629, 1.1152576208114624, -0.03...  \n",
       "20587          13  [0.11229117214679718, 0.1690313071012497, -0.0...  \n",
       "20588          21  [0.42757537961006165, 0.07952315360307693, 0.2...  \n",
       "20589          10  [0.5175463557243347, -0.1255677044391632, -0.0...  \n",
       "20590          14  [-0.1233411356806755, 0.00530656473711133, -0....  \n",
       "\n",
       "[20542 rows x 10 columns]"
      ]
     },
     "execution_count": 54,
     "metadata": {},
     "output_type": "execute_result"
    }
   ],
   "source": [
    "# Example: Filter rows where the count of words within each POS group is greater than a threshold\n",
    "filtered_df = df_fin.groupby('POS').filter(lambda group: len(group) > 100)\n",
    "filtered_df"
   ]
  },
  {
   "cell_type": "code",
   "execution_count": 55,
   "metadata": {
    "colab": {
     "base_uri": "https://localhost:8080/",
     "height": 594
    },
    "id": "F54vu4VXe-NP",
    "outputId": "8227568e-9856-4b96-a8d6-013a7e8569ce"
   },
   "outputs": [
    {
     "data": {
      "image/png": "[encoded data removed]",
      "text/plain": [
       "<Figure size 1000x600 with 1 Axes>"
      ]
     },
     "metadata": {},
     "output_type": "display_data"
    }
   ],
   "source": [
    "# Plot 1: Distribution of 'POS' column\n",
    "plt.figure(figsize=(10, 6))\n",
    "sns.countplot(data=df_fin, x='POS', order=df_fin['POS'].value_counts().index)\n",
    "plt.xlabel('POS')\n",
    "plt.ylabel('Count')\n",
    "plt.title('Distribution of POS Tags')\n",
    "plt.xticks(rotation=45)\n",
    "plt.show()"
   ]
  },
  {
   "cell_type": "code",
   "execution_count": 56,
   "metadata": {
    "colab": {
     "base_uri": "https://localhost:8080/",
     "height": 576
    },
    "id": "wYC6YFyFjLkr",
    "outputId": "1525cc55-623c-4f57-f71d-df4515701a8d"
   },
   "outputs": [
    {
     "data": {
      "image/png": "[encoded data removed]",
      "text/plain": [
       "<Figure size 1000x600 with 1 Axes>"
      ]
     },
     "metadata": {},
     "output_type": "display_data"
    }
   ],
   "source": [
    "# Plot 2: Distribution of 'end_labels' column\n",
    "plt.figure(figsize=(10, 6))\n",
    "sns.countplot(data=df_fin, x='end_labels', order=df_fin['end_labels'].value_counts().index)\n",
    "plt.xlabel('end_labels')\n",
    "plt.ylabel('Count')\n",
    "plt.title('Distribution of End Labels')\n",
    "plt.xticks(rotation=45)\n",
    "plt.show()"
   ]
  },
  {
   "cell_type": "code",
   "execution_count": 57,
   "metadata": {
    "colab": {
     "base_uri": "https://localhost:8080/",
     "height": 564
    },
    "id": "xOEsJ6brjZYy",
    "outputId": "8cbb869e-8b38-40ba-a5f1-5deee416a127"
   },
   "outputs": [
    {
     "data": {
      "image/png": "[encoded data removed]",
      "text/plain": [
       "<Figure size 1000x600 with 1 Axes>"
      ]
     },
     "metadata": {},
     "output_type": "display_data"
    }
   ],
   "source": [
    "# Plot 3: Distribution of 'Sentence_no' column\n",
    "plt.figure(figsize=(10, 6))\n",
    "sns.histplot(data=df_fin, x='Sentence_no', bins=30, kde=True)\n",
    "plt.xlabel('Sentence_no')\n",
    "plt.ylabel('Frequency')\n",
    "plt.title('Distribution of Sentence Numbers')\n",
    "plt.show()"
   ]
  },
  {
   "cell_type": "code",
   "execution_count": 58,
   "metadata": {
    "colab": {
     "base_uri": "https://localhost:8080/",
     "height": 526
    },
    "id": "XytMjsf3jcss",
    "outputId": "771dbb1b-8996-4c4c-e5c1-448a4f10103f"
   },
   "outputs": [
    {
     "data": {
      "image/png": "[encoded data removed]",
      "text/plain": [
       "<Figure size 1000x600 with 1 Axes>"
      ]
     },
     "metadata": {},
     "output_type": "display_data"
    }
   ],
   "source": [
    "# Plot 4: Boxplot of 'wort_index'\n",
    "plt.figure(figsize=(10, 6))\n",
    "sns.boxplot(data=df_fin, y='wort_index')\n",
    "plt.ylabel('wort_index')\n",
    "plt.title('Boxplot of wort_index')\n",
    "plt.show()"
   ]
  },
  {
   "cell_type": "code",
   "execution_count": 59,
   "metadata": {
    "colab": {
     "base_uri": "https://localhost:8080/",
     "height": 564
    },
    "id": "Zi0b7UM9jgZW",
    "outputId": "3cb1d49b-0cbe-4952-d662-4b46bc080a4d"
   },
   "outputs": [
    {
     "data": {
      "image/png": "[encoded data removed]",
      "text/plain": [
       "<Figure size 1000x600 with 1 Axes>"
      ]
     },
     "metadata": {},
     "output_type": "display_data"
    }
   ],
   "source": [
    "# Plot 5: Example scatterplot (customize as needed)\n",
    "plt.figure(figsize=(10, 6))\n",
    "sns.scatterplot(data=df_fin, x='Sentence_no', y='wort_index', alpha=0.5)\n",
    "plt.xlabel('Sentence_no')\n",
    "plt.ylabel('wort_index')\n",
    "plt.title('Scatterplot of Sentence_no vs wort_index')\n",
    "plt.show()"
   ]
  },
  {
   "cell_type": "code",
   "execution_count": 60,
   "metadata": {
    "id": "hR-vZTVmvm3A"
   },
   "outputs": [],
   "source": [
    "df_fin[\"end_labels\"]= df_fin[\"end_labels\"].astype(int)"
   ]
  },
  {
   "cell_type": "markdown",
   "metadata": {
    "id": "pG3M_9BwkC0Z"
   },
   "source": [
    "# Prob Architecture Implementation"
   ]
  },
  {
   "cell_type": "code",
   "execution_count": 61,
   "metadata": {
    "colab": {
     "base_uri": "https://localhost:8080/"
    },
    "id": "doT3-yAPjyGw",
    "outputId": "de401826-3b62-495c-d6d5-f98c52a0cf6f"
   },
   "outputs": [
    {
     "data": {
      "text/plain": [
       "0    13249\n",
       "1     7342\n",
       "Name: end_labels, dtype: int64"
      ]
     },
     "execution_count": 61,
     "metadata": {},
     "output_type": "execute_result"
    }
   ],
   "source": [
    "df_fin['end_labels'].value_counts()"
   ]
  },
  {
   "cell_type": "code",
   "execution_count": 62,
   "metadata": {
    "id": "SqA_LtYrkAfx"
   },
   "outputs": [],
   "source": [
    "# Standardize input features\n",
    "scaler = StandardScaler()\n",
    "X = np.vstack(df_fin['contextualized_vectors'].apply(literal_eval))\n",
    "X = scaler.fit_transform(X)"
   ]
  },
  {
   "cell_type": "code",
   "execution_count": 63,
   "metadata": {
    "id": "M3KAYB9-vm3B"
   },
   "outputs": [],
   "source": [
    "samples=len(X)\n",
    "indicies=np.arange(samples)\n",
    "df_fin.index=indicies"
   ]
  },
  {
   "cell_type": "code",
   "execution_count": null,
   "metadata": {
    "id": "_f7Ts-u3vm3B"
   },
   "outputs": [],
   "source": []
  },
  {
   "cell_type": "code",
   "execution_count": 64,
   "metadata": {
    "id": "Puxh5A6skAiz"
   },
   "outputs": [],
   "source": [
    "# Split the data into train and test sets\n",
    "X_train, X_test, y_train, y_test,indices_train,indices_test = train_test_split(X, df_fin['end_labels'], indicies, test_size=0.2, random_state=30)"
   ]
  },
  {
   "cell_type": "code",
   "execution_count": 65,
   "metadata": {
    "colab": {
     "base_uri": "https://localhost:8080/",
     "height": 223
    },
    "id": "yEs5kYIHlLJa",
    "outputId": "1545cb24-149a-4035-bdeb-965a70f095c8"
   },
   "outputs": [
    {
     "name": "stderr",
     "output_type": "stream",
     "text": [
      "C:\\ProgramData\\anaconda3\\lib\\site-packages\\sklearn\\linear_model\\_logistic.py:458: ConvergenceWarning: lbfgs failed to converge (status=1):\n",
      "STOP: TOTAL NO. of ITERATIONS REACHED LIMIT.\n",
      "\n",
      "Increase the number of iterations (max_iter) or scale the data as shown in:\n",
      "    https://scikit-learn.org/stable/modules/preprocessing.html\n",
      "Please also refer to the documentation for alternative solver options:\n",
      "    https://scikit-learn.org/stable/modules/linear_model.html#logistic-regression\n",
      "  n_iter_i = _check_optimize_result(\n"
     ]
    },
    {
     "data": {
      "text/html": [
       "<style>#sk-container-id-2 {color: black;background-color: white;}#sk-container-id-2 pre{padding: 0;}#sk-container-id-2 div.sk-toggleable {background-color: white;}#sk-container-id-2 label.sk-toggleable__label {cursor: pointer;display: block;width: 100%;margin-bottom: 0;padding: 0.3em;box-sizing: border-box;text-align: center;}#sk-container-id-2 label.sk-toggleable__label-arrow:before {content: \"▸\";float: left;margin-right: 0.25em;color: #696969;}#sk-container-id-2 label.sk-toggleable__label-arrow:hover:before {color: black;}#sk-container-id-2 div.sk-estimator:hover label.sk-toggleable__label-arrow:before {color: black;}#sk-container-id-2 div.sk-toggleable__content {max-height: 0;max-width: 0;overflow: hidden;text-align: left;background-color: #f0f8ff;}#sk-container-id-2 div.sk-toggleable__content pre {margin: 0.2em;color: black;border-radius: 0.25em;background-color: #f0f8ff;}#sk-container-id-2 input.sk-toggleable__control:checked~div.sk-toggleable__content {max-height: 200px;max-width: 100%;overflow: auto;}#sk-container-id-2 input.sk-toggleable__control:checked~label.sk-toggleable__label-arrow:before {content: \"▾\";}#sk-container-id-2 div.sk-estimator input.sk-toggleable__control:checked~label.sk-toggleable__label {background-color: #d4ebff;}#sk-container-id-2 div.sk-label input.sk-toggleable__control:checked~label.sk-toggleable__label {background-color: #d4ebff;}#sk-container-id-2 input.sk-hidden--visually {border: 0;clip: rect(1px 1px 1px 1px);clip: rect(1px, 1px, 1px, 1px);height: 1px;margin: -1px;overflow: hidden;padding: 0;position: absolute;width: 1px;}#sk-container-id-2 div.sk-estimator {font-family: monospace;background-color: #f0f8ff;border: 1px dotted black;border-radius: 0.25em;box-sizing: border-box;margin-bottom: 0.5em;}#sk-container-id-2 div.sk-estimator:hover {background-color: #d4ebff;}#sk-container-id-2 div.sk-parallel-item::after {content: \"\";width: 100%;border-bottom: 1px solid gray;flex-grow: 1;}#sk-container-id-2 div.sk-label:hover label.sk-toggleable__label {background-color: #d4ebff;}#sk-container-id-2 div.sk-serial::before {content: \"\";position: absolute;border-left: 1px solid gray;box-sizing: border-box;top: 0;bottom: 0;left: 50%;z-index: 0;}#sk-container-id-2 div.sk-serial {display: flex;flex-direction: column;align-items: center;background-color: white;padding-right: 0.2em;padding-left: 0.2em;position: relative;}#sk-container-id-2 div.sk-item {position: relative;z-index: 1;}#sk-container-id-2 div.sk-parallel {display: flex;align-items: stretch;justify-content: center;background-color: white;position: relative;}#sk-container-id-2 div.sk-item::before, #sk-container-id-2 div.sk-parallel-item::before {content: \"\";position: absolute;border-left: 1px solid gray;box-sizing: border-box;top: 0;bottom: 0;left: 50%;z-index: -1;}#sk-container-id-2 div.sk-parallel-item {display: flex;flex-direction: column;z-index: 1;position: relative;background-color: white;}#sk-container-id-2 div.sk-parallel-item:first-child::after {align-self: flex-end;width: 50%;}#sk-container-id-2 div.sk-parallel-item:last-child::after {align-self: flex-start;width: 50%;}#sk-container-id-2 div.sk-parallel-item:only-child::after {width: 0;}#sk-container-id-2 div.sk-dashed-wrapped {border: 1px dashed gray;margin: 0 0.4em 0.5em 0.4em;box-sizing: border-box;padding-bottom: 0.4em;background-color: white;}#sk-container-id-2 div.sk-label label {font-family: monospace;font-weight: bold;display: inline-block;line-height: 1.2em;}#sk-container-id-2 div.sk-label-container {text-align: center;}#sk-container-id-2 div.sk-container {/* jupyter's `normalize.less` sets `[hidden] { display: none; }` but bootstrap.min.css set `[hidden] { display: none !important; }` so we also need the `!important` here to be able to override the default hidden behavior on the sphinx rendered scikit-learn.org. See: https://github.com/scikit-learn/scikit-learn/issues/21755 */display: inline-block !important;position: relative;}#sk-container-id-2 div.sk-text-repr-fallback {display: none;}</style><div id=\"sk-container-id-2\" class=\"sk-top-container\"><div class=\"sk-text-repr-fallback\"><pre>LogisticRegression()</pre><b>In a Jupyter environment, please rerun this cell to show the HTML representation or trust the notebook. <br />On GitHub, the HTML representation is unable to render, please try loading this page with nbviewer.org.</b></div><div class=\"sk-container\" hidden><div class=\"sk-item\"><div class=\"sk-estimator sk-toggleable\"><input class=\"sk-toggleable__control sk-hidden--visually\" id=\"sk-estimator-id-2\" type=\"checkbox\" checked><label for=\"sk-estimator-id-2\" class=\"sk-toggleable__label sk-toggleable__label-arrow\">LogisticRegression</label><div class=\"sk-toggleable__content\"><pre>LogisticRegression()</pre></div></div></div></div></div>"
      ],
      "text/plain": [
       "LogisticRegression()"
      ]
     },
     "execution_count": 65,
     "metadata": {},
     "output_type": "execute_result"
    }
   ],
   "source": [
    "# Implement logistic regression or your custom neural network\n",
    "lr_model = LogisticRegression()\n",
    "lr_model.fit(X_train, y_train)"
   ]
  },
  {
   "cell_type": "code",
   "execution_count": 66,
   "metadata": {
    "colab": {
     "base_uri": "https://localhost:8080/",
     "height": 619
    },
    "id": "RDVrCsW4lNtO",
    "outputId": "69f78c27-2253-4486-873d-47913b7d14b6"
   },
   "outputs": [
    {
     "name": "stdout",
     "output_type": "stream",
     "text": [
      "Accuracy: 0.8417091527069677\n",
      "F1-Score: 0.7756366139022711\n",
      "Confusion Matrix:\n"
     ]
    },
    {
     "data": {
      "image/png": "[encoded data removed]",
      "text/plain": [
       "<Figure size 800x600 with 1 Axes>"
      ]
     },
     "metadata": {},
     "output_type": "display_data"
    }
   ],
   "source": [
    "\n",
    "# Evaluate the logistic regression model\n",
    "y_pred = lr_model.predict(X_test)\n",
    "accuracy = accuracy_score(y_test, y_pred)\n",
    "f1 = f1_score(y_test, y_pred)\n",
    "confusion = confusion_matrix(y_test, y_pred)\n",
    "\n",
    "print(\"Accuracy:\", accuracy)\n",
    "print(\"F1-Score:\", f1)\n",
    "print(\"Confusion Matrix:\")\n",
    "\n",
    "# Plot the confusion matrix\n",
    "plt.figure(figsize=(8, 6))\n",
    "sns.heatmap(confusion, annot=True, fmt=\"d\", cmap=\"Blues\", cbar=False,\n",
    "            xticklabels=['Negative', 'Positive'], yticklabels=['Negative', 'Positive'])\n",
    "plt.xlabel('Predicted Labels')\n",
    "plt.ylabel('True Labels')\n",
    "plt.title('Confusion Matrix')\n",
    "plt.show()"
   ]
  },
  {
   "cell_type": "markdown",
   "metadata": {},
   "source": [
    "# Analyzing the results\n"
   ]
  },
  {
   "cell_type": "code",
   "execution_count": 121,
   "metadata": {
    "colab": {
     "base_uri": "https://localhost:8080/"
    },
    "id": "g17W89Vavm3I",
    "outputId": "ae2b5eb1-acd0-429f-8a1d-11a45457dfb5"
   },
   "outputs": [
    {
     "name": "stdout",
     "output_type": "stream",
     "text": [
      "all_pron 2245\n",
      "correct_pron 1636\n",
      "incorrect_pron 609\n"
     ]
    }
   ],
   "source": [
    "# Extract contextualized vectors\n",
    "contextualized_vectors = df_fin[\"contextualized_vectors\"]\n",
    "\n",
    "# Predict pronouns and compare with true labels\n",
    "test_d = df_fin.loc[indices_test, :]\n",
    "test_d[[\"Word\", \"end_labels\", \"subtoken\", \"contextualized_vectors\",\"POS\"]]\n",
    "\n",
    "count_correct_pron=0\n",
    "count_incorrect_pron=0\n",
    "all_pron=0\n",
    "for index, row in test_d.iterrows():\n",
    "    x_text_word = np.array(literal_eval(row[\"contextualized_vectors\"])).reshape(-1, np.array(literal_eval(row[\"contextualized_vectors\"])).shape[-1])\n",
    "    y_pred_word = lr_model.predict(x_text_word)\n",
    "    if row[\"POS\"] == \"PRON\":\n",
    "        all_pron+=1\n",
    "        if y_pred_word[0] == row[\"end_labels\"]:\n",
    "            #print(\"correct classify\",row[\"Word\"])\n",
    "            count_correct_pron+=1\n",
    "        else:\n",
    "            #print(\"incorrect classify\",row[\"Word\"])\n",
    "            count_incorrect_pron+=1\n",
    "print(\"all_pron\",all_pron)\n",
    "print(\"correct_pron\",count_correct_pron)\n",
    "print(\"incorrect_pron\",count_incorrect_pron)\n",
    "            \n",
    "            \n",
    "            \n",
    "        \n",
    "    #print(\"Prediction for words in '{}': {} True Label : {} subtoken : {}\".format(row[\"Word\"], y_pred_word[0], row[\"end_labels\"],row[\"subtoken\"]))"
   ]
  },
  {
   "cell_type": "code",
   "execution_count": 122,
   "metadata": {},
   "outputs": [
    {
     "name": "stdout",
     "output_type": "stream",
     "text": [
      "all_noun 1866\n",
      "correct_noun 1746\n",
      "incorrect_noun 120\n"
     ]
    }
   ],
   "source": [
    "# Extract contextualized vectors\n",
    "contextualized_vectors = df_fin[\"contextualized_vectors\"]\n",
    "\n",
    "# Predict nouns and compare with true labels\n",
    "test_d = df_fin.loc[indices_test, :]\n",
    "test_d[[\"Word\", \"end_labels\", \"subtoken\", \"contextualized_vectors\",\"POS\"]]\n",
    "\n",
    "count_correct_noun=0\n",
    "count_incorrect_noun=0\n",
    "all_noun=0\n",
    "for index, row in test_d.iterrows():\n",
    "    x_text_word = np.array(literal_eval(row[\"contextualized_vectors\"])).reshape(-1, np.array(literal_eval(row[\"contextualized_vectors\"])).shape[-1])\n",
    "    y_pred_word = lr_model.predict(x_text_word)\n",
    "    if row[\"POS\"] == \"NOUN\":\n",
    "        all_noun+=1\n",
    "        if y_pred_word[0] == row[\"end_labels\"]:\n",
    "            #print(\"correct classify\",row[\"Word\"])\n",
    "            count_correct_noun+=1\n",
    "        else:\n",
    "            #print(\"incorrect classify\",row[\"Word\"])\n",
    "            count_incorrect_noun+=1\n",
    "print(\"all_noun\",all_noun)\n",
    "print(\"correct_noun\",count_correct_noun)\n",
    "print(\"incorrect_noun\",count_incorrect_noun)"
   ]
  },
  {
   "cell_type": "code",
   "execution_count": 73,
   "metadata": {},
   "outputs": [
    {
     "name": "stdout",
     "output_type": "stream",
     "text": [
      "all_propn 3\n",
      "correct_propn 3\n",
      "incorrect_propn 0\n"
     ]
    }
   ],
   "source": [
    "# Extract contextualized vectors\n",
    "contextualized_vectors = df_fin[\"contextualized_vectors\"]\n",
    "\n",
    "# Predict PROPN and compare with true labels\n",
    "test_d = df_fin.loc[indices_test, :]\n",
    "test_d[[\"Word\", \"end_labels\", \"subtoken\", \"contextualized_vectors\",\"POS\"]]\n",
    "\n",
    "count_correct_propn=0\n",
    "count_incorrect_propn=0\n",
    "all_propn=0\n",
    "for index, row in test_d.iterrows():\n",
    "    x_text_word = np.array(literal_eval(row[\"contextualized_vectors\"])).reshape(-1, np.array(literal_eval(row[\"contextualized_vectors\"])).shape[-1])\n",
    "    y_pred_word = lr_model.predict(x_text_word)\n",
    "    if row[\"POS\"] == \"PROPN\":\n",
    "        all_propn+=1\n",
    "        if y_pred_word[0] == row[\"end_labels\"]:\n",
    "            #print(\"correct classify\",row[\"Word\"])\n",
    "            count_correct_propn+=1\n",
    "        else:\n",
    "            #print(\"incorrect classify\",row[\"Word\"])\n",
    "            count_incorrect_propn+=1\n",
    "print(\"all_propn\",all_propn)\n",
    "print(\"correct_propn\",count_correct_propn)\n",
    "print(\"incorrect_propn\",count_incorrect_propn)\n",
    "            "
   ]
  },
  {
   "cell_type": "code",
   "execution_count": 81,
   "metadata": {},
   "outputs": [
    {
     "name": "stdout",
     "output_type": "stream",
     "text": [
      "all_noun_subtoken 118\n",
      "count_correct_noun_subtoken 93\n",
      "count_incorrect_noun_subtoken 25\n",
      "-----------------------------------------------\n",
      "all_noun_without_subtoken 1748\n",
      "count_correct_noun_without_subtoken 1653\n",
      "count_incorrect_noun_without_subtoken 95\n"
     ]
    }
   ],
   "source": [
    "\n",
    "\n",
    "# Extract contextualized vectors\n",
    "contextualized_vectors = df_fin[\"contextualized_vectors\"]\n",
    "\n",
    "# Counting the number of correctly and incorrectly classified names with and without subtokens\n",
    "test_d = df_fin.loc[indices_test, :]\n",
    "test_d[[\"Word\", \"end_labels\", \"subtoken\", \"contextualized_vectors\",\"POS\"]]\n",
    "\n",
    "count_correct_noun_subtoken=0\n",
    "count_incorrect_noun_subtoken=0\n",
    "all_noun_subtoken=0\n",
    "all_noun_without_subtoken=0\n",
    "count_correct_noun_without_subtoken=0\n",
    "count_incorrect_noun_without_subtoken=0\n",
    "for index, row in test_d.iterrows():\n",
    "    x_text_word = np.array(literal_eval(row[\"contextualized_vectors\"])).reshape(-1, np.array(literal_eval(row[\"contextualized_vectors\"])).shape[-1])\n",
    "    y_pred_word = lr_model.predict(x_text_word)\n",
    "    if row[\"POS\"] == \"NOUN\" and type(row[\"subtoken\"]) != float:\n",
    "        all_noun_subtoken+=1\n",
    "        if y_pred_word[0] == row[\"end_labels\"]:\n",
    "            #print(\"correct classify\",row[\"Word\"])\n",
    "            count_correct_noun_subtoken+=1\n",
    "        else:\n",
    "            #print(\"incorrect classify\",row[\"Word\"])\n",
    "            count_incorrect_noun_subtoken+=1\n",
    "    if row[\"POS\"] == \"NOUN\" and type(row[\"subtoken\"]) == float:\n",
    "        all_noun_without_subtoken+=1\n",
    "        if y_pred_word[0] == row[\"end_labels\"]:\n",
    "            #print(\"correct classify\",row[\"Word\"])\n",
    "            count_correct_noun_without_subtoken+=1\n",
    "        else:\n",
    "            #print(\"incorrect classify\",row[\"Word\"])\n",
    "            count_incorrect_noun_without_subtoken+=1\n",
    "            \n",
    "        \n",
    "print(\"all_noun_subtoken\",all_noun_subtoken)\n",
    "print(\"count_correct_noun_subtoken\",count_correct_noun_subtoken)\n",
    "print(\"count_incorrect_noun_subtoken\",count_incorrect_noun_subtoken)\n",
    "print(\"-----------------------------------------------\")\n",
    "print(\"all_noun_without_subtoken\",all_noun_without_subtoken)\n",
    "print(\"count_correct_noun_without_subtoken\",count_correct_noun_without_subtoken)\n",
    "print(\"count_incorrect_noun_without_subtoken\",count_incorrect_noun_without_subtoken)"
   ]
  },
  {
   "cell_type": "code",
   "execution_count": 115,
   "metadata": {},
   "outputs": [
    {
     "data": {
      "text/plain": [
       "2243"
      ]
     },
     "execution_count": 115,
     "metadata": {},
     "output_type": "execute_result"
    }
   ],
   "source": [
    "filtered_pron_without_subtoken = test_d.loc[(test_d['POS'] ==\"PRON\") & (test_d['subtoken'].isnull())]\n",
    "len(filtered_pron_without_subtoken)"
   ]
  },
  {
   "cell_type": "code",
   "execution_count": 116,
   "metadata": {},
   "outputs": [
    {
     "data": {
      "text/plain": [
       "2"
      ]
     },
     "execution_count": 116,
     "metadata": {},
     "output_type": "execute_result"
    }
   ],
   "source": [
    "# Only two pronouns in test-data bekamme from tokenizer subtoken \n",
    "filtered_pron_subtoken = test_d.loc[(test_d['POS'] ==\"PRON\") & (test_d['subtoken'].notnull())]\n",
    "len(filtered_pron_subtoken)"
   ]
  },
  {
   "cell_type": "code",
   "execution_count": 38,
   "metadata": {
    "colab": {
     "base_uri": "https://localhost:8080/"
    },
    "id": "L0TiclgsmGeH",
    "outputId": "ff7b6b20-63ac-4275-c040-3c27e729e00c"
   },
   "outputs": [
    {
     "name": "stdout",
     "output_type": "stream",
     "text": [
      "Epoch 1/40, Loss: 0.7070978283882141\n",
      "Epoch 2/40, Loss: 0.5222893357276917\n",
      "Epoch 3/40, Loss: 0.4194794297218323\n",
      "Epoch 4/40, Loss: 0.3924577534198761\n",
      "Epoch 5/40, Loss: 0.37089207768440247\n",
      "Epoch 6/40, Loss: 0.3543684780597687\n",
      "Epoch 7/40, Loss: 0.3419238328933716\n",
      "Epoch 8/40, Loss: 0.3325795829296112\n",
      "Epoch 9/40, Loss: 0.32483696937561035\n",
      "Epoch 10/40, Loss: 0.3182048797607422\n",
      "Epoch 11/40, Loss: 0.310955673456192\n",
      "Epoch 12/40, Loss: 0.3035556972026825\n",
      "Epoch 13/40, Loss: 0.2974562346935272\n",
      "Epoch 14/40, Loss: 0.2918960154056549\n",
      "Epoch 15/40, Loss: 0.28644463419914246\n",
      "Epoch 16/40, Loss: 0.2812170088291168\n",
      "Epoch 17/40, Loss: 0.2759120762348175\n",
      "Epoch 18/40, Loss: 0.27099645137786865\n",
      "Epoch 19/40, Loss: 0.2666110396385193\n",
      "Epoch 20/40, Loss: 0.2619054615497589\n",
      "Epoch 21/40, Loss: 0.25712850689888\n",
      "Epoch 22/40, Loss: 0.252923846244812\n",
      "Epoch 23/40, Loss: 0.24857968091964722\n",
      "Epoch 24/40, Loss: 0.24440649151802063\n",
      "Epoch 25/40, Loss: 0.2406601756811142\n",
      "Epoch 26/40, Loss: 0.2360161393880844\n",
      "Epoch 27/40, Loss: 0.23140190541744232\n",
      "Epoch 28/40, Loss: 0.22702398896217346\n",
      "Epoch 29/40, Loss: 0.22273270785808563\n",
      "Epoch 30/40, Loss: 0.21843421459197998\n",
      "Epoch 31/40, Loss: 0.21384353935718536\n",
      "Epoch 32/40, Loss: 0.2093431055545807\n",
      "Epoch 33/40, Loss: 0.20498938858509064\n",
      "Epoch 34/40, Loss: 0.2006690800189972\n",
      "Epoch 35/40, Loss: 0.19626657664775848\n",
      "Epoch 36/40, Loss: 0.1918369084596634\n",
      "Epoch 37/40, Loss: 0.18727286159992218\n",
      "Epoch 38/40, Loss: 0.18285849690437317\n",
      "Epoch 39/40, Loss: 0.17832468450069427\n",
      "Epoch 40/40, Loss: 0.1736789494752884\n"
     ]
    }
   ],
   "source": [
    "# Implement a custom neural network with optimization techniques\n",
    "class BinaryClassificationNN(nn.Module):\n",
    "    def __init__(self, input_dim, hidden_dim):\n",
    "        super(BinaryClassificationNN, self).__init__()\n",
    "        self.layer1 = nn.Linear(input_dim, hidden_dim)\n",
    "        self.layer2 = nn.Linear(hidden_dim, 1)\n",
    "        self.sigmoid = nn.Sigmoid()\n",
    "\n",
    "    def forward(self, x):\n",
    "        x = nn.ReLU()(self.layer1(x))\n",
    "        x = self.sigmoid(self.layer2(x))\n",
    "        return x\n",
    "\n",
    "input_dim = X_train.shape[1]\n",
    "hidden_dim = 50\n",
    "learning_rate = 0.01\n",
    "epochs = 40\n",
    "\n",
    "model = BinaryClassificationNN(input_dim, hidden_dim)\n",
    "criterion = nn.BCELoss()\n",
    "optimizer = optim.Adam(model.parameters(), lr=learning_rate)\n",
    "\n",
    "X_train_tensor = torch.tensor(X_train, dtype=torch.float32)\n",
    "y_train_tensor = torch.tensor(y_train.values, dtype=torch.float32)\n",
    "\n",
    "for epoch in range(epochs):\n",
    "    optimizer.zero_grad()\n",
    "    outputs = model(X_train_tensor).squeeze()\n",
    "    loss = criterion(outputs, y_train_tensor)\n",
    "    loss.backward()\n",
    "    optimizer.step()\n",
    "    print(f'Epoch {epoch + 1}/{epochs}, Loss: {loss.item()}')\n"
   ]
  },
  {
   "cell_type": "code",
   "execution_count": 39,
   "metadata": {
    "colab": {
     "base_uri": "https://localhost:8080/"
    },
    "id": "lCHaWTI5kAlk",
    "outputId": "711e4200-4802-4e76-aa75-14a2672f33fc"
   },
   "outputs": [
    {
     "name": "stdout",
     "output_type": "stream",
     "text": [
      "Custom Neural Network Accuracy: 0.8696285486221313\n"
     ]
    }
   ],
   "source": [
    "# Evaluate the custom neural network\n",
    "with torch.no_grad():\n",
    "    test_outputs = model(torch.tensor(X_test, dtype=torch.float32)).squeeze()\n",
    "    predicted_labels = (test_outputs > 0.5).float()\n",
    "    accuracy = (predicted_labels == torch.tensor(y_test.values, dtype=torch.float32)).float().mean()\n",
    "\n",
    "print(\"Custom Neural Network Accuracy:\", accuracy.item())"
   ]
  },
  {
   "cell_type": "code",
   "execution_count": 42,
   "metadata": {
    "colab": {
     "base_uri": "https://localhost:8080/",
     "height": 582
    },
    "id": "HtaCPHCskAuT",
    "outputId": "a6994973-1319-4715-ceb5-5fa90f94edde"
   },
   "outputs": [
    {
     "name": "stdout",
     "output_type": "stream",
     "text": [
      "F1-Score for Custom Neural Network: 0.8150189459180158\n"
     ]
    },
    {
     "data": {
      "image/png": "[encoded data removed]",
      "text/plain": [
       "<Figure size 800x600 with 1 Axes>"
      ]
     },
     "metadata": {},
     "output_type": "display_data"
    }
   ],
   "source": [
    "# F1 Score for Custom Neural Network\n",
    "f1_custom_nn = f1_score(y_test, predicted_labels)\n",
    "\n",
    "print(\"F1-Score for Custom Neural Network:\", f1_custom_nn)\n",
    "\n",
    "# Plot F1 Score\n",
    "plt.figure(figsize=(8, 6))\n",
    "plt.title(\"F1 Score for Custom Neural Network\")\n",
    "plt.bar([\"Custom NN\"], [f1_custom_nn], color='b', alpha=0.7)\n",
    "plt.ylim(0, 1)\n",
    "plt.xlabel(\"Model\")\n",
    "plt.ylabel(\"F1 Score\")\n",
    "plt.show()"
   ]
  },
  {
   "cell_type": "code",
   "execution_count": 43,
   "metadata": {
    "colab": {
     "base_uri": "https://localhost:8080/",
     "height": 619
    },
    "id": "OJHuRnrp3W-q",
    "outputId": "dd3bd398-7ae4-4a11-aa13-fe6d148642d2"
   },
   "outputs": [
    {
     "name": "stdout",
     "output_type": "stream",
     "text": [
      "Confusion Matrix for Custom Neural Network:\n",
      "[[2399  242]\n",
      " [ 295 1183]]\n"
     ]
    },
    {
     "data": {
      "image/png": "[encoded data removed]",
      "text/plain": [
       "<Figure size 800x600 with 1 Axes>"
      ]
     },
     "metadata": {},
     "output_type": "display_data"
    }
   ],
   "source": [
    "\n",
    "# Confusion Matrix for Custom Neural Network\n",
    "confusion = confusion_matrix(y_test, predicted_labels)\n",
    "\n",
    "print(\"Confusion Matrix for Custom Neural Network:\")\n",
    "print(confusion)\n",
    "\n",
    "# Plot Confusion Matrix\n",
    "plt.figure(figsize=(8, 6))\n",
    "sns.heatmap(confusion, annot=True, fmt=\"d\", cmap=\"Blues\", cbar=False,\n",
    "            xticklabels=['Negative', 'Positive'], yticklabels=['Negative', 'Positive'])\n",
    "plt.xlabel('Predicted Labels')\n",
    "plt.ylabel('True Labels')\n",
    "plt.title('Confusion Matrix for Custom Neural Network')\n",
    "plt.show()"
   ]
  },
  {
   "cell_type": "code",
   "execution_count": null,
   "metadata": {
    "id": "FKNS0xn63aLA"
   },
   "outputs": [],
   "source": []
  }
 ],
 "metadata": {
  "accelerator": "GPU",
  "colab": {
   "gpuType": "T4",
   "provenance": []
  },
  "kernelspec": {
   "display_name": "Python 3 (ipykernel)",
   "language": "python",
   "name": "python3"
  },
  "language_info": {
   "codemirror_mode": {
    "name": "ipython",
    "version": 3
   },
   "file_extension": ".py",
   "mimetype": "text/x-python",
   "name": "python",
   "nbconvert_exporter": "python",
   "pygments_lexer": "ipython3",
   "version": "3.10.9"
  },
  "widgets": {
   "application/vnd.jupyter.widget-state+json": {
    "202c09a8bfc848d6882baf744b1c3d03": {
     "model_module": "@jupyter-widgets/base",
     "model_module_version": "1.2.0",
     "model_name": "LayoutModel",
     "state": {
      "_model_module": "@jupyter-widgets/base",
      "_model_module_version": "1.2.0",
      "_model_name": "LayoutModel",
      "_view_count": null,
      "_view_module": "@jupyter-widgets/base",
      "_view_module_version": "1.2.0",
      "_view_name": "LayoutView",
      "align_content": null,
      "align_items": null,
      "align_self": null,
      "border": null,
      "bottom": null,
      "display": null,
      "flex": null,
      "flex_flow": null,
      "grid_area": null,
      "grid_auto_columns": null,
      "grid_auto_flow": null,
      "grid_auto_rows": null,
      "grid_column": null,
      "grid_gap": null,
      "grid_row": null,
      "grid_template_areas": null,
      "grid_template_columns": null,
      "grid_template_rows": null,
      "height": null,
      "justify_content": null,
      "justify_items": null,
      "left": null,
      "margin": null,
      "max_height": null,
      "max_width": null,
      "min_height": null,
      "min_width": null,
      "object_fit": null,
      "object_position": null,
      "order": null,
      "overflow": null,
      "overflow_x": null,
      "overflow_y": null,
      "padding": null,
      "right": null,
      "top": null,
      "visibility": null,
      "width": null
     }
    },
    "245c8f7239e64fb28995173dcb6afdb0": {
     "model_module": "@jupyter-widgets/base",
     "model_module_version": "1.2.0",
     "model_name": "LayoutModel",
     "state": {
      "_model_module": "@jupyter-widgets/base",
      "_model_module_version": "1.2.0",
      "_model_name": "LayoutModel",
      "_view_count": null,
      "_view_module": "@jupyter-widgets/base",
      "_view_module_version": "1.2.0",
      "_view_name": "LayoutView",
      "align_content": null,
      "align_items": null,
      "align_self": null,
      "border": null,
      "bottom": null,
      "display": null,
      "flex": null,
      "flex_flow": null,
      "grid_area": null,
      "grid_auto_columns": null,
      "grid_auto_flow": null,
      "grid_auto_rows": null,
      "grid_column": null,
      "grid_gap": null,
      "grid_row": null,
      "grid_template_areas": null,
      "grid_template_columns": null,
      "grid_template_rows": null,
      "height": null,
      "justify_content": null,
      "justify_items": null,
      "left": null,
      "margin": null,
      "max_height": null,
      "max_width": null,
      "min_height": null,
      "min_width": null,
      "object_fit": null,
      "object_position": null,
      "order": null,
      "overflow": null,
      "overflow_x": null,
      "overflow_y": null,
      "padding": null,
      "right": null,
      "top": null,
      "visibility": null,
      "width": null
     }
    },
    "2a85c1b40cf149c69116cbc060bffa04": {
     "model_module": "@jupyter-widgets/controls",
     "model_module_version": "1.5.0",
     "model_name": "HTMLModel",
     "state": {
      "_dom_classes": [],
      "_model_module": "@jupyter-widgets/controls",
      "_model_module_version": "1.5.0",
      "_model_name": "HTMLModel",
      "_view_count": null,
      "_view_module": "@jupyter-widgets/controls",
      "_view_module_version": "1.5.0",
      "_view_name": "HTMLView",
      "description": "",
      "description_tooltip": null,
      "layout": "IPY_MODEL_34f90db3555e4633b869aa177ed3383a",
      "placeholder": "​",
      "style": "IPY_MODEL_3e2a96f3f017403998c6d2b9fd90f203",
      "value": " 570/570 [00:00&lt;00:00, 11.4kB/s]"
     }
    },
    "31c72999c55a4c7385bd32558bba03bc": {
     "model_module": "@jupyter-widgets/base",
     "model_module_version": "1.2.0",
     "model_name": "LayoutModel",
     "state": {
      "_model_module": "@jupyter-widgets/base",
      "_model_module_version": "1.2.0",
      "_model_name": "LayoutModel",
      "_view_count": null,
      "_view_module": "@jupyter-widgets/base",
      "_view_module_version": "1.2.0",
      "_view_name": "LayoutView",
      "align_content": null,
      "align_items": null,
      "align_self": null,
      "border": null,
      "bottom": null,
      "display": null,
      "flex": null,
      "flex_flow": null,
      "grid_area": null,
      "grid_auto_columns": null,
      "grid_auto_flow": null,
      "grid_auto_rows": null,
      "grid_column": null,
      "grid_gap": null,
      "grid_row": null,
      "grid_template_areas": null,
      "grid_template_columns": null,
      "grid_template_rows": null,
      "height": null,
      "justify_content": null,
      "justify_items": null,
      "left": null,
      "margin": null,
      "max_height": null,
      "max_width": null,
      "min_height": null,
      "min_width": null,
      "object_fit": null,
      "object_position": null,
      "order": null,
      "overflow": null,
      "overflow_x": null,
      "overflow_y": null,
      "padding": null,
      "right": null,
      "top": null,
      "visibility": null,
      "width": null
     }
    },
    "34f90db3555e4633b869aa177ed3383a": {
     "model_module": "@jupyter-widgets/base",
     "model_module_version": "1.2.0",
     "model_name": "LayoutModel",
     "state": {
      "_model_module": "@jupyter-widgets/base",
      "_model_module_version": "1.2.0",
      "_model_name": "LayoutModel",
      "_view_count": null,
      "_view_module": "@jupyter-widgets/base",
      "_view_module_version": "1.2.0",
      "_view_name": "LayoutView",
      "align_content": null,
      "align_items": null,
      "align_self": null,
      "border": null,
      "bottom": null,
      "display": null,
      "flex": null,
      "flex_flow": null,
      "grid_area": null,
      "grid_auto_columns": null,
      "grid_auto_flow": null,
      "grid_auto_rows": null,
      "grid_column": null,
      "grid_gap": null,
      "grid_row": null,
      "grid_template_areas": null,
      "grid_template_columns": null,
      "grid_template_rows": null,
      "height": null,
      "justify_content": null,
      "justify_items": null,
      "left": null,
      "margin": null,
      "max_height": null,
      "max_width": null,
      "min_height": null,
      "min_width": null,
      "object_fit": null,
      "object_position": null,
      "order": null,
      "overflow": null,
      "overflow_x": null,
      "overflow_y": null,
      "padding": null,
      "right": null,
      "top": null,
      "visibility": null,
      "width": null
     }
    },
    "36ce5483dbd24b6284795839902aacf9": {
     "model_module": "@jupyter-widgets/controls",
     "model_module_version": "1.5.0",
     "model_name": "DescriptionStyleModel",
     "state": {
      "_model_module": "@jupyter-widgets/controls",
      "_model_module_version": "1.5.0",
      "_model_name": "DescriptionStyleModel",
      "_view_count": null,
      "_view_module": "@jupyter-widgets/base",
      "_view_module_version": "1.2.0",
      "_view_name": "StyleView",
      "description_width": ""
     }
    },
    "3e2a96f3f017403998c6d2b9fd90f203": {
     "model_module": "@jupyter-widgets/controls",
     "model_module_version": "1.5.0",
     "model_name": "DescriptionStyleModel",
     "state": {
      "_model_module": "@jupyter-widgets/controls",
      "_model_module_version": "1.5.0",
      "_model_name": "DescriptionStyleModel",
      "_view_count": null,
      "_view_module": "@jupyter-widgets/base",
      "_view_module_version": "1.2.0",
      "_view_name": "StyleView",
      "description_width": ""
     }
    },
    "53540123c39748578d734d4605856ec1": {
     "model_module": "@jupyter-widgets/base",
     "model_module_version": "1.2.0",
     "model_name": "LayoutModel",
     "state": {
      "_model_module": "@jupyter-widgets/base",
      "_model_module_version": "1.2.0",
      "_model_name": "LayoutModel",
      "_view_count": null,
      "_view_module": "@jupyter-widgets/base",
      "_view_module_version": "1.2.0",
      "_view_name": "LayoutView",
      "align_content": null,
      "align_items": null,
      "align_self": null,
      "border": null,
      "bottom": null,
      "display": null,
      "flex": null,
      "flex_flow": null,
      "grid_area": null,
      "grid_auto_columns": null,
      "grid_auto_flow": null,
      "grid_auto_rows": null,
      "grid_column": null,
      "grid_gap": null,
      "grid_row": null,
      "grid_template_areas": null,
      "grid_template_columns": null,
      "grid_template_rows": null,
      "height": null,
      "justify_content": null,
      "justify_items": null,
      "left": null,
      "margin": null,
      "max_height": null,
      "max_width": null,
      "min_height": null,
      "min_width": null,
      "object_fit": null,
      "object_position": null,
      "order": null,
      "overflow": null,
      "overflow_x": null,
      "overflow_y": null,
      "padding": null,
      "right": null,
      "top": null,
      "visibility": null,
      "width": null
     }
    },
    "67647e2dcdcb45f6821402827c8b680c": {
     "model_module": "@jupyter-widgets/controls",
     "model_module_version": "1.5.0",
     "model_name": "FloatProgressModel",
     "state": {
      "_dom_classes": [],
      "_model_module": "@jupyter-widgets/controls",
      "_model_module_version": "1.5.0",
      "_model_name": "FloatProgressModel",
      "_view_count": null,
      "_view_module": "@jupyter-widgets/controls",
      "_view_module_version": "1.5.0",
      "_view_name": "ProgressView",
      "bar_style": "success",
      "description": "",
      "description_tooltip": null,
      "layout": "IPY_MODEL_9bc2e10679484a29b2a781b18d77eacb",
      "max": 570,
      "min": 0,
      "orientation": "horizontal",
      "style": "IPY_MODEL_a84b33c9ed434d54aa82f6d37db41b6d",
      "value": 570
     }
    },
    "70f31029ddfb4d898d9216aae6d5a923": {
     "model_module": "@jupyter-widgets/controls",
     "model_module_version": "1.5.0",
     "model_name": "HBoxModel",
     "state": {
      "_dom_classes": [],
      "_model_module": "@jupyter-widgets/controls",
      "_model_module_version": "1.5.0",
      "_model_name": "HBoxModel",
      "_view_count": null,
      "_view_module": "@jupyter-widgets/controls",
      "_view_module_version": "1.5.0",
      "_view_name": "HBoxView",
      "box_style": "",
      "children": [
       "IPY_MODEL_cfb5bdbb80c147daa323c26a64601689",
       "IPY_MODEL_c6d61e1db30e4d31aad16a594b6365e8",
       "IPY_MODEL_7ac406c8cde34d4e8511e6fadaeb7868"
      ],
      "layout": "IPY_MODEL_8f3a803bd33748b3aaf0dcbe9ec5351e"
     }
    },
    "7ac406c8cde34d4e8511e6fadaeb7868": {
     "model_module": "@jupyter-widgets/controls",
     "model_module_version": "1.5.0",
     "model_name": "HTMLModel",
     "state": {
      "_dom_classes": [],
      "_model_module": "@jupyter-widgets/controls",
      "_model_module_version": "1.5.0",
      "_model_name": "HTMLModel",
      "_view_count": null,
      "_view_module": "@jupyter-widgets/controls",
      "_view_module_version": "1.5.0",
      "_view_name": "HTMLView",
      "description": "",
      "description_tooltip": null,
      "layout": "IPY_MODEL_b48a9f3669f945a3b416dae83fdf3862",
      "placeholder": "​",
      "style": "IPY_MODEL_e61ae341d81c47b3af8c15bee4a5c0bb",
      "value": " 436M/436M [00:04&lt;00:00, 127MB/s]"
     }
    },
    "8f3a803bd33748b3aaf0dcbe9ec5351e": {
     "model_module": "@jupyter-widgets/base",
     "model_module_version": "1.2.0",
     "model_name": "LayoutModel",
     "state": {
      "_model_module": "@jupyter-widgets/base",
      "_model_module_version": "1.2.0",
      "_model_name": "LayoutModel",
      "_view_count": null,
      "_view_module": "@jupyter-widgets/base",
      "_view_module_version": "1.2.0",
      "_view_name": "LayoutView",
      "align_content": null,
      "align_items": null,
      "align_self": null,
      "border": null,
      "bottom": null,
      "display": null,
      "flex": null,
      "flex_flow": null,
      "grid_area": null,
      "grid_auto_columns": null,
      "grid_auto_flow": null,
      "grid_auto_rows": null,
      "grid_column": null,
      "grid_gap": null,
      "grid_row": null,
      "grid_template_areas": null,
      "grid_template_columns": null,
      "grid_template_rows": null,
      "height": null,
      "justify_content": null,
      "justify_items": null,
      "left": null,
      "margin": null,
      "max_height": null,
      "max_width": null,
      "min_height": null,
      "min_width": null,
      "object_fit": null,
      "object_position": null,
      "order": null,
      "overflow": null,
      "overflow_x": null,
      "overflow_y": null,
      "padding": null,
      "right": null,
      "top": null,
      "visibility": null,
      "width": null
     }
    },
    "9bc2e10679484a29b2a781b18d77eacb": {
     "model_module": "@jupyter-widgets/base",
     "model_module_version": "1.2.0",
     "model_name": "LayoutModel",
     "state": {
      "_model_module": "@jupyter-widgets/base",
      "_model_module_version": "1.2.0",
      "_model_name": "LayoutModel",
      "_view_count": null,
      "_view_module": "@jupyter-widgets/base",
      "_view_module_version": "1.2.0",
      "_view_name": "LayoutView",
      "align_content": null,
      "align_items": null,
      "align_self": null,
      "border": null,
      "bottom": null,
      "display": null,
      "flex": null,
      "flex_flow": null,
      "grid_area": null,
      "grid_auto_columns": null,
      "grid_auto_flow": null,
      "grid_auto_rows": null,
      "grid_column": null,
      "grid_gap": null,
      "grid_row": null,
      "grid_template_areas": null,
      "grid_template_columns": null,
      "grid_template_rows": null,
      "height": null,
      "justify_content": null,
      "justify_items": null,
      "left": null,
      "margin": null,
      "max_height": null,
      "max_width": null,
      "min_height": null,
      "min_width": null,
      "object_fit": null,
      "object_position": null,
      "order": null,
      "overflow": null,
      "overflow_x": null,
      "overflow_y": null,
      "padding": null,
      "right": null,
      "top": null,
      "visibility": null,
      "width": null
     }
    },
    "a3019367c0f340889b12b88b18e6b317": {
     "model_module": "@jupyter-widgets/controls",
     "model_module_version": "1.5.0",
     "model_name": "HTMLModel",
     "state": {
      "_dom_classes": [],
      "_model_module": "@jupyter-widgets/controls",
      "_model_module_version": "1.5.0",
      "_model_name": "HTMLModel",
      "_view_count": null,
      "_view_module": "@jupyter-widgets/controls",
      "_view_module_version": "1.5.0",
      "_view_name": "HTMLView",
      "description": "",
      "description_tooltip": null,
      "layout": "IPY_MODEL_202c09a8bfc848d6882baf744b1c3d03",
      "placeholder": "​",
      "style": "IPY_MODEL_36ce5483dbd24b6284795839902aacf9",
      "value": "Downloading (…)lve/main/config.json: 100%"
     }
    },
    "a84b33c9ed434d54aa82f6d37db41b6d": {
     "model_module": "@jupyter-widgets/controls",
     "model_module_version": "1.5.0",
     "model_name": "ProgressStyleModel",
     "state": {
      "_model_module": "@jupyter-widgets/controls",
      "_model_module_version": "1.5.0",
      "_model_name": "ProgressStyleModel",
      "_view_count": null,
      "_view_module": "@jupyter-widgets/base",
      "_view_module_version": "1.2.0",
      "_view_name": "StyleView",
      "bar_color": null,
      "description_width": ""
     }
    },
    "b48a9f3669f945a3b416dae83fdf3862": {
     "model_module": "@jupyter-widgets/base",
     "model_module_version": "1.2.0",
     "model_name": "LayoutModel",
     "state": {
      "_model_module": "@jupyter-widgets/base",
      "_model_module_version": "1.2.0",
      "_model_name": "LayoutModel",
      "_view_count": null,
      "_view_module": "@jupyter-widgets/base",
      "_view_module_version": "1.2.0",
      "_view_name": "LayoutView",
      "align_content": null,
      "align_items": null,
      "align_self": null,
      "border": null,
      "bottom": null,
      "display": null,
      "flex": null,
      "flex_flow": null,
      "grid_area": null,
      "grid_auto_columns": null,
      "grid_auto_flow": null,
      "grid_auto_rows": null,
      "grid_column": null,
      "grid_gap": null,
      "grid_row": null,
      "grid_template_areas": null,
      "grid_template_columns": null,
      "grid_template_rows": null,
      "height": null,
      "justify_content": null,
      "justify_items": null,
      "left": null,
      "margin": null,
      "max_height": null,
      "max_width": null,
      "min_height": null,
      "min_width": null,
      "object_fit": null,
      "object_position": null,
      "order": null,
      "overflow": null,
      "overflow_x": null,
      "overflow_y": null,
      "padding": null,
      "right": null,
      "top": null,
      "visibility": null,
      "width": null
     }
    },
    "c6d61e1db30e4d31aad16a594b6365e8": {
     "model_module": "@jupyter-widgets/controls",
     "model_module_version": "1.5.0",
     "model_name": "FloatProgressModel",
     "state": {
      "_dom_classes": [],
      "_model_module": "@jupyter-widgets/controls",
      "_model_module_version": "1.5.0",
      "_model_name": "FloatProgressModel",
      "_view_count": null,
      "_view_module": "@jupyter-widgets/controls",
      "_view_module_version": "1.5.0",
      "_view_name": "ProgressView",
      "bar_style": "success",
      "description": "",
      "description_tooltip": null,
      "layout": "IPY_MODEL_245c8f7239e64fb28995173dcb6afdb0",
      "max": 435755784,
      "min": 0,
      "orientation": "horizontal",
      "style": "IPY_MODEL_e1afb2a26e584e4fb747ccafdbb65349",
      "value": 435755784
     }
    },
    "ca2b20c0783a48f8b337563729affaa2": {
     "model_module": "@jupyter-widgets/controls",
     "model_module_version": "1.5.0",
     "model_name": "DescriptionStyleModel",
     "state": {
      "_model_module": "@jupyter-widgets/controls",
      "_model_module_version": "1.5.0",
      "_model_name": "DescriptionStyleModel",
      "_view_count": null,
      "_view_module": "@jupyter-widgets/base",
      "_view_module_version": "1.2.0",
      "_view_name": "StyleView",
      "description_width": ""
     }
    },
    "cfb5bdbb80c147daa323c26a64601689": {
     "model_module": "@jupyter-widgets/controls",
     "model_module_version": "1.5.0",
     "model_name": "HTMLModel",
     "state": {
      "_dom_classes": [],
      "_model_module": "@jupyter-widgets/controls",
      "_model_module_version": "1.5.0",
      "_model_name": "HTMLModel",
      "_view_count": null,
      "_view_module": "@jupyter-widgets/controls",
      "_view_module_version": "1.5.0",
      "_view_name": "HTMLView",
      "description": "",
      "description_tooltip": null,
      "layout": "IPY_MODEL_53540123c39748578d734d4605856ec1",
      "placeholder": "​",
      "style": "IPY_MODEL_ca2b20c0783a48f8b337563729affaa2",
      "value": "Downloading model.safetensors: 100%"
     }
    },
    "e1afb2a26e584e4fb747ccafdbb65349": {
     "model_module": "@jupyter-widgets/controls",
     "model_module_version": "1.5.0",
     "model_name": "ProgressStyleModel",
     "state": {
      "_model_module": "@jupyter-widgets/controls",
      "_model_module_version": "1.5.0",
      "_model_name": "ProgressStyleModel",
      "_view_count": null,
      "_view_module": "@jupyter-widgets/base",
      "_view_module_version": "1.2.0",
      "_view_name": "StyleView",
      "bar_color": null,
      "description_width": ""
     }
    },
    "e61ae341d81c47b3af8c15bee4a5c0bb": {
     "model_module": "@jupyter-widgets/controls",
     "model_module_version": "1.5.0",
     "model_name": "DescriptionStyleModel",
     "state": {
      "_model_module": "@jupyter-widgets/controls",
      "_model_module_version": "1.5.0",
      "_model_name": "DescriptionStyleModel",
      "_view_count": null,
      "_view_module": "@jupyter-widgets/base",
      "_view_module_version": "1.2.0",
      "_view_name": "StyleView",
      "description_width": ""
     }
    },
    "f792121497c04bf58fe0fcc386a2fe7e": {
     "model_module": "@jupyter-widgets/controls",
     "model_module_version": "1.5.0",
     "model_name": "HBoxModel",
     "state": {
      "_dom_classes": [],
      "_model_module": "@jupyter-widgets/controls",
      "_model_module_version": "1.5.0",
      "_model_name": "HBoxModel",
      "_view_count": null,
      "_view_module": "@jupyter-widgets/controls",
      "_view_module_version": "1.5.0",
      "_view_name": "HBoxView",
      "box_style": "",
      "children": [
       "IPY_MODEL_a3019367c0f340889b12b88b18e6b317",
       "IPY_MODEL_67647e2dcdcb45f6821402827c8b680c",
       "IPY_MODEL_2a85c1b40cf149c69116cbc060bffa04"
      ],
      "layout": "IPY_MODEL_31c72999c55a4c7385bd32558bba03bc"
     }
    }
   }
  }
 },
 "nbformat": 4,
 "nbformat_minor": 1
}
