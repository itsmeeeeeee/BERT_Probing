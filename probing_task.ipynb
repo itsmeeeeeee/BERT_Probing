{
  "cells": [
    {
      "cell_type": "markdown",
      "metadata": {
        "id": "PHQNGDP-8im8"
      },
      "source": [
        "# Step 1: Importing packages and libraries"
      ]
    },
    {
      "cell_type": "code",
      "execution_count": 2,
      "metadata": {
        "id": "DletLUctI-TK",
        "outputId": "8f11b1a0-7caa-4483-8048-ffb0e6ca99a5",
        "colab": {
          "base_uri": "https://localhost:8080/"
        }
      },
      "outputs": [
        {
          "output_type": "stream",
          "name": "stdout",
          "text": [
            "Collecting transformers\n",
            "  Downloading transformers-4.34.1-py3-none-any.whl (7.7 MB)\n",
            "\u001b[2K     \u001b[90m━━━━━━━━━━━━━━━━━━━━━━━━━━━━━━━━━━━━━━━━\u001b[0m \u001b[32m7.7/7.7 MB\u001b[0m \u001b[31m19.3 MB/s\u001b[0m eta \u001b[36m0:00:00\u001b[0m\n",
            "\u001b[?25hRequirement already satisfied: filelock in /usr/local/lib/python3.10/dist-packages (from transformers) (3.12.4)\n",
            "Collecting huggingface-hub<1.0,>=0.16.4 (from transformers)\n",
            "  Downloading huggingface_hub-0.18.0-py3-none-any.whl (301 kB)\n",
            "\u001b[2K     \u001b[90m━━━━━━━━━━━━━━━━━━━━━━━━━━━━━━━━━━━━━━━━\u001b[0m \u001b[32m302.0/302.0 kB\u001b[0m \u001b[31m32.8 MB/s\u001b[0m eta \u001b[36m0:00:00\u001b[0m\n",
            "\u001b[?25hRequirement already satisfied: numpy>=1.17 in /usr/local/lib/python3.10/dist-packages (from transformers) (1.23.5)\n",
            "Requirement already satisfied: packaging>=20.0 in /usr/local/lib/python3.10/dist-packages (from transformers) (23.2)\n",
            "Requirement already satisfied: pyyaml>=5.1 in /usr/local/lib/python3.10/dist-packages (from transformers) (6.0.1)\n",
            "Requirement already satisfied: regex!=2019.12.17 in /usr/local/lib/python3.10/dist-packages (from transformers) (2023.6.3)\n",
            "Requirement already satisfied: requests in /usr/local/lib/python3.10/dist-packages (from transformers) (2.31.0)\n",
            "Collecting tokenizers<0.15,>=0.14 (from transformers)\n",
            "  Downloading tokenizers-0.14.1-cp310-cp310-manylinux_2_17_x86_64.manylinux2014_x86_64.whl (3.8 MB)\n",
            "\u001b[2K     \u001b[90m━━━━━━━━━━━━━━━━━━━━━━━━━━━━━━━━━━━━━━━━\u001b[0m \u001b[32m3.8/3.8 MB\u001b[0m \u001b[31m38.4 MB/s\u001b[0m eta \u001b[36m0:00:00\u001b[0m\n",
            "\u001b[?25hCollecting safetensors>=0.3.1 (from transformers)\n",
            "  Downloading safetensors-0.4.0-cp310-cp310-manylinux_2_17_x86_64.manylinux2014_x86_64.whl (1.3 MB)\n",
            "\u001b[2K     \u001b[90m━━━━━━━━━━━━━━━━━━━━━━━━━━━━━━━━━━━━━━━━\u001b[0m \u001b[32m1.3/1.3 MB\u001b[0m \u001b[31m55.5 MB/s\u001b[0m eta \u001b[36m0:00:00\u001b[0m\n",
            "\u001b[?25hRequirement already satisfied: tqdm>=4.27 in /usr/local/lib/python3.10/dist-packages (from transformers) (4.66.1)\n",
            "Requirement already satisfied: fsspec>=2023.5.0 in /usr/local/lib/python3.10/dist-packages (from huggingface-hub<1.0,>=0.16.4->transformers) (2023.6.0)\n",
            "Requirement already satisfied: typing-extensions>=3.7.4.3 in /usr/local/lib/python3.10/dist-packages (from huggingface-hub<1.0,>=0.16.4->transformers) (4.5.0)\n",
            "Collecting huggingface-hub<1.0,>=0.16.4 (from transformers)\n",
            "  Downloading huggingface_hub-0.17.3-py3-none-any.whl (295 kB)\n",
            "\u001b[2K     \u001b[90m━━━━━━━━━━━━━━━━━━━━━━━━━━━━━━━━━━━━━━━━\u001b[0m \u001b[32m295.0/295.0 kB\u001b[0m \u001b[31m21.2 MB/s\u001b[0m eta \u001b[36m0:00:00\u001b[0m\n",
            "\u001b[?25hRequirement already satisfied: charset-normalizer<4,>=2 in /usr/local/lib/python3.10/dist-packages (from requests->transformers) (3.3.0)\n",
            "Requirement already satisfied: idna<4,>=2.5 in /usr/local/lib/python3.10/dist-packages (from requests->transformers) (3.4)\n",
            "Requirement already satisfied: urllib3<3,>=1.21.1 in /usr/local/lib/python3.10/dist-packages (from requests->transformers) (2.0.7)\n",
            "Requirement already satisfied: certifi>=2017.4.17 in /usr/local/lib/python3.10/dist-packages (from requests->transformers) (2023.7.22)\n",
            "Installing collected packages: safetensors, huggingface-hub, tokenizers, transformers\n",
            "Successfully installed huggingface-hub-0.17.3 safetensors-0.4.0 tokenizers-0.14.1 transformers-4.34.1\n"
          ]
        }
      ],
      "source": [
        "!pip install transformers"
      ]
    },
    {
      "cell_type": "code",
      "execution_count": 3,
      "metadata": {
        "id": "iQUNK-OG6onq"
      },
      "outputs": [],
      "source": [
        "import pandas as pd\n",
        "import numpy as np\n",
        "from ast import literal_eval\n",
        "import ast\n",
        "from transformers import BertModel\n",
        "import torch\n",
        "from sklearn.model_selection import train_test_split\n",
        "from sklearn.linear_model import LogisticRegression\n",
        "from sklearn.metrics import accuracy_score, f1_score, confusion_matrix\n",
        "from sklearn.preprocessing import StandardScaler\n",
        "from sklearn.utils import resample\n",
        "import torch.nn as nn\n",
        "import torch.optim as optim\n",
        "import pandas as pd\n",
        "import csv\n",
        "import matplotlib.pyplot as plt\n",
        "import seaborn as sns"
      ]
    },
    {
      "cell_type": "markdown",
      "metadata": {
        "id": "9z5POPN_9BnF"
      },
      "source": [
        "# Step 2: Loading datatset and BERT Model"
      ]
    },
    {
      "cell_type": "code",
      "execution_count": 5,
      "metadata": {
        "colab": {
          "base_uri": "https://localhost:8080/"
        },
        "id": "LoQhUjsGLQ6l",
        "outputId": "3edc28c8-97b2-4154-b24e-932ccfab43d4"
      },
      "outputs": [
        {
          "output_type": "stream",
          "name": "stdout",
          "text": [
            "Mounted at /content/drive\n"
          ]
        }
      ],
      "source": [
        "from google.colab import drive\n",
        "drive.mount('/content/drive')"
      ]
    },
    {
      "cell_type": "code",
      "execution_count": 6,
      "metadata": {
        "id": "-vckz1-a8zIW"
      },
      "outputs": [],
      "source": [
        "# Read the CSV file with specified options\n",
        "df = pd.read_csv('/content/drive/My Drive/embedding_data/concat_embedding_data.csv')"
      ]
    },
    {
      "cell_type": "code",
      "execution_count": 7,
      "metadata": {
        "colab": {
          "base_uri": "https://localhost:8080/",
          "height": 590
        },
        "id": "CdNkZJnWbmn_",
        "outputId": "d0287a56-415d-4131-eb17-0f51518cd9b5"
      },
      "outputs": [
        {
          "output_type": "execute_result",
          "data": {
            "text/plain": [
              "   Unnamed: 0.2  Unnamed: 0.1  Unnamed: 0  \\\n",
              "0             0          45.0          45   \n",
              "1             1          49.0          49   \n",
              "2             2          63.0          63   \n",
              "3             3          65.0          65   \n",
              "4             4          72.0          72   \n",
              "\n",
              "                                        Sentence_row  Word_count  \\\n",
              "0  Celebration Shooting Turns Wedding Into a Fune...        82.0   \n",
              "1  Celebration Shooting Turns Wedding Into a Fune...        82.0   \n",
              "2  Celebration Shooting Turns Wedding Into a Fune...        82.0   \n",
              "3  Celebration Shooting Turns Wedding Into a Fune...        82.0   \n",
              "4  Celebration Shooting Turns Wedding Into a Fune...        82.0   \n",
              "\n",
              "                                            Sentence  Sentence_no  \\\n",
              "0  ('Celebration', 'Shooting', 'Turns', 'Wedding'...            0   \n",
              "1  ('Celebration', 'Shooting', 'Turns', 'Wedding'...            0   \n",
              "2  ('Celebration', 'Shooting', 'Turns', 'Wedding'...            0   \n",
              "3  ('Celebration', 'Shooting', 'Turns', 'Wedding'...            0   \n",
              "4  ('Celebration', 'Shooting', 'Turns', 'Wedding'...            0   \n",
              "\n",
              "          Word   POS  end_labels                       subword  word_index  \\\n",
              "0  celebrators  NOUN         1.0  ['##ele', '##bra', '##tors']        59.0   \n",
              "1          his  PRON         1.0                           NaN        66.0   \n",
              "2        groom  NOUN         1.0                           NaN        80.0   \n",
              "3      brother  NOUN         1.0                           NaN        83.0   \n",
              "4          his  PRON         1.0                           NaN        90.0   \n",
              "\n",
              "                              contextualized_vectors  \n",
              "0  [0.2368014007806778, 0.7057396173477173, 0.346...  \n",
              "1  [0.24929562211036682, 0.24487225711345673, 0.0...  \n",
              "2  [-0.3184204399585724, -0.004366732202470303, -...  \n",
              "3  [0.19683706760406494, 0.23691487312316895, -0....  \n",
              "4  [-0.11486530303955078, 0.16750510036945343, 0....  "
            ],
            "text/html": [
              "\n",
              "  <div id=\"df-98229d81-3bf2-44bb-899a-5b9c8acd5989\" class=\"colab-df-container\">\n",
              "    <div>\n",
              "<style scoped>\n",
              "    .dataframe tbody tr th:only-of-type {\n",
              "        vertical-align: middle;\n",
              "    }\n",
              "\n",
              "    .dataframe tbody tr th {\n",
              "        vertical-align: top;\n",
              "    }\n",
              "\n",
              "    .dataframe thead th {\n",
              "        text-align: right;\n",
              "    }\n",
              "</style>\n",
              "<table border=\"1\" class=\"dataframe\">\n",
              "  <thead>\n",
              "    <tr style=\"text-align: right;\">\n",
              "      <th></th>\n",
              "      <th>Unnamed: 0.2</th>\n",
              "      <th>Unnamed: 0.1</th>\n",
              "      <th>Unnamed: 0</th>\n",
              "      <th>Sentence_row</th>\n",
              "      <th>Word_count</th>\n",
              "      <th>Sentence</th>\n",
              "      <th>Sentence_no</th>\n",
              "      <th>Word</th>\n",
              "      <th>POS</th>\n",
              "      <th>end_labels</th>\n",
              "      <th>subword</th>\n",
              "      <th>word_index</th>\n",
              "      <th>contextualized_vectors</th>\n",
              "    </tr>\n",
              "  </thead>\n",
              "  <tbody>\n",
              "    <tr>\n",
              "      <th>0</th>\n",
              "      <td>0</td>\n",
              "      <td>45.0</td>\n",
              "      <td>45</td>\n",
              "      <td>Celebration Shooting Turns Wedding Into a Fune...</td>\n",
              "      <td>82.0</td>\n",
              "      <td>('Celebration', 'Shooting', 'Turns', 'Wedding'...</td>\n",
              "      <td>0</td>\n",
              "      <td>celebrators</td>\n",
              "      <td>NOUN</td>\n",
              "      <td>1.0</td>\n",
              "      <td>['##ele', '##bra', '##tors']</td>\n",
              "      <td>59.0</td>\n",
              "      <td>[0.2368014007806778, 0.7057396173477173, 0.346...</td>\n",
              "    </tr>\n",
              "    <tr>\n",
              "      <th>1</th>\n",
              "      <td>1</td>\n",
              "      <td>49.0</td>\n",
              "      <td>49</td>\n",
              "      <td>Celebration Shooting Turns Wedding Into a Fune...</td>\n",
              "      <td>82.0</td>\n",
              "      <td>('Celebration', 'Shooting', 'Turns', 'Wedding'...</td>\n",
              "      <td>0</td>\n",
              "      <td>his</td>\n",
              "      <td>PRON</td>\n",
              "      <td>1.0</td>\n",
              "      <td>NaN</td>\n",
              "      <td>66.0</td>\n",
              "      <td>[0.24929562211036682, 0.24487225711345673, 0.0...</td>\n",
              "    </tr>\n",
              "    <tr>\n",
              "      <th>2</th>\n",
              "      <td>2</td>\n",
              "      <td>63.0</td>\n",
              "      <td>63</td>\n",
              "      <td>Celebration Shooting Turns Wedding Into a Fune...</td>\n",
              "      <td>82.0</td>\n",
              "      <td>('Celebration', 'Shooting', 'Turns', 'Wedding'...</td>\n",
              "      <td>0</td>\n",
              "      <td>groom</td>\n",
              "      <td>NOUN</td>\n",
              "      <td>1.0</td>\n",
              "      <td>NaN</td>\n",
              "      <td>80.0</td>\n",
              "      <td>[-0.3184204399585724, -0.004366732202470303, -...</td>\n",
              "    </tr>\n",
              "    <tr>\n",
              "      <th>3</th>\n",
              "      <td>3</td>\n",
              "      <td>65.0</td>\n",
              "      <td>65</td>\n",
              "      <td>Celebration Shooting Turns Wedding Into a Fune...</td>\n",
              "      <td>82.0</td>\n",
              "      <td>('Celebration', 'Shooting', 'Turns', 'Wedding'...</td>\n",
              "      <td>0</td>\n",
              "      <td>brother</td>\n",
              "      <td>NOUN</td>\n",
              "      <td>1.0</td>\n",
              "      <td>NaN</td>\n",
              "      <td>83.0</td>\n",
              "      <td>[0.19683706760406494, 0.23691487312316895, -0....</td>\n",
              "    </tr>\n",
              "    <tr>\n",
              "      <th>4</th>\n",
              "      <td>4</td>\n",
              "      <td>72.0</td>\n",
              "      <td>72</td>\n",
              "      <td>Celebration Shooting Turns Wedding Into a Fune...</td>\n",
              "      <td>82.0</td>\n",
              "      <td>('Celebration', 'Shooting', 'Turns', 'Wedding'...</td>\n",
              "      <td>0</td>\n",
              "      <td>his</td>\n",
              "      <td>PRON</td>\n",
              "      <td>1.0</td>\n",
              "      <td>NaN</td>\n",
              "      <td>90.0</td>\n",
              "      <td>[-0.11486530303955078, 0.16750510036945343, 0....</td>\n",
              "    </tr>\n",
              "  </tbody>\n",
              "</table>\n",
              "</div>\n",
              "    <div class=\"colab-df-buttons\">\n",
              "\n",
              "  <div class=\"colab-df-container\">\n",
              "    <button class=\"colab-df-convert\" onclick=\"convertToInteractive('df-98229d81-3bf2-44bb-899a-5b9c8acd5989')\"\n",
              "            title=\"Convert this dataframe to an interactive table.\"\n",
              "            style=\"display:none;\">\n",
              "\n",
              "  <svg xmlns=\"http://www.w3.org/2000/svg\" height=\"24px\" viewBox=\"0 -960 960 960\">\n",
              "    <path d=\"M120-120v-720h720v720H120Zm60-500h600v-160H180v160Zm220 220h160v-160H400v160Zm0 220h160v-160H400v160ZM180-400h160v-160H180v160Zm440 0h160v-160H620v160ZM180-180h160v-160H180v160Zm440 0h160v-160H620v160Z\"/>\n",
              "  </svg>\n",
              "    </button>\n",
              "\n",
              "  <style>\n",
              "    .colab-df-container {\n",
              "      display:flex;\n",
              "      gap: 12px;\n",
              "    }\n",
              "\n",
              "    .colab-df-convert {\n",
              "      background-color: #E8F0FE;\n",
              "      border: none;\n",
              "      border-radius: 50%;\n",
              "      cursor: pointer;\n",
              "      display: none;\n",
              "      fill: #1967D2;\n",
              "      height: 32px;\n",
              "      padding: 0 0 0 0;\n",
              "      width: 32px;\n",
              "    }\n",
              "\n",
              "    .colab-df-convert:hover {\n",
              "      background-color: #E2EBFA;\n",
              "      box-shadow: 0px 1px 2px rgba(60, 64, 67, 0.3), 0px 1px 3px 1px rgba(60, 64, 67, 0.15);\n",
              "      fill: #174EA6;\n",
              "    }\n",
              "\n",
              "    .colab-df-buttons div {\n",
              "      margin-bottom: 4px;\n",
              "    }\n",
              "\n",
              "    [theme=dark] .colab-df-convert {\n",
              "      background-color: #3B4455;\n",
              "      fill: #D2E3FC;\n",
              "    }\n",
              "\n",
              "    [theme=dark] .colab-df-convert:hover {\n",
              "      background-color: #434B5C;\n",
              "      box-shadow: 0px 1px 3px 1px rgba(0, 0, 0, 0.15);\n",
              "      filter: drop-shadow(0px 1px 2px rgba(0, 0, 0, 0.3));\n",
              "      fill: #FFFFFF;\n",
              "    }\n",
              "  </style>\n",
              "\n",
              "    <script>\n",
              "      const buttonEl =\n",
              "        document.querySelector('#df-98229d81-3bf2-44bb-899a-5b9c8acd5989 button.colab-df-convert');\n",
              "      buttonEl.style.display =\n",
              "        google.colab.kernel.accessAllowed ? 'block' : 'none';\n",
              "\n",
              "      async function convertToInteractive(key) {\n",
              "        const element = document.querySelector('#df-98229d81-3bf2-44bb-899a-5b9c8acd5989');\n",
              "        const dataTable =\n",
              "          await google.colab.kernel.invokeFunction('convertToInteractive',\n",
              "                                                    [key], {});\n",
              "        if (!dataTable) return;\n",
              "\n",
              "        const docLinkHtml = 'Like what you see? Visit the ' +\n",
              "          '<a target=\"_blank\" href=https://colab.research.google.com/notebooks/data_table.ipynb>data table notebook</a>'\n",
              "          + ' to learn more about interactive tables.';\n",
              "        element.innerHTML = '';\n",
              "        dataTable['output_type'] = 'display_data';\n",
              "        await google.colab.output.renderOutput(dataTable, element);\n",
              "        const docLink = document.createElement('div');\n",
              "        docLink.innerHTML = docLinkHtml;\n",
              "        element.appendChild(docLink);\n",
              "      }\n",
              "    </script>\n",
              "  </div>\n",
              "\n",
              "\n",
              "<div id=\"df-063b57ca-0d4a-4974-8dfc-421b81f0be8c\">\n",
              "  <button class=\"colab-df-quickchart\" onclick=\"quickchart('df-063b57ca-0d4a-4974-8dfc-421b81f0be8c')\"\n",
              "            title=\"Suggest charts.\"\n",
              "            style=\"display:none;\">\n",
              "\n",
              "<svg xmlns=\"http://www.w3.org/2000/svg\" height=\"24px\"viewBox=\"0 0 24 24\"\n",
              "     width=\"24px\">\n",
              "    <g>\n",
              "        <path d=\"M19 3H5c-1.1 0-2 .9-2 2v14c0 1.1.9 2 2 2h14c1.1 0 2-.9 2-2V5c0-1.1-.9-2-2-2zM9 17H7v-7h2v7zm4 0h-2V7h2v10zm4 0h-2v-4h2v4z\"/>\n",
              "    </g>\n",
              "</svg>\n",
              "  </button>\n",
              "\n",
              "<style>\n",
              "  .colab-df-quickchart {\n",
              "      --bg-color: #E8F0FE;\n",
              "      --fill-color: #1967D2;\n",
              "      --hover-bg-color: #E2EBFA;\n",
              "      --hover-fill-color: #174EA6;\n",
              "      --disabled-fill-color: #AAA;\n",
              "      --disabled-bg-color: #DDD;\n",
              "  }\n",
              "\n",
              "  [theme=dark] .colab-df-quickchart {\n",
              "      --bg-color: #3B4455;\n",
              "      --fill-color: #D2E3FC;\n",
              "      --hover-bg-color: #434B5C;\n",
              "      --hover-fill-color: #FFFFFF;\n",
              "      --disabled-bg-color: #3B4455;\n",
              "      --disabled-fill-color: #666;\n",
              "  }\n",
              "\n",
              "  .colab-df-quickchart {\n",
              "    background-color: var(--bg-color);\n",
              "    border: none;\n",
              "    border-radius: 50%;\n",
              "    cursor: pointer;\n",
              "    display: none;\n",
              "    fill: var(--fill-color);\n",
              "    height: 32px;\n",
              "    padding: 0;\n",
              "    width: 32px;\n",
              "  }\n",
              "\n",
              "  .colab-df-quickchart:hover {\n",
              "    background-color: var(--hover-bg-color);\n",
              "    box-shadow: 0 1px 2px rgba(60, 64, 67, 0.3), 0 1px 3px 1px rgba(60, 64, 67, 0.15);\n",
              "    fill: var(--button-hover-fill-color);\n",
              "  }\n",
              "\n",
              "  .colab-df-quickchart-complete:disabled,\n",
              "  .colab-df-quickchart-complete:disabled:hover {\n",
              "    background-color: var(--disabled-bg-color);\n",
              "    fill: var(--disabled-fill-color);\n",
              "    box-shadow: none;\n",
              "  }\n",
              "\n",
              "  .colab-df-spinner {\n",
              "    border: 2px solid var(--fill-color);\n",
              "    border-color: transparent;\n",
              "    border-bottom-color: var(--fill-color);\n",
              "    animation:\n",
              "      spin 1s steps(1) infinite;\n",
              "  }\n",
              "\n",
              "  @keyframes spin {\n",
              "    0% {\n",
              "      border-color: transparent;\n",
              "      border-bottom-color: var(--fill-color);\n",
              "      border-left-color: var(--fill-color);\n",
              "    }\n",
              "    20% {\n",
              "      border-color: transparent;\n",
              "      border-left-color: var(--fill-color);\n",
              "      border-top-color: var(--fill-color);\n",
              "    }\n",
              "    30% {\n",
              "      border-color: transparent;\n",
              "      border-left-color: var(--fill-color);\n",
              "      border-top-color: var(--fill-color);\n",
              "      border-right-color: var(--fill-color);\n",
              "    }\n",
              "    40% {\n",
              "      border-color: transparent;\n",
              "      border-right-color: var(--fill-color);\n",
              "      border-top-color: var(--fill-color);\n",
              "    }\n",
              "    60% {\n",
              "      border-color: transparent;\n",
              "      border-right-color: var(--fill-color);\n",
              "    }\n",
              "    80% {\n",
              "      border-color: transparent;\n",
              "      border-right-color: var(--fill-color);\n",
              "      border-bottom-color: var(--fill-color);\n",
              "    }\n",
              "    90% {\n",
              "      border-color: transparent;\n",
              "      border-bottom-color: var(--fill-color);\n",
              "    }\n",
              "  }\n",
              "</style>\n",
              "\n",
              "  <script>\n",
              "    async function quickchart(key) {\n",
              "      const quickchartButtonEl =\n",
              "        document.querySelector('#' + key + ' button');\n",
              "      quickchartButtonEl.disabled = true;  // To prevent multiple clicks.\n",
              "      quickchartButtonEl.classList.add('colab-df-spinner');\n",
              "      try {\n",
              "        const charts = await google.colab.kernel.invokeFunction(\n",
              "            'suggestCharts', [key], {});\n",
              "      } catch (error) {\n",
              "        console.error('Error during call to suggestCharts:', error);\n",
              "      }\n",
              "      quickchartButtonEl.classList.remove('colab-df-spinner');\n",
              "      quickchartButtonEl.classList.add('colab-df-quickchart-complete');\n",
              "    }\n",
              "    (() => {\n",
              "      let quickchartButtonEl =\n",
              "        document.querySelector('#df-063b57ca-0d4a-4974-8dfc-421b81f0be8c button');\n",
              "      quickchartButtonEl.style.display =\n",
              "        google.colab.kernel.accessAllowed ? 'block' : 'none';\n",
              "    })();\n",
              "  </script>\n",
              "</div>\n",
              "    </div>\n",
              "  </div>\n"
            ]
          },
          "metadata": {},
          "execution_count": 7
        }
      ],
      "source": [
        "df.head()"
      ]
    },
    {
      "cell_type": "code",
      "execution_count": 8,
      "metadata": {
        "colab": {
          "base_uri": "https://localhost:8080/",
          "height": 81,
          "referenced_widgets": [
            "8c8e3f86219a4caa9a547f57f6d5d79e",
            "819413e45cdc42aeb1f067570b1b0c6d",
            "d90a7d5a8f3945eea70385146554a9f7",
            "46979985a97f437db5e88f2186ba87bd",
            "19bfddab3d864daba8942feac8ba1af7",
            "f30c07d9554d45c28c8cc7a80a143509",
            "0f8fc684934a4009acb7a37c2ac937cf",
            "38e5ddb3f0eb4fc1a1c6f11b34e4a36d",
            "2609b120ac9543acac8854d4390dc0c2",
            "f9c51bcf7e50421fa81113368b2c91c3",
            "0f3f4960da5b41c69286e1b9609bc664",
            "745f994a81b94d93837eb998a8ed4e8d",
            "67f406c14b054bcbadc2a8877b33e4a9",
            "62a9b2eaeb1c4e6eb93ccff4d5a7f6f8",
            "0d29ccf8b4e94d55a820c36189fc393f",
            "dab0fb6075894f8e9d5fff3a9795d294",
            "350311b7671948fe86664134080f90bc",
            "976aaf54fdb94b54921eee8ab517d353",
            "724920e2d0a54f78baa30e2d7135299f",
            "ec5627fb95944deda6d0b48ffaa39c30",
            "0613a31ef77a4f898fddb6a35f90e35b",
            "8710bedfeadb4eabb8af498aedae6b48"
          ]
        },
        "id": "5p-7t4O50XVG",
        "outputId": "154168fd-622e-4d0d-c1de-80673457c744"
      },
      "outputs": [
        {
          "output_type": "display_data",
          "data": {
            "text/plain": [
              "Downloading (…)lve/main/config.json:   0%|          | 0.00/570 [00:00<?, ?B/s]"
            ],
            "application/vnd.jupyter.widget-view+json": {
              "version_major": 2,
              "version_minor": 0,
              "model_id": "8c8e3f86219a4caa9a547f57f6d5d79e"
            }
          },
          "metadata": {}
        },
        {
          "output_type": "display_data",
          "data": {
            "text/plain": [
              "Downloading model.safetensors:   0%|          | 0.00/436M [00:00<?, ?B/s]"
            ],
            "application/vnd.jupyter.widget-view+json": {
              "version_major": 2,
              "version_minor": 0,
              "model_id": "745f994a81b94d93837eb998a8ed4e8d"
            }
          },
          "metadata": {}
        }
      ],
      "source": [
        "model_ckpt = \"bert-base-cased\"\n",
        "model = BertModel.from_pretrained(model_ckpt)"
      ]
    },
    {
      "cell_type": "code",
      "source": [
        "df.shape"
      ],
      "metadata": {
        "id": "z27d_KQKdCEW",
        "outputId": "82d0e348-7649-428e-dfc7-d5f9c51bc61c",
        "colab": {
          "base_uri": "https://localhost:8080/"
        }
      },
      "execution_count": 9,
      "outputs": [
        {
          "output_type": "execute_result",
          "data": {
            "text/plain": [
              "(20719, 13)"
            ]
          },
          "metadata": {},
          "execution_count": 9
        }
      ]
    },
    {
      "cell_type": "code",
      "execution_count": 11,
      "metadata": {
        "colab": {
          "base_uri": "https://localhost:8080/"
        },
        "id": "DAVig7-Hvm26",
        "outputId": "bbf5d8fc-72b2-4013-f106-2d8a2b5689d6"
      },
      "outputs": [
        {
          "output_type": "execute_result",
          "data": {
            "text/plain": [
              "Unnamed: 0.2                  0\n",
              "Unnamed: 0.1              16691\n",
              "Unnamed: 0                    0\n",
              "Sentence_row                  0\n",
              "Word_count                    0\n",
              "Sentence                      0\n",
              "Sentence_no                   0\n",
              "Word                          0\n",
              "POS                           0\n",
              "end_labels                    0\n",
              "subword                   20154\n",
              "word_index                    0\n",
              "contextualized_vectors        0\n",
              "dtype: int64"
            ]
          },
          "metadata": {},
          "execution_count": 11
        }
      ],
      "source": [
        "df.isnull().sum()"
      ]
    },
    {
      "cell_type": "code",
      "execution_count": 12,
      "metadata": {
        "colab": {
          "base_uri": "https://localhost:8080/",
          "height": 379
        },
        "id": "HgcnYHvGcpiZ",
        "outputId": "442a26ce-c714-403f-e121-c20d75e60ba6"
      },
      "outputs": [
        {
          "output_type": "execute_result",
          "data": {
            "text/plain": [
              "                                        Sentence_row  Word_count  \\\n",
              "0  Celebration Shooting Turns Wedding Into a Fune...        82.0   \n",
              "1  Celebration Shooting Turns Wedding Into a Fune...        82.0   \n",
              "2  Celebration Shooting Turns Wedding Into a Fune...        82.0   \n",
              "3  Celebration Shooting Turns Wedding Into a Fune...        82.0   \n",
              "4  Celebration Shooting Turns Wedding Into a Fune...        82.0   \n",
              "\n",
              "                                            Sentence  Sentence_no  \\\n",
              "0  ('Celebration', 'Shooting', 'Turns', 'Wedding'...            0   \n",
              "1  ('Celebration', 'Shooting', 'Turns', 'Wedding'...            0   \n",
              "2  ('Celebration', 'Shooting', 'Turns', 'Wedding'...            0   \n",
              "3  ('Celebration', 'Shooting', 'Turns', 'Wedding'...            0   \n",
              "4  ('Celebration', 'Shooting', 'Turns', 'Wedding'...            0   \n",
              "\n",
              "          Word   POS  end_labels                       subword  word_index  \\\n",
              "0  celebrators  NOUN         1.0  ['##ele', '##bra', '##tors']        59.0   \n",
              "1          his  PRON         1.0                           NaN        66.0   \n",
              "2        groom  NOUN         1.0                           NaN        80.0   \n",
              "3      brother  NOUN         1.0                           NaN        83.0   \n",
              "4          his  PRON         1.0                           NaN        90.0   \n",
              "\n",
              "                              contextualized_vectors  \n",
              "0  [0.2368014007806778, 0.7057396173477173, 0.346...  \n",
              "1  [0.24929562211036682, 0.24487225711345673, 0.0...  \n",
              "2  [-0.3184204399585724, -0.004366732202470303, -...  \n",
              "3  [0.19683706760406494, 0.23691487312316895, -0....  \n",
              "4  [-0.11486530303955078, 0.16750510036945343, 0....  "
            ],
            "text/html": [
              "\n",
              "  <div id=\"df-1cecc890-b99c-4e96-bb84-5e930db9e70f\" class=\"colab-df-container\">\n",
              "    <div>\n",
              "<style scoped>\n",
              "    .dataframe tbody tr th:only-of-type {\n",
              "        vertical-align: middle;\n",
              "    }\n",
              "\n",
              "    .dataframe tbody tr th {\n",
              "        vertical-align: top;\n",
              "    }\n",
              "\n",
              "    .dataframe thead th {\n",
              "        text-align: right;\n",
              "    }\n",
              "</style>\n",
              "<table border=\"1\" class=\"dataframe\">\n",
              "  <thead>\n",
              "    <tr style=\"text-align: right;\">\n",
              "      <th></th>\n",
              "      <th>Sentence_row</th>\n",
              "      <th>Word_count</th>\n",
              "      <th>Sentence</th>\n",
              "      <th>Sentence_no</th>\n",
              "      <th>Word</th>\n",
              "      <th>POS</th>\n",
              "      <th>end_labels</th>\n",
              "      <th>subword</th>\n",
              "      <th>word_index</th>\n",
              "      <th>contextualized_vectors</th>\n",
              "    </tr>\n",
              "  </thead>\n",
              "  <tbody>\n",
              "    <tr>\n",
              "      <th>0</th>\n",
              "      <td>Celebration Shooting Turns Wedding Into a Fune...</td>\n",
              "      <td>82.0</td>\n",
              "      <td>('Celebration', 'Shooting', 'Turns', 'Wedding'...</td>\n",
              "      <td>0</td>\n",
              "      <td>celebrators</td>\n",
              "      <td>NOUN</td>\n",
              "      <td>1.0</td>\n",
              "      <td>['##ele', '##bra', '##tors']</td>\n",
              "      <td>59.0</td>\n",
              "      <td>[0.2368014007806778, 0.7057396173477173, 0.346...</td>\n",
              "    </tr>\n",
              "    <tr>\n",
              "      <th>1</th>\n",
              "      <td>Celebration Shooting Turns Wedding Into a Fune...</td>\n",
              "      <td>82.0</td>\n",
              "      <td>('Celebration', 'Shooting', 'Turns', 'Wedding'...</td>\n",
              "      <td>0</td>\n",
              "      <td>his</td>\n",
              "      <td>PRON</td>\n",
              "      <td>1.0</td>\n",
              "      <td>NaN</td>\n",
              "      <td>66.0</td>\n",
              "      <td>[0.24929562211036682, 0.24487225711345673, 0.0...</td>\n",
              "    </tr>\n",
              "    <tr>\n",
              "      <th>2</th>\n",
              "      <td>Celebration Shooting Turns Wedding Into a Fune...</td>\n",
              "      <td>82.0</td>\n",
              "      <td>('Celebration', 'Shooting', 'Turns', 'Wedding'...</td>\n",
              "      <td>0</td>\n",
              "      <td>groom</td>\n",
              "      <td>NOUN</td>\n",
              "      <td>1.0</td>\n",
              "      <td>NaN</td>\n",
              "      <td>80.0</td>\n",
              "      <td>[-0.3184204399585724, -0.004366732202470303, -...</td>\n",
              "    </tr>\n",
              "    <tr>\n",
              "      <th>3</th>\n",
              "      <td>Celebration Shooting Turns Wedding Into a Fune...</td>\n",
              "      <td>82.0</td>\n",
              "      <td>('Celebration', 'Shooting', 'Turns', 'Wedding'...</td>\n",
              "      <td>0</td>\n",
              "      <td>brother</td>\n",
              "      <td>NOUN</td>\n",
              "      <td>1.0</td>\n",
              "      <td>NaN</td>\n",
              "      <td>83.0</td>\n",
              "      <td>[0.19683706760406494, 0.23691487312316895, -0....</td>\n",
              "    </tr>\n",
              "    <tr>\n",
              "      <th>4</th>\n",
              "      <td>Celebration Shooting Turns Wedding Into a Fune...</td>\n",
              "      <td>82.0</td>\n",
              "      <td>('Celebration', 'Shooting', 'Turns', 'Wedding'...</td>\n",
              "      <td>0</td>\n",
              "      <td>his</td>\n",
              "      <td>PRON</td>\n",
              "      <td>1.0</td>\n",
              "      <td>NaN</td>\n",
              "      <td>90.0</td>\n",
              "      <td>[-0.11486530303955078, 0.16750510036945343, 0....</td>\n",
              "    </tr>\n",
              "  </tbody>\n",
              "</table>\n",
              "</div>\n",
              "    <div class=\"colab-df-buttons\">\n",
              "\n",
              "  <div class=\"colab-df-container\">\n",
              "    <button class=\"colab-df-convert\" onclick=\"convertToInteractive('df-1cecc890-b99c-4e96-bb84-5e930db9e70f')\"\n",
              "            title=\"Convert this dataframe to an interactive table.\"\n",
              "            style=\"display:none;\">\n",
              "\n",
              "  <svg xmlns=\"http://www.w3.org/2000/svg\" height=\"24px\" viewBox=\"0 -960 960 960\">\n",
              "    <path d=\"M120-120v-720h720v720H120Zm60-500h600v-160H180v160Zm220 220h160v-160H400v160Zm0 220h160v-160H400v160ZM180-400h160v-160H180v160Zm440 0h160v-160H620v160ZM180-180h160v-160H180v160Zm440 0h160v-160H620v160Z\"/>\n",
              "  </svg>\n",
              "    </button>\n",
              "\n",
              "  <style>\n",
              "    .colab-df-container {\n",
              "      display:flex;\n",
              "      gap: 12px;\n",
              "    }\n",
              "\n",
              "    .colab-df-convert {\n",
              "      background-color: #E8F0FE;\n",
              "      border: none;\n",
              "      border-radius: 50%;\n",
              "      cursor: pointer;\n",
              "      display: none;\n",
              "      fill: #1967D2;\n",
              "      height: 32px;\n",
              "      padding: 0 0 0 0;\n",
              "      width: 32px;\n",
              "    }\n",
              "\n",
              "    .colab-df-convert:hover {\n",
              "      background-color: #E2EBFA;\n",
              "      box-shadow: 0px 1px 2px rgba(60, 64, 67, 0.3), 0px 1px 3px 1px rgba(60, 64, 67, 0.15);\n",
              "      fill: #174EA6;\n",
              "    }\n",
              "\n",
              "    .colab-df-buttons div {\n",
              "      margin-bottom: 4px;\n",
              "    }\n",
              "\n",
              "    [theme=dark] .colab-df-convert {\n",
              "      background-color: #3B4455;\n",
              "      fill: #D2E3FC;\n",
              "    }\n",
              "\n",
              "    [theme=dark] .colab-df-convert:hover {\n",
              "      background-color: #434B5C;\n",
              "      box-shadow: 0px 1px 3px 1px rgba(0, 0, 0, 0.15);\n",
              "      filter: drop-shadow(0px 1px 2px rgba(0, 0, 0, 0.3));\n",
              "      fill: #FFFFFF;\n",
              "    }\n",
              "  </style>\n",
              "\n",
              "    <script>\n",
              "      const buttonEl =\n",
              "        document.querySelector('#df-1cecc890-b99c-4e96-bb84-5e930db9e70f button.colab-df-convert');\n",
              "      buttonEl.style.display =\n",
              "        google.colab.kernel.accessAllowed ? 'block' : 'none';\n",
              "\n",
              "      async function convertToInteractive(key) {\n",
              "        const element = document.querySelector('#df-1cecc890-b99c-4e96-bb84-5e930db9e70f');\n",
              "        const dataTable =\n",
              "          await google.colab.kernel.invokeFunction('convertToInteractive',\n",
              "                                                    [key], {});\n",
              "        if (!dataTable) return;\n",
              "\n",
              "        const docLinkHtml = 'Like what you see? Visit the ' +\n",
              "          '<a target=\"_blank\" href=https://colab.research.google.com/notebooks/data_table.ipynb>data table notebook</a>'\n",
              "          + ' to learn more about interactive tables.';\n",
              "        element.innerHTML = '';\n",
              "        dataTable['output_type'] = 'display_data';\n",
              "        await google.colab.output.renderOutput(dataTable, element);\n",
              "        const docLink = document.createElement('div');\n",
              "        docLink.innerHTML = docLinkHtml;\n",
              "        element.appendChild(docLink);\n",
              "      }\n",
              "    </script>\n",
              "  </div>\n",
              "\n",
              "\n",
              "<div id=\"df-d2c613a9-0b73-4b53-9949-5f0b5ffc9cad\">\n",
              "  <button class=\"colab-df-quickchart\" onclick=\"quickchart('df-d2c613a9-0b73-4b53-9949-5f0b5ffc9cad')\"\n",
              "            title=\"Suggest charts.\"\n",
              "            style=\"display:none;\">\n",
              "\n",
              "<svg xmlns=\"http://www.w3.org/2000/svg\" height=\"24px\"viewBox=\"0 0 24 24\"\n",
              "     width=\"24px\">\n",
              "    <g>\n",
              "        <path d=\"M19 3H5c-1.1 0-2 .9-2 2v14c0 1.1.9 2 2 2h14c1.1 0 2-.9 2-2V5c0-1.1-.9-2-2-2zM9 17H7v-7h2v7zm4 0h-2V7h2v10zm4 0h-2v-4h2v4z\"/>\n",
              "    </g>\n",
              "</svg>\n",
              "  </button>\n",
              "\n",
              "<style>\n",
              "  .colab-df-quickchart {\n",
              "      --bg-color: #E8F0FE;\n",
              "      --fill-color: #1967D2;\n",
              "      --hover-bg-color: #E2EBFA;\n",
              "      --hover-fill-color: #174EA6;\n",
              "      --disabled-fill-color: #AAA;\n",
              "      --disabled-bg-color: #DDD;\n",
              "  }\n",
              "\n",
              "  [theme=dark] .colab-df-quickchart {\n",
              "      --bg-color: #3B4455;\n",
              "      --fill-color: #D2E3FC;\n",
              "      --hover-bg-color: #434B5C;\n",
              "      --hover-fill-color: #FFFFFF;\n",
              "      --disabled-bg-color: #3B4455;\n",
              "      --disabled-fill-color: #666;\n",
              "  }\n",
              "\n",
              "  .colab-df-quickchart {\n",
              "    background-color: var(--bg-color);\n",
              "    border: none;\n",
              "    border-radius: 50%;\n",
              "    cursor: pointer;\n",
              "    display: none;\n",
              "    fill: var(--fill-color);\n",
              "    height: 32px;\n",
              "    padding: 0;\n",
              "    width: 32px;\n",
              "  }\n",
              "\n",
              "  .colab-df-quickchart:hover {\n",
              "    background-color: var(--hover-bg-color);\n",
              "    box-shadow: 0 1px 2px rgba(60, 64, 67, 0.3), 0 1px 3px 1px rgba(60, 64, 67, 0.15);\n",
              "    fill: var(--button-hover-fill-color);\n",
              "  }\n",
              "\n",
              "  .colab-df-quickchart-complete:disabled,\n",
              "  .colab-df-quickchart-complete:disabled:hover {\n",
              "    background-color: var(--disabled-bg-color);\n",
              "    fill: var(--disabled-fill-color);\n",
              "    box-shadow: none;\n",
              "  }\n",
              "\n",
              "  .colab-df-spinner {\n",
              "    border: 2px solid var(--fill-color);\n",
              "    border-color: transparent;\n",
              "    border-bottom-color: var(--fill-color);\n",
              "    animation:\n",
              "      spin 1s steps(1) infinite;\n",
              "  }\n",
              "\n",
              "  @keyframes spin {\n",
              "    0% {\n",
              "      border-color: transparent;\n",
              "      border-bottom-color: var(--fill-color);\n",
              "      border-left-color: var(--fill-color);\n",
              "    }\n",
              "    20% {\n",
              "      border-color: transparent;\n",
              "      border-left-color: var(--fill-color);\n",
              "      border-top-color: var(--fill-color);\n",
              "    }\n",
              "    30% {\n",
              "      border-color: transparent;\n",
              "      border-left-color: var(--fill-color);\n",
              "      border-top-color: var(--fill-color);\n",
              "      border-right-color: var(--fill-color);\n",
              "    }\n",
              "    40% {\n",
              "      border-color: transparent;\n",
              "      border-right-color: var(--fill-color);\n",
              "      border-top-color: var(--fill-color);\n",
              "    }\n",
              "    60% {\n",
              "      border-color: transparent;\n",
              "      border-right-color: var(--fill-color);\n",
              "    }\n",
              "    80% {\n",
              "      border-color: transparent;\n",
              "      border-right-color: var(--fill-color);\n",
              "      border-bottom-color: var(--fill-color);\n",
              "    }\n",
              "    90% {\n",
              "      border-color: transparent;\n",
              "      border-bottom-color: var(--fill-color);\n",
              "    }\n",
              "  }\n",
              "</style>\n",
              "\n",
              "  <script>\n",
              "    async function quickchart(key) {\n",
              "      const quickchartButtonEl =\n",
              "        document.querySelector('#' + key + ' button');\n",
              "      quickchartButtonEl.disabled = true;  // To prevent multiple clicks.\n",
              "      quickchartButtonEl.classList.add('colab-df-spinner');\n",
              "      try {\n",
              "        const charts = await google.colab.kernel.invokeFunction(\n",
              "            'suggestCharts', [key], {});\n",
              "      } catch (error) {\n",
              "        console.error('Error during call to suggestCharts:', error);\n",
              "      }\n",
              "      quickchartButtonEl.classList.remove('colab-df-spinner');\n",
              "      quickchartButtonEl.classList.add('colab-df-quickchart-complete');\n",
              "    }\n",
              "    (() => {\n",
              "      let quickchartButtonEl =\n",
              "        document.querySelector('#df-d2c613a9-0b73-4b53-9949-5f0b5ffc9cad button');\n",
              "      quickchartButtonEl.style.display =\n",
              "        google.colab.kernel.accessAllowed ? 'block' : 'none';\n",
              "    })();\n",
              "  </script>\n",
              "</div>\n",
              "    </div>\n",
              "  </div>\n"
            ]
          },
          "metadata": {},
          "execution_count": 12
        }
      ],
      "source": [
        "df_fin = df.iloc[:,3:] # optional\n",
        "df_fin.head()"
      ]
    },
    {
      "cell_type": "markdown",
      "metadata": {
        "id": "7FcFFjSWdB4M"
      },
      "source": [
        "# Basic Operations"
      ]
    },
    {
      "cell_type": "code",
      "execution_count": 13,
      "metadata": {
        "colab": {
          "base_uri": "https://localhost:8080/"
        },
        "id": "Rg7EFDzSc_C2",
        "outputId": "06a5734b-c0fb-4a77-a8c5-934850108b1b"
      },
      "outputs": [
        {
          "output_type": "execute_result",
          "data": {
            "text/plain": [
              "(20719, 10)"
            ]
          },
          "metadata": {},
          "execution_count": 13
        }
      ],
      "source": [
        "df_fin.shape"
      ]
    },
    {
      "cell_type": "code",
      "execution_count": 14,
      "metadata": {
        "colab": {
          "base_uri": "https://localhost:8080/"
        },
        "id": "rpgohb8rc_F0",
        "outputId": "d5791ae6-2101-4c8f-df9e-511f01ea9cac"
      },
      "outputs": [
        {
          "output_type": "stream",
          "name": "stdout",
          "text": [
            "<class 'pandas.core.frame.DataFrame'>\n",
            "RangeIndex: 20719 entries, 0 to 20718\n",
            "Data columns (total 10 columns):\n",
            " #   Column                  Non-Null Count  Dtype  \n",
            "---  ------                  --------------  -----  \n",
            " 0   Sentence_row            20719 non-null  object \n",
            " 1   Word_count              20719 non-null  float64\n",
            " 2   Sentence                20719 non-null  object \n",
            " 3   Sentence_no             20719 non-null  int64  \n",
            " 4   Word                    20719 non-null  object \n",
            " 5   POS                     20719 non-null  object \n",
            " 6   end_labels              20719 non-null  float64\n",
            " 7   subword                 565 non-null    object \n",
            " 8   word_index              20719 non-null  float64\n",
            " 9   contextualized_vectors  20719 non-null  object \n",
            "dtypes: float64(3), int64(1), object(6)\n",
            "memory usage: 1.6+ MB\n"
          ]
        }
      ],
      "source": [
        "df_fin.info()"
      ]
    },
    {
      "cell_type": "code",
      "execution_count": 15,
      "metadata": {
        "colab": {
          "base_uri": "https://localhost:8080/"
        },
        "id": "DxKhDANbc_Ig",
        "outputId": "28c1c300-6dcd-439d-8e37-bfa79415ae25"
      },
      "outputs": [
        {
          "output_type": "execute_result",
          "data": {
            "text/plain": [
              "Sentence_row                  0\n",
              "Word_count                    0\n",
              "Sentence                      0\n",
              "Sentence_no                   0\n",
              "Word                          0\n",
              "POS                           0\n",
              "end_labels                    0\n",
              "subword                   20154\n",
              "word_index                    0\n",
              "contextualized_vectors        0\n",
              "dtype: int64"
            ]
          },
          "metadata": {},
          "execution_count": 15
        }
      ],
      "source": [
        "df_fin.isnull().sum()"
      ]
    },
    {
      "cell_type": "code",
      "execution_count": null,
      "metadata": {
        "id": "bXHrVoScg9Cu"
      },
      "outputs": [],
      "source": []
    },
    {
      "cell_type": "code",
      "execution_count": null,
      "metadata": {
        "id": "ZYZg6peU9Nu3"
      },
      "outputs": [],
      "source": [
        "# Drop rows with missing data\n",
        "#df_fin = df_fin.dropna(subset=['contextualized_vectors'])"
      ]
    },
    {
      "cell_type": "code",
      "execution_count": null,
      "metadata": {
        "id": "8YdgjBhDd_JH"
      },
      "outputs": [],
      "source": [
        "#df_fin.isnull().sum()"
      ]
    },
    {
      "cell_type": "markdown",
      "metadata": {
        "id": "gYUpK0Npd_x5"
      },
      "source": [
        "# EDA and Preprocessing"
      ]
    },
    {
      "cell_type": "markdown",
      "metadata": {
        "id": "v5IU9NTUeKEX"
      },
      "source": [
        "# Group by a Single Column and Count Frequencies:\n",
        "To count the frequencies of each unique value in a specific column, you can use the groupby method followed by the count() method."
      ]
    },
    {
      "cell_type": "code",
      "execution_count": 16,
      "metadata": {
        "colab": {
          "base_uri": "https://localhost:8080/"
        },
        "id": "vfPhw9OGd_SR",
        "outputId": "176b0dce-579b-41a3-b5d9-f5bbdb07b09a"
      },
      "outputs": [
        {
          "output_type": "execute_result",
          "data": {
            "text/plain": [
              "POS\n",
              "ADJ          3\n",
              "ADP          5\n",
              "DET          3\n",
              "NOUN      8968\n",
              "NUM          2\n",
              "PRON     11707\n",
              "PROPN       18\n",
              "VERB        13\n",
              "Name: Word, dtype: int64"
            ]
          },
          "metadata": {},
          "execution_count": 16
        }
      ],
      "source": [
        "# Example: Count frequencies of each POS tag\n",
        "pos_counts = df_fin.groupby('POS')['Word'].count()\n",
        "pos_counts"
      ]
    },
    {
      "cell_type": "markdown",
      "metadata": {
        "id": "pBcJeaL1eNys"
      },
      "source": [
        "# Group by Multiple Columns and Calculate Summary Statistics:\n",
        "You can group by multiple columns and calculate summary statistics like mean, median, or standard deviation."
      ]
    },
    {
      "cell_type": "code",
      "execution_count": 18,
      "metadata": {
        "colab": {
          "base_uri": "https://localhost:8080/"
        },
        "id": "I9sp3qkoeE0G",
        "outputId": "e1945388-acbd-46bc-a0f7-1f469db60a19"
      },
      "outputs": [
        {
          "output_type": "stream",
          "name": "stdout",
          "text": [
            "POS\n",
            "ADJ      34.333333\n",
            "ADP      12.600000\n",
            "DET       1.000000\n",
            "NOUN     14.695919\n",
            "NUM       5.500000\n",
            "PRON     14.293500\n",
            "PROPN    10.555556\n",
            "VERB     20.000000\n",
            "Name: word_index, dtype: float64\n"
          ]
        }
      ],
      "source": [
        "# Example: Calculate mean wort_index for each POS tag\n",
        "pos_mean = df_fin.groupby('POS')['word_index'].mean()\n",
        "print(pos_mean)\n"
      ]
    },
    {
      "cell_type": "markdown",
      "metadata": {
        "id": "_vzfPQV8ewwE"
      },
      "source": [
        "# Count Unique Values within Groups:\n",
        "You can count unique values within groups using the nunique() method."
      ]
    },
    {
      "cell_type": "code",
      "execution_count": 19,
      "metadata": {
        "colab": {
          "base_uri": "https://localhost:8080/"
        },
        "id": "d_5LKLrcesfA",
        "outputId": "61dbac59-914d-4d8a-fca9-7798cffd07a7"
      },
      "outputs": [
        {
          "output_type": "stream",
          "name": "stdout",
          "text": [
            "POS\n",
            "ADJ         3\n",
            "ADP         1\n",
            "DET         1\n",
            "NOUN     2019\n",
            "NUM         1\n",
            "PRON       59\n",
            "PROPN       9\n",
            "VERB        6\n",
            "Name: Word, dtype: int64\n"
          ]
        }
      ],
      "source": [
        "# Example: Count unique words within each POS group\n",
        "pos_unique_words = df_fin.groupby('POS')['Word'].nunique()\n",
        "print(pos_unique_words)\n"
      ]
    },
    {
      "cell_type": "markdown",
      "metadata": {
        "id": "ywJ6ltQSe6CA"
      },
      "source": [
        "# Group by and Filter Data:\n",
        "You can group by a column and filter data based on group-specific conditions."
      ]
    },
    {
      "cell_type": "code",
      "execution_count": 20,
      "metadata": {
        "colab": {
          "base_uri": "https://localhost:8080/",
          "height": 857
        },
        "id": "X_0zF7qme1uz",
        "outputId": "142dc533-012d-4076-e40b-d3912e0ae3a7"
      },
      "outputs": [
        {
          "output_type": "execute_result",
          "data": {
            "text/plain": [
              "                                            Sentence_row  Word_count  \\\n",
              "0      Celebration Shooting Turns Wedding Into a Fune...        82.0   \n",
              "1      Celebration Shooting Turns Wedding Into a Fune...        82.0   \n",
              "2      Celebration Shooting Turns Wedding Into a Fune...        82.0   \n",
              "3      Celebration Shooting Turns Wedding Into a Fune...        82.0   \n",
              "4      Celebration Shooting Turns Wedding Into a Fune...        82.0   \n",
              "...                                                  ...         ...   \n",
              "20714  270 people died in the 1988 bombing over the S...        13.0   \n",
              "20715  Libya initially refused   to hand over the two...        35.0   \n",
              "20716  Libya initially refused   to hand over the two...        35.0   \n",
              "20717  Opinion polls in Israel show hard - liner Arie...        27.0   \n",
              "20718  Opinion polls in Israel show hard - liner Arie...        27.0   \n",
              "\n",
              "                                                Sentence  Sentence_no  \\\n",
              "0      ('Celebration', 'Shooting', 'Turns', 'Wedding'...            0   \n",
              "1      ('Celebration', 'Shooting', 'Turns', 'Wedding'...            0   \n",
              "2      ('Celebration', 'Shooting', 'Turns', 'Wedding'...            0   \n",
              "3      ('Celebration', 'Shooting', 'Turns', 'Wedding'...            0   \n",
              "4      ('Celebration', 'Shooting', 'Turns', 'Wedding'...            0   \n",
              "...                                                  ...          ...   \n",
              "20714  ('270', 'people', 'died', 'in', 'the', '1988',...       307826   \n",
              "20715  ('Libya', 'initially', 'refused', ' ', 'to', '...       307827   \n",
              "20716  ('Libya', 'initially', 'refused', ' ', 'to', '...       307827   \n",
              "20717  ('Opinion', 'polls', 'in', 'Israel', 'show', '...       307829   \n",
              "20718  ('Opinion', 'polls', 'in', 'Israel', 'show', '...       307829   \n",
              "\n",
              "              Word   POS  end_labels                       subword  \\\n",
              "0      celebrators  NOUN         1.0  ['##ele', '##bra', '##tors']   \n",
              "1              his  PRON         1.0                           NaN   \n",
              "2            groom  NOUN         1.0                           NaN   \n",
              "3          brother  NOUN         1.0                           NaN   \n",
              "4              his  PRON         1.0                           NaN   \n",
              "...            ...   ...         ...                           ...   \n",
              "20714      bombing  NOUN         0.0                           NaN   \n",
              "20715         them  PRON         0.0                           NaN   \n",
              "20716         they  PRON         0.0                           NaN   \n",
              "20717        liner  NOUN         0.0                           NaN   \n",
              "20718          his  PRON         0.0                           NaN   \n",
              "\n",
              "       word_index                             contextualized_vectors  \n",
              "0            59.0  [0.2368014007806778, 0.7057396173477173, 0.346...  \n",
              "1            66.0  [0.24929562211036682, 0.24487225711345673, 0.0...  \n",
              "2            80.0  [-0.3184204399585724, -0.004366732202470303, -...  \n",
              "3            83.0  [0.19683706760406494, 0.23691487312316895, -0....  \n",
              "4            90.0  [-0.11486530303955078, 0.16750510036945343, 0....  \n",
              "...           ...                                                ...  \n",
              "20714         7.0  [0.7685377597808838, 1.115256905555725, -0.038...  \n",
              "20715        13.0  [0.11229103803634644, 0.16903077065944672, -0....  \n",
              "20716        21.0  [0.4275742769241333, 0.07952270656824112, 0.25...  \n",
              "20717        10.0  [0.5175453424453735, -0.12556852400302887, -0....  \n",
              "20718        14.0  [-0.123340904712677, 0.005307200830429792, -0....  \n",
              "\n",
              "[20675 rows x 10 columns]"
            ],
            "text/html": [
              "\n",
              "  <div id=\"df-93cf579e-6814-4b8c-86b0-af3ef519feab\" class=\"colab-df-container\">\n",
              "    <div>\n",
              "<style scoped>\n",
              "    .dataframe tbody tr th:only-of-type {\n",
              "        vertical-align: middle;\n",
              "    }\n",
              "\n",
              "    .dataframe tbody tr th {\n",
              "        vertical-align: top;\n",
              "    }\n",
              "\n",
              "    .dataframe thead th {\n",
              "        text-align: right;\n",
              "    }\n",
              "</style>\n",
              "<table border=\"1\" class=\"dataframe\">\n",
              "  <thead>\n",
              "    <tr style=\"text-align: right;\">\n",
              "      <th></th>\n",
              "      <th>Sentence_row</th>\n",
              "      <th>Word_count</th>\n",
              "      <th>Sentence</th>\n",
              "      <th>Sentence_no</th>\n",
              "      <th>Word</th>\n",
              "      <th>POS</th>\n",
              "      <th>end_labels</th>\n",
              "      <th>subword</th>\n",
              "      <th>word_index</th>\n",
              "      <th>contextualized_vectors</th>\n",
              "    </tr>\n",
              "  </thead>\n",
              "  <tbody>\n",
              "    <tr>\n",
              "      <th>0</th>\n",
              "      <td>Celebration Shooting Turns Wedding Into a Fune...</td>\n",
              "      <td>82.0</td>\n",
              "      <td>('Celebration', 'Shooting', 'Turns', 'Wedding'...</td>\n",
              "      <td>0</td>\n",
              "      <td>celebrators</td>\n",
              "      <td>NOUN</td>\n",
              "      <td>1.0</td>\n",
              "      <td>['##ele', '##bra', '##tors']</td>\n",
              "      <td>59.0</td>\n",
              "      <td>[0.2368014007806778, 0.7057396173477173, 0.346...</td>\n",
              "    </tr>\n",
              "    <tr>\n",
              "      <th>1</th>\n",
              "      <td>Celebration Shooting Turns Wedding Into a Fune...</td>\n",
              "      <td>82.0</td>\n",
              "      <td>('Celebration', 'Shooting', 'Turns', 'Wedding'...</td>\n",
              "      <td>0</td>\n",
              "      <td>his</td>\n",
              "      <td>PRON</td>\n",
              "      <td>1.0</td>\n",
              "      <td>NaN</td>\n",
              "      <td>66.0</td>\n",
              "      <td>[0.24929562211036682, 0.24487225711345673, 0.0...</td>\n",
              "    </tr>\n",
              "    <tr>\n",
              "      <th>2</th>\n",
              "      <td>Celebration Shooting Turns Wedding Into a Fune...</td>\n",
              "      <td>82.0</td>\n",
              "      <td>('Celebration', 'Shooting', 'Turns', 'Wedding'...</td>\n",
              "      <td>0</td>\n",
              "      <td>groom</td>\n",
              "      <td>NOUN</td>\n",
              "      <td>1.0</td>\n",
              "      <td>NaN</td>\n",
              "      <td>80.0</td>\n",
              "      <td>[-0.3184204399585724, -0.004366732202470303, -...</td>\n",
              "    </tr>\n",
              "    <tr>\n",
              "      <th>3</th>\n",
              "      <td>Celebration Shooting Turns Wedding Into a Fune...</td>\n",
              "      <td>82.0</td>\n",
              "      <td>('Celebration', 'Shooting', 'Turns', 'Wedding'...</td>\n",
              "      <td>0</td>\n",
              "      <td>brother</td>\n",
              "      <td>NOUN</td>\n",
              "      <td>1.0</td>\n",
              "      <td>NaN</td>\n",
              "      <td>83.0</td>\n",
              "      <td>[0.19683706760406494, 0.23691487312316895, -0....</td>\n",
              "    </tr>\n",
              "    <tr>\n",
              "      <th>4</th>\n",
              "      <td>Celebration Shooting Turns Wedding Into a Fune...</td>\n",
              "      <td>82.0</td>\n",
              "      <td>('Celebration', 'Shooting', 'Turns', 'Wedding'...</td>\n",
              "      <td>0</td>\n",
              "      <td>his</td>\n",
              "      <td>PRON</td>\n",
              "      <td>1.0</td>\n",
              "      <td>NaN</td>\n",
              "      <td>90.0</td>\n",
              "      <td>[-0.11486530303955078, 0.16750510036945343, 0....</td>\n",
              "    </tr>\n",
              "    <tr>\n",
              "      <th>...</th>\n",
              "      <td>...</td>\n",
              "      <td>...</td>\n",
              "      <td>...</td>\n",
              "      <td>...</td>\n",
              "      <td>...</td>\n",
              "      <td>...</td>\n",
              "      <td>...</td>\n",
              "      <td>...</td>\n",
              "      <td>...</td>\n",
              "      <td>...</td>\n",
              "    </tr>\n",
              "    <tr>\n",
              "      <th>20714</th>\n",
              "      <td>270 people died in the 1988 bombing over the S...</td>\n",
              "      <td>13.0</td>\n",
              "      <td>('270', 'people', 'died', 'in', 'the', '1988',...</td>\n",
              "      <td>307826</td>\n",
              "      <td>bombing</td>\n",
              "      <td>NOUN</td>\n",
              "      <td>0.0</td>\n",
              "      <td>NaN</td>\n",
              "      <td>7.0</td>\n",
              "      <td>[0.7685377597808838, 1.115256905555725, -0.038...</td>\n",
              "    </tr>\n",
              "    <tr>\n",
              "      <th>20715</th>\n",
              "      <td>Libya initially refused   to hand over the two...</td>\n",
              "      <td>35.0</td>\n",
              "      <td>('Libya', 'initially', 'refused', ' ', 'to', '...</td>\n",
              "      <td>307827</td>\n",
              "      <td>them</td>\n",
              "      <td>PRON</td>\n",
              "      <td>0.0</td>\n",
              "      <td>NaN</td>\n",
              "      <td>13.0</td>\n",
              "      <td>[0.11229103803634644, 0.16903077065944672, -0....</td>\n",
              "    </tr>\n",
              "    <tr>\n",
              "      <th>20716</th>\n",
              "      <td>Libya initially refused   to hand over the two...</td>\n",
              "      <td>35.0</td>\n",
              "      <td>('Libya', 'initially', 'refused', ' ', 'to', '...</td>\n",
              "      <td>307827</td>\n",
              "      <td>they</td>\n",
              "      <td>PRON</td>\n",
              "      <td>0.0</td>\n",
              "      <td>NaN</td>\n",
              "      <td>21.0</td>\n",
              "      <td>[0.4275742769241333, 0.07952270656824112, 0.25...</td>\n",
              "    </tr>\n",
              "    <tr>\n",
              "      <th>20717</th>\n",
              "      <td>Opinion polls in Israel show hard - liner Arie...</td>\n",
              "      <td>27.0</td>\n",
              "      <td>('Opinion', 'polls', 'in', 'Israel', 'show', '...</td>\n",
              "      <td>307829</td>\n",
              "      <td>liner</td>\n",
              "      <td>NOUN</td>\n",
              "      <td>0.0</td>\n",
              "      <td>NaN</td>\n",
              "      <td>10.0</td>\n",
              "      <td>[0.5175453424453735, -0.12556852400302887, -0....</td>\n",
              "    </tr>\n",
              "    <tr>\n",
              "      <th>20718</th>\n",
              "      <td>Opinion polls in Israel show hard - liner Arie...</td>\n",
              "      <td>27.0</td>\n",
              "      <td>('Opinion', 'polls', 'in', 'Israel', 'show', '...</td>\n",
              "      <td>307829</td>\n",
              "      <td>his</td>\n",
              "      <td>PRON</td>\n",
              "      <td>0.0</td>\n",
              "      <td>NaN</td>\n",
              "      <td>14.0</td>\n",
              "      <td>[-0.123340904712677, 0.005307200830429792, -0....</td>\n",
              "    </tr>\n",
              "  </tbody>\n",
              "</table>\n",
              "<p>20675 rows × 10 columns</p>\n",
              "</div>\n",
              "    <div class=\"colab-df-buttons\">\n",
              "\n",
              "  <div class=\"colab-df-container\">\n",
              "    <button class=\"colab-df-convert\" onclick=\"convertToInteractive('df-93cf579e-6814-4b8c-86b0-af3ef519feab')\"\n",
              "            title=\"Convert this dataframe to an interactive table.\"\n",
              "            style=\"display:none;\">\n",
              "\n",
              "  <svg xmlns=\"http://www.w3.org/2000/svg\" height=\"24px\" viewBox=\"0 -960 960 960\">\n",
              "    <path d=\"M120-120v-720h720v720H120Zm60-500h600v-160H180v160Zm220 220h160v-160H400v160Zm0 220h160v-160H400v160ZM180-400h160v-160H180v160Zm440 0h160v-160H620v160ZM180-180h160v-160H180v160Zm440 0h160v-160H620v160Z\"/>\n",
              "  </svg>\n",
              "    </button>\n",
              "\n",
              "  <style>\n",
              "    .colab-df-container {\n",
              "      display:flex;\n",
              "      gap: 12px;\n",
              "    }\n",
              "\n",
              "    .colab-df-convert {\n",
              "      background-color: #E8F0FE;\n",
              "      border: none;\n",
              "      border-radius: 50%;\n",
              "      cursor: pointer;\n",
              "      display: none;\n",
              "      fill: #1967D2;\n",
              "      height: 32px;\n",
              "      padding: 0 0 0 0;\n",
              "      width: 32px;\n",
              "    }\n",
              "\n",
              "    .colab-df-convert:hover {\n",
              "      background-color: #E2EBFA;\n",
              "      box-shadow: 0px 1px 2px rgba(60, 64, 67, 0.3), 0px 1px 3px 1px rgba(60, 64, 67, 0.15);\n",
              "      fill: #174EA6;\n",
              "    }\n",
              "\n",
              "    .colab-df-buttons div {\n",
              "      margin-bottom: 4px;\n",
              "    }\n",
              "\n",
              "    [theme=dark] .colab-df-convert {\n",
              "      background-color: #3B4455;\n",
              "      fill: #D2E3FC;\n",
              "    }\n",
              "\n",
              "    [theme=dark] .colab-df-convert:hover {\n",
              "      background-color: #434B5C;\n",
              "      box-shadow: 0px 1px 3px 1px rgba(0, 0, 0, 0.15);\n",
              "      filter: drop-shadow(0px 1px 2px rgba(0, 0, 0, 0.3));\n",
              "      fill: #FFFFFF;\n",
              "    }\n",
              "  </style>\n",
              "\n",
              "    <script>\n",
              "      const buttonEl =\n",
              "        document.querySelector('#df-93cf579e-6814-4b8c-86b0-af3ef519feab button.colab-df-convert');\n",
              "      buttonEl.style.display =\n",
              "        google.colab.kernel.accessAllowed ? 'block' : 'none';\n",
              "\n",
              "      async function convertToInteractive(key) {\n",
              "        const element = document.querySelector('#df-93cf579e-6814-4b8c-86b0-af3ef519feab');\n",
              "        const dataTable =\n",
              "          await google.colab.kernel.invokeFunction('convertToInteractive',\n",
              "                                                    [key], {});\n",
              "        if (!dataTable) return;\n",
              "\n",
              "        const docLinkHtml = 'Like what you see? Visit the ' +\n",
              "          '<a target=\"_blank\" href=https://colab.research.google.com/notebooks/data_table.ipynb>data table notebook</a>'\n",
              "          + ' to learn more about interactive tables.';\n",
              "        element.innerHTML = '';\n",
              "        dataTable['output_type'] = 'display_data';\n",
              "        await google.colab.output.renderOutput(dataTable, element);\n",
              "        const docLink = document.createElement('div');\n",
              "        docLink.innerHTML = docLinkHtml;\n",
              "        element.appendChild(docLink);\n",
              "      }\n",
              "    </script>\n",
              "  </div>\n",
              "\n",
              "\n",
              "<div id=\"df-fe1e3239-ed25-43dd-8189-22794e764fb9\">\n",
              "  <button class=\"colab-df-quickchart\" onclick=\"quickchart('df-fe1e3239-ed25-43dd-8189-22794e764fb9')\"\n",
              "            title=\"Suggest charts.\"\n",
              "            style=\"display:none;\">\n",
              "\n",
              "<svg xmlns=\"http://www.w3.org/2000/svg\" height=\"24px\"viewBox=\"0 0 24 24\"\n",
              "     width=\"24px\">\n",
              "    <g>\n",
              "        <path d=\"M19 3H5c-1.1 0-2 .9-2 2v14c0 1.1.9 2 2 2h14c1.1 0 2-.9 2-2V5c0-1.1-.9-2-2-2zM9 17H7v-7h2v7zm4 0h-2V7h2v10zm4 0h-2v-4h2v4z\"/>\n",
              "    </g>\n",
              "</svg>\n",
              "  </button>\n",
              "\n",
              "<style>\n",
              "  .colab-df-quickchart {\n",
              "      --bg-color: #E8F0FE;\n",
              "      --fill-color: #1967D2;\n",
              "      --hover-bg-color: #E2EBFA;\n",
              "      --hover-fill-color: #174EA6;\n",
              "      --disabled-fill-color: #AAA;\n",
              "      --disabled-bg-color: #DDD;\n",
              "  }\n",
              "\n",
              "  [theme=dark] .colab-df-quickchart {\n",
              "      --bg-color: #3B4455;\n",
              "      --fill-color: #D2E3FC;\n",
              "      --hover-bg-color: #434B5C;\n",
              "      --hover-fill-color: #FFFFFF;\n",
              "      --disabled-bg-color: #3B4455;\n",
              "      --disabled-fill-color: #666;\n",
              "  }\n",
              "\n",
              "  .colab-df-quickchart {\n",
              "    background-color: var(--bg-color);\n",
              "    border: none;\n",
              "    border-radius: 50%;\n",
              "    cursor: pointer;\n",
              "    display: none;\n",
              "    fill: var(--fill-color);\n",
              "    height: 32px;\n",
              "    padding: 0;\n",
              "    width: 32px;\n",
              "  }\n",
              "\n",
              "  .colab-df-quickchart:hover {\n",
              "    background-color: var(--hover-bg-color);\n",
              "    box-shadow: 0 1px 2px rgba(60, 64, 67, 0.3), 0 1px 3px 1px rgba(60, 64, 67, 0.15);\n",
              "    fill: var(--button-hover-fill-color);\n",
              "  }\n",
              "\n",
              "  .colab-df-quickchart-complete:disabled,\n",
              "  .colab-df-quickchart-complete:disabled:hover {\n",
              "    background-color: var(--disabled-bg-color);\n",
              "    fill: var(--disabled-fill-color);\n",
              "    box-shadow: none;\n",
              "  }\n",
              "\n",
              "  .colab-df-spinner {\n",
              "    border: 2px solid var(--fill-color);\n",
              "    border-color: transparent;\n",
              "    border-bottom-color: var(--fill-color);\n",
              "    animation:\n",
              "      spin 1s steps(1) infinite;\n",
              "  }\n",
              "\n",
              "  @keyframes spin {\n",
              "    0% {\n",
              "      border-color: transparent;\n",
              "      border-bottom-color: var(--fill-color);\n",
              "      border-left-color: var(--fill-color);\n",
              "    }\n",
              "    20% {\n",
              "      border-color: transparent;\n",
              "      border-left-color: var(--fill-color);\n",
              "      border-top-color: var(--fill-color);\n",
              "    }\n",
              "    30% {\n",
              "      border-color: transparent;\n",
              "      border-left-color: var(--fill-color);\n",
              "      border-top-color: var(--fill-color);\n",
              "      border-right-color: var(--fill-color);\n",
              "    }\n",
              "    40% {\n",
              "      border-color: transparent;\n",
              "      border-right-color: var(--fill-color);\n",
              "      border-top-color: var(--fill-color);\n",
              "    }\n",
              "    60% {\n",
              "      border-color: transparent;\n",
              "      border-right-color: var(--fill-color);\n",
              "    }\n",
              "    80% {\n",
              "      border-color: transparent;\n",
              "      border-right-color: var(--fill-color);\n",
              "      border-bottom-color: var(--fill-color);\n",
              "    }\n",
              "    90% {\n",
              "      border-color: transparent;\n",
              "      border-bottom-color: var(--fill-color);\n",
              "    }\n",
              "  }\n",
              "</style>\n",
              "\n",
              "  <script>\n",
              "    async function quickchart(key) {\n",
              "      const quickchartButtonEl =\n",
              "        document.querySelector('#' + key + ' button');\n",
              "      quickchartButtonEl.disabled = true;  // To prevent multiple clicks.\n",
              "      quickchartButtonEl.classList.add('colab-df-spinner');\n",
              "      try {\n",
              "        const charts = await google.colab.kernel.invokeFunction(\n",
              "            'suggestCharts', [key], {});\n",
              "      } catch (error) {\n",
              "        console.error('Error during call to suggestCharts:', error);\n",
              "      }\n",
              "      quickchartButtonEl.classList.remove('colab-df-spinner');\n",
              "      quickchartButtonEl.classList.add('colab-df-quickchart-complete');\n",
              "    }\n",
              "    (() => {\n",
              "      let quickchartButtonEl =\n",
              "        document.querySelector('#df-fe1e3239-ed25-43dd-8189-22794e764fb9 button');\n",
              "      quickchartButtonEl.style.display =\n",
              "        google.colab.kernel.accessAllowed ? 'block' : 'none';\n",
              "    })();\n",
              "  </script>\n",
              "</div>\n",
              "    </div>\n",
              "  </div>\n"
            ]
          },
          "metadata": {},
          "execution_count": 20
        }
      ],
      "source": [
        "# Example: Filter rows where the count of words within each POS group is greater than a threshold\n",
        "filtered_df = df_fin.groupby('POS').filter(lambda group: len(group) > 100)\n",
        "filtered_df"
      ]
    },
    {
      "cell_type": "code",
      "execution_count": 21,
      "metadata": {
        "colab": {
          "base_uri": "https://localhost:8080/",
          "height": 594
        },
        "id": "F54vu4VXe-NP",
        "outputId": "a099adee-a717-4bc2-9503-c3787cdfe174"
      },
      "outputs": [
        {
          "output_type": "display_data",
          "data": {
            "text/plain": [
              "<Figure size 1000x600 with 1 Axes>"
            ],
            "image/png": "[encoded data removed]"
          },
          "metadata": {}
        }
      ],
      "source": [
        "# Plot 1: Distribution of 'POS' column\n",
        "plt.figure(figsize=(10, 6))\n",
        "sns.countplot(data=df_fin, x='POS', order=df_fin['POS'].value_counts().index)\n",
        "plt.xlabel('POS')\n",
        "plt.ylabel('Count')\n",
        "plt.title('Distribution of POS Tags')\n",
        "plt.xticks(rotation=45)\n",
        "plt.show()"
      ]
    },
    {
      "cell_type": "code",
      "execution_count": 22,
      "metadata": {
        "colab": {
          "base_uri": "https://localhost:8080/",
          "height": 576
        },
        "id": "wYC6YFyFjLkr",
        "outputId": "8540351a-c200-4c58-a30f-4ed1479b7bb5"
      },
      "outputs": [
        {
          "output_type": "display_data",
          "data": {
            "text/plain": [
              "<Figure size 1000x600 with 1 Axes>"
            ],
            "image/png": "[encoded data removed]"
          },
          "metadata": {}
        }
      ],
      "source": [
        "# Plot 2: Distribution of 'end_labels' column\n",
        "plt.figure(figsize=(10, 6))\n",
        "sns.countplot(data=df_fin, x='end_labels', order=df_fin['end_labels'].value_counts().index)\n",
        "plt.xlabel('end_labels')\n",
        "plt.ylabel('Count')\n",
        "plt.title('Distribution of End Labels')\n",
        "plt.xticks(rotation=45)\n",
        "plt.show()"
      ]
    },
    {
      "cell_type": "code",
      "execution_count": 23,
      "metadata": {
        "colab": {
          "base_uri": "https://localhost:8080/",
          "height": 564
        },
        "id": "xOEsJ6brjZYy",
        "outputId": "31c22ea2-1223-4e88-9bbc-670f78863634"
      },
      "outputs": [
        {
          "output_type": "display_data",
          "data": {
            "text/plain": [
              "<Figure size 1000x600 with 1 Axes>"
            ],
            "image/png": "[encoded data removed]"
          },
          "metadata": {}
        }
      ],
      "source": [
        "# Plot 3: Distribution of 'Sentence_no' column\n",
        "plt.figure(figsize=(10, 6))\n",
        "sns.histplot(data=df_fin, x='Sentence_no', bins=30, kde=True)\n",
        "plt.xlabel('Sentence_no')\n",
        "plt.ylabel('Frequency')\n",
        "plt.title('Distribution of Sentence Numbers')\n",
        "plt.show()"
      ]
    },
    {
      "cell_type": "code",
      "execution_count": 25,
      "metadata": {
        "colab": {
          "base_uri": "https://localhost:8080/",
          "height": 526
        },
        "id": "XytMjsf3jcss",
        "outputId": "a7d9e7a0-8bb5-4c7e-a94b-378fa28664ad"
      },
      "outputs": [
        {
          "output_type": "display_data",
          "data": {
            "text/plain": [
              "<Figure size 1000x600 with 1 Axes>"
            ],
            "image/png": "[encoded data removed]"
          },
          "metadata": {}
        }
      ],
      "source": [
        "# Plot 4: Boxplot of 'wort_index'\n",
        "plt.figure(figsize=(10, 6))\n",
        "sns.boxplot(data=df_fin, y='word_index')\n",
        "plt.ylabel('wort_index')\n",
        "plt.title('Boxplot of wort_index')\n",
        "plt.show()"
      ]
    },
    {
      "cell_type": "code",
      "execution_count": 27,
      "metadata": {
        "colab": {
          "base_uri": "https://localhost:8080/",
          "height": 564
        },
        "id": "Zi0b7UM9jgZW",
        "outputId": "51a1b94f-31a1-4d3c-a36a-5c27b7cfa5fa"
      },
      "outputs": [
        {
          "output_type": "display_data",
          "data": {
            "text/plain": [
              "<Figure size 1000x600 with 1 Axes>"
            ],
            "image/png": "[encoded data removed]"
          },
          "metadata": {}
        }
      ],
      "source": [
        "# Plot 5: Example scatterplot (customize as needed)\n",
        "plt.figure(figsize=(10, 6))\n",
        "sns.scatterplot(data=df_fin, x='Sentence_no', y='word_index', alpha=0.5)\n",
        "plt.xlabel('Sentence_no')\n",
        "plt.ylabel('wort_index')\n",
        "plt.title('Scatterplot of Sentence_no vs wort_index')\n",
        "plt.show()"
      ]
    },
    {
      "cell_type": "code",
      "execution_count": 28,
      "metadata": {
        "id": "hR-vZTVmvm3A"
      },
      "outputs": [],
      "source": [
        "df_fin[\"end_labels\"]= df_fin[\"end_labels\"].astype(int)"
      ]
    },
    {
      "cell_type": "markdown",
      "metadata": {
        "id": "pG3M_9BwkC0Z"
      },
      "source": [
        "# Prob Architecture Implementation"
      ]
    },
    {
      "cell_type": "code",
      "execution_count": 29,
      "metadata": {
        "colab": {
          "base_uri": "https://localhost:8080/"
        },
        "id": "doT3-yAPjyGw",
        "outputId": "5b01a563-01c3-4cae-ca53-e83016c9f6e4"
      },
      "outputs": [
        {
          "output_type": "execute_result",
          "data": {
            "text/plain": [
              "0    13216\n",
              "1     7503\n",
              "Name: end_labels, dtype: int64"
            ]
          },
          "metadata": {},
          "execution_count": 29
        }
      ],
      "source": [
        "df_fin['end_labels'].value_counts()"
      ]
    },
    {
      "cell_type": "code",
      "execution_count": 30,
      "metadata": {
        "id": "SqA_LtYrkAfx"
      },
      "outputs": [],
      "source": [
        "# Standardize input features\n",
        "scaler = StandardScaler()\n",
        "X = np.vstack(df_fin['contextualized_vectors'].apply(literal_eval))\n",
        "X = scaler.fit_transform(X)"
      ]
    },
    {
      "cell_type": "code",
      "execution_count": 31,
      "metadata": {
        "id": "M3KAYB9-vm3B"
      },
      "outputs": [],
      "source": [
        "samples=len(X)\n",
        "indicies=np.arange(samples)\n",
        "df_fin.index=indicies"
      ]
    },
    {
      "cell_type": "code",
      "execution_count": null,
      "metadata": {
        "id": "_f7Ts-u3vm3B"
      },
      "outputs": [],
      "source": []
    },
    {
      "cell_type": "code",
      "execution_count": 32,
      "metadata": {
        "id": "Puxh5A6skAiz"
      },
      "outputs": [],
      "source": [
        "# Split the data into train and test sets\n",
        "X_train, X_test, y_train, y_test,indices_train,indices_test = train_test_split(X, df_fin['end_labels'], indicies, test_size=0.2, random_state=30)"
      ]
    },
    {
      "cell_type": "code",
      "execution_count": 33,
      "metadata": {
        "colab": {
          "base_uri": "https://localhost:8080/",
          "height": 213
        },
        "id": "yEs5kYIHlLJa",
        "outputId": "4bfb75bf-c22a-4db2-c0b2-c9043156b4f4"
      },
      "outputs": [
        {
          "output_type": "stream",
          "name": "stderr",
          "text": [
            "/usr/local/lib/python3.10/dist-packages/sklearn/linear_model/_logistic.py:458: ConvergenceWarning: lbfgs failed to converge (status=1):\n",
            "STOP: TOTAL NO. of ITERATIONS REACHED LIMIT.\n",
            "\n",
            "Increase the number of iterations (max_iter) or scale the data as shown in:\n",
            "    https://scikit-learn.org/stable/modules/preprocessing.html\n",
            "Please also refer to the documentation for alternative solver options:\n",
            "    https://scikit-learn.org/stable/modules/linear_model.html#logistic-regression\n",
            "  n_iter_i = _check_optimize_result(\n"
          ]
        },
        {
          "output_type": "execute_result",
          "data": {
            "text/plain": [
              "LogisticRegression()"
            ],
            "text/html": [
              "<style>#sk-container-id-1 {color: black;background-color: white;}#sk-container-id-1 pre{padding: 0;}#sk-container-id-1 div.sk-toggleable {background-color: white;}#sk-container-id-1 label.sk-toggleable__label {cursor: pointer;display: block;width: 100%;margin-bottom: 0;padding: 0.3em;box-sizing: border-box;text-align: center;}#sk-container-id-1 label.sk-toggleable__label-arrow:before {content: \"▸\";float: left;margin-right: 0.25em;color: #696969;}#sk-container-id-1 label.sk-toggleable__label-arrow:hover:before {color: black;}#sk-container-id-1 div.sk-estimator:hover label.sk-toggleable__label-arrow:before {color: black;}#sk-container-id-1 div.sk-toggleable__content {max-height: 0;max-width: 0;overflow: hidden;text-align: left;background-color: #f0f8ff;}#sk-container-id-1 div.sk-toggleable__content pre {margin: 0.2em;color: black;border-radius: 0.25em;background-color: #f0f8ff;}#sk-container-id-1 input.sk-toggleable__control:checked~div.sk-toggleable__content {max-height: 200px;max-width: 100%;overflow: auto;}#sk-container-id-1 input.sk-toggleable__control:checked~label.sk-toggleable__label-arrow:before {content: \"▾\";}#sk-container-id-1 div.sk-estimator input.sk-toggleable__control:checked~label.sk-toggleable__label {background-color: #d4ebff;}#sk-container-id-1 div.sk-label input.sk-toggleable__control:checked~label.sk-toggleable__label {background-color: #d4ebff;}#sk-container-id-1 input.sk-hidden--visually {border: 0;clip: rect(1px 1px 1px 1px);clip: rect(1px, 1px, 1px, 1px);height: 1px;margin: -1px;overflow: hidden;padding: 0;position: absolute;width: 1px;}#sk-container-id-1 div.sk-estimator {font-family: monospace;background-color: #f0f8ff;border: 1px dotted black;border-radius: 0.25em;box-sizing: border-box;margin-bottom: 0.5em;}#sk-container-id-1 div.sk-estimator:hover {background-color: #d4ebff;}#sk-container-id-1 div.sk-parallel-item::after {content: \"\";width: 100%;border-bottom: 1px solid gray;flex-grow: 1;}#sk-container-id-1 div.sk-label:hover label.sk-toggleable__label {background-color: #d4ebff;}#sk-container-id-1 div.sk-serial::before {content: \"\";position: absolute;border-left: 1px solid gray;box-sizing: border-box;top: 0;bottom: 0;left: 50%;z-index: 0;}#sk-container-id-1 div.sk-serial {display: flex;flex-direction: column;align-items: center;background-color: white;padding-right: 0.2em;padding-left: 0.2em;position: relative;}#sk-container-id-1 div.sk-item {position: relative;z-index: 1;}#sk-container-id-1 div.sk-parallel {display: flex;align-items: stretch;justify-content: center;background-color: white;position: relative;}#sk-container-id-1 div.sk-item::before, #sk-container-id-1 div.sk-parallel-item::before {content: \"\";position: absolute;border-left: 1px solid gray;box-sizing: border-box;top: 0;bottom: 0;left: 50%;z-index: -1;}#sk-container-id-1 div.sk-parallel-item {display: flex;flex-direction: column;z-index: 1;position: relative;background-color: white;}#sk-container-id-1 div.sk-parallel-item:first-child::after {align-self: flex-end;width: 50%;}#sk-container-id-1 div.sk-parallel-item:last-child::after {align-self: flex-start;width: 50%;}#sk-container-id-1 div.sk-parallel-item:only-child::after {width: 0;}#sk-container-id-1 div.sk-dashed-wrapped {border: 1px dashed gray;margin: 0 0.4em 0.5em 0.4em;box-sizing: border-box;padding-bottom: 0.4em;background-color: white;}#sk-container-id-1 div.sk-label label {font-family: monospace;font-weight: bold;display: inline-block;line-height: 1.2em;}#sk-container-id-1 div.sk-label-container {text-align: center;}#sk-container-id-1 div.sk-container {/* jupyter's `normalize.less` sets `[hidden] { display: none; }` but bootstrap.min.css set `[hidden] { display: none !important; }` so we also need the `!important` here to be able to override the default hidden behavior on the sphinx rendered scikit-learn.org. See: https://github.com/scikit-learn/scikit-learn/issues/21755 */display: inline-block !important;position: relative;}#sk-container-id-1 div.sk-text-repr-fallback {display: none;}</style><div id=\"sk-container-id-1\" class=\"sk-top-container\"><div class=\"sk-text-repr-fallback\"><pre>LogisticRegression()</pre><b>In a Jupyter environment, please rerun this cell to show the HTML representation or trust the notebook. <br />On GitHub, the HTML representation is unable to render, please try loading this page with nbviewer.org.</b></div><div class=\"sk-container\" hidden><div class=\"sk-item\"><div class=\"sk-estimator sk-toggleable\"><input class=\"sk-toggleable__control sk-hidden--visually\" id=\"sk-estimator-id-1\" type=\"checkbox\" checked><label for=\"sk-estimator-id-1\" class=\"sk-toggleable__label sk-toggleable__label-arrow\">LogisticRegression</label><div class=\"sk-toggleable__content\"><pre>LogisticRegression()</pre></div></div></div></div></div>"
            ]
          },
          "metadata": {},
          "execution_count": 33
        }
      ],
      "source": [
        "# Implement logistic regression or your custom neural network\n",
        "lr_model = LogisticRegression()\n",
        "lr_model.fit(X_train, y_train)"
      ]
    },
    {
      "cell_type": "code",
      "execution_count": 34,
      "metadata": {
        "colab": {
          "base_uri": "https://localhost:8080/",
          "height": 616
        },
        "id": "RDVrCsW4lNtO",
        "outputId": "dcb7104b-74bf-447b-c7a5-bc27108419ba"
      },
      "outputs": [
        {
          "output_type": "stream",
          "name": "stdout",
          "text": [
            "Accuracy: 0.8438706563706564\n",
            "F1-Score: 0.7852638566213077\n",
            "Confusion Matrix:\n"
          ]
        },
        {
          "output_type": "display_data",
          "data": {
            "text/plain": [
              "<Figure size 800x600 with 1 Axes>"
            ],
            "image/png": "[encoded data removed]"
          },
          "metadata": {}
        }
      ],
      "source": [
        "\n",
        "# Evaluate the logistic regression model\n",
        "y_pred = lr_model.predict(X_test)\n",
        "accuracy = accuracy_score(y_test, y_pred)\n",
        "f1 = f1_score(y_test, y_pred)\n",
        "confusion = confusion_matrix(y_test, y_pred)\n",
        "\n",
        "print(\"Accuracy:\", accuracy)\n",
        "print(\"F1-Score:\", f1)\n",
        "print(\"Confusion Matrix:\")\n",
        "\n",
        "# Plot the confusion matrix\n",
        "plt.figure(figsize=(8, 6))\n",
        "sns.heatmap(confusion, annot=True, fmt=\"d\", cmap=\"Blues\", cbar=False,\n",
        "            xticklabels=['Negative', 'Positive'], yticklabels=['Negative', 'Positive'])\n",
        "plt.xlabel('Predicted Labels')\n",
        "plt.ylabel('True Labels')\n",
        "plt.title('Confusion Matrix')\n",
        "plt.show()"
      ]
    },
    {
      "cell_type": "markdown",
      "metadata": {
        "id": "VlXGb_NScadA"
      },
      "source": [
        "# Analyzing the results\n"
      ]
    },
    {
      "cell_type": "code",
      "execution_count": 37,
      "metadata": {
        "colab": {
          "base_uri": "https://localhost:8080/"
        },
        "id": "g17W89Vavm3I",
        "outputId": "edaac1df-c5a6-4ae3-a47a-2ca0d920d49b"
      },
      "outputs": [
        {
          "output_type": "stream",
          "name": "stdout",
          "text": [
            "all_pron 2335\n",
            "correct_pron 1521\n",
            "incorrect_pron 814\n"
          ]
        }
      ],
      "source": [
        "# Extract contextualized vectors\n",
        "contextualized_vectors = df_fin[\"contextualized_vectors\"]\n",
        "\n",
        "# Predict pronouns and compare with true labels\n",
        "test_d = df_fin.loc[indices_test, :]\n",
        "test_d[[\"Word\", \"end_labels\", \"subword\", \"contextualized_vectors\",\"POS\"]]\n",
        "\n",
        "count_correct_pron=0\n",
        "count_incorrect_pron=0\n",
        "all_pron=0\n",
        "for index, row in test_d.iterrows():\n",
        "    x_text_word = np.array(literal_eval(row[\"contextualized_vectors\"])).reshape(-1, np.array(literal_eval(row[\"contextualized_vectors\"])).shape[-1])\n",
        "    y_pred_word = lr_model.predict(x_text_word)\n",
        "    if row[\"POS\"] == \"PRON\":\n",
        "        all_pron+=1\n",
        "        if y_pred_word[0] == row[\"end_labels\"]:\n",
        "            #print(\"correct classify\",row[\"Word\"])\n",
        "            count_correct_pron+=1\n",
        "        else:\n",
        "            #print(\"incorrect classify\",row[\"Word\"])\n",
        "            count_incorrect_pron+=1\n",
        "print(\"all_pron\",all_pron)\n",
        "print(\"correct_pron\",count_correct_pron)\n",
        "print(\"incorrect_pron\",count_incorrect_pron)\n",
        "\n",
        "\n",
        "\n",
        "\n",
        "    #print(\"Prediction for words in '{}': {} True Label : {} subtoken : {}\".format(row[\"Word\"], y_pred_word[0], row[\"end_labels\"],row[\"subtoken\"]))"
      ]
    },
    {
      "cell_type": "code",
      "execution_count": 39,
      "metadata": {
        "id": "tnr0MKOPcadA",
        "outputId": "e5b630f4-74cb-4a1b-e184-51eb51422758",
        "colab": {
          "base_uri": "https://localhost:8080/"
        }
      },
      "outputs": [
        {
          "output_type": "stream",
          "name": "stdout",
          "text": [
            "all_noun 1799\n",
            "correct_noun 1496\n",
            "incorrect_noun 303\n"
          ]
        }
      ],
      "source": [
        "# Extract contextualized vectors\n",
        "contextualized_vectors = df_fin[\"contextualized_vectors\"]\n",
        "\n",
        "# Predict nouns and compare with true labels\n",
        "test_d = df_fin.loc[indices_test, :]\n",
        "test_d[[\"Word\", \"end_labels\", \"subword\", \"contextualized_vectors\",\"POS\"]]\n",
        "\n",
        "count_correct_noun=0\n",
        "count_incorrect_noun=0\n",
        "all_noun=0\n",
        "for index, row in test_d.iterrows():\n",
        "    x_text_word = np.array(literal_eval(row[\"contextualized_vectors\"])).reshape(-1, np.array(literal_eval(row[\"contextualized_vectors\"])).shape[-1])\n",
        "    y_pred_word = lr_model.predict(x_text_word)\n",
        "    if row[\"POS\"] == \"NOUN\":\n",
        "        all_noun+=1\n",
        "        if y_pred_word[0] == row[\"end_labels\"]:\n",
        "            #print(\"correct classify\",row[\"Word\"])\n",
        "            count_correct_noun+=1\n",
        "        else:\n",
        "            #print(\"incorrect classify\",row[\"Word\"])\n",
        "            count_incorrect_noun+=1\n",
        "print(\"all_noun\",all_noun)\n",
        "print(\"correct_noun\",count_correct_noun)\n",
        "print(\"incorrect_noun\",count_incorrect_noun)"
      ]
    },
    {
      "cell_type": "code",
      "execution_count": 41,
      "metadata": {
        "id": "4ild1AqccadA",
        "outputId": "b94b53f2-1384-4fb7-f398-104fa075811c",
        "colab": {
          "base_uri": "https://localhost:8080/"
        }
      },
      "outputs": [
        {
          "output_type": "stream",
          "name": "stdout",
          "text": [
            "all_propn 5\n",
            "correct_propn 5\n",
            "incorrect_propn 0\n"
          ]
        }
      ],
      "source": [
        "# Extract contextualized vectors\n",
        "contextualized_vectors = df_fin[\"contextualized_vectors\"]\n",
        "\n",
        "# Predict PROPN and compare with true labels\n",
        "test_d = df_fin.loc[indices_test, :]\n",
        "test_d[[\"Word\", \"end_labels\", \"subword\", \"contextualized_vectors\",\"POS\"]]\n",
        "\n",
        "count_correct_propn=0\n",
        "count_incorrect_propn=0\n",
        "all_propn=0\n",
        "for index, row in test_d.iterrows():\n",
        "    x_text_word = np.array(literal_eval(row[\"contextualized_vectors\"])).reshape(-1, np.array(literal_eval(row[\"contextualized_vectors\"])).shape[-1])\n",
        "    y_pred_word = lr_model.predict(x_text_word)\n",
        "    if row[\"POS\"] == \"PROPN\":\n",
        "        all_propn+=1\n",
        "        if y_pred_word[0] == row[\"end_labels\"]:\n",
        "            #print(\"correct classify\",row[\"Word\"])\n",
        "            count_correct_propn+=1\n",
        "        else:\n",
        "            #print(\"incorrect classify\",row[\"Word\"])\n",
        "            count_incorrect_propn+=1\n",
        "print(\"all_propn\",all_propn)\n",
        "print(\"correct_propn\",count_correct_propn)\n",
        "print(\"incorrect_propn\",count_incorrect_propn)\n",
        ""
      ]
    },
    {
      "cell_type": "code",
      "execution_count": 43,
      "metadata": {
        "id": "PQr9Wg8qcadB",
        "outputId": "1ed20101-3f90-4aac-a655-ea66fb8ae60e",
        "colab": {
          "base_uri": "https://localhost:8080/"
        }
      },
      "outputs": [
        {
          "output_type": "stream",
          "name": "stdout",
          "text": [
            "all_noun_subtoken 128\n",
            "count_correct_noun_subtoken 82\n",
            "count_incorrect_noun_subtoken 46\n",
            "-----------------------------------------------\n",
            "all_noun_without_subtoken 1671\n",
            "count_correct_noun_without_subtoken 1414\n",
            "count_incorrect_noun_without_subtoken 257\n"
          ]
        }
      ],
      "source": [
        "\n",
        "\n",
        "# Extract contextualized vectors\n",
        "contextualized_vectors = df_fin[\"contextualized_vectors\"]\n",
        "\n",
        "# Counting the number of correctly and incorrectly classified names with and without subtokens\n",
        "test_d = df_fin.loc[indices_test, :]\n",
        "test_d[[\"Word\", \"end_labels\", \"subword\", \"contextualized_vectors\",\"POS\"]]\n",
        "\n",
        "count_correct_noun_subtoken=0\n",
        "count_incorrect_noun_subtoken=0\n",
        "all_noun_subtoken=0\n",
        "all_noun_without_subtoken=0\n",
        "count_correct_noun_without_subtoken=0\n",
        "count_incorrect_noun_without_subtoken=0\n",
        "for index, row in test_d.iterrows():\n",
        "    x_text_word = np.array(literal_eval(row[\"contextualized_vectors\"])).reshape(-1, np.array(literal_eval(row[\"contextualized_vectors\"])).shape[-1])\n",
        "    y_pred_word = lr_model.predict(x_text_word)\n",
        "    if row[\"POS\"] == \"NOUN\" and type(row[\"subword\"]) != float:\n",
        "        all_noun_subtoken+=1\n",
        "        if y_pred_word[0] == row[\"end_labels\"]:\n",
        "            #print(\"correct classify\",row[\"Word\"])\n",
        "            count_correct_noun_subtoken+=1\n",
        "        else:\n",
        "            #print(\"incorrect classify\",row[\"Word\"])\n",
        "            count_incorrect_noun_subtoken+=1\n",
        "    if row[\"POS\"] == \"NOUN\" and type(row[\"subword\"]) == float:\n",
        "        all_noun_without_subtoken+=1\n",
        "        if y_pred_word[0] == row[\"end_labels\"]:\n",
        "            #print(\"correct classify\",row[\"Word\"])\n",
        "            count_correct_noun_without_subtoken+=1\n",
        "        else:\n",
        "            #print(\"incorrect classify\",row[\"Word\"])\n",
        "            count_incorrect_noun_without_subtoken+=1\n",
        "\n",
        "\n",
        "print(\"all_noun_subtoken\",all_noun_subtoken)\n",
        "print(\"count_correct_noun_subtoken\",count_correct_noun_subtoken)\n",
        "print(\"count_incorrect_noun_subtoken\",count_incorrect_noun_subtoken)\n",
        "print(\"-----------------------------------------------\")\n",
        "print(\"all_noun_without_subtoken\",all_noun_without_subtoken)\n",
        "print(\"count_correct_noun_without_subtoken\",count_correct_noun_without_subtoken)\n",
        "print(\"count_incorrect_noun_without_subtoken\",count_incorrect_noun_without_subtoken)"
      ]
    },
    {
      "cell_type": "code",
      "execution_count": 45,
      "metadata": {
        "id": "cP-2Az4ZcadB",
        "outputId": "9af238ba-a7c6-4eeb-d9c8-b5e975e24ada",
        "colab": {
          "base_uri": "https://localhost:8080/"
        }
      },
      "outputs": [
        {
          "output_type": "execute_result",
          "data": {
            "text/plain": [
              "2334"
            ]
          },
          "metadata": {},
          "execution_count": 45
        }
      ],
      "source": [
        "filtered_pron_without_subtoken = test_d.loc[(test_d['POS'] ==\"PRON\") & (test_d['subword'].isnull())]\n",
        "len(filtered_pron_without_subtoken)"
      ]
    },
    {
      "cell_type": "code",
      "execution_count": 47,
      "metadata": {
        "id": "xmvwtcE6cadB",
        "outputId": "40dd1a8a-7db7-4db5-a348-1730595d7cc4",
        "colab": {
          "base_uri": "https://localhost:8080/"
        }
      },
      "outputs": [
        {
          "output_type": "execute_result",
          "data": {
            "text/plain": [
              "1"
            ]
          },
          "metadata": {},
          "execution_count": 47
        }
      ],
      "source": [
        "# Only two pronouns in test-data bekamme from tokenizer subtoken\n",
        "filtered_pron_subtoken = test_d.loc[(test_d['POS'] ==\"PRON\") & (test_d['subword'].notnull())]\n",
        "len(filtered_pron_subtoken)"
      ]
    },
    {
      "cell_type": "code",
      "execution_count": 48,
      "metadata": {
        "colab": {
          "base_uri": "https://localhost:8080/"
        },
        "id": "L0TiclgsmGeH",
        "outputId": "0509f415-8354-4157-e591-cf59db04c435"
      },
      "outputs": [
        {
          "output_type": "stream",
          "name": "stdout",
          "text": [
            "Epoch 1/40, Loss: 0.719235897064209\n",
            "Epoch 2/40, Loss: 0.5167015194892883\n",
            "Epoch 3/40, Loss: 0.427690714597702\n",
            "Epoch 4/40, Loss: 0.40002334117889404\n",
            "Epoch 5/40, Loss: 0.38017576932907104\n",
            "Epoch 6/40, Loss: 0.35553351044654846\n",
            "Epoch 7/40, Loss: 0.34258097410202026\n",
            "Epoch 8/40, Loss: 0.33374932408332825\n",
            "Epoch 9/40, Loss: 0.32458823919296265\n",
            "Epoch 10/40, Loss: 0.3187549114227295\n",
            "Epoch 11/40, Loss: 0.3122939467430115\n",
            "Epoch 12/40, Loss: 0.3062630295753479\n",
            "Epoch 13/40, Loss: 0.3017062842845917\n",
            "Epoch 14/40, Loss: 0.2963922321796417\n",
            "Epoch 15/40, Loss: 0.29144617915153503\n",
            "Epoch 16/40, Loss: 0.2879081964492798\n",
            "Epoch 17/40, Loss: 0.2832338511943817\n",
            "Epoch 18/40, Loss: 0.27842769026756287\n",
            "Epoch 19/40, Loss: 0.27479711174964905\n",
            "Epoch 20/40, Loss: 0.2702704966068268\n",
            "Epoch 21/40, Loss: 0.26608753204345703\n",
            "Epoch 22/40, Loss: 0.2628018260002136\n",
            "Epoch 23/40, Loss: 0.25863873958587646\n",
            "Epoch 24/40, Loss: 0.25492992997169495\n",
            "Epoch 25/40, Loss: 0.25122714042663574\n",
            "Epoch 26/40, Loss: 0.2472001016139984\n",
            "Epoch 27/40, Loss: 0.24347929656505585\n",
            "Epoch 28/40, Loss: 0.2395159751176834\n",
            "Epoch 29/40, Loss: 0.23568332195281982\n",
            "Epoch 30/40, Loss: 0.23142658174037933\n",
            "Epoch 31/40, Loss: 0.22764335572719574\n",
            "Epoch 32/40, Loss: 0.22353240847587585\n",
            "Epoch 33/40, Loss: 0.2198130190372467\n",
            "Epoch 34/40, Loss: 0.2157309353351593\n",
            "Epoch 35/40, Loss: 0.21183662116527557\n",
            "Epoch 36/40, Loss: 0.2077624797821045\n",
            "Epoch 37/40, Loss: 0.20392221212387085\n",
            "Epoch 38/40, Loss: 0.19995538890361786\n",
            "Epoch 39/40, Loss: 0.19585676491260529\n",
            "Epoch 40/40, Loss: 0.19182699918746948\n"
          ]
        }
      ],
      "source": [
        "# Implement a custom neural network with optimization techniques\n",
        "class BinaryClassificationNN(nn.Module):\n",
        "    def __init__(self, input_dim, hidden_dim):\n",
        "        super(BinaryClassificationNN, self).__init__()\n",
        "        self.layer1 = nn.Linear(input_dim, hidden_dim)\n",
        "        self.layer2 = nn.Linear(hidden_dim, 1)\n",
        "        self.sigmoid = nn.Sigmoid()\n",
        "\n",
        "    def forward(self, x):\n",
        "        x = nn.ReLU()(self.layer1(x))\n",
        "        x = self.sigmoid(self.layer2(x))\n",
        "        return x\n",
        "\n",
        "input_dim = X_train.shape[1]\n",
        "hidden_dim = 50\n",
        "learning_rate = 0.01\n",
        "epochs = 40\n",
        "\n",
        "model = BinaryClassificationNN(input_dim, hidden_dim)\n",
        "criterion = nn.BCELoss()\n",
        "optimizer = optim.Adam(model.parameters(), lr=learning_rate)\n",
        "\n",
        "X_train_tensor = torch.tensor(X_train, dtype=torch.float32)\n",
        "y_train_tensor = torch.tensor(y_train.values, dtype=torch.float32)\n",
        "\n",
        "for epoch in range(epochs):\n",
        "    optimizer.zero_grad()\n",
        "    outputs = model(X_train_tensor).squeeze()\n",
        "    loss = criterion(outputs, y_train_tensor)\n",
        "    loss.backward()\n",
        "    optimizer.step()\n",
        "    print(f'Epoch {epoch + 1}/{epochs}, Loss: {loss.item()}')\n"
      ]
    },
    {
      "cell_type": "code",
      "execution_count": 49,
      "metadata": {
        "colab": {
          "base_uri": "https://localhost:8080/"
        },
        "id": "lCHaWTI5kAlk",
        "outputId": "4e81c86c-4d07-49db-bf92-ae7726f56ee9"
      },
      "outputs": [
        {
          "output_type": "stream",
          "name": "stdout",
          "text": [
            "Custom Neural Network Accuracy: 0.8725868463516235\n"
          ]
        }
      ],
      "source": [
        "# Evaluate the custom neural network\n",
        "with torch.no_grad():\n",
        "    test_outputs = model(torch.tensor(X_test, dtype=torch.float32)).squeeze()\n",
        "    predicted_labels = (test_outputs > 0.5).float()\n",
        "    accuracy = (predicted_labels == torch.tensor(y_test.values, dtype=torch.float32)).float().mean()\n",
        "\n",
        "print(\"Custom Neural Network Accuracy:\", accuracy.item())"
      ]
    },
    {
      "cell_type": "code",
      "execution_count": 50,
      "metadata": {
        "colab": {
          "base_uri": "https://localhost:8080/",
          "height": 581
        },
        "id": "HtaCPHCskAuT",
        "outputId": "2a31fa53-0cb6-48d5-8e84-f42e20daaeac"
      },
      "outputs": [
        {
          "output_type": "stream",
          "name": "stdout",
          "text": [
            "F1-Score for Custom Neural Network: 0.8253968253968254\n"
          ]
        },
        {
          "output_type": "display_data",
          "data": {
            "text/plain": [
              "<Figure size 800x600 with 1 Axes>"
            ],
            "image/png": "[encoded data removed]"
          },
          "metadata": {}
        }
      ],
      "source": [
        "# F1 Score for Custom Neural Network\n",
        "f1_custom_nn = f1_score(y_test, predicted_labels)\n",
        "\n",
        "print(\"F1-Score for Custom Neural Network:\", f1_custom_nn)\n",
        "\n",
        "# Plot F1 Score\n",
        "plt.figure(figsize=(8, 6))\n",
        "plt.title(\"F1 Score for Custom Neural Network\")\n",
        "plt.bar([\"Custom NN\"], [f1_custom_nn], color='b', alpha=0.7)\n",
        "plt.ylim(0, 1)\n",
        "plt.xlabel(\"Model\")\n",
        "plt.ylabel(\"F1 Score\")\n",
        "plt.show()"
      ]
    },
    {
      "cell_type": "code",
      "execution_count": 51,
      "metadata": {
        "colab": {
          "base_uri": "https://localhost:8080/",
          "height": 616
        },
        "id": "OJHuRnrp3W-q",
        "outputId": "f42e51c3-f38a-496f-a918-6525555af25e"
      },
      "outputs": [
        {
          "output_type": "stream",
          "name": "stdout",
          "text": [
            "Confusion Matrix for Custom Neural Network:\n",
            "[[2368  255]\n",
            " [ 273 1248]]\n"
          ]
        },
        {
          "output_type": "display_data",
          "data": {
            "text/plain": [
              "<Figure size 800x600 with 1 Axes>"
            ],
            "image/png": "[encoded data removed]"
          },
          "metadata": {}
        }
      ],
      "source": [
        "\n",
        "# Confusion Matrix for Custom Neural Network\n",
        "confusion = confusion_matrix(y_test, predicted_labels)\n",
        "\n",
        "print(\"Confusion Matrix for Custom Neural Network:\")\n",
        "print(confusion)\n",
        "\n",
        "# Plot Confusion Matrix\n",
        "plt.figure(figsize=(8, 6))\n",
        "sns.heatmap(confusion, annot=True, fmt=\"d\", cmap=\"Blues\", cbar=False,\n",
        "            xticklabels=['Negative', 'Positive'], yticklabels=['Negative', 'Positive'])\n",
        "plt.xlabel('Predicted Labels')\n",
        "plt.ylabel('True Labels')\n",
        "plt.title('Confusion Matrix for Custom Neural Network')\n",
        "plt.show()"
      ]
    },
    {
      "cell_type": "code",
      "execution_count": null,
      "metadata": {
        "id": "FKNS0xn63aLA"
      },
      "outputs": [],
      "source": []
    }
  ],
  "metadata": {
    "accelerator": "GPU",
    "colab": {
      "gpuType": "T4",
      "provenance": []
    },
    "kernelspec": {
      "display_name": "Python 3 (ipykernel)",
      "language": "python",
      "name": "python3"
    },
    "language_info": {
      "codemirror_mode": {
        "name": "ipython",
        "version": 3
      },
      "file_extension": ".py",
      "mimetype": "text/x-python",
      "name": "python",
      "nbconvert_exporter": "python",
      "pygments_lexer": "ipython3",
      "version": "3.10.9"
    },
    "widgets": {
      "application/vnd.jupyter.widget-state+json": {
        "8c8e3f86219a4caa9a547f57f6d5d79e": {
          "model_module": "@jupyter-widgets/controls",
          "model_name": "HBoxModel",
          "model_module_version": "1.5.0",
          "state": {
            "_dom_classes": [],
            "_model_module": "@jupyter-widgets/controls",
            "_model_module_version": "1.5.0",
            "_model_name": "HBoxModel",
            "_view_count": null,
            "_view_module": "@jupyter-widgets/controls",
            "_view_module_version": "1.5.0",
            "_view_name": "HBoxView",
            "box_style": "",
            "children": [
              "IPY_MODEL_819413e45cdc42aeb1f067570b1b0c6d",
              "IPY_MODEL_d90a7d5a8f3945eea70385146554a9f7",
              "IPY_MODEL_46979985a97f437db5e88f2186ba87bd"
            ],
            "layout": "IPY_MODEL_19bfddab3d864daba8942feac8ba1af7"
          }
        },
        "819413e45cdc42aeb1f067570b1b0c6d": {
          "model_module": "@jupyter-widgets/controls",
          "model_name": "HTMLModel",
          "model_module_version": "1.5.0",
          "state": {
            "_dom_classes": [],
            "_model_module": "@jupyter-widgets/controls",
            "_model_module_version": "1.5.0",
            "_model_name": "HTMLModel",
            "_view_count": null,
            "_view_module": "@jupyter-widgets/controls",
            "_view_module_version": "1.5.0",
            "_view_name": "HTMLView",
            "description": "",
            "description_tooltip": null,
            "layout": "IPY_MODEL_f30c07d9554d45c28c8cc7a80a143509",
            "placeholder": "​",
            "style": "IPY_MODEL_0f8fc684934a4009acb7a37c2ac937cf",
            "value": "Downloading (…)lve/main/config.json: 100%"
          }
        },
        "d90a7d5a8f3945eea70385146554a9f7": {
          "model_module": "@jupyter-widgets/controls",
          "model_name": "FloatProgressModel",
          "model_module_version": "1.5.0",
          "state": {
            "_dom_classes": [],
            "_model_module": "@jupyter-widgets/controls",
            "_model_module_version": "1.5.0",
            "_model_name": "FloatProgressModel",
            "_view_count": null,
            "_view_module": "@jupyter-widgets/controls",
            "_view_module_version": "1.5.0",
            "_view_name": "ProgressView",
            "bar_style": "success",
            "description": "",
            "description_tooltip": null,
            "layout": "IPY_MODEL_38e5ddb3f0eb4fc1a1c6f11b34e4a36d",
            "max": 570,
            "min": 0,
            "orientation": "horizontal",
            "style": "IPY_MODEL_2609b120ac9543acac8854d4390dc0c2",
            "value": 570
          }
        },
        "46979985a97f437db5e88f2186ba87bd": {
          "model_module": "@jupyter-widgets/controls",
          "model_name": "HTMLModel",
          "model_module_version": "1.5.0",
          "state": {
            "_dom_classes": [],
            "_model_module": "@jupyter-widgets/controls",
            "_model_module_version": "1.5.0",
            "_model_name": "HTMLModel",
            "_view_count": null,
            "_view_module": "@jupyter-widgets/controls",
            "_view_module_version": "1.5.0",
            "_view_name": "HTMLView",
            "description": "",
            "description_tooltip": null,
            "layout": "IPY_MODEL_f9c51bcf7e50421fa81113368b2c91c3",
            "placeholder": "​",
            "style": "IPY_MODEL_0f3f4960da5b41c69286e1b9609bc664",
            "value": " 570/570 [00:00&lt;00:00, 38.1kB/s]"
          }
        },
        "19bfddab3d864daba8942feac8ba1af7": {
          "model_module": "@jupyter-widgets/base",
          "model_name": "LayoutModel",
          "model_module_version": "1.2.0",
          "state": {
            "_model_module": "@jupyter-widgets/base",
            "_model_module_version": "1.2.0",
            "_model_name": "LayoutModel",
            "_view_count": null,
            "_view_module": "@jupyter-widgets/base",
            "_view_module_version": "1.2.0",
            "_view_name": "LayoutView",
            "align_content": null,
            "align_items": null,
            "align_self": null,
            "border": null,
            "bottom": null,
            "display": null,
            "flex": null,
            "flex_flow": null,
            "grid_area": null,
            "grid_auto_columns": null,
            "grid_auto_flow": null,
            "grid_auto_rows": null,
            "grid_column": null,
            "grid_gap": null,
            "grid_row": null,
            "grid_template_areas": null,
            "grid_template_columns": null,
            "grid_template_rows": null,
            "height": null,
            "justify_content": null,
            "justify_items": null,
            "left": null,
            "margin": null,
            "max_height": null,
            "max_width": null,
            "min_height": null,
            "min_width": null,
            "object_fit": null,
            "object_position": null,
            "order": null,
            "overflow": null,
            "overflow_x": null,
            "overflow_y": null,
            "padding": null,
            "right": null,
            "top": null,
            "visibility": null,
            "width": null
          }
        },
        "f30c07d9554d45c28c8cc7a80a143509": {
          "model_module": "@jupyter-widgets/base",
          "model_name": "LayoutModel",
          "model_module_version": "1.2.0",
          "state": {
            "_model_module": "@jupyter-widgets/base",
            "_model_module_version": "1.2.0",
            "_model_name": "LayoutModel",
            "_view_count": null,
            "_view_module": "@jupyter-widgets/base",
            "_view_module_version": "1.2.0",
            "_view_name": "LayoutView",
            "align_content": null,
            "align_items": null,
            "align_self": null,
            "border": null,
            "bottom": null,
            "display": null,
            "flex": null,
            "flex_flow": null,
            "grid_area": null,
            "grid_auto_columns": null,
            "grid_auto_flow": null,
            "grid_auto_rows": null,
            "grid_column": null,
            "grid_gap": null,
            "grid_row": null,
            "grid_template_areas": null,
            "grid_template_columns": null,
            "grid_template_rows": null,
            "height": null,
            "justify_content": null,
            "justify_items": null,
            "left": null,
            "margin": null,
            "max_height": null,
            "max_width": null,
            "min_height": null,
            "min_width": null,
            "object_fit": null,
            "object_position": null,
            "order": null,
            "overflow": null,
            "overflow_x": null,
            "overflow_y": null,
            "padding": null,
            "right": null,
            "top": null,
            "visibility": null,
            "width": null
          }
        },
        "0f8fc684934a4009acb7a37c2ac937cf": {
          "model_module": "@jupyter-widgets/controls",
          "model_name": "DescriptionStyleModel",
          "model_module_version": "1.5.0",
          "state": {
            "_model_module": "@jupyter-widgets/controls",
            "_model_module_version": "1.5.0",
            "_model_name": "DescriptionStyleModel",
            "_view_count": null,
            "_view_module": "@jupyter-widgets/base",
            "_view_module_version": "1.2.0",
            "_view_name": "StyleView",
            "description_width": ""
          }
        },
        "38e5ddb3f0eb4fc1a1c6f11b34e4a36d": {
          "model_module": "@jupyter-widgets/base",
          "model_name": "LayoutModel",
          "model_module_version": "1.2.0",
          "state": {
            "_model_module": "@jupyter-widgets/base",
            "_model_module_version": "1.2.0",
            "_model_name": "LayoutModel",
            "_view_count": null,
            "_view_module": "@jupyter-widgets/base",
            "_view_module_version": "1.2.0",
            "_view_name": "LayoutView",
            "align_content": null,
            "align_items": null,
            "align_self": null,
            "border": null,
            "bottom": null,
            "display": null,
            "flex": null,
            "flex_flow": null,
            "grid_area": null,
            "grid_auto_columns": null,
            "grid_auto_flow": null,
            "grid_auto_rows": null,
            "grid_column": null,
            "grid_gap": null,
            "grid_row": null,
            "grid_template_areas": null,
            "grid_template_columns": null,
            "grid_template_rows": null,
            "height": null,
            "justify_content": null,
            "justify_items": null,
            "left": null,
            "margin": null,
            "max_height": null,
            "max_width": null,
            "min_height": null,
            "min_width": null,
            "object_fit": null,
            "object_position": null,
            "order": null,
            "overflow": null,
            "overflow_x": null,
            "overflow_y": null,
            "padding": null,
            "right": null,
            "top": null,
            "visibility": null,
            "width": null
          }
        },
        "2609b120ac9543acac8854d4390dc0c2": {
          "model_module": "@jupyter-widgets/controls",
          "model_name": "ProgressStyleModel",
          "model_module_version": "1.5.0",
          "state": {
            "_model_module": "@jupyter-widgets/controls",
            "_model_module_version": "1.5.0",
            "_model_name": "ProgressStyleModel",
            "_view_count": null,
            "_view_module": "@jupyter-widgets/base",
            "_view_module_version": "1.2.0",
            "_view_name": "StyleView",
            "bar_color": null,
            "description_width": ""
          }
        },
        "f9c51bcf7e50421fa81113368b2c91c3": {
          "model_module": "@jupyter-widgets/base",
          "model_name": "LayoutModel",
          "model_module_version": "1.2.0",
          "state": {
            "_model_module": "@jupyter-widgets/base",
            "_model_module_version": "1.2.0",
            "_model_name": "LayoutModel",
            "_view_count": null,
            "_view_module": "@jupyter-widgets/base",
            "_view_module_version": "1.2.0",
            "_view_name": "LayoutView",
            "align_content": null,
            "align_items": null,
            "align_self": null,
            "border": null,
            "bottom": null,
            "display": null,
            "flex": null,
            "flex_flow": null,
            "grid_area": null,
            "grid_auto_columns": null,
            "grid_auto_flow": null,
            "grid_auto_rows": null,
            "grid_column": null,
            "grid_gap": null,
            "grid_row": null,
            "grid_template_areas": null,
            "grid_template_columns": null,
            "grid_template_rows": null,
            "height": null,
            "justify_content": null,
            "justify_items": null,
            "left": null,
            "margin": null,
            "max_height": null,
            "max_width": null,
            "min_height": null,
            "min_width": null,
            "object_fit": null,
            "object_position": null,
            "order": null,
            "overflow": null,
            "overflow_x": null,
            "overflow_y": null,
            "padding": null,
            "right": null,
            "top": null,
            "visibility": null,
            "width": null
          }
        },
        "0f3f4960da5b41c69286e1b9609bc664": {
          "model_module": "@jupyter-widgets/controls",
          "model_name": "DescriptionStyleModel",
          "model_module_version": "1.5.0",
          "state": {
            "_model_module": "@jupyter-widgets/controls",
            "_model_module_version": "1.5.0",
            "_model_name": "DescriptionStyleModel",
            "_view_count": null,
            "_view_module": "@jupyter-widgets/base",
            "_view_module_version": "1.2.0",
            "_view_name": "StyleView",
            "description_width": ""
          }
        },
        "745f994a81b94d93837eb998a8ed4e8d": {
          "model_module": "@jupyter-widgets/controls",
          "model_name": "HBoxModel",
          "model_module_version": "1.5.0",
          "state": {
            "_dom_classes": [],
            "_model_module": "@jupyter-widgets/controls",
            "_model_module_version": "1.5.0",
            "_model_name": "HBoxModel",
            "_view_count": null,
            "_view_module": "@jupyter-widgets/controls",
            "_view_module_version": "1.5.0",
            "_view_name": "HBoxView",
            "box_style": "",
            "children": [
              "IPY_MODEL_67f406c14b054bcbadc2a8877b33e4a9",
              "IPY_MODEL_62a9b2eaeb1c4e6eb93ccff4d5a7f6f8",
              "IPY_MODEL_0d29ccf8b4e94d55a820c36189fc393f"
            ],
            "layout": "IPY_MODEL_dab0fb6075894f8e9d5fff3a9795d294"
          }
        },
        "67f406c14b054bcbadc2a8877b33e4a9": {
          "model_module": "@jupyter-widgets/controls",
          "model_name": "HTMLModel",
          "model_module_version": "1.5.0",
          "state": {
            "_dom_classes": [],
            "_model_module": "@jupyter-widgets/controls",
            "_model_module_version": "1.5.0",
            "_model_name": "HTMLModel",
            "_view_count": null,
            "_view_module": "@jupyter-widgets/controls",
            "_view_module_version": "1.5.0",
            "_view_name": "HTMLView",
            "description": "",
            "description_tooltip": null,
            "layout": "IPY_MODEL_350311b7671948fe86664134080f90bc",
            "placeholder": "​",
            "style": "IPY_MODEL_976aaf54fdb94b54921eee8ab517d353",
            "value": "Downloading model.safetensors: 100%"
          }
        },
        "62a9b2eaeb1c4e6eb93ccff4d5a7f6f8": {
          "model_module": "@jupyter-widgets/controls",
          "model_name": "FloatProgressModel",
          "model_module_version": "1.5.0",
          "state": {
            "_dom_classes": [],
            "_model_module": "@jupyter-widgets/controls",
            "_model_module_version": "1.5.0",
            "_model_name": "FloatProgressModel",
            "_view_count": null,
            "_view_module": "@jupyter-widgets/controls",
            "_view_module_version": "1.5.0",
            "_view_name": "ProgressView",
            "bar_style": "success",
            "description": "",
            "description_tooltip": null,
            "layout": "IPY_MODEL_724920e2d0a54f78baa30e2d7135299f",
            "max": 435755784,
            "min": 0,
            "orientation": "horizontal",
            "style": "IPY_MODEL_ec5627fb95944deda6d0b48ffaa39c30",
            "value": 435755784
          }
        },
        "0d29ccf8b4e94d55a820c36189fc393f": {
          "model_module": "@jupyter-widgets/controls",
          "model_name": "HTMLModel",
          "model_module_version": "1.5.0",
          "state": {
            "_dom_classes": [],
            "_model_module": "@jupyter-widgets/controls",
            "_model_module_version": "1.5.0",
            "_model_name": "HTMLModel",
            "_view_count": null,
            "_view_module": "@jupyter-widgets/controls",
            "_view_module_version": "1.5.0",
            "_view_name": "HTMLView",
            "description": "",
            "description_tooltip": null,
            "layout": "IPY_MODEL_0613a31ef77a4f898fddb6a35f90e35b",
            "placeholder": "​",
            "style": "IPY_MODEL_8710bedfeadb4eabb8af498aedae6b48",
            "value": " 436M/436M [00:02&lt;00:00, 225MB/s]"
          }
        },
        "dab0fb6075894f8e9d5fff3a9795d294": {
          "model_module": "@jupyter-widgets/base",
          "model_name": "LayoutModel",
          "model_module_version": "1.2.0",
          "state": {
            "_model_module": "@jupyter-widgets/base",
            "_model_module_version": "1.2.0",
            "_model_name": "LayoutModel",
            "_view_count": null,
            "_view_module": "@jupyter-widgets/base",
            "_view_module_version": "1.2.0",
            "_view_name": "LayoutView",
            "align_content": null,
            "align_items": null,
            "align_self": null,
            "border": null,
            "bottom": null,
            "display": null,
            "flex": null,
            "flex_flow": null,
            "grid_area": null,
            "grid_auto_columns": null,
            "grid_auto_flow": null,
            "grid_auto_rows": null,
            "grid_column": null,
            "grid_gap": null,
            "grid_row": null,
            "grid_template_areas": null,
            "grid_template_columns": null,
            "grid_template_rows": null,
            "height": null,
            "justify_content": null,
            "justify_items": null,
            "left": null,
            "margin": null,
            "max_height": null,
            "max_width": null,
            "min_height": null,
            "min_width": null,
            "object_fit": null,
            "object_position": null,
            "order": null,
            "overflow": null,
            "overflow_x": null,
            "overflow_y": null,
            "padding": null,
            "right": null,
            "top": null,
            "visibility": null,
            "width": null
          }
        },
        "350311b7671948fe86664134080f90bc": {
          "model_module": "@jupyter-widgets/base",
          "model_name": "LayoutModel",
          "model_module_version": "1.2.0",
          "state": {
            "_model_module": "@jupyter-widgets/base",
            "_model_module_version": "1.2.0",
            "_model_name": "LayoutModel",
            "_view_count": null,
            "_view_module": "@jupyter-widgets/base",
            "_view_module_version": "1.2.0",
            "_view_name": "LayoutView",
            "align_content": null,
            "align_items": null,
            "align_self": null,
            "border": null,
            "bottom": null,
            "display": null,
            "flex": null,
            "flex_flow": null,
            "grid_area": null,
            "grid_auto_columns": null,
            "grid_auto_flow": null,
            "grid_auto_rows": null,
            "grid_column": null,
            "grid_gap": null,
            "grid_row": null,
            "grid_template_areas": null,
            "grid_template_columns": null,
            "grid_template_rows": null,
            "height": null,
            "justify_content": null,
            "justify_items": null,
            "left": null,
            "margin": null,
            "max_height": null,
            "max_width": null,
            "min_height": null,
            "min_width": null,
            "object_fit": null,
            "object_position": null,
            "order": null,
            "overflow": null,
            "overflow_x": null,
            "overflow_y": null,
            "padding": null,
            "right": null,
            "top": null,
            "visibility": null,
            "width": null
          }
        },
        "976aaf54fdb94b54921eee8ab517d353": {
          "model_module": "@jupyter-widgets/controls",
          "model_name": "DescriptionStyleModel",
          "model_module_version": "1.5.0",
          "state": {
            "_model_module": "@jupyter-widgets/controls",
            "_model_module_version": "1.5.0",
            "_model_name": "DescriptionStyleModel",
            "_view_count": null,
            "_view_module": "@jupyter-widgets/base",
            "_view_module_version": "1.2.0",
            "_view_name": "StyleView",
            "description_width": ""
          }
        },
        "724920e2d0a54f78baa30e2d7135299f": {
          "model_module": "@jupyter-widgets/base",
          "model_name": "LayoutModel",
          "model_module_version": "1.2.0",
          "state": {
            "_model_module": "@jupyter-widgets/base",
            "_model_module_version": "1.2.0",
            "_model_name": "LayoutModel",
            "_view_count": null,
            "_view_module": "@jupyter-widgets/base",
            "_view_module_version": "1.2.0",
            "_view_name": "LayoutView",
            "align_content": null,
            "align_items": null,
            "align_self": null,
            "border": null,
            "bottom": null,
            "display": null,
            "flex": null,
            "flex_flow": null,
            "grid_area": null,
            "grid_auto_columns": null,
            "grid_auto_flow": null,
            "grid_auto_rows": null,
            "grid_column": null,
            "grid_gap": null,
            "grid_row": null,
            "grid_template_areas": null,
            "grid_template_columns": null,
            "grid_template_rows": null,
            "height": null,
            "justify_content": null,
            "justify_items": null,
            "left": null,
            "margin": null,
            "max_height": null,
            "max_width": null,
            "min_height": null,
            "min_width": null,
            "object_fit": null,
            "object_position": null,
            "order": null,
            "overflow": null,
            "overflow_x": null,
            "overflow_y": null,
            "padding": null,
            "right": null,
            "top": null,
            "visibility": null,
            "width": null
          }
        },
        "ec5627fb95944deda6d0b48ffaa39c30": {
          "model_module": "@jupyter-widgets/controls",
          "model_name": "ProgressStyleModel",
          "model_module_version": "1.5.0",
          "state": {
            "_model_module": "@jupyter-widgets/controls",
            "_model_module_version": "1.5.0",
            "_model_name": "ProgressStyleModel",
            "_view_count": null,
            "_view_module": "@jupyter-widgets/base",
            "_view_module_version": "1.2.0",
            "_view_name": "StyleView",
            "bar_color": null,
            "description_width": ""
          }
        },
        "0613a31ef77a4f898fddb6a35f90e35b": {
          "model_module": "@jupyter-widgets/base",
          "model_name": "LayoutModel",
          "model_module_version": "1.2.0",
          "state": {
            "_model_module": "@jupyter-widgets/base",
            "_model_module_version": "1.2.0",
            "_model_name": "LayoutModel",
            "_view_count": null,
            "_view_module": "@jupyter-widgets/base",
            "_view_module_version": "1.2.0",
            "_view_name": "LayoutView",
            "align_content": null,
            "align_items": null,
            "align_self": null,
            "border": null,
            "bottom": null,
            "display": null,
            "flex": null,
            "flex_flow": null,
            "grid_area": null,
            "grid_auto_columns": null,
            "grid_auto_flow": null,
            "grid_auto_rows": null,
            "grid_column": null,
            "grid_gap": null,
            "grid_row": null,
            "grid_template_areas": null,
            "grid_template_columns": null,
            "grid_template_rows": null,
            "height": null,
            "justify_content": null,
            "justify_items": null,
            "left": null,
            "margin": null,
            "max_height": null,
            "max_width": null,
            "min_height": null,
            "min_width": null,
            "object_fit": null,
            "object_position": null,
            "order": null,
            "overflow": null,
            "overflow_x": null,
            "overflow_y": null,
            "padding": null,
            "right": null,
            "top": null,
            "visibility": null,
            "width": null
          }
        },
        "8710bedfeadb4eabb8af498aedae6b48": {
          "model_module": "@jupyter-widgets/controls",
          "model_name": "DescriptionStyleModel",
          "model_module_version": "1.5.0",
          "state": {
            "_model_module": "@jupyter-widgets/controls",
            "_model_module_version": "1.5.0",
            "_model_name": "DescriptionStyleModel",
            "_view_count": null,
            "_view_module": "@jupyter-widgets/base",
            "_view_module_version": "1.2.0",
            "_view_name": "StyleView",
            "description_width": ""
          }
        }
      }
    }
  },
  "nbformat": 4,
  "nbformat_minor": 0
}