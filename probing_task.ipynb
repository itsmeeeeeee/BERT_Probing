{
  "cells": [
    {
      "cell_type": "markdown",
      "metadata": {
        "id": "view-in-github",
        "colab_type": "text"
      },
      "source": [
        "<a href=\"https://colab.research.google.com/github/itsmeeeeeee/BERT_Probing/blob/main/probing_task.ipynb\" target=\"_parent\"><img src=\"https://colab.research.google.com/assets/colab-badge.svg\" alt=\"Open In Colab\"/></a>"
      ]
    },
    {
      "cell_type": "markdown",
      "metadata": {
        "id": "PHQNGDP-8im8"
      },
      "source": [
        "# Step 1: Importing packages and libraries"
      ]
    },
    {
      "cell_type": "code",
      "execution_count": 1,
      "metadata": {
        "id": "DletLUctI-TK",
        "outputId": "e19b21c4-123b-4cab-f3bc-96da4d2fa7df",
        "colab": {
          "base_uri": "https://localhost:8080/"
        }
      },
      "outputs": [
        {
          "output_type": "stream",
          "name": "stdout",
          "text": [
            "Collecting transformers\n",
            "  Downloading transformers-4.34.1-py3-none-any.whl (7.7 MB)\n",
            "\u001b[2K     \u001b[90m━━━━━━━━━━━━━━━━━━━━━━━━━━━━━━━━━━━━━━━━\u001b[0m \u001b[32m7.7/7.7 MB\u001b[0m \u001b[31m60.0 MB/s\u001b[0m eta \u001b[36m0:00:00\u001b[0m\n",
            "\u001b[?25hRequirement already satisfied: filelock in /usr/local/lib/python3.10/dist-packages (from transformers) (3.12.4)\n",
            "Collecting huggingface-hub<1.0,>=0.16.4 (from transformers)\n",
            "  Downloading huggingface_hub-0.18.0-py3-none-any.whl (301 kB)\n",
            "\u001b[2K     \u001b[90m━━━━━━━━━━━━━━━━━━━━━━━━━━━━━━━━━━━━━━━━\u001b[0m \u001b[32m302.0/302.0 kB\u001b[0m \u001b[31m37.9 MB/s\u001b[0m eta \u001b[36m0:00:00\u001b[0m\n",
            "\u001b[?25hRequirement already satisfied: numpy>=1.17 in /usr/local/lib/python3.10/dist-packages (from transformers) (1.23.5)\n",
            "Requirement already satisfied: packaging>=20.0 in /usr/local/lib/python3.10/dist-packages (from transformers) (23.2)\n",
            "Requirement already satisfied: pyyaml>=5.1 in /usr/local/lib/python3.10/dist-packages (from transformers) (6.0.1)\n",
            "Requirement already satisfied: regex!=2019.12.17 in /usr/local/lib/python3.10/dist-packages (from transformers) (2023.6.3)\n",
            "Requirement already satisfied: requests in /usr/local/lib/python3.10/dist-packages (from transformers) (2.31.0)\n",
            "Collecting tokenizers<0.15,>=0.14 (from transformers)\n",
            "  Downloading tokenizers-0.14.1-cp310-cp310-manylinux_2_17_x86_64.manylinux2014_x86_64.whl (3.8 MB)\n",
            "\u001b[2K     \u001b[90m━━━━━━━━━━━━━━━━━━━━━━━━━━━━━━━━━━━━━━━━\u001b[0m \u001b[32m3.8/3.8 MB\u001b[0m \u001b[31m85.8 MB/s\u001b[0m eta \u001b[36m0:00:00\u001b[0m\n",
            "\u001b[?25hCollecting safetensors>=0.3.1 (from transformers)\n",
            "  Downloading safetensors-0.4.0-cp310-cp310-manylinux_2_17_x86_64.manylinux2014_x86_64.whl (1.3 MB)\n",
            "\u001b[2K     \u001b[90m━━━━━━━━━━━━━━━━━━━━━━━━━━━━━━━━━━━━━━━━\u001b[0m \u001b[32m1.3/1.3 MB\u001b[0m \u001b[31m43.7 MB/s\u001b[0m eta \u001b[36m0:00:00\u001b[0m\n",
            "\u001b[?25hRequirement already satisfied: tqdm>=4.27 in /usr/local/lib/python3.10/dist-packages (from transformers) (4.66.1)\n",
            "Requirement already satisfied: fsspec>=2023.5.0 in /usr/local/lib/python3.10/dist-packages (from huggingface-hub<1.0,>=0.16.4->transformers) (2023.6.0)\n",
            "Requirement already satisfied: typing-extensions>=3.7.4.3 in /usr/local/lib/python3.10/dist-packages (from huggingface-hub<1.0,>=0.16.4->transformers) (4.5.0)\n",
            "Collecting huggingface-hub<1.0,>=0.16.4 (from transformers)\n",
            "  Downloading huggingface_hub-0.17.3-py3-none-any.whl (295 kB)\n",
            "\u001b[2K     \u001b[90m━━━━━━━━━━━━━━━━━━━━━━━━━━━━━━━━━━━━━━━━\u001b[0m \u001b[32m295.0/295.0 kB\u001b[0m \u001b[31m28.6 MB/s\u001b[0m eta \u001b[36m0:00:00\u001b[0m\n",
            "\u001b[?25hRequirement already satisfied: charset-normalizer<4,>=2 in /usr/local/lib/python3.10/dist-packages (from requests->transformers) (3.3.0)\n",
            "Requirement already satisfied: idna<4,>=2.5 in /usr/local/lib/python3.10/dist-packages (from requests->transformers) (3.4)\n",
            "Requirement already satisfied: urllib3<3,>=1.21.1 in /usr/local/lib/python3.10/dist-packages (from requests->transformers) (2.0.7)\n",
            "Requirement already satisfied: certifi>=2017.4.17 in /usr/local/lib/python3.10/dist-packages (from requests->transformers) (2023.7.22)\n",
            "Installing collected packages: safetensors, huggingface-hub, tokenizers, transformers\n",
            "Successfully installed huggingface-hub-0.17.3 safetensors-0.4.0 tokenizers-0.14.1 transformers-4.34.1\n"
          ]
        }
      ],
      "source": [
        "!pip install transformers"
      ]
    },
    {
      "cell_type": "code",
      "execution_count": 2,
      "metadata": {
        "id": "iQUNK-OG6onq"
      },
      "outputs": [],
      "source": [
        "import pandas as pd\n",
        "import numpy as np\n",
        "from ast import literal_eval\n",
        "import ast\n",
        "from transformers import BertModel\n",
        "import torch\n",
        "from sklearn.model_selection import train_test_split\n",
        "from sklearn.linear_model import LogisticRegression\n",
        "from sklearn.metrics import accuracy_score, f1_score, confusion_matrix\n",
        "from sklearn.preprocessing import StandardScaler\n",
        "from sklearn.utils import resample\n",
        "import torch.nn as nn\n",
        "import torch.optim as optim\n",
        "import pandas as pd\n",
        "import csv\n",
        "import matplotlib.pyplot as plt\n",
        "import seaborn as sns"
      ]
    },
    {
      "cell_type": "markdown",
      "metadata": {
        "id": "9z5POPN_9BnF"
      },
      "source": [
        "# Step 2: Loading datatset and BERT Model"
      ]
    },
    {
      "cell_type": "code",
      "execution_count": 3,
      "metadata": {
        "colab": {
          "base_uri": "https://localhost:8080/"
        },
        "id": "LoQhUjsGLQ6l",
        "outputId": "7296621a-f414-4ba9-ec10-946d402903c6"
      },
      "outputs": [
        {
          "output_type": "stream",
          "name": "stdout",
          "text": [
            "Mounted at /content/drive\n"
          ]
        }
      ],
      "source": [
        "from google.colab import drive\n",
        "drive.mount('/content/drive')"
      ]
    },
    {
      "cell_type": "code",
      "execution_count": 4,
      "metadata": {
        "id": "-vckz1-a8zIW"
      },
      "outputs": [],
      "source": [
        "# Read the CSV file with specified options\n",
        "df = pd.read_csv('/content/drive/My Drive/embedding_data/concat_all_embedding_data.csv')"
      ]
    },
    {
      "cell_type": "code",
      "execution_count": 5,
      "metadata": {
        "colab": {
          "base_uri": "https://localhost:8080/",
          "height": 484
        },
        "id": "CdNkZJnWbmn_",
        "outputId": "34fb3762-c827-4b7d-a8f6-c9670c44af9c"
      },
      "outputs": [
        {
          "output_type": "execute_result",
          "data": {
            "text/plain": [
              "   Unnamed: 0.1  Unnamed: 0  \\\n",
              "0             0          45   \n",
              "1             1          49   \n",
              "2             2          63   \n",
              "3             3          65   \n",
              "4             4          72   \n",
              "\n",
              "                                        Sentence_row  Word_count  \\\n",
              "0  Celebration Shooting Turns Wedding Into a Fune...        82.0   \n",
              "1  Celebration Shooting Turns Wedding Into a Fune...        82.0   \n",
              "2  Celebration Shooting Turns Wedding Into a Fune...        82.0   \n",
              "3  Celebration Shooting Turns Wedding Into a Fune...        82.0   \n",
              "4  Celebration Shooting Turns Wedding Into a Fune...        82.0   \n",
              "\n",
              "                                            Sentence  Sentence_no  \\\n",
              "0  ('Celebration', 'Shooting', 'Turns', 'Wedding'...            0   \n",
              "1  ('Celebration', 'Shooting', 'Turns', 'Wedding'...            0   \n",
              "2  ('Celebration', 'Shooting', 'Turns', 'Wedding'...            0   \n",
              "3  ('Celebration', 'Shooting', 'Turns', 'Wedding'...            0   \n",
              "4  ('Celebration', 'Shooting', 'Turns', 'Wedding'...            0   \n",
              "\n",
              "          Word   POS  end_labels                       subword  word_index  \\\n",
              "0  celebrators  NOUN         1.0  ['##ele', '##bra', '##tors']          59   \n",
              "1          his  PRON         1.0                           NaN          66   \n",
              "2        groom  NOUN         1.0                           NaN          80   \n",
              "3      brother  NOUN         1.0                           NaN          83   \n",
              "4          his  PRON         1.0                           NaN          90   \n",
              "\n",
              "                              contextualized_vectors  \n",
              "0  [0.2368014007806778, 0.7057396173477173, 0.346...  \n",
              "1  [0.24929562211036682, 0.24487225711345673, 0.0...  \n",
              "2  [-0.3184204399585724, -0.004366732202470303, -...  \n",
              "3  [0.19683706760406494, 0.23691487312316895, -0....  \n",
              "4  [-0.11486530303955078, 0.16750510036945343, 0....  "
            ],
            "text/html": [
              "\n",
              "  <div id=\"df-d1acde21-6089-4eac-97f8-657cef383477\" class=\"colab-df-container\">\n",
              "    <div>\n",
              "<style scoped>\n",
              "    .dataframe tbody tr th:only-of-type {\n",
              "        vertical-align: middle;\n",
              "    }\n",
              "\n",
              "    .dataframe tbody tr th {\n",
              "        vertical-align: top;\n",
              "    }\n",
              "\n",
              "    .dataframe thead th {\n",
              "        text-align: right;\n",
              "    }\n",
              "</style>\n",
              "<table border=\"1\" class=\"dataframe\">\n",
              "  <thead>\n",
              "    <tr style=\"text-align: right;\">\n",
              "      <th></th>\n",
              "      <th>Unnamed: 0.1</th>\n",
              "      <th>Unnamed: 0</th>\n",
              "      <th>Sentence_row</th>\n",
              "      <th>Word_count</th>\n",
              "      <th>Sentence</th>\n",
              "      <th>Sentence_no</th>\n",
              "      <th>Word</th>\n",
              "      <th>POS</th>\n",
              "      <th>end_labels</th>\n",
              "      <th>subword</th>\n",
              "      <th>word_index</th>\n",
              "      <th>contextualized_vectors</th>\n",
              "    </tr>\n",
              "  </thead>\n",
              "  <tbody>\n",
              "    <tr>\n",
              "      <th>0</th>\n",
              "      <td>0</td>\n",
              "      <td>45</td>\n",
              "      <td>Celebration Shooting Turns Wedding Into a Fune...</td>\n",
              "      <td>82.0</td>\n",
              "      <td>('Celebration', 'Shooting', 'Turns', 'Wedding'...</td>\n",
              "      <td>0</td>\n",
              "      <td>celebrators</td>\n",
              "      <td>NOUN</td>\n",
              "      <td>1.0</td>\n",
              "      <td>['##ele', '##bra', '##tors']</td>\n",
              "      <td>59</td>\n",
              "      <td>[0.2368014007806778, 0.7057396173477173, 0.346...</td>\n",
              "    </tr>\n",
              "    <tr>\n",
              "      <th>1</th>\n",
              "      <td>1</td>\n",
              "      <td>49</td>\n",
              "      <td>Celebration Shooting Turns Wedding Into a Fune...</td>\n",
              "      <td>82.0</td>\n",
              "      <td>('Celebration', 'Shooting', 'Turns', 'Wedding'...</td>\n",
              "      <td>0</td>\n",
              "      <td>his</td>\n",
              "      <td>PRON</td>\n",
              "      <td>1.0</td>\n",
              "      <td>NaN</td>\n",
              "      <td>66</td>\n",
              "      <td>[0.24929562211036682, 0.24487225711345673, 0.0...</td>\n",
              "    </tr>\n",
              "    <tr>\n",
              "      <th>2</th>\n",
              "      <td>2</td>\n",
              "      <td>63</td>\n",
              "      <td>Celebration Shooting Turns Wedding Into a Fune...</td>\n",
              "      <td>82.0</td>\n",
              "      <td>('Celebration', 'Shooting', 'Turns', 'Wedding'...</td>\n",
              "      <td>0</td>\n",
              "      <td>groom</td>\n",
              "      <td>NOUN</td>\n",
              "      <td>1.0</td>\n",
              "      <td>NaN</td>\n",
              "      <td>80</td>\n",
              "      <td>[-0.3184204399585724, -0.004366732202470303, -...</td>\n",
              "    </tr>\n",
              "    <tr>\n",
              "      <th>3</th>\n",
              "      <td>3</td>\n",
              "      <td>65</td>\n",
              "      <td>Celebration Shooting Turns Wedding Into a Fune...</td>\n",
              "      <td>82.0</td>\n",
              "      <td>('Celebration', 'Shooting', 'Turns', 'Wedding'...</td>\n",
              "      <td>0</td>\n",
              "      <td>brother</td>\n",
              "      <td>NOUN</td>\n",
              "      <td>1.0</td>\n",
              "      <td>NaN</td>\n",
              "      <td>83</td>\n",
              "      <td>[0.19683706760406494, 0.23691487312316895, -0....</td>\n",
              "    </tr>\n",
              "    <tr>\n",
              "      <th>4</th>\n",
              "      <td>4</td>\n",
              "      <td>72</td>\n",
              "      <td>Celebration Shooting Turns Wedding Into a Fune...</td>\n",
              "      <td>82.0</td>\n",
              "      <td>('Celebration', 'Shooting', 'Turns', 'Wedding'...</td>\n",
              "      <td>0</td>\n",
              "      <td>his</td>\n",
              "      <td>PRON</td>\n",
              "      <td>1.0</td>\n",
              "      <td>NaN</td>\n",
              "      <td>90</td>\n",
              "      <td>[-0.11486530303955078, 0.16750510036945343, 0....</td>\n",
              "    </tr>\n",
              "  </tbody>\n",
              "</table>\n",
              "</div>\n",
              "    <div class=\"colab-df-buttons\">\n",
              "\n",
              "  <div class=\"colab-df-container\">\n",
              "    <button class=\"colab-df-convert\" onclick=\"convertToInteractive('df-d1acde21-6089-4eac-97f8-657cef383477')\"\n",
              "            title=\"Convert this dataframe to an interactive table.\"\n",
              "            style=\"display:none;\">\n",
              "\n",
              "  <svg xmlns=\"http://www.w3.org/2000/svg\" height=\"24px\" viewBox=\"0 -960 960 960\">\n",
              "    <path d=\"M120-120v-720h720v720H120Zm60-500h600v-160H180v160Zm220 220h160v-160H400v160Zm0 220h160v-160H400v160ZM180-400h160v-160H180v160Zm440 0h160v-160H620v160ZM180-180h160v-160H180v160Zm440 0h160v-160H620v160Z\"/>\n",
              "  </svg>\n",
              "    </button>\n",
              "\n",
              "  <style>\n",
              "    .colab-df-container {\n",
              "      display:flex;\n",
              "      gap: 12px;\n",
              "    }\n",
              "\n",
              "    .colab-df-convert {\n",
              "      background-color: #E8F0FE;\n",
              "      border: none;\n",
              "      border-radius: 50%;\n",
              "      cursor: pointer;\n",
              "      display: none;\n",
              "      fill: #1967D2;\n",
              "      height: 32px;\n",
              "      padding: 0 0 0 0;\n",
              "      width: 32px;\n",
              "    }\n",
              "\n",
              "    .colab-df-convert:hover {\n",
              "      background-color: #E2EBFA;\n",
              "      box-shadow: 0px 1px 2px rgba(60, 64, 67, 0.3), 0px 1px 3px 1px rgba(60, 64, 67, 0.15);\n",
              "      fill: #174EA6;\n",
              "    }\n",
              "\n",
              "    .colab-df-buttons div {\n",
              "      margin-bottom: 4px;\n",
              "    }\n",
              "\n",
              "    [theme=dark] .colab-df-convert {\n",
              "      background-color: #3B4455;\n",
              "      fill: #D2E3FC;\n",
              "    }\n",
              "\n",
              "    [theme=dark] .colab-df-convert:hover {\n",
              "      background-color: #434B5C;\n",
              "      box-shadow: 0px 1px 3px 1px rgba(0, 0, 0, 0.15);\n",
              "      filter: drop-shadow(0px 1px 2px rgba(0, 0, 0, 0.3));\n",
              "      fill: #FFFFFF;\n",
              "    }\n",
              "  </style>\n",
              "\n",
              "    <script>\n",
              "      const buttonEl =\n",
              "        document.querySelector('#df-d1acde21-6089-4eac-97f8-657cef383477 button.colab-df-convert');\n",
              "      buttonEl.style.display =\n",
              "        google.colab.kernel.accessAllowed ? 'block' : 'none';\n",
              "\n",
              "      async function convertToInteractive(key) {\n",
              "        const element = document.querySelector('#df-d1acde21-6089-4eac-97f8-657cef383477');\n",
              "        const dataTable =\n",
              "          await google.colab.kernel.invokeFunction('convertToInteractive',\n",
              "                                                    [key], {});\n",
              "        if (!dataTable) return;\n",
              "\n",
              "        const docLinkHtml = 'Like what you see? Visit the ' +\n",
              "          '<a target=\"_blank\" href=https://colab.research.google.com/notebooks/data_table.ipynb>data table notebook</a>'\n",
              "          + ' to learn more about interactive tables.';\n",
              "        element.innerHTML = '';\n",
              "        dataTable['output_type'] = 'display_data';\n",
              "        await google.colab.output.renderOutput(dataTable, element);\n",
              "        const docLink = document.createElement('div');\n",
              "        docLink.innerHTML = docLinkHtml;\n",
              "        element.appendChild(docLink);\n",
              "      }\n",
              "    </script>\n",
              "  </div>\n",
              "\n",
              "\n",
              "<div id=\"df-8ff5d7f6-eede-4878-9595-3672bc5fbf9e\">\n",
              "  <button class=\"colab-df-quickchart\" onclick=\"quickchart('df-8ff5d7f6-eede-4878-9595-3672bc5fbf9e')\"\n",
              "            title=\"Suggest charts.\"\n",
              "            style=\"display:none;\">\n",
              "\n",
              "<svg xmlns=\"http://www.w3.org/2000/svg\" height=\"24px\"viewBox=\"0 0 24 24\"\n",
              "     width=\"24px\">\n",
              "    <g>\n",
              "        <path d=\"M19 3H5c-1.1 0-2 .9-2 2v14c0 1.1.9 2 2 2h14c1.1 0 2-.9 2-2V5c0-1.1-.9-2-2-2zM9 17H7v-7h2v7zm4 0h-2V7h2v10zm4 0h-2v-4h2v4z\"/>\n",
              "    </g>\n",
              "</svg>\n",
              "  </button>\n",
              "\n",
              "<style>\n",
              "  .colab-df-quickchart {\n",
              "      --bg-color: #E8F0FE;\n",
              "      --fill-color: #1967D2;\n",
              "      --hover-bg-color: #E2EBFA;\n",
              "      --hover-fill-color: #174EA6;\n",
              "      --disabled-fill-color: #AAA;\n",
              "      --disabled-bg-color: #DDD;\n",
              "  }\n",
              "\n",
              "  [theme=dark] .colab-df-quickchart {\n",
              "      --bg-color: #3B4455;\n",
              "      --fill-color: #D2E3FC;\n",
              "      --hover-bg-color: #434B5C;\n",
              "      --hover-fill-color: #FFFFFF;\n",
              "      --disabled-bg-color: #3B4455;\n",
              "      --disabled-fill-color: #666;\n",
              "  }\n",
              "\n",
              "  .colab-df-quickchart {\n",
              "    background-color: var(--bg-color);\n",
              "    border: none;\n",
              "    border-radius: 50%;\n",
              "    cursor: pointer;\n",
              "    display: none;\n",
              "    fill: var(--fill-color);\n",
              "    height: 32px;\n",
              "    padding: 0;\n",
              "    width: 32px;\n",
              "  }\n",
              "\n",
              "  .colab-df-quickchart:hover {\n",
              "    background-color: var(--hover-bg-color);\n",
              "    box-shadow: 0 1px 2px rgba(60, 64, 67, 0.3), 0 1px 3px 1px rgba(60, 64, 67, 0.15);\n",
              "    fill: var(--button-hover-fill-color);\n",
              "  }\n",
              "\n",
              "  .colab-df-quickchart-complete:disabled,\n",
              "  .colab-df-quickchart-complete:disabled:hover {\n",
              "    background-color: var(--disabled-bg-color);\n",
              "    fill: var(--disabled-fill-color);\n",
              "    box-shadow: none;\n",
              "  }\n",
              "\n",
              "  .colab-df-spinner {\n",
              "    border: 2px solid var(--fill-color);\n",
              "    border-color: transparent;\n",
              "    border-bottom-color: var(--fill-color);\n",
              "    animation:\n",
              "      spin 1s steps(1) infinite;\n",
              "  }\n",
              "\n",
              "  @keyframes spin {\n",
              "    0% {\n",
              "      border-color: transparent;\n",
              "      border-bottom-color: var(--fill-color);\n",
              "      border-left-color: var(--fill-color);\n",
              "    }\n",
              "    20% {\n",
              "      border-color: transparent;\n",
              "      border-left-color: var(--fill-color);\n",
              "      border-top-color: var(--fill-color);\n",
              "    }\n",
              "    30% {\n",
              "      border-color: transparent;\n",
              "      border-left-color: var(--fill-color);\n",
              "      border-top-color: var(--fill-color);\n",
              "      border-right-color: var(--fill-color);\n",
              "    }\n",
              "    40% {\n",
              "      border-color: transparent;\n",
              "      border-right-color: var(--fill-color);\n",
              "      border-top-color: var(--fill-color);\n",
              "    }\n",
              "    60% {\n",
              "      border-color: transparent;\n",
              "      border-right-color: var(--fill-color);\n",
              "    }\n",
              "    80% {\n",
              "      border-color: transparent;\n",
              "      border-right-color: var(--fill-color);\n",
              "      border-bottom-color: var(--fill-color);\n",
              "    }\n",
              "    90% {\n",
              "      border-color: transparent;\n",
              "      border-bottom-color: var(--fill-color);\n",
              "    }\n",
              "  }\n",
              "</style>\n",
              "\n",
              "  <script>\n",
              "    async function quickchart(key) {\n",
              "      const quickchartButtonEl =\n",
              "        document.querySelector('#' + key + ' button');\n",
              "      quickchartButtonEl.disabled = true;  // To prevent multiple clicks.\n",
              "      quickchartButtonEl.classList.add('colab-df-spinner');\n",
              "      try {\n",
              "        const charts = await google.colab.kernel.invokeFunction(\n",
              "            'suggestCharts', [key], {});\n",
              "      } catch (error) {\n",
              "        console.error('Error during call to suggestCharts:', error);\n",
              "      }\n",
              "      quickchartButtonEl.classList.remove('colab-df-spinner');\n",
              "      quickchartButtonEl.classList.add('colab-df-quickchart-complete');\n",
              "    }\n",
              "    (() => {\n",
              "      let quickchartButtonEl =\n",
              "        document.querySelector('#df-8ff5d7f6-eede-4878-9595-3672bc5fbf9e button');\n",
              "      quickchartButtonEl.style.display =\n",
              "        google.colab.kernel.accessAllowed ? 'block' : 'none';\n",
              "    })();\n",
              "  </script>\n",
              "</div>\n",
              "    </div>\n",
              "  </div>\n"
            ]
          },
          "metadata": {},
          "execution_count": 5
        }
      ],
      "source": [
        "df.head()"
      ]
    },
    {
      "cell_type": "code",
      "execution_count": 6,
      "metadata": {
        "id": "5p-7t4O50XVG",
        "outputId": "985e072f-8279-4008-8322-15bd2712ce0d",
        "colab": {
          "base_uri": "https://localhost:8080/",
          "height": 81,
          "referenced_widgets": [
            "7d2d93cce3b84e55aaa85b13c146e119",
            "05bd909b3d4e4c85a7abeb6954207b8f",
            "441a22f03a6742bdbca6767523a95ced",
            "0ddbda7b31be4d4e88c65b871b4693a5",
            "c82f77ed13f4455b817d593752da9ee8",
            "0c23c6a8b2174b5db92cabe4f8bf20c5",
            "01de1bc5c9804d5bb568366f6b506e4f",
            "1d8daef9731c40cc8d15a1e208299b97",
            "d2b8d56bb71a4b6dbf0598c531b4c6d6",
            "d41e22d31a17433bb9bd275885e45ae8",
            "8b397bc9ff0d4aba8b59ba31d834c1af",
            "b30418bb700140f59121e825e9fa8740",
            "e15291f7936248b1a3ad33b82d77dc6b",
            "ef2ddc9e01334b52bad2b0f334c84e61",
            "d71ff04360b24d4387f115b13d14e8f6",
            "a0acfb28c7a443deb75ce53c832fbd85",
            "777647741e6a4ed1a09cb04e026cdb06",
            "292f3dced56e4cc8a02176a31626b573",
            "b0c964df03e24ab19437796b09e7abea",
            "e599d79dde69433ea895340950449db0",
            "e33deacf461442ab8212d324e3f8f9bd",
            "2f90a55cd335425786d31a6f691403cd"
          ]
        }
      },
      "outputs": [
        {
          "output_type": "display_data",
          "data": {
            "text/plain": [
              "Downloading (…)lve/main/config.json:   0%|          | 0.00/570 [00:00<?, ?B/s]"
            ],
            "application/vnd.jupyter.widget-view+json": {
              "version_major": 2,
              "version_minor": 0,
              "model_id": "7d2d93cce3b84e55aaa85b13c146e119"
            }
          },
          "metadata": {}
        },
        {
          "output_type": "display_data",
          "data": {
            "text/plain": [
              "Downloading model.safetensors:   0%|          | 0.00/436M [00:00<?, ?B/s]"
            ],
            "application/vnd.jupyter.widget-view+json": {
              "version_major": 2,
              "version_minor": 0,
              "model_id": "b30418bb700140f59121e825e9fa8740"
            }
          },
          "metadata": {}
        }
      ],
      "source": [
        "model_ckpt = \"bert-base-cased\"\n",
        "model = BertModel.from_pretrained(model_ckpt)"
      ]
    },
    {
      "cell_type": "code",
      "source": [
        "df.shape"
      ],
      "metadata": {
        "id": "z27d_KQKdCEW",
        "outputId": "11be01df-7fbe-406f-ce52-483ddaa839a0",
        "colab": {
          "base_uri": "https://localhost:8080/"
        }
      },
      "execution_count": 7,
      "outputs": [
        {
          "output_type": "execute_result",
          "data": {
            "text/plain": [
              "(20687, 12)"
            ]
          },
          "metadata": {},
          "execution_count": 7
        }
      ]
    },
    {
      "cell_type": "code",
      "execution_count": 8,
      "metadata": {
        "colab": {
          "base_uri": "https://localhost:8080/"
        },
        "id": "DAVig7-Hvm26",
        "outputId": "305dd228-389a-4bac-82ca-8413533c8cd6"
      },
      "outputs": [
        {
          "output_type": "execute_result",
          "data": {
            "text/plain": [
              "Unnamed: 0.1                  0\n",
              "Unnamed: 0                    0\n",
              "Sentence_row                  0\n",
              "Word_count                    0\n",
              "Sentence                      0\n",
              "Sentence_no                   0\n",
              "Word                          0\n",
              "POS                           0\n",
              "end_labels                    0\n",
              "subword                   20122\n",
              "word_index                    0\n",
              "contextualized_vectors        0\n",
              "dtype: int64"
            ]
          },
          "metadata": {},
          "execution_count": 8
        }
      ],
      "source": [
        "df.isnull().sum()"
      ]
    },
    {
      "cell_type": "code",
      "execution_count": 9,
      "metadata": {
        "colab": {
          "base_uri": "https://localhost:8080/",
          "height": 293
        },
        "id": "HgcnYHvGcpiZ",
        "outputId": "c8d8121a-7175-40dc-9716-4535d2ccc0f0"
      },
      "outputs": [
        {
          "output_type": "execute_result",
          "data": {
            "text/plain": [
              "   Word_count                                           Sentence  Sentence_no  \\\n",
              "0        82.0  ('Celebration', 'Shooting', 'Turns', 'Wedding'...            0   \n",
              "1        82.0  ('Celebration', 'Shooting', 'Turns', 'Wedding'...            0   \n",
              "2        82.0  ('Celebration', 'Shooting', 'Turns', 'Wedding'...            0   \n",
              "3        82.0  ('Celebration', 'Shooting', 'Turns', 'Wedding'...            0   \n",
              "4        82.0  ('Celebration', 'Shooting', 'Turns', 'Wedding'...            0   \n",
              "\n",
              "          Word   POS  end_labels                       subword  word_index  \\\n",
              "0  celebrators  NOUN         1.0  ['##ele', '##bra', '##tors']          59   \n",
              "1          his  PRON         1.0                           NaN          66   \n",
              "2        groom  NOUN         1.0                           NaN          80   \n",
              "3      brother  NOUN         1.0                           NaN          83   \n",
              "4          his  PRON         1.0                           NaN          90   \n",
              "\n",
              "                              contextualized_vectors  \n",
              "0  [0.2368014007806778, 0.7057396173477173, 0.346...  \n",
              "1  [0.24929562211036682, 0.24487225711345673, 0.0...  \n",
              "2  [-0.3184204399585724, -0.004366732202470303, -...  \n",
              "3  [0.19683706760406494, 0.23691487312316895, -0....  \n",
              "4  [-0.11486530303955078, 0.16750510036945343, 0....  "
            ],
            "text/html": [
              "\n",
              "  <div id=\"df-4f7b00a8-0d65-4731-a4d8-b809f54d4b0f\" class=\"colab-df-container\">\n",
              "    <div>\n",
              "<style scoped>\n",
              "    .dataframe tbody tr th:only-of-type {\n",
              "        vertical-align: middle;\n",
              "    }\n",
              "\n",
              "    .dataframe tbody tr th {\n",
              "        vertical-align: top;\n",
              "    }\n",
              "\n",
              "    .dataframe thead th {\n",
              "        text-align: right;\n",
              "    }\n",
              "</style>\n",
              "<table border=\"1\" class=\"dataframe\">\n",
              "  <thead>\n",
              "    <tr style=\"text-align: right;\">\n",
              "      <th></th>\n",
              "      <th>Word_count</th>\n",
              "      <th>Sentence</th>\n",
              "      <th>Sentence_no</th>\n",
              "      <th>Word</th>\n",
              "      <th>POS</th>\n",
              "      <th>end_labels</th>\n",
              "      <th>subword</th>\n",
              "      <th>word_index</th>\n",
              "      <th>contextualized_vectors</th>\n",
              "    </tr>\n",
              "  </thead>\n",
              "  <tbody>\n",
              "    <tr>\n",
              "      <th>0</th>\n",
              "      <td>82.0</td>\n",
              "      <td>('Celebration', 'Shooting', 'Turns', 'Wedding'...</td>\n",
              "      <td>0</td>\n",
              "      <td>celebrators</td>\n",
              "      <td>NOUN</td>\n",
              "      <td>1.0</td>\n",
              "      <td>['##ele', '##bra', '##tors']</td>\n",
              "      <td>59</td>\n",
              "      <td>[0.2368014007806778, 0.7057396173477173, 0.346...</td>\n",
              "    </tr>\n",
              "    <tr>\n",
              "      <th>1</th>\n",
              "      <td>82.0</td>\n",
              "      <td>('Celebration', 'Shooting', 'Turns', 'Wedding'...</td>\n",
              "      <td>0</td>\n",
              "      <td>his</td>\n",
              "      <td>PRON</td>\n",
              "      <td>1.0</td>\n",
              "      <td>NaN</td>\n",
              "      <td>66</td>\n",
              "      <td>[0.24929562211036682, 0.24487225711345673, 0.0...</td>\n",
              "    </tr>\n",
              "    <tr>\n",
              "      <th>2</th>\n",
              "      <td>82.0</td>\n",
              "      <td>('Celebration', 'Shooting', 'Turns', 'Wedding'...</td>\n",
              "      <td>0</td>\n",
              "      <td>groom</td>\n",
              "      <td>NOUN</td>\n",
              "      <td>1.0</td>\n",
              "      <td>NaN</td>\n",
              "      <td>80</td>\n",
              "      <td>[-0.3184204399585724, -0.004366732202470303, -...</td>\n",
              "    </tr>\n",
              "    <tr>\n",
              "      <th>3</th>\n",
              "      <td>82.0</td>\n",
              "      <td>('Celebration', 'Shooting', 'Turns', 'Wedding'...</td>\n",
              "      <td>0</td>\n",
              "      <td>brother</td>\n",
              "      <td>NOUN</td>\n",
              "      <td>1.0</td>\n",
              "      <td>NaN</td>\n",
              "      <td>83</td>\n",
              "      <td>[0.19683706760406494, 0.23691487312316895, -0....</td>\n",
              "    </tr>\n",
              "    <tr>\n",
              "      <th>4</th>\n",
              "      <td>82.0</td>\n",
              "      <td>('Celebration', 'Shooting', 'Turns', 'Wedding'...</td>\n",
              "      <td>0</td>\n",
              "      <td>his</td>\n",
              "      <td>PRON</td>\n",
              "      <td>1.0</td>\n",
              "      <td>NaN</td>\n",
              "      <td>90</td>\n",
              "      <td>[-0.11486530303955078, 0.16750510036945343, 0....</td>\n",
              "    </tr>\n",
              "  </tbody>\n",
              "</table>\n",
              "</div>\n",
              "    <div class=\"colab-df-buttons\">\n",
              "\n",
              "  <div class=\"colab-df-container\">\n",
              "    <button class=\"colab-df-convert\" onclick=\"convertToInteractive('df-4f7b00a8-0d65-4731-a4d8-b809f54d4b0f')\"\n",
              "            title=\"Convert this dataframe to an interactive table.\"\n",
              "            style=\"display:none;\">\n",
              "\n",
              "  <svg xmlns=\"http://www.w3.org/2000/svg\" height=\"24px\" viewBox=\"0 -960 960 960\">\n",
              "    <path d=\"M120-120v-720h720v720H120Zm60-500h600v-160H180v160Zm220 220h160v-160H400v160Zm0 220h160v-160H400v160ZM180-400h160v-160H180v160Zm440 0h160v-160H620v160ZM180-180h160v-160H180v160Zm440 0h160v-160H620v160Z\"/>\n",
              "  </svg>\n",
              "    </button>\n",
              "\n",
              "  <style>\n",
              "    .colab-df-container {\n",
              "      display:flex;\n",
              "      gap: 12px;\n",
              "    }\n",
              "\n",
              "    .colab-df-convert {\n",
              "      background-color: #E8F0FE;\n",
              "      border: none;\n",
              "      border-radius: 50%;\n",
              "      cursor: pointer;\n",
              "      display: none;\n",
              "      fill: #1967D2;\n",
              "      height: 32px;\n",
              "      padding: 0 0 0 0;\n",
              "      width: 32px;\n",
              "    }\n",
              "\n",
              "    .colab-df-convert:hover {\n",
              "      background-color: #E2EBFA;\n",
              "      box-shadow: 0px 1px 2px rgba(60, 64, 67, 0.3), 0px 1px 3px 1px rgba(60, 64, 67, 0.15);\n",
              "      fill: #174EA6;\n",
              "    }\n",
              "\n",
              "    .colab-df-buttons div {\n",
              "      margin-bottom: 4px;\n",
              "    }\n",
              "\n",
              "    [theme=dark] .colab-df-convert {\n",
              "      background-color: #3B4455;\n",
              "      fill: #D2E3FC;\n",
              "    }\n",
              "\n",
              "    [theme=dark] .colab-df-convert:hover {\n",
              "      background-color: #434B5C;\n",
              "      box-shadow: 0px 1px 3px 1px rgba(0, 0, 0, 0.15);\n",
              "      filter: drop-shadow(0px 1px 2px rgba(0, 0, 0, 0.3));\n",
              "      fill: #FFFFFF;\n",
              "    }\n",
              "  </style>\n",
              "\n",
              "    <script>\n",
              "      const buttonEl =\n",
              "        document.querySelector('#df-4f7b00a8-0d65-4731-a4d8-b809f54d4b0f button.colab-df-convert');\n",
              "      buttonEl.style.display =\n",
              "        google.colab.kernel.accessAllowed ? 'block' : 'none';\n",
              "\n",
              "      async function convertToInteractive(key) {\n",
              "        const element = document.querySelector('#df-4f7b00a8-0d65-4731-a4d8-b809f54d4b0f');\n",
              "        const dataTable =\n",
              "          await google.colab.kernel.invokeFunction('convertToInteractive',\n",
              "                                                    [key], {});\n",
              "        if (!dataTable) return;\n",
              "\n",
              "        const docLinkHtml = 'Like what you see? Visit the ' +\n",
              "          '<a target=\"_blank\" href=https://colab.research.google.com/notebooks/data_table.ipynb>data table notebook</a>'\n",
              "          + ' to learn more about interactive tables.';\n",
              "        element.innerHTML = '';\n",
              "        dataTable['output_type'] = 'display_data';\n",
              "        await google.colab.output.renderOutput(dataTable, element);\n",
              "        const docLink = document.createElement('div');\n",
              "        docLink.innerHTML = docLinkHtml;\n",
              "        element.appendChild(docLink);\n",
              "      }\n",
              "    </script>\n",
              "  </div>\n",
              "\n",
              "\n",
              "<div id=\"df-3aec7226-a391-42c7-82cf-b775c227ecef\">\n",
              "  <button class=\"colab-df-quickchart\" onclick=\"quickchart('df-3aec7226-a391-42c7-82cf-b775c227ecef')\"\n",
              "            title=\"Suggest charts.\"\n",
              "            style=\"display:none;\">\n",
              "\n",
              "<svg xmlns=\"http://www.w3.org/2000/svg\" height=\"24px\"viewBox=\"0 0 24 24\"\n",
              "     width=\"24px\">\n",
              "    <g>\n",
              "        <path d=\"M19 3H5c-1.1 0-2 .9-2 2v14c0 1.1.9 2 2 2h14c1.1 0 2-.9 2-2V5c0-1.1-.9-2-2-2zM9 17H7v-7h2v7zm4 0h-2V7h2v10zm4 0h-2v-4h2v4z\"/>\n",
              "    </g>\n",
              "</svg>\n",
              "  </button>\n",
              "\n",
              "<style>\n",
              "  .colab-df-quickchart {\n",
              "      --bg-color: #E8F0FE;\n",
              "      --fill-color: #1967D2;\n",
              "      --hover-bg-color: #E2EBFA;\n",
              "      --hover-fill-color: #174EA6;\n",
              "      --disabled-fill-color: #AAA;\n",
              "      --disabled-bg-color: #DDD;\n",
              "  }\n",
              "\n",
              "  [theme=dark] .colab-df-quickchart {\n",
              "      --bg-color: #3B4455;\n",
              "      --fill-color: #D2E3FC;\n",
              "      --hover-bg-color: #434B5C;\n",
              "      --hover-fill-color: #FFFFFF;\n",
              "      --disabled-bg-color: #3B4455;\n",
              "      --disabled-fill-color: #666;\n",
              "  }\n",
              "\n",
              "  .colab-df-quickchart {\n",
              "    background-color: var(--bg-color);\n",
              "    border: none;\n",
              "    border-radius: 50%;\n",
              "    cursor: pointer;\n",
              "    display: none;\n",
              "    fill: var(--fill-color);\n",
              "    height: 32px;\n",
              "    padding: 0;\n",
              "    width: 32px;\n",
              "  }\n",
              "\n",
              "  .colab-df-quickchart:hover {\n",
              "    background-color: var(--hover-bg-color);\n",
              "    box-shadow: 0 1px 2px rgba(60, 64, 67, 0.3), 0 1px 3px 1px rgba(60, 64, 67, 0.15);\n",
              "    fill: var(--button-hover-fill-color);\n",
              "  }\n",
              "\n",
              "  .colab-df-quickchart-complete:disabled,\n",
              "  .colab-df-quickchart-complete:disabled:hover {\n",
              "    background-color: var(--disabled-bg-color);\n",
              "    fill: var(--disabled-fill-color);\n",
              "    box-shadow: none;\n",
              "  }\n",
              "\n",
              "  .colab-df-spinner {\n",
              "    border: 2px solid var(--fill-color);\n",
              "    border-color: transparent;\n",
              "    border-bottom-color: var(--fill-color);\n",
              "    animation:\n",
              "      spin 1s steps(1) infinite;\n",
              "  }\n",
              "\n",
              "  @keyframes spin {\n",
              "    0% {\n",
              "      border-color: transparent;\n",
              "      border-bottom-color: var(--fill-color);\n",
              "      border-left-color: var(--fill-color);\n",
              "    }\n",
              "    20% {\n",
              "      border-color: transparent;\n",
              "      border-left-color: var(--fill-color);\n",
              "      border-top-color: var(--fill-color);\n",
              "    }\n",
              "    30% {\n",
              "      border-color: transparent;\n",
              "      border-left-color: var(--fill-color);\n",
              "      border-top-color: var(--fill-color);\n",
              "      border-right-color: var(--fill-color);\n",
              "    }\n",
              "    40% {\n",
              "      border-color: transparent;\n",
              "      border-right-color: var(--fill-color);\n",
              "      border-top-color: var(--fill-color);\n",
              "    }\n",
              "    60% {\n",
              "      border-color: transparent;\n",
              "      border-right-color: var(--fill-color);\n",
              "    }\n",
              "    80% {\n",
              "      border-color: transparent;\n",
              "      border-right-color: var(--fill-color);\n",
              "      border-bottom-color: var(--fill-color);\n",
              "    }\n",
              "    90% {\n",
              "      border-color: transparent;\n",
              "      border-bottom-color: var(--fill-color);\n",
              "    }\n",
              "  }\n",
              "</style>\n",
              "\n",
              "  <script>\n",
              "    async function quickchart(key) {\n",
              "      const quickchartButtonEl =\n",
              "        document.querySelector('#' + key + ' button');\n",
              "      quickchartButtonEl.disabled = true;  // To prevent multiple clicks.\n",
              "      quickchartButtonEl.classList.add('colab-df-spinner');\n",
              "      try {\n",
              "        const charts = await google.colab.kernel.invokeFunction(\n",
              "            'suggestCharts', [key], {});\n",
              "      } catch (error) {\n",
              "        console.error('Error during call to suggestCharts:', error);\n",
              "      }\n",
              "      quickchartButtonEl.classList.remove('colab-df-spinner');\n",
              "      quickchartButtonEl.classList.add('colab-df-quickchart-complete');\n",
              "    }\n",
              "    (() => {\n",
              "      let quickchartButtonEl =\n",
              "        document.querySelector('#df-3aec7226-a391-42c7-82cf-b775c227ecef button');\n",
              "      quickchartButtonEl.style.display =\n",
              "        google.colab.kernel.accessAllowed ? 'block' : 'none';\n",
              "    })();\n",
              "  </script>\n",
              "</div>\n",
              "    </div>\n",
              "  </div>\n"
            ]
          },
          "metadata": {},
          "execution_count": 9
        }
      ],
      "source": [
        "df_fin = df.iloc[:,3:] # optional\n",
        "df_fin.head()"
      ]
    },
    {
      "cell_type": "markdown",
      "metadata": {
        "id": "7FcFFjSWdB4M"
      },
      "source": [
        "# Basic Operations"
      ]
    },
    {
      "cell_type": "code",
      "execution_count": 10,
      "metadata": {
        "colab": {
          "base_uri": "https://localhost:8080/"
        },
        "id": "Rg7EFDzSc_C2",
        "outputId": "0aeec805-121a-4223-b6aa-db6f52f56a48"
      },
      "outputs": [
        {
          "output_type": "execute_result",
          "data": {
            "text/plain": [
              "(20687, 9)"
            ]
          },
          "metadata": {},
          "execution_count": 10
        }
      ],
      "source": [
        "df_fin.shape"
      ]
    },
    {
      "cell_type": "code",
      "execution_count": 11,
      "metadata": {
        "colab": {
          "base_uri": "https://localhost:8080/"
        },
        "id": "rpgohb8rc_F0",
        "outputId": "81180fb4-86d0-46d8-875a-740d0d778d12"
      },
      "outputs": [
        {
          "output_type": "stream",
          "name": "stdout",
          "text": [
            "<class 'pandas.core.frame.DataFrame'>\n",
            "RangeIndex: 20687 entries, 0 to 20686\n",
            "Data columns (total 9 columns):\n",
            " #   Column                  Non-Null Count  Dtype  \n",
            "---  ------                  --------------  -----  \n",
            " 0   Word_count              20687 non-null  float64\n",
            " 1   Sentence                20687 non-null  object \n",
            " 2   Sentence_no             20687 non-null  int64  \n",
            " 3   Word                    20687 non-null  object \n",
            " 4   POS                     20687 non-null  object \n",
            " 5   end_labels              20687 non-null  float64\n",
            " 6   subword                 565 non-null    object \n",
            " 7   word_index              20687 non-null  int64  \n",
            " 8   contextualized_vectors  20687 non-null  object \n",
            "dtypes: float64(2), int64(2), object(5)\n",
            "memory usage: 1.4+ MB\n"
          ]
        }
      ],
      "source": [
        "df_fin.info()"
      ]
    },
    {
      "cell_type": "code",
      "execution_count": 12,
      "metadata": {
        "colab": {
          "base_uri": "https://localhost:8080/"
        },
        "id": "DxKhDANbc_Ig",
        "outputId": "ce6391b2-ea4f-4d0a-dfae-220bf50bb7b4"
      },
      "outputs": [
        {
          "output_type": "execute_result",
          "data": {
            "text/plain": [
              "Word_count                    0\n",
              "Sentence                      0\n",
              "Sentence_no                   0\n",
              "Word                          0\n",
              "POS                           0\n",
              "end_labels                    0\n",
              "subword                   20122\n",
              "word_index                    0\n",
              "contextualized_vectors        0\n",
              "dtype: int64"
            ]
          },
          "metadata": {},
          "execution_count": 12
        }
      ],
      "source": [
        "df_fin.isnull().sum()"
      ]
    },
    {
      "cell_type": "markdown",
      "metadata": {
        "id": "gYUpK0Npd_x5"
      },
      "source": [
        "# EDA and Preprocessing"
      ]
    },
    {
      "cell_type": "markdown",
      "metadata": {
        "id": "v5IU9NTUeKEX"
      },
      "source": [
        "# Group by a Single Column and Count Frequencies:\n",
        "To count the frequencies of each unique value in a specific column, you can use the groupby method followed by the count() method."
      ]
    },
    {
      "cell_type": "code",
      "execution_count": 13,
      "metadata": {
        "colab": {
          "base_uri": "https://localhost:8080/"
        },
        "id": "vfPhw9OGd_SR",
        "outputId": "31eeb823-4b50-402d-9af7-381e0ac1556a"
      },
      "outputs": [
        {
          "output_type": "execute_result",
          "data": {
            "text/plain": [
              "POS\n",
              "ADJ          3\n",
              "ADP          5\n",
              "DET          3\n",
              "NOUN      8955\n",
              "NUM          2\n",
              "PRON     11688\n",
              "PROPN       18\n",
              "VERB        13\n",
              "Name: Word, dtype: int64"
            ]
          },
          "metadata": {},
          "execution_count": 13
        }
      ],
      "source": [
        "# Example: Count frequencies of each POS tag\n",
        "pos_counts = df_fin.groupby('POS')['Word'].count()\n",
        "pos_counts"
      ]
    },
    {
      "cell_type": "markdown",
      "metadata": {
        "id": "pBcJeaL1eNys"
      },
      "source": [
        "# Group by Multiple Columns and Calculate Summary Statistics:\n",
        "You can group by multiple columns and calculate summary statistics like mean, median, or standard deviation."
      ]
    },
    {
      "cell_type": "code",
      "execution_count": 14,
      "metadata": {
        "colab": {
          "base_uri": "https://localhost:8080/"
        },
        "id": "I9sp3qkoeE0G",
        "outputId": "1ce6b384-3337-47e3-d5d2-417449c350aa"
      },
      "outputs": [
        {
          "output_type": "stream",
          "name": "stdout",
          "text": [
            "POS\n",
            "ADJ      34.333333\n",
            "ADP      12.600000\n",
            "DET       1.000000\n",
            "NOUN     14.703294\n",
            "NUM       5.500000\n",
            "PRON     14.278491\n",
            "PROPN    10.555556\n",
            "VERB     20.000000\n",
            "Name: word_index, dtype: float64\n"
          ]
        }
      ],
      "source": [
        "# Example: Calculate mean wort_index for each POS tag\n",
        "pos_mean = df_fin.groupby('POS')['word_index'].mean()\n",
        "print(pos_mean)\n"
      ]
    },
    {
      "cell_type": "markdown",
      "metadata": {
        "id": "_vzfPQV8ewwE"
      },
      "source": [
        "# Count Unique Values within Groups:\n",
        "You can count unique values within groups using the nunique() method."
      ]
    },
    {
      "cell_type": "code",
      "execution_count": 15,
      "metadata": {
        "colab": {
          "base_uri": "https://localhost:8080/"
        },
        "id": "d_5LKLrcesfA",
        "outputId": "e4813e78-6a31-4b13-9c22-9c83da17b744"
      },
      "outputs": [
        {
          "output_type": "stream",
          "name": "stdout",
          "text": [
            "POS\n",
            "ADJ         3\n",
            "ADP         1\n",
            "DET         1\n",
            "NOUN     2019\n",
            "NUM         1\n",
            "PRON       59\n",
            "PROPN       9\n",
            "VERB        6\n",
            "Name: Word, dtype: int64\n"
          ]
        }
      ],
      "source": [
        "# Example: Count unique words within each POS group\n",
        "pos_unique_words = df_fin.groupby('POS')['Word'].nunique()\n",
        "print(pos_unique_words)\n"
      ]
    },
    {
      "cell_type": "markdown",
      "metadata": {
        "id": "ywJ6ltQSe6CA"
      },
      "source": [
        "# Group by and Filter Data:\n",
        "You can group by a column and filter data based on group-specific conditions."
      ]
    },
    {
      "cell_type": "code",
      "execution_count": 16,
      "metadata": {
        "colab": {
          "base_uri": "https://localhost:8080/",
          "height": 597
        },
        "id": "X_0zF7qme1uz",
        "outputId": "294d65ca-b377-46b4-f59e-a35d168413e7"
      },
      "outputs": [
        {
          "output_type": "execute_result",
          "data": {
            "text/plain": [
              "       Word_count                                           Sentence  \\\n",
              "0            82.0  ('Celebration', 'Shooting', 'Turns', 'Wedding'...   \n",
              "1            82.0  ('Celebration', 'Shooting', 'Turns', 'Wedding'...   \n",
              "2            82.0  ('Celebration', 'Shooting', 'Turns', 'Wedding'...   \n",
              "3            82.0  ('Celebration', 'Shooting', 'Turns', 'Wedding'...   \n",
              "4            82.0  ('Celebration', 'Shooting', 'Turns', 'Wedding'...   \n",
              "...           ...                                                ...   \n",
              "20682        13.0  ('270', 'people', 'died', 'in', 'the', '1988',...   \n",
              "20683        35.0  ('Libya', 'initially', 'refused', ' ', 'to', '...   \n",
              "20684        35.0  ('Libya', 'initially', 'refused', ' ', 'to', '...   \n",
              "20685        27.0  ('Opinion', 'polls', 'in', 'Israel', 'show', '...   \n",
              "20686        27.0  ('Opinion', 'polls', 'in', 'Israel', 'show', '...   \n",
              "\n",
              "       Sentence_no         Word   POS  end_labels  \\\n",
              "0                0  celebrators  NOUN         1.0   \n",
              "1                0          his  PRON         1.0   \n",
              "2                0        groom  NOUN         1.0   \n",
              "3                0      brother  NOUN         1.0   \n",
              "4                0          his  PRON         1.0   \n",
              "...            ...          ...   ...         ...   \n",
              "20682       307826      bombing  NOUN         0.0   \n",
              "20683       307827         them  PRON         0.0   \n",
              "20684       307827         they  PRON         0.0   \n",
              "20685       307829        liner  NOUN         0.0   \n",
              "20686       307829          his  PRON         0.0   \n",
              "\n",
              "                            subword  word_index  \\\n",
              "0      ['##ele', '##bra', '##tors']          59   \n",
              "1                               NaN          66   \n",
              "2                               NaN          80   \n",
              "3                               NaN          83   \n",
              "4                               NaN          90   \n",
              "...                             ...         ...   \n",
              "20682                           NaN           7   \n",
              "20683                           NaN          13   \n",
              "20684                           NaN          21   \n",
              "20685                           NaN          10   \n",
              "20686                           NaN          14   \n",
              "\n",
              "                                  contextualized_vectors  \n",
              "0      [0.2368014007806778, 0.7057396173477173, 0.346...  \n",
              "1      [0.24929562211036682, 0.24487225711345673, 0.0...  \n",
              "2      [-0.3184204399585724, -0.004366732202470303, -...  \n",
              "3      [0.19683706760406494, 0.23691487312316895, -0....  \n",
              "4      [-0.11486530303955078, 0.16750510036945343, 0....  \n",
              "...                                                  ...  \n",
              "20682  [0.7685377597808838, 1.115256905555725, -0.038...  \n",
              "20683  [0.11229103803634644, 0.16903077065944672, -0....  \n",
              "20684  [0.4275742769241333, 0.07952270656824112, 0.25...  \n",
              "20685  [0.5175453424453735, -0.12556852400302887, -0....  \n",
              "20686  [-0.123340904712677, 0.005307200830429792, -0....  \n",
              "\n",
              "[20643 rows x 9 columns]"
            ],
            "text/html": [
              "\n",
              "  <div id=\"df-8540b39c-6b71-4d12-8168-cfb13341d360\" class=\"colab-df-container\">\n",
              "    <div>\n",
              "<style scoped>\n",
              "    .dataframe tbody tr th:only-of-type {\n",
              "        vertical-align: middle;\n",
              "    }\n",
              "\n",
              "    .dataframe tbody tr th {\n",
              "        vertical-align: top;\n",
              "    }\n",
              "\n",
              "    .dataframe thead th {\n",
              "        text-align: right;\n",
              "    }\n",
              "</style>\n",
              "<table border=\"1\" class=\"dataframe\">\n",
              "  <thead>\n",
              "    <tr style=\"text-align: right;\">\n",
              "      <th></th>\n",
              "      <th>Word_count</th>\n",
              "      <th>Sentence</th>\n",
              "      <th>Sentence_no</th>\n",
              "      <th>Word</th>\n",
              "      <th>POS</th>\n",
              "      <th>end_labels</th>\n",
              "      <th>subword</th>\n",
              "      <th>word_index</th>\n",
              "      <th>contextualized_vectors</th>\n",
              "    </tr>\n",
              "  </thead>\n",
              "  <tbody>\n",
              "    <tr>\n",
              "      <th>0</th>\n",
              "      <td>82.0</td>\n",
              "      <td>('Celebration', 'Shooting', 'Turns', 'Wedding'...</td>\n",
              "      <td>0</td>\n",
              "      <td>celebrators</td>\n",
              "      <td>NOUN</td>\n",
              "      <td>1.0</td>\n",
              "      <td>['##ele', '##bra', '##tors']</td>\n",
              "      <td>59</td>\n",
              "      <td>[0.2368014007806778, 0.7057396173477173, 0.346...</td>\n",
              "    </tr>\n",
              "    <tr>\n",
              "      <th>1</th>\n",
              "      <td>82.0</td>\n",
              "      <td>('Celebration', 'Shooting', 'Turns', 'Wedding'...</td>\n",
              "      <td>0</td>\n",
              "      <td>his</td>\n",
              "      <td>PRON</td>\n",
              "      <td>1.0</td>\n",
              "      <td>NaN</td>\n",
              "      <td>66</td>\n",
              "      <td>[0.24929562211036682, 0.24487225711345673, 0.0...</td>\n",
              "    </tr>\n",
              "    <tr>\n",
              "      <th>2</th>\n",
              "      <td>82.0</td>\n",
              "      <td>('Celebration', 'Shooting', 'Turns', 'Wedding'...</td>\n",
              "      <td>0</td>\n",
              "      <td>groom</td>\n",
              "      <td>NOUN</td>\n",
              "      <td>1.0</td>\n",
              "      <td>NaN</td>\n",
              "      <td>80</td>\n",
              "      <td>[-0.3184204399585724, -0.004366732202470303, -...</td>\n",
              "    </tr>\n",
              "    <tr>\n",
              "      <th>3</th>\n",
              "      <td>82.0</td>\n",
              "      <td>('Celebration', 'Shooting', 'Turns', 'Wedding'...</td>\n",
              "      <td>0</td>\n",
              "      <td>brother</td>\n",
              "      <td>NOUN</td>\n",
              "      <td>1.0</td>\n",
              "      <td>NaN</td>\n",
              "      <td>83</td>\n",
              "      <td>[0.19683706760406494, 0.23691487312316895, -0....</td>\n",
              "    </tr>\n",
              "    <tr>\n",
              "      <th>4</th>\n",
              "      <td>82.0</td>\n",
              "      <td>('Celebration', 'Shooting', 'Turns', 'Wedding'...</td>\n",
              "      <td>0</td>\n",
              "      <td>his</td>\n",
              "      <td>PRON</td>\n",
              "      <td>1.0</td>\n",
              "      <td>NaN</td>\n",
              "      <td>90</td>\n",
              "      <td>[-0.11486530303955078, 0.16750510036945343, 0....</td>\n",
              "    </tr>\n",
              "    <tr>\n",
              "      <th>...</th>\n",
              "      <td>...</td>\n",
              "      <td>...</td>\n",
              "      <td>...</td>\n",
              "      <td>...</td>\n",
              "      <td>...</td>\n",
              "      <td>...</td>\n",
              "      <td>...</td>\n",
              "      <td>...</td>\n",
              "      <td>...</td>\n",
              "    </tr>\n",
              "    <tr>\n",
              "      <th>20682</th>\n",
              "      <td>13.0</td>\n",
              "      <td>('270', 'people', 'died', 'in', 'the', '1988',...</td>\n",
              "      <td>307826</td>\n",
              "      <td>bombing</td>\n",
              "      <td>NOUN</td>\n",
              "      <td>0.0</td>\n",
              "      <td>NaN</td>\n",
              "      <td>7</td>\n",
              "      <td>[0.7685377597808838, 1.115256905555725, -0.038...</td>\n",
              "    </tr>\n",
              "    <tr>\n",
              "      <th>20683</th>\n",
              "      <td>35.0</td>\n",
              "      <td>('Libya', 'initially', 'refused', ' ', 'to', '...</td>\n",
              "      <td>307827</td>\n",
              "      <td>them</td>\n",
              "      <td>PRON</td>\n",
              "      <td>0.0</td>\n",
              "      <td>NaN</td>\n",
              "      <td>13</td>\n",
              "      <td>[0.11229103803634644, 0.16903077065944672, -0....</td>\n",
              "    </tr>\n",
              "    <tr>\n",
              "      <th>20684</th>\n",
              "      <td>35.0</td>\n",
              "      <td>('Libya', 'initially', 'refused', ' ', 'to', '...</td>\n",
              "      <td>307827</td>\n",
              "      <td>they</td>\n",
              "      <td>PRON</td>\n",
              "      <td>0.0</td>\n",
              "      <td>NaN</td>\n",
              "      <td>21</td>\n",
              "      <td>[0.4275742769241333, 0.07952270656824112, 0.25...</td>\n",
              "    </tr>\n",
              "    <tr>\n",
              "      <th>20685</th>\n",
              "      <td>27.0</td>\n",
              "      <td>('Opinion', 'polls', 'in', 'Israel', 'show', '...</td>\n",
              "      <td>307829</td>\n",
              "      <td>liner</td>\n",
              "      <td>NOUN</td>\n",
              "      <td>0.0</td>\n",
              "      <td>NaN</td>\n",
              "      <td>10</td>\n",
              "      <td>[0.5175453424453735, -0.12556852400302887, -0....</td>\n",
              "    </tr>\n",
              "    <tr>\n",
              "      <th>20686</th>\n",
              "      <td>27.0</td>\n",
              "      <td>('Opinion', 'polls', 'in', 'Israel', 'show', '...</td>\n",
              "      <td>307829</td>\n",
              "      <td>his</td>\n",
              "      <td>PRON</td>\n",
              "      <td>0.0</td>\n",
              "      <td>NaN</td>\n",
              "      <td>14</td>\n",
              "      <td>[-0.123340904712677, 0.005307200830429792, -0....</td>\n",
              "    </tr>\n",
              "  </tbody>\n",
              "</table>\n",
              "<p>20643 rows × 9 columns</p>\n",
              "</div>\n",
              "    <div class=\"colab-df-buttons\">\n",
              "\n",
              "  <div class=\"colab-df-container\">\n",
              "    <button class=\"colab-df-convert\" onclick=\"convertToInteractive('df-8540b39c-6b71-4d12-8168-cfb13341d360')\"\n",
              "            title=\"Convert this dataframe to an interactive table.\"\n",
              "            style=\"display:none;\">\n",
              "\n",
              "  <svg xmlns=\"http://www.w3.org/2000/svg\" height=\"24px\" viewBox=\"0 -960 960 960\">\n",
              "    <path d=\"M120-120v-720h720v720H120Zm60-500h600v-160H180v160Zm220 220h160v-160H400v160Zm0 220h160v-160H400v160ZM180-400h160v-160H180v160Zm440 0h160v-160H620v160ZM180-180h160v-160H180v160Zm440 0h160v-160H620v160Z\"/>\n",
              "  </svg>\n",
              "    </button>\n",
              "\n",
              "  <style>\n",
              "    .colab-df-container {\n",
              "      display:flex;\n",
              "      gap: 12px;\n",
              "    }\n",
              "\n",
              "    .colab-df-convert {\n",
              "      background-color: #E8F0FE;\n",
              "      border: none;\n",
              "      border-radius: 50%;\n",
              "      cursor: pointer;\n",
              "      display: none;\n",
              "      fill: #1967D2;\n",
              "      height: 32px;\n",
              "      padding: 0 0 0 0;\n",
              "      width: 32px;\n",
              "    }\n",
              "\n",
              "    .colab-df-convert:hover {\n",
              "      background-color: #E2EBFA;\n",
              "      box-shadow: 0px 1px 2px rgba(60, 64, 67, 0.3), 0px 1px 3px 1px rgba(60, 64, 67, 0.15);\n",
              "      fill: #174EA6;\n",
              "    }\n",
              "\n",
              "    .colab-df-buttons div {\n",
              "      margin-bottom: 4px;\n",
              "    }\n",
              "\n",
              "    [theme=dark] .colab-df-convert {\n",
              "      background-color: #3B4455;\n",
              "      fill: #D2E3FC;\n",
              "    }\n",
              "\n",
              "    [theme=dark] .colab-df-convert:hover {\n",
              "      background-color: #434B5C;\n",
              "      box-shadow: 0px 1px 3px 1px rgba(0, 0, 0, 0.15);\n",
              "      filter: drop-shadow(0px 1px 2px rgba(0, 0, 0, 0.3));\n",
              "      fill: #FFFFFF;\n",
              "    }\n",
              "  </style>\n",
              "\n",
              "    <script>\n",
              "      const buttonEl =\n",
              "        document.querySelector('#df-8540b39c-6b71-4d12-8168-cfb13341d360 button.colab-df-convert');\n",
              "      buttonEl.style.display =\n",
              "        google.colab.kernel.accessAllowed ? 'block' : 'none';\n",
              "\n",
              "      async function convertToInteractive(key) {\n",
              "        const element = document.querySelector('#df-8540b39c-6b71-4d12-8168-cfb13341d360');\n",
              "        const dataTable =\n",
              "          await google.colab.kernel.invokeFunction('convertToInteractive',\n",
              "                                                    [key], {});\n",
              "        if (!dataTable) return;\n",
              "\n",
              "        const docLinkHtml = 'Like what you see? Visit the ' +\n",
              "          '<a target=\"_blank\" href=https://colab.research.google.com/notebooks/data_table.ipynb>data table notebook</a>'\n",
              "          + ' to learn more about interactive tables.';\n",
              "        element.innerHTML = '';\n",
              "        dataTable['output_type'] = 'display_data';\n",
              "        await google.colab.output.renderOutput(dataTable, element);\n",
              "        const docLink = document.createElement('div');\n",
              "        docLink.innerHTML = docLinkHtml;\n",
              "        element.appendChild(docLink);\n",
              "      }\n",
              "    </script>\n",
              "  </div>\n",
              "\n",
              "\n",
              "<div id=\"df-2cbc9f7e-7886-4a8e-b749-0edbea38adca\">\n",
              "  <button class=\"colab-df-quickchart\" onclick=\"quickchart('df-2cbc9f7e-7886-4a8e-b749-0edbea38adca')\"\n",
              "            title=\"Suggest charts.\"\n",
              "            style=\"display:none;\">\n",
              "\n",
              "<svg xmlns=\"http://www.w3.org/2000/svg\" height=\"24px\"viewBox=\"0 0 24 24\"\n",
              "     width=\"24px\">\n",
              "    <g>\n",
              "        <path d=\"M19 3H5c-1.1 0-2 .9-2 2v14c0 1.1.9 2 2 2h14c1.1 0 2-.9 2-2V5c0-1.1-.9-2-2-2zM9 17H7v-7h2v7zm4 0h-2V7h2v10zm4 0h-2v-4h2v4z\"/>\n",
              "    </g>\n",
              "</svg>\n",
              "  </button>\n",
              "\n",
              "<style>\n",
              "  .colab-df-quickchart {\n",
              "      --bg-color: #E8F0FE;\n",
              "      --fill-color: #1967D2;\n",
              "      --hover-bg-color: #E2EBFA;\n",
              "      --hover-fill-color: #174EA6;\n",
              "      --disabled-fill-color: #AAA;\n",
              "      --disabled-bg-color: #DDD;\n",
              "  }\n",
              "\n",
              "  [theme=dark] .colab-df-quickchart {\n",
              "      --bg-color: #3B4455;\n",
              "      --fill-color: #D2E3FC;\n",
              "      --hover-bg-color: #434B5C;\n",
              "      --hover-fill-color: #FFFFFF;\n",
              "      --disabled-bg-color: #3B4455;\n",
              "      --disabled-fill-color: #666;\n",
              "  }\n",
              "\n",
              "  .colab-df-quickchart {\n",
              "    background-color: var(--bg-color);\n",
              "    border: none;\n",
              "    border-radius: 50%;\n",
              "    cursor: pointer;\n",
              "    display: none;\n",
              "    fill: var(--fill-color);\n",
              "    height: 32px;\n",
              "    padding: 0;\n",
              "    width: 32px;\n",
              "  }\n",
              "\n",
              "  .colab-df-quickchart:hover {\n",
              "    background-color: var(--hover-bg-color);\n",
              "    box-shadow: 0 1px 2px rgba(60, 64, 67, 0.3), 0 1px 3px 1px rgba(60, 64, 67, 0.15);\n",
              "    fill: var(--button-hover-fill-color);\n",
              "  }\n",
              "\n",
              "  .colab-df-quickchart-complete:disabled,\n",
              "  .colab-df-quickchart-complete:disabled:hover {\n",
              "    background-color: var(--disabled-bg-color);\n",
              "    fill: var(--disabled-fill-color);\n",
              "    box-shadow: none;\n",
              "  }\n",
              "\n",
              "  .colab-df-spinner {\n",
              "    border: 2px solid var(--fill-color);\n",
              "    border-color: transparent;\n",
              "    border-bottom-color: var(--fill-color);\n",
              "    animation:\n",
              "      spin 1s steps(1) infinite;\n",
              "  }\n",
              "\n",
              "  @keyframes spin {\n",
              "    0% {\n",
              "      border-color: transparent;\n",
              "      border-bottom-color: var(--fill-color);\n",
              "      border-left-color: var(--fill-color);\n",
              "    }\n",
              "    20% {\n",
              "      border-color: transparent;\n",
              "      border-left-color: var(--fill-color);\n",
              "      border-top-color: var(--fill-color);\n",
              "    }\n",
              "    30% {\n",
              "      border-color: transparent;\n",
              "      border-left-color: var(--fill-color);\n",
              "      border-top-color: var(--fill-color);\n",
              "      border-right-color: var(--fill-color);\n",
              "    }\n",
              "    40% {\n",
              "      border-color: transparent;\n",
              "      border-right-color: var(--fill-color);\n",
              "      border-top-color: var(--fill-color);\n",
              "    }\n",
              "    60% {\n",
              "      border-color: transparent;\n",
              "      border-right-color: var(--fill-color);\n",
              "    }\n",
              "    80% {\n",
              "      border-color: transparent;\n",
              "      border-right-color: var(--fill-color);\n",
              "      border-bottom-color: var(--fill-color);\n",
              "    }\n",
              "    90% {\n",
              "      border-color: transparent;\n",
              "      border-bottom-color: var(--fill-color);\n",
              "    }\n",
              "  }\n",
              "</style>\n",
              "\n",
              "  <script>\n",
              "    async function quickchart(key) {\n",
              "      const quickchartButtonEl =\n",
              "        document.querySelector('#' + key + ' button');\n",
              "      quickchartButtonEl.disabled = true;  // To prevent multiple clicks.\n",
              "      quickchartButtonEl.classList.add('colab-df-spinner');\n",
              "      try {\n",
              "        const charts = await google.colab.kernel.invokeFunction(\n",
              "            'suggestCharts', [key], {});\n",
              "      } catch (error) {\n",
              "        console.error('Error during call to suggestCharts:', error);\n",
              "      }\n",
              "      quickchartButtonEl.classList.remove('colab-df-spinner');\n",
              "      quickchartButtonEl.classList.add('colab-df-quickchart-complete');\n",
              "    }\n",
              "    (() => {\n",
              "      let quickchartButtonEl =\n",
              "        document.querySelector('#df-2cbc9f7e-7886-4a8e-b749-0edbea38adca button');\n",
              "      quickchartButtonEl.style.display =\n",
              "        google.colab.kernel.accessAllowed ? 'block' : 'none';\n",
              "    })();\n",
              "  </script>\n",
              "</div>\n",
              "    </div>\n",
              "  </div>\n"
            ]
          },
          "metadata": {},
          "execution_count": 16
        }
      ],
      "source": [
        "# Example: Filter rows where the count of words within each POS group is greater than a threshold\n",
        "filtered_df = df_fin.groupby('POS').filter(lambda group: len(group) > 100)\n",
        "filtered_df"
      ]
    },
    {
      "cell_type": "code",
      "execution_count": 17,
      "metadata": {
        "colab": {
          "base_uri": "https://localhost:8080/",
          "height": 594
        },
        "id": "F54vu4VXe-NP",
        "outputId": "214428a1-7f2a-451a-b7f6-61e66fbfc140"
      },
      "outputs": [
        {
          "output_type": "display_data",
          "data": {
            "text/plain": [
              "<Figure size 1000x600 with 1 Axes>"
            ],
            "image/png": "[encoded data removed]"
          },
          "metadata": {}
        }
      ],
      "source": [
        "# Plot 1: Distribution of 'POS' column\n",
        "plt.figure(figsize=(10, 6))\n",
        "sns.countplot(data=df_fin, x='POS', order=df_fin['POS'].value_counts().index)\n",
        "plt.xlabel('POS')\n",
        "plt.ylabel('Count')\n",
        "plt.title('Distribution of POS Tags')\n",
        "plt.xticks(rotation=45)\n",
        "plt.show()"
      ]
    },
    {
      "cell_type": "code",
      "execution_count": 18,
      "metadata": {
        "colab": {
          "base_uri": "https://localhost:8080/",
          "height": 576
        },
        "id": "wYC6YFyFjLkr",
        "outputId": "88d17b93-2ac4-4290-a630-909b80ce0f85"
      },
      "outputs": [
        {
          "output_type": "display_data",
          "data": {
            "text/plain": [
              "<Figure size 1000x600 with 1 Axes>"
            ],
            "image/png": "[encoded data removed]"
          },
          "metadata": {}
        }
      ],
      "source": [
        "# Plot 2: Distribution of 'end_labels' column\n",
        "plt.figure(figsize=(10, 6))\n",
        "sns.countplot(data=df_fin, x='end_labels', order=df_fin['end_labels'].value_counts().index)\n",
        "plt.xlabel('end_labels')\n",
        "plt.ylabel('Count')\n",
        "plt.title('Distribution of End Labels')\n",
        "plt.xticks(rotation=45)\n",
        "plt.show()"
      ]
    },
    {
      "cell_type": "code",
      "execution_count": 19,
      "metadata": {
        "colab": {
          "base_uri": "https://localhost:8080/",
          "height": 564
        },
        "id": "xOEsJ6brjZYy",
        "outputId": "b6d4655c-2fab-49f5-b006-3d5c89f33ea0"
      },
      "outputs": [
        {
          "output_type": "display_data",
          "data": {
            "text/plain": [
              "<Figure size 1000x600 with 1 Axes>"
            ],
            "image/png": "[encoded data removed]"
          },
          "metadata": {}
        }
      ],
      "source": [
        "# Plot 3: Distribution of 'Sentence_no' column\n",
        "plt.figure(figsize=(10, 6))\n",
        "sns.histplot(data=df_fin, x='Sentence_no', bins=30, kde=True)\n",
        "plt.xlabel('Sentence_no')\n",
        "plt.ylabel('Frequency')\n",
        "plt.title('Distribution of Sentence Numbers')\n",
        "plt.show()"
      ]
    },
    {
      "cell_type": "code",
      "execution_count": 20,
      "metadata": {
        "colab": {
          "base_uri": "https://localhost:8080/",
          "height": 526
        },
        "id": "XytMjsf3jcss",
        "outputId": "3de4ffa3-e7b2-4018-a999-6b467c2118dc"
      },
      "outputs": [
        {
          "output_type": "display_data",
          "data": {
            "text/plain": [
              "<Figure size 1000x600 with 1 Axes>"
            ],
            "image/png": "[encoded data removed]"
          },
          "metadata": {}
        }
      ],
      "source": [
        "# Plot 4: Boxplot of 'wort_index'\n",
        "plt.figure(figsize=(10, 6))\n",
        "sns.boxplot(data=df_fin, y='word_index')\n",
        "plt.ylabel('wort_index')\n",
        "plt.title('Boxplot of wort_index')\n",
        "plt.show()"
      ]
    },
    {
      "cell_type": "code",
      "execution_count": 21,
      "metadata": {
        "colab": {
          "base_uri": "https://localhost:8080/",
          "height": 564
        },
        "id": "Zi0b7UM9jgZW",
        "outputId": "ff840942-0930-4058-e017-d3231987b72a"
      },
      "outputs": [
        {
          "output_type": "display_data",
          "data": {
            "text/plain": [
              "<Figure size 1000x600 with 1 Axes>"
            ],
            "image/png": "[encoded data removed]"
          },
          "metadata": {}
        }
      ],
      "source": [
        "# Plot 5: Example scatterplot (customize as needed)\n",
        "plt.figure(figsize=(10, 6))\n",
        "sns.scatterplot(data=df_fin, x='Sentence_no', y='word_index', alpha=0.5)\n",
        "plt.xlabel('Sentence_no')\n",
        "plt.ylabel('wort_index')\n",
        "plt.title('Scatterplot of Sentence_no vs wort_index')\n",
        "plt.show()"
      ]
    },
    {
      "cell_type": "code",
      "execution_count": 22,
      "metadata": {
        "id": "hR-vZTVmvm3A"
      },
      "outputs": [],
      "source": [
        "df_fin[\"end_labels\"]= df_fin[\"end_labels\"].astype(int)"
      ]
    },
    {
      "cell_type": "markdown",
      "metadata": {
        "id": "pG3M_9BwkC0Z"
      },
      "source": [
        "# Prob Architecture Implementation"
      ]
    },
    {
      "cell_type": "code",
      "execution_count": 23,
      "metadata": {
        "colab": {
          "base_uri": "https://localhost:8080/"
        },
        "id": "doT3-yAPjyGw",
        "outputId": "6f54c464-d09e-449b-b53c-847aaec384cc"
      },
      "outputs": [
        {
          "output_type": "execute_result",
          "data": {
            "text/plain": [
              "0    13191\n",
              "1     7496\n",
              "Name: end_labels, dtype: int64"
            ]
          },
          "metadata": {},
          "execution_count": 23
        }
      ],
      "source": [
        "df_fin['end_labels'].value_counts()"
      ]
    },
    {
      "cell_type": "code",
      "execution_count": 24,
      "metadata": {
        "id": "SqA_LtYrkAfx"
      },
      "outputs": [],
      "source": [
        "# Standardize input features\n",
        "scaler = StandardScaler()\n",
        "X = np.vstack(df_fin['contextualized_vectors'].apply(literal_eval))\n",
        "X = scaler.fit_transform(X)"
      ]
    },
    {
      "cell_type": "code",
      "execution_count": 25,
      "metadata": {
        "id": "M3KAYB9-vm3B"
      },
      "outputs": [],
      "source": [
        "samples=len(X)\n",
        "indicies=np.arange(samples)\n",
        "df_fin.index=indicies"
      ]
    },
    {
      "cell_type": "code",
      "execution_count": 26,
      "metadata": {
        "id": "Puxh5A6skAiz"
      },
      "outputs": [],
      "source": [
        "# Split the data into train and test sets\n",
        "X_train, X_test, y_train, y_test,indices_train,indices_test = train_test_split(X, df_fin['end_labels'], indicies, test_size=0.2, random_state=30)"
      ]
    },
    {
      "cell_type": "code",
      "execution_count": 27,
      "metadata": {
        "colab": {
          "base_uri": "https://localhost:8080/",
          "height": 219
        },
        "id": "yEs5kYIHlLJa",
        "outputId": "72d3cfa3-388b-4bc9-98c8-816761c03177"
      },
      "outputs": [
        {
          "output_type": "stream",
          "name": "stderr",
          "text": [
            "/usr/local/lib/python3.10/dist-packages/sklearn/linear_model/_logistic.py:458: ConvergenceWarning: lbfgs failed to converge (status=1):\n",
            "STOP: TOTAL NO. of ITERATIONS REACHED LIMIT.\n",
            "\n",
            "Increase the number of iterations (max_iter) or scale the data as shown in:\n",
            "    https://scikit-learn.org/stable/modules/preprocessing.html\n",
            "Please also refer to the documentation for alternative solver options:\n",
            "    https://scikit-learn.org/stable/modules/linear_model.html#logistic-regression\n",
            "  n_iter_i = _check_optimize_result(\n"
          ]
        },
        {
          "output_type": "execute_result",
          "data": {
            "text/plain": [
              "LogisticRegression()"
            ],
            "text/html": [
              "<style>#sk-container-id-1 {color: black;background-color: white;}#sk-container-id-1 pre{padding: 0;}#sk-container-id-1 div.sk-toggleable {background-color: white;}#sk-container-id-1 label.sk-toggleable__label {cursor: pointer;display: block;width: 100%;margin-bottom: 0;padding: 0.3em;box-sizing: border-box;text-align: center;}#sk-container-id-1 label.sk-toggleable__label-arrow:before {content: \"▸\";float: left;margin-right: 0.25em;color: #696969;}#sk-container-id-1 label.sk-toggleable__label-arrow:hover:before {color: black;}#sk-container-id-1 div.sk-estimator:hover label.sk-toggleable__label-arrow:before {color: black;}#sk-container-id-1 div.sk-toggleable__content {max-height: 0;max-width: 0;overflow: hidden;text-align: left;background-color: #f0f8ff;}#sk-container-id-1 div.sk-toggleable__content pre {margin: 0.2em;color: black;border-radius: 0.25em;background-color: #f0f8ff;}#sk-container-id-1 input.sk-toggleable__control:checked~div.sk-toggleable__content {max-height: 200px;max-width: 100%;overflow: auto;}#sk-container-id-1 input.sk-toggleable__control:checked~label.sk-toggleable__label-arrow:before {content: \"▾\";}#sk-container-id-1 div.sk-estimator input.sk-toggleable__control:checked~label.sk-toggleable__label {background-color: #d4ebff;}#sk-container-id-1 div.sk-label input.sk-toggleable__control:checked~label.sk-toggleable__label {background-color: #d4ebff;}#sk-container-id-1 input.sk-hidden--visually {border: 0;clip: rect(1px 1px 1px 1px);clip: rect(1px, 1px, 1px, 1px);height: 1px;margin: -1px;overflow: hidden;padding: 0;position: absolute;width: 1px;}#sk-container-id-1 div.sk-estimator {font-family: monospace;background-color: #f0f8ff;border: 1px dotted black;border-radius: 0.25em;box-sizing: border-box;margin-bottom: 0.5em;}#sk-container-id-1 div.sk-estimator:hover {background-color: #d4ebff;}#sk-container-id-1 div.sk-parallel-item::after {content: \"\";width: 100%;border-bottom: 1px solid gray;flex-grow: 1;}#sk-container-id-1 div.sk-label:hover label.sk-toggleable__label {background-color: #d4ebff;}#sk-container-id-1 div.sk-serial::before {content: \"\";position: absolute;border-left: 1px solid gray;box-sizing: border-box;top: 0;bottom: 0;left: 50%;z-index: 0;}#sk-container-id-1 div.sk-serial {display: flex;flex-direction: column;align-items: center;background-color: white;padding-right: 0.2em;padding-left: 0.2em;position: relative;}#sk-container-id-1 div.sk-item {position: relative;z-index: 1;}#sk-container-id-1 div.sk-parallel {display: flex;align-items: stretch;justify-content: center;background-color: white;position: relative;}#sk-container-id-1 div.sk-item::before, #sk-container-id-1 div.sk-parallel-item::before {content: \"\";position: absolute;border-left: 1px solid gray;box-sizing: border-box;top: 0;bottom: 0;left: 50%;z-index: -1;}#sk-container-id-1 div.sk-parallel-item {display: flex;flex-direction: column;z-index: 1;position: relative;background-color: white;}#sk-container-id-1 div.sk-parallel-item:first-child::after {align-self: flex-end;width: 50%;}#sk-container-id-1 div.sk-parallel-item:last-child::after {align-self: flex-start;width: 50%;}#sk-container-id-1 div.sk-parallel-item:only-child::after {width: 0;}#sk-container-id-1 div.sk-dashed-wrapped {border: 1px dashed gray;margin: 0 0.4em 0.5em 0.4em;box-sizing: border-box;padding-bottom: 0.4em;background-color: white;}#sk-container-id-1 div.sk-label label {font-family: monospace;font-weight: bold;display: inline-block;line-height: 1.2em;}#sk-container-id-1 div.sk-label-container {text-align: center;}#sk-container-id-1 div.sk-container {/* jupyter's `normalize.less` sets `[hidden] { display: none; }` but bootstrap.min.css set `[hidden] { display: none !important; }` so we also need the `!important` here to be able to override the default hidden behavior on the sphinx rendered scikit-learn.org. See: https://github.com/scikit-learn/scikit-learn/issues/21755 */display: inline-block !important;position: relative;}#sk-container-id-1 div.sk-text-repr-fallback {display: none;}</style><div id=\"sk-container-id-1\" class=\"sk-top-container\"><div class=\"sk-text-repr-fallback\"><pre>LogisticRegression()</pre><b>In a Jupyter environment, please rerun this cell to show the HTML representation or trust the notebook. <br />On GitHub, the HTML representation is unable to render, please try loading this page with nbviewer.org.</b></div><div class=\"sk-container\" hidden><div class=\"sk-item\"><div class=\"sk-estimator sk-toggleable\"><input class=\"sk-toggleable__control sk-hidden--visually\" id=\"sk-estimator-id-1\" type=\"checkbox\" checked><label for=\"sk-estimator-id-1\" class=\"sk-toggleable__label sk-toggleable__label-arrow\">LogisticRegression</label><div class=\"sk-toggleable__content\"><pre>LogisticRegression()</pre></div></div></div></div></div>"
            ]
          },
          "metadata": {},
          "execution_count": 27
        }
      ],
      "source": [
        "# Implement logistic regression or your custom neural network\n",
        "lr_model = LogisticRegression()\n",
        "lr_model.fit(X_train, y_train)"
      ]
    },
    {
      "cell_type": "code",
      "execution_count": 28,
      "metadata": {
        "colab": {
          "base_uri": "https://localhost:8080/",
          "height": 618
        },
        "id": "RDVrCsW4lNtO",
        "outputId": "e47117fe-03d1-44d7-f9df-f92a793a2fdf"
      },
      "outputs": [
        {
          "output_type": "stream",
          "name": "stdout",
          "text": [
            "Accuracy: 0.8501691638472693\n",
            "F1-Score: 0.7892590074779062\n",
            "Confusion Matrix:\n"
          ]
        },
        {
          "output_type": "display_data",
          "data": {
            "text/plain": [
              "<Figure size 800x600 with 1 Axes>"
            ],
            "image/png": "[encoded data removed]"
          },
          "metadata": {}
        }
      ],
      "source": [
        "\n",
        "# Evaluate the logistic regression model\n",
        "y_pred = lr_model.predict(X_test)\n",
        "accuracy = accuracy_score(y_test, y_pred)\n",
        "f1 = f1_score(y_test, y_pred)\n",
        "confusion = confusion_matrix(y_test, y_pred)\n",
        "\n",
        "print(\"Accuracy:\", accuracy)\n",
        "print(\"F1-Score:\", f1)\n",
        "print(\"Confusion Matrix:\")\n",
        "\n",
        "# Plot the confusion matrix\n",
        "plt.figure(figsize=(8, 6))\n",
        "sns.heatmap(confusion, annot=True, fmt=\"d\", cmap=\"Blues\", cbar=False,\n",
        "            xticklabels=['Negative', 'Positive'], yticklabels=['Negative', 'Positive'])\n",
        "plt.xlabel('Predicted Labels')\n",
        "plt.ylabel('True Labels')\n",
        "plt.title('Confusion Matrix')\n",
        "plt.show()"
      ]
    },
    {
      "cell_type": "markdown",
      "metadata": {
        "id": "VlXGb_NScadA"
      },
      "source": [
        "# Analyzing the results\n"
      ]
    },
    {
      "cell_type": "code",
      "execution_count": 29,
      "metadata": {
        "colab": {
          "base_uri": "https://localhost:8080/"
        },
        "id": "g17W89Vavm3I",
        "outputId": "d31a7776-0e43-4a35-b4c1-5ed35d1b8097"
      },
      "outputs": [
        {
          "output_type": "stream",
          "name": "stdout",
          "text": [
            "all_pron 2351\n",
            "correct_pron 1721\n",
            "incorrect_pron 630\n"
          ]
        }
      ],
      "source": [
        "# Extract contextualized vectors\n",
        "contextualized_vectors = df_fin[\"contextualized_vectors\"]\n",
        "\n",
        "# Predict pronouns and compare with true labels\n",
        "test_d = df_fin.loc[indices_test, :]\n",
        "test_d[[\"Word\", \"end_labels\", \"subword\", \"contextualized_vectors\",\"POS\"]]\n",
        "\n",
        "count_correct_pron=0\n",
        "count_incorrect_pron=0\n",
        "all_pron=0\n",
        "for index, row in test_d.iterrows():\n",
        "    x_text_word = np.array(literal_eval(row[\"contextualized_vectors\"])).reshape(-1, np.array(literal_eval(row[\"contextualized_vectors\"])).shape[-1])\n",
        "    y_pred_word = lr_model.predict(x_text_word)\n",
        "    if row[\"POS\"] == \"PRON\":\n",
        "        all_pron+=1\n",
        "        if y_pred_word[0] == row[\"end_labels\"]:\n",
        "            #print(\"correct classify\",row[\"Word\"])\n",
        "            count_correct_pron+=1\n",
        "        else:\n",
        "            #print(\"incorrect classify\",row[\"Word\"])\n",
        "            count_incorrect_pron+=1\n",
        "print(\"all_pron\",all_pron)\n",
        "print(\"correct_pron\",count_correct_pron)\n",
        "print(\"incorrect_pron\",count_incorrect_pron)\n",
        "\n",
        "\n",
        "\n",
        "\n",
        "    #print(\"Prediction for words in '{}': {} True Label : {} subtoken : {}\".format(row[\"Word\"], y_pred_word[0], row[\"end_labels\"],row[\"subtoken\"]))"
      ]
    },
    {
      "cell_type": "code",
      "execution_count": 30,
      "metadata": {
        "id": "tnr0MKOPcadA",
        "outputId": "02130dc4-48de-4435-a2f6-3c3fe9561b23",
        "colab": {
          "base_uri": "https://localhost:8080/"
        }
      },
      "outputs": [
        {
          "output_type": "stream",
          "name": "stdout",
          "text": [
            "all_noun 1779\n",
            "correct_noun 1678\n",
            "incorrect_noun 101\n"
          ]
        }
      ],
      "source": [
        "# Extract contextualized vectors\n",
        "contextualized_vectors = df_fin[\"contextualized_vectors\"]\n",
        "\n",
        "# Predict nouns and compare with true labels\n",
        "test_d = df_fin.loc[indices_test, :]\n",
        "test_d[[\"Word\", \"end_labels\", \"subword\", \"contextualized_vectors\",\"POS\"]]\n",
        "\n",
        "count_correct_noun=0\n",
        "count_incorrect_noun=0\n",
        "all_noun=0\n",
        "for index, row in test_d.iterrows():\n",
        "    x_text_word = np.array(literal_eval(row[\"contextualized_vectors\"])).reshape(-1, np.array(literal_eval(row[\"contextualized_vectors\"])).shape[-1])\n",
        "    y_pred_word = lr_model.predict(x_text_word)\n",
        "    if row[\"POS\"] == \"NOUN\":\n",
        "        all_noun+=1\n",
        "        if y_pred_word[0] == row[\"end_labels\"]:\n",
        "            #print(\"correct classify\",row[\"Word\"])\n",
        "            count_correct_noun+=1\n",
        "        else:\n",
        "            #print(\"incorrect classify\",row[\"Word\"])\n",
        "            count_incorrect_noun+=1\n",
        "print(\"all_noun\",all_noun)\n",
        "print(\"correct_noun\",count_correct_noun)\n",
        "print(\"incorrect_noun\",count_incorrect_noun)"
      ]
    },
    {
      "cell_type": "code",
      "execution_count": 31,
      "metadata": {
        "id": "4ild1AqccadA",
        "outputId": "a9d333ac-38ef-4739-af3f-7f893cbddc97",
        "colab": {
          "base_uri": "https://localhost:8080/"
        }
      },
      "outputs": [
        {
          "output_type": "stream",
          "name": "stdout",
          "text": [
            "all_propn 4\n",
            "correct_propn 4\n",
            "incorrect_propn 0\n"
          ]
        }
      ],
      "source": [
        "# Extract contextualized vectors\n",
        "contextualized_vectors = df_fin[\"contextualized_vectors\"]\n",
        "\n",
        "# Predict PROPN and compare with true labels\n",
        "test_d = df_fin.loc[indices_test, :]\n",
        "test_d[[\"Word\", \"end_labels\", \"subword\", \"contextualized_vectors\",\"POS\"]]\n",
        "\n",
        "count_correct_propn=0\n",
        "count_incorrect_propn=0\n",
        "all_propn=0\n",
        "for index, row in test_d.iterrows():\n",
        "    x_text_word = np.array(literal_eval(row[\"contextualized_vectors\"])).reshape(-1, np.array(literal_eval(row[\"contextualized_vectors\"])).shape[-1])\n",
        "    y_pred_word = lr_model.predict(x_text_word)\n",
        "    if row[\"POS\"] == \"PROPN\":\n",
        "        all_propn+=1\n",
        "        if y_pred_word[0] == row[\"end_labels\"]:\n",
        "            #print(\"correct classify\",row[\"Word\"])\n",
        "            count_correct_propn+=1\n",
        "        else:\n",
        "            #print(\"incorrect classify\",row[\"Word\"])\n",
        "            count_incorrect_propn+=1\n",
        "print(\"all_propn\",all_propn)\n",
        "print(\"correct_propn\",count_correct_propn)\n",
        "print(\"incorrect_propn\",count_incorrect_propn)\n"
      ]
    },
    {
      "cell_type": "code",
      "execution_count": 32,
      "metadata": {
        "id": "PQr9Wg8qcadB",
        "outputId": "6ad4d287-8b9b-4da4-aad4-00be3c24592b",
        "colab": {
          "base_uri": "https://localhost:8080/"
        }
      },
      "outputs": [
        {
          "output_type": "stream",
          "name": "stdout",
          "text": [
            "all_noun_subtoken 118\n",
            "count_correct_noun_subtoken 101\n",
            "count_incorrect_noun_subtoken 17\n",
            "-----------------------------------------------\n",
            "all_noun_without_subtoken 1661\n",
            "count_correct_noun_without_subtoken 1577\n",
            "count_incorrect_noun_without_subtoken 84\n"
          ]
        }
      ],
      "source": [
        "\n",
        "\n",
        "# Extract contextualized vectors\n",
        "contextualized_vectors = df_fin[\"contextualized_vectors\"]\n",
        "\n",
        "# Counting the number of correctly and incorrectly classified names with and without subtokens\n",
        "test_d = df_fin.loc[indices_test, :]\n",
        "test_d[[\"Word\", \"end_labels\", \"subword\", \"contextualized_vectors\",\"POS\"]]\n",
        "\n",
        "count_correct_noun_subtoken=0\n",
        "count_incorrect_noun_subtoken=0\n",
        "all_noun_subtoken=0\n",
        "all_noun_without_subtoken=0\n",
        "count_correct_noun_without_subtoken=0\n",
        "count_incorrect_noun_without_subtoken=0\n",
        "for index, row in test_d.iterrows():\n",
        "    x_text_word = np.array(literal_eval(row[\"contextualized_vectors\"])).reshape(-1, np.array(literal_eval(row[\"contextualized_vectors\"])).shape[-1])\n",
        "    y_pred_word = lr_model.predict(x_text_word)\n",
        "    if row[\"POS\"] == \"NOUN\" and type(row[\"subword\"]) != float:\n",
        "        all_noun_subtoken+=1\n",
        "        if y_pred_word[0] == row[\"end_labels\"]:\n",
        "            #print(\"correct classify\",row[\"Word\"])\n",
        "            count_correct_noun_subtoken+=1\n",
        "        else:\n",
        "            #print(\"incorrect classify\",row[\"Word\"])\n",
        "            count_incorrect_noun_subtoken+=1\n",
        "    if row[\"POS\"] == \"NOUN\" and type(row[\"subword\"]) == float:\n",
        "        all_noun_without_subtoken+=1\n",
        "        if y_pred_word[0] == row[\"end_labels\"]:\n",
        "            #print(\"correct classify\",row[\"Word\"])\n",
        "            count_correct_noun_without_subtoken+=1\n",
        "        else:\n",
        "            #print(\"incorrect classify\",row[\"Word\"])\n",
        "            count_incorrect_noun_without_subtoken+=1\n",
        "\n",
        "\n",
        "print(\"all_noun_subtoken\",all_noun_subtoken)\n",
        "print(\"count_correct_noun_subtoken\",count_correct_noun_subtoken)\n",
        "print(\"count_incorrect_noun_subtoken\",count_incorrect_noun_subtoken)\n",
        "print(\"-----------------------------------------------\")\n",
        "print(\"all_noun_without_subtoken\",all_noun_without_subtoken)\n",
        "print(\"count_correct_noun_without_subtoken\",count_correct_noun_without_subtoken)\n",
        "print(\"count_incorrect_noun_without_subtoken\",count_incorrect_noun_without_subtoken)"
      ]
    },
    {
      "cell_type": "code",
      "execution_count": 33,
      "metadata": {
        "id": "cP-2Az4ZcadB",
        "outputId": "63bda6e6-11db-412c-9e94-eb545303238e",
        "colab": {
          "base_uri": "https://localhost:8080/"
        }
      },
      "outputs": [
        {
          "output_type": "execute_result",
          "data": {
            "text/plain": [
              "2350"
            ]
          },
          "metadata": {},
          "execution_count": 33
        }
      ],
      "source": [
        "filtered_pron_without_subtoken = test_d.loc[(test_d['POS'] ==\"PRON\") & (test_d['subword'].isnull())]\n",
        "len(filtered_pron_without_subtoken)"
      ]
    },
    {
      "cell_type": "code",
      "execution_count": 34,
      "metadata": {
        "id": "xmvwtcE6cadB",
        "outputId": "fa333cc4-3a2c-4740-84ea-e5f82ac6ef86",
        "colab": {
          "base_uri": "https://localhost:8080/"
        }
      },
      "outputs": [
        {
          "output_type": "execute_result",
          "data": {
            "text/plain": [
              "1"
            ]
          },
          "metadata": {},
          "execution_count": 34
        }
      ],
      "source": [
        "# Only two pronouns in test-data bekamme from tokenizer subtoken\n",
        "filtered_pron_subtoken = test_d.loc[(test_d['POS'] ==\"PRON\") & (test_d['subword'].notnull())]\n",
        "len(filtered_pron_subtoken)"
      ]
    },
    {
      "cell_type": "code",
      "execution_count": 35,
      "metadata": {
        "colab": {
          "base_uri": "https://localhost:8080/"
        },
        "id": "L0TiclgsmGeH",
        "outputId": "456fdfc2-ad78-43b4-a049-d6493901ab89"
      },
      "outputs": [
        {
          "output_type": "stream",
          "name": "stdout",
          "text": [
            "Epoch 1/40, Loss: 0.7523466944694519\n",
            "Epoch 2/40, Loss: 0.5462725758552551\n",
            "Epoch 3/40, Loss: 0.4213385283946991\n",
            "Epoch 4/40, Loss: 0.39323219656944275\n",
            "Epoch 5/40, Loss: 0.3742083013057709\n",
            "Epoch 6/40, Loss: 0.35736700892448425\n",
            "Epoch 7/40, Loss: 0.34491273760795593\n",
            "Epoch 8/40, Loss: 0.3349173367023468\n",
            "Epoch 9/40, Loss: 0.3268183171749115\n",
            "Epoch 10/40, Loss: 0.31983259320259094\n",
            "Epoch 11/40, Loss: 0.3130119740962982\n",
            "Epoch 12/40, Loss: 0.30643683671951294\n",
            "Epoch 13/40, Loss: 0.30091530084609985\n",
            "Epoch 14/40, Loss: 0.29591017961502075\n",
            "Epoch 15/40, Loss: 0.29081881046295166\n",
            "Epoch 16/40, Loss: 0.28571879863739014\n",
            "Epoch 17/40, Loss: 0.28105372190475464\n",
            "Epoch 18/40, Loss: 0.27674204111099243\n",
            "Epoch 19/40, Loss: 0.2725268304347992\n",
            "Epoch 20/40, Loss: 0.26830998063087463\n",
            "Epoch 21/40, Loss: 0.2641597390174866\n",
            "Epoch 22/40, Loss: 0.2600671052932739\n",
            "Epoch 23/40, Loss: 0.25604379177093506\n",
            "Epoch 24/40, Loss: 0.252382755279541\n",
            "Epoch 25/40, Loss: 0.24891677498817444\n",
            "Epoch 26/40, Loss: 0.24490998685359955\n",
            "Epoch 27/40, Loss: 0.24094347655773163\n",
            "Epoch 28/40, Loss: 0.2373531311750412\n",
            "Epoch 29/40, Loss: 0.23343124985694885\n",
            "Epoch 30/40, Loss: 0.2295256108045578\n",
            "Epoch 31/40, Loss: 0.2254972904920578\n",
            "Epoch 32/40, Loss: 0.22153045237064362\n",
            "Epoch 33/40, Loss: 0.2176121324300766\n",
            "Epoch 34/40, Loss: 0.21355295181274414\n",
            "Epoch 35/40, Loss: 0.20976611971855164\n",
            "Epoch 36/40, Loss: 0.20597204566001892\n",
            "Epoch 37/40, Loss: 0.20278269052505493\n",
            "Epoch 38/40, Loss: 0.20037168264389038\n",
            "Epoch 39/40, Loss: 0.1978934109210968\n",
            "Epoch 40/40, Loss: 0.19210314750671387\n"
          ]
        }
      ],
      "source": [
        "# Implement a custom neural network with optimization techniques\n",
        "class BinaryClassificationNN(nn.Module):\n",
        "    def __init__(self, input_dim, hidden_dim):\n",
        "        super(BinaryClassificationNN, self).__init__()\n",
        "        self.layer1 = nn.Linear(input_dim, hidden_dim)\n",
        "        self.layer2 = nn.Linear(hidden_dim, 1)\n",
        "        self.sigmoid = nn.Sigmoid()\n",
        "\n",
        "    def forward(self, x):\n",
        "        x = nn.ReLU()(self.layer1(x))\n",
        "        x = self.sigmoid(self.layer2(x))\n",
        "        return x\n",
        "\n",
        "input_dim = X_train.shape[1]\n",
        "hidden_dim = 50\n",
        "learning_rate = 0.01\n",
        "epochs = 40\n",
        "\n",
        "model = BinaryClassificationNN(input_dim, hidden_dim)\n",
        "criterion = nn.BCELoss()\n",
        "optimizer = optim.Adam(model.parameters(), lr=learning_rate)\n",
        "\n",
        "X_train_tensor = torch.tensor(X_train, dtype=torch.float32)\n",
        "y_train_tensor = torch.tensor(y_train.values, dtype=torch.float32)\n",
        "\n",
        "for epoch in range(epochs):\n",
        "    optimizer.zero_grad()\n",
        "    outputs = model(X_train_tensor).squeeze()\n",
        "    loss = criterion(outputs, y_train_tensor)\n",
        "    loss.backward()\n",
        "    optimizer.step()\n",
        "    print(f'Epoch {epoch + 1}/{epochs}, Loss: {loss.item()}')\n"
      ]
    },
    {
      "cell_type": "code",
      "execution_count": 36,
      "metadata": {
        "colab": {
          "base_uri": "https://localhost:8080/"
        },
        "id": "lCHaWTI5kAlk",
        "outputId": "26963e02-ad5f-4c37-b226-aeb874ffb43b"
      },
      "outputs": [
        {
          "output_type": "stream",
          "name": "stdout",
          "text": [
            "Custom Neural Network Accuracy: 0.8685355186462402\n"
          ]
        }
      ],
      "source": [
        "# Evaluate the custom neural network\n",
        "with torch.no_grad():\n",
        "    test_outputs = model(torch.tensor(X_test, dtype=torch.float32)).squeeze()\n",
        "    predicted_labels = (test_outputs > 0.5).float()\n",
        "    accuracy = (predicted_labels == torch.tensor(y_test.values, dtype=torch.float32)).float().mean()\n",
        "\n",
        "print(\"Custom Neural Network Accuracy:\", accuracy.item())"
      ]
    },
    {
      "cell_type": "code",
      "execution_count": 37,
      "metadata": {
        "colab": {
          "base_uri": "https://localhost:8080/",
          "height": 582
        },
        "id": "HtaCPHCskAuT",
        "outputId": "31225e7f-1b37-4c46-9977-01267dc283b9"
      },
      "outputs": [
        {
          "output_type": "stream",
          "name": "stdout",
          "text": [
            "F1-Score for Custom Neural Network: 0.816464237516869\n"
          ]
        },
        {
          "output_type": "display_data",
          "data": {
            "text/plain": [
              "<Figure size 800x600 with 1 Axes>"
            ],
            "image/png": "[encoded data removed]"
          },
          "metadata": {}
        }
      ],
      "source": [
        "# F1 Score for Custom Neural Network\n",
        "f1_custom_nn = f1_score(y_test, predicted_labels)\n",
        "\n",
        "print(\"F1-Score for Custom Neural Network:\", f1_custom_nn)\n",
        "\n",
        "# Plot F1 Score\n",
        "plt.figure(figsize=(8, 6))\n",
        "plt.title(\"F1 Score for Custom Neural Network\")\n",
        "plt.bar([\"Custom NN\"], [f1_custom_nn], color='b', alpha=0.7)\n",
        "plt.ylim(0, 1)\n",
        "plt.xlabel(\"Model\")\n",
        "plt.ylabel(\"F1 Score\")\n",
        "plt.show()"
      ]
    },
    {
      "cell_type": "code",
      "execution_count": 38,
      "metadata": {
        "colab": {
          "base_uri": "https://localhost:8080/",
          "height": 618
        },
        "id": "OJHuRnrp3W-q",
        "outputId": "1850f0f7-b1c2-4262-8d69-ea688e3b35f3"
      },
      "outputs": [
        {
          "output_type": "stream",
          "name": "stdout",
          "text": [
            "Confusion Matrix for Custom Neural Network:\n",
            "[[2384  280]\n",
            " [ 264 1210]]\n"
          ]
        },
        {
          "output_type": "display_data",
          "data": {
            "text/plain": [
              "<Figure size 800x600 with 1 Axes>"
            ],
            "image/png": "[encoded data removed]"
          },
          "metadata": {}
        }
      ],
      "source": [
        "\n",
        "# Confusion Matrix for Custom Neural Network\n",
        "confusion = confusion_matrix(y_test, predicted_labels)\n",
        "\n",
        "print(\"Confusion Matrix for Custom Neural Network:\")\n",
        "print(confusion)\n",
        "\n",
        "# Plot Confusion Matrix\n",
        "plt.figure(figsize=(8, 6))\n",
        "sns.heatmap(confusion, annot=True, fmt=\"d\", cmap=\"Blues\", cbar=False,\n",
        "            xticklabels=['Negative', 'Positive'], yticklabels=['Negative', 'Positive'])\n",
        "plt.xlabel('Predicted Labels')\n",
        "plt.ylabel('True Labels')\n",
        "plt.title('Confusion Matrix for Custom Neural Network')\n",
        "plt.show()"
      ]
    },
    {
      "cell_type": "code",
      "execution_count": null,
      "metadata": {
        "id": "FKNS0xn63aLA"
      },
      "outputs": [],
      "source": []
    }
  ],
  "metadata": {
    "accelerator": "GPU",
    "colab": {
      "gpuType": "T4",
      "provenance": [],
      "include_colab_link": true
    },
    "kernelspec": {
      "display_name": "Python 3 (ipykernel)",
      "language": "python",
      "name": "python3"
    },
    "language_info": {
      "codemirror_mode": {
        "name": "ipython",
        "version": 3
      },
      "file_extension": ".py",
      "mimetype": "text/x-python",
      "name": "python",
      "nbconvert_exporter": "python",
      "pygments_lexer": "ipython3",
      "version": "3.10.9"
    },
    "widgets": {
      "application/vnd.jupyter.widget-state+json": {
        "7d2d93cce3b84e55aaa85b13c146e119": {
          "model_module": "@jupyter-widgets/controls",
          "model_name": "HBoxModel",
          "model_module_version": "1.5.0",
          "state": {
            "_dom_classes": [],
            "_model_module": "@jupyter-widgets/controls",
            "_model_module_version": "1.5.0",
            "_model_name": "HBoxModel",
            "_view_count": null,
            "_view_module": "@jupyter-widgets/controls",
            "_view_module_version": "1.5.0",
            "_view_name": "HBoxView",
            "box_style": "",
            "children": [
              "IPY_MODEL_05bd909b3d4e4c85a7abeb6954207b8f",
              "IPY_MODEL_441a22f03a6742bdbca6767523a95ced",
              "IPY_MODEL_0ddbda7b31be4d4e88c65b871b4693a5"
            ],
            "layout": "IPY_MODEL_c82f77ed13f4455b817d593752da9ee8"
          }
        },
        "05bd909b3d4e4c85a7abeb6954207b8f": {
          "model_module": "@jupyter-widgets/controls",
          "model_name": "HTMLModel",
          "model_module_version": "1.5.0",
          "state": {
            "_dom_classes": [],
            "_model_module": "@jupyter-widgets/controls",
            "_model_module_version": "1.5.0",
            "_model_name": "HTMLModel",
            "_view_count": null,
            "_view_module": "@jupyter-widgets/controls",
            "_view_module_version": "1.5.0",
            "_view_name": "HTMLView",
            "description": "",
            "description_tooltip": null,
            "layout": "IPY_MODEL_0c23c6a8b2174b5db92cabe4f8bf20c5",
            "placeholder": "​",
            "style": "IPY_MODEL_01de1bc5c9804d5bb568366f6b506e4f",
            "value": "Downloading (…)lve/main/config.json: 100%"
          }
        },
        "441a22f03a6742bdbca6767523a95ced": {
          "model_module": "@jupyter-widgets/controls",
          "model_name": "FloatProgressModel",
          "model_module_version": "1.5.0",
          "state": {
            "_dom_classes": [],
            "_model_module": "@jupyter-widgets/controls",
            "_model_module_version": "1.5.0",
            "_model_name": "FloatProgressModel",
            "_view_count": null,
            "_view_module": "@jupyter-widgets/controls",
            "_view_module_version": "1.5.0",
            "_view_name": "ProgressView",
            "bar_style": "success",
            "description": "",
            "description_tooltip": null,
            "layout": "IPY_MODEL_1d8daef9731c40cc8d15a1e208299b97",
            "max": 570,
            "min": 0,
            "orientation": "horizontal",
            "style": "IPY_MODEL_d2b8d56bb71a4b6dbf0598c531b4c6d6",
            "value": 570
          }
        },
        "0ddbda7b31be4d4e88c65b871b4693a5": {
          "model_module": "@jupyter-widgets/controls",
          "model_name": "HTMLModel",
          "model_module_version": "1.5.0",
          "state": {
            "_dom_classes": [],
            "_model_module": "@jupyter-widgets/controls",
            "_model_module_version": "1.5.0",
            "_model_name": "HTMLModel",
            "_view_count": null,
            "_view_module": "@jupyter-widgets/controls",
            "_view_module_version": "1.5.0",
            "_view_name": "HTMLView",
            "description": "",
            "description_tooltip": null,
            "layout": "IPY_MODEL_d41e22d31a17433bb9bd275885e45ae8",
            "placeholder": "​",
            "style": "IPY_MODEL_8b397bc9ff0d4aba8b59ba31d834c1af",
            "value": " 570/570 [00:00&lt;00:00, 8.96kB/s]"
          }
        },
        "c82f77ed13f4455b817d593752da9ee8": {
          "model_module": "@jupyter-widgets/base",
          "model_name": "LayoutModel",
          "model_module_version": "1.2.0",
          "state": {
            "_model_module": "@jupyter-widgets/base",
            "_model_module_version": "1.2.0",
            "_model_name": "LayoutModel",
            "_view_count": null,
            "_view_module": "@jupyter-widgets/base",
            "_view_module_version": "1.2.0",
            "_view_name": "LayoutView",
            "align_content": null,
            "align_items": null,
            "align_self": null,
            "border": null,
            "bottom": null,
            "display": null,
            "flex": null,
            "flex_flow": null,
            "grid_area": null,
            "grid_auto_columns": null,
            "grid_auto_flow": null,
            "grid_auto_rows": null,
            "grid_column": null,
            "grid_gap": null,
            "grid_row": null,
            "grid_template_areas": null,
            "grid_template_columns": null,
            "grid_template_rows": null,
            "height": null,
            "justify_content": null,
            "justify_items": null,
            "left": null,
            "margin": null,
            "max_height": null,
            "max_width": null,
            "min_height": null,
            "min_width": null,
            "object_fit": null,
            "object_position": null,
            "order": null,
            "overflow": null,
            "overflow_x": null,
            "overflow_y": null,
            "padding": null,
            "right": null,
            "top": null,
            "visibility": null,
            "width": null
          }
        },
        "0c23c6a8b2174b5db92cabe4f8bf20c5": {
          "model_module": "@jupyter-widgets/base",
          "model_name": "LayoutModel",
          "model_module_version": "1.2.0",
          "state": {
            "_model_module": "@jupyter-widgets/base",
            "_model_module_version": "1.2.0",
            "_model_name": "LayoutModel",
            "_view_count": null,
            "_view_module": "@jupyter-widgets/base",
            "_view_module_version": "1.2.0",
            "_view_name": "LayoutView",
            "align_content": null,
            "align_items": null,
            "align_self": null,
            "border": null,
            "bottom": null,
            "display": null,
            "flex": null,
            "flex_flow": null,
            "grid_area": null,
            "grid_auto_columns": null,
            "grid_auto_flow": null,
            "grid_auto_rows": null,
            "grid_column": null,
            "grid_gap": null,
            "grid_row": null,
            "grid_template_areas": null,
            "grid_template_columns": null,
            "grid_template_rows": null,
            "height": null,
            "justify_content": null,
            "justify_items": null,
            "left": null,
            "margin": null,
            "max_height": null,
            "max_width": null,
            "min_height": null,
            "min_width": null,
            "object_fit": null,
            "object_position": null,
            "order": null,
            "overflow": null,
            "overflow_x": null,
            "overflow_y": null,
            "padding": null,
            "right": null,
            "top": null,
            "visibility": null,
            "width": null
          }
        },
        "01de1bc5c9804d5bb568366f6b506e4f": {
          "model_module": "@jupyter-widgets/controls",
          "model_name": "DescriptionStyleModel",
          "model_module_version": "1.5.0",
          "state": {
            "_model_module": "@jupyter-widgets/controls",
            "_model_module_version": "1.5.0",
            "_model_name": "DescriptionStyleModel",
            "_view_count": null,
            "_view_module": "@jupyter-widgets/base",
            "_view_module_version": "1.2.0",
            "_view_name": "StyleView",
            "description_width": ""
          }
        },
        "1d8daef9731c40cc8d15a1e208299b97": {
          "model_module": "@jupyter-widgets/base",
          "model_name": "LayoutModel",
          "model_module_version": "1.2.0",
          "state": {
            "_model_module": "@jupyter-widgets/base",
            "_model_module_version": "1.2.0",
            "_model_name": "LayoutModel",
            "_view_count": null,
            "_view_module": "@jupyter-widgets/base",
            "_view_module_version": "1.2.0",
            "_view_name": "LayoutView",
            "align_content": null,
            "align_items": null,
            "align_self": null,
            "border": null,
            "bottom": null,
            "display": null,
            "flex": null,
            "flex_flow": null,
            "grid_area": null,
            "grid_auto_columns": null,
            "grid_auto_flow": null,
            "grid_auto_rows": null,
            "grid_column": null,
            "grid_gap": null,
            "grid_row": null,
            "grid_template_areas": null,
            "grid_template_columns": null,
            "grid_template_rows": null,
            "height": null,
            "justify_content": null,
            "justify_items": null,
            "left": null,
            "margin": null,
            "max_height": null,
            "max_width": null,
            "min_height": null,
            "min_width": null,
            "object_fit": null,
            "object_position": null,
            "order": null,
            "overflow": null,
            "overflow_x": null,
            "overflow_y": null,
            "padding": null,
            "right": null,
            "top": null,
            "visibility": null,
            "width": null
          }
        },
        "d2b8d56bb71a4b6dbf0598c531b4c6d6": {
          "model_module": "@jupyter-widgets/controls",
          "model_name": "ProgressStyleModel",
          "model_module_version": "1.5.0",
          "state": {
            "_model_module": "@jupyter-widgets/controls",
            "_model_module_version": "1.5.0",
            "_model_name": "ProgressStyleModel",
            "_view_count": null,
            "_view_module": "@jupyter-widgets/base",
            "_view_module_version": "1.2.0",
            "_view_name": "StyleView",
            "bar_color": null,
            "description_width": ""
          }
        },
        "d41e22d31a17433bb9bd275885e45ae8": {
          "model_module": "@jupyter-widgets/base",
          "model_name": "LayoutModel",
          "model_module_version": "1.2.0",
          "state": {
            "_model_module": "@jupyter-widgets/base",
            "_model_module_version": "1.2.0",
            "_model_name": "LayoutModel",
            "_view_count": null,
            "_view_module": "@jupyter-widgets/base",
            "_view_module_version": "1.2.0",
            "_view_name": "LayoutView",
            "align_content": null,
            "align_items": null,
            "align_self": null,
            "border": null,
            "bottom": null,
            "display": null,
            "flex": null,
            "flex_flow": null,
            "grid_area": null,
            "grid_auto_columns": null,
            "grid_auto_flow": null,
            "grid_auto_rows": null,
            "grid_column": null,
            "grid_gap": null,
            "grid_row": null,
            "grid_template_areas": null,
            "grid_template_columns": null,
            "grid_template_rows": null,
            "height": null,
            "justify_content": null,
            "justify_items": null,
            "left": null,
            "margin": null,
            "max_height": null,
            "max_width": null,
            "min_height": null,
            "min_width": null,
            "object_fit": null,
            "object_position": null,
            "order": null,
            "overflow": null,
            "overflow_x": null,
            "overflow_y": null,
            "padding": null,
            "right": null,
            "top": null,
            "visibility": null,
            "width": null
          }
        },
        "8b397bc9ff0d4aba8b59ba31d834c1af": {
          "model_module": "@jupyter-widgets/controls",
          "model_name": "DescriptionStyleModel",
          "model_module_version": "1.5.0",
          "state": {
            "_model_module": "@jupyter-widgets/controls",
            "_model_module_version": "1.5.0",
            "_model_name": "DescriptionStyleModel",
            "_view_count": null,
            "_view_module": "@jupyter-widgets/base",
            "_view_module_version": "1.2.0",
            "_view_name": "StyleView",
            "description_width": ""
          }
        },
        "b30418bb700140f59121e825e9fa8740": {
          "model_module": "@jupyter-widgets/controls",
          "model_name": "HBoxModel",
          "model_module_version": "1.5.0",
          "state": {
            "_dom_classes": [],
            "_model_module": "@jupyter-widgets/controls",
            "_model_module_version": "1.5.0",
            "_model_name": "HBoxModel",
            "_view_count": null,
            "_view_module": "@jupyter-widgets/controls",
            "_view_module_version": "1.5.0",
            "_view_name": "HBoxView",
            "box_style": "",
            "children": [
              "IPY_MODEL_e15291f7936248b1a3ad33b82d77dc6b",
              "IPY_MODEL_ef2ddc9e01334b52bad2b0f334c84e61",
              "IPY_MODEL_d71ff04360b24d4387f115b13d14e8f6"
            ],
            "layout": "IPY_MODEL_a0acfb28c7a443deb75ce53c832fbd85"
          }
        },
        "e15291f7936248b1a3ad33b82d77dc6b": {
          "model_module": "@jupyter-widgets/controls",
          "model_name": "HTMLModel",
          "model_module_version": "1.5.0",
          "state": {
            "_dom_classes": [],
            "_model_module": "@jupyter-widgets/controls",
            "_model_module_version": "1.5.0",
            "_model_name": "HTMLModel",
            "_view_count": null,
            "_view_module": "@jupyter-widgets/controls",
            "_view_module_version": "1.5.0",
            "_view_name": "HTMLView",
            "description": "",
            "description_tooltip": null,
            "layout": "IPY_MODEL_777647741e6a4ed1a09cb04e026cdb06",
            "placeholder": "​",
            "style": "IPY_MODEL_292f3dced56e4cc8a02176a31626b573",
            "value": "Downloading model.safetensors: 100%"
          }
        },
        "ef2ddc9e01334b52bad2b0f334c84e61": {
          "model_module": "@jupyter-widgets/controls",
          "model_name": "FloatProgressModel",
          "model_module_version": "1.5.0",
          "state": {
            "_dom_classes": [],
            "_model_module": "@jupyter-widgets/controls",
            "_model_module_version": "1.5.0",
            "_model_name": "FloatProgressModel",
            "_view_count": null,
            "_view_module": "@jupyter-widgets/controls",
            "_view_module_version": "1.5.0",
            "_view_name": "ProgressView",
            "bar_style": "success",
            "description": "",
            "description_tooltip": null,
            "layout": "IPY_MODEL_b0c964df03e24ab19437796b09e7abea",
            "max": 435755784,
            "min": 0,
            "orientation": "horizontal",
            "style": "IPY_MODEL_e599d79dde69433ea895340950449db0",
            "value": 435755784
          }
        },
        "d71ff04360b24d4387f115b13d14e8f6": {
          "model_module": "@jupyter-widgets/controls",
          "model_name": "HTMLModel",
          "model_module_version": "1.5.0",
          "state": {
            "_dom_classes": [],
            "_model_module": "@jupyter-widgets/controls",
            "_model_module_version": "1.5.0",
            "_model_name": "HTMLModel",
            "_view_count": null,
            "_view_module": "@jupyter-widgets/controls",
            "_view_module_version": "1.5.0",
            "_view_name": "HTMLView",
            "description": "",
            "description_tooltip": null,
            "layout": "IPY_MODEL_e33deacf461442ab8212d324e3f8f9bd",
            "placeholder": "​",
            "style": "IPY_MODEL_2f90a55cd335425786d31a6f691403cd",
            "value": " 436M/436M [00:04&lt;00:00, 123MB/s]"
          }
        },
        "a0acfb28c7a443deb75ce53c832fbd85": {
          "model_module": "@jupyter-widgets/base",
          "model_name": "LayoutModel",
          "model_module_version": "1.2.0",
          "state": {
            "_model_module": "@jupyter-widgets/base",
            "_model_module_version": "1.2.0",
            "_model_name": "LayoutModel",
            "_view_count": null,
            "_view_module": "@jupyter-widgets/base",
            "_view_module_version": "1.2.0",
            "_view_name": "LayoutView",
            "align_content": null,
            "align_items": null,
            "align_self": null,
            "border": null,
            "bottom": null,
            "display": null,
            "flex": null,
            "flex_flow": null,
            "grid_area": null,
            "grid_auto_columns": null,
            "grid_auto_flow": null,
            "grid_auto_rows": null,
            "grid_column": null,
            "grid_gap": null,
            "grid_row": null,
            "grid_template_areas": null,
            "grid_template_columns": null,
            "grid_template_rows": null,
            "height": null,
            "justify_content": null,
            "justify_items": null,
            "left": null,
            "margin": null,
            "max_height": null,
            "max_width": null,
            "min_height": null,
            "min_width": null,
            "object_fit": null,
            "object_position": null,
            "order": null,
            "overflow": null,
            "overflow_x": null,
            "overflow_y": null,
            "padding": null,
            "right": null,
            "top": null,
            "visibility": null,
            "width": null
          }
        },
        "777647741e6a4ed1a09cb04e026cdb06": {
          "model_module": "@jupyter-widgets/base",
          "model_name": "LayoutModel",
          "model_module_version": "1.2.0",
          "state": {
            "_model_module": "@jupyter-widgets/base",
            "_model_module_version": "1.2.0",
            "_model_name": "LayoutModel",
            "_view_count": null,
            "_view_module": "@jupyter-widgets/base",
            "_view_module_version": "1.2.0",
            "_view_name": "LayoutView",
            "align_content": null,
            "align_items": null,
            "align_self": null,
            "border": null,
            "bottom": null,
            "display": null,
            "flex": null,
            "flex_flow": null,
            "grid_area": null,
            "grid_auto_columns": null,
            "grid_auto_flow": null,
            "grid_auto_rows": null,
            "grid_column": null,
            "grid_gap": null,
            "grid_row": null,
            "grid_template_areas": null,
            "grid_template_columns": null,
            "grid_template_rows": null,
            "height": null,
            "justify_content": null,
            "justify_items": null,
            "left": null,
            "margin": null,
            "max_height": null,
            "max_width": null,
            "min_height": null,
            "min_width": null,
            "object_fit": null,
            "object_position": null,
            "order": null,
            "overflow": null,
            "overflow_x": null,
            "overflow_y": null,
            "padding": null,
            "right": null,
            "top": null,
            "visibility": null,
            "width": null
          }
        },
        "292f3dced56e4cc8a02176a31626b573": {
          "model_module": "@jupyter-widgets/controls",
          "model_name": "DescriptionStyleModel",
          "model_module_version": "1.5.0",
          "state": {
            "_model_module": "@jupyter-widgets/controls",
            "_model_module_version": "1.5.0",
            "_model_name": "DescriptionStyleModel",
            "_view_count": null,
            "_view_module": "@jupyter-widgets/base",
            "_view_module_version": "1.2.0",
            "_view_name": "StyleView",
            "description_width": ""
          }
        },
        "b0c964df03e24ab19437796b09e7abea": {
          "model_module": "@jupyter-widgets/base",
          "model_name": "LayoutModel",
          "model_module_version": "1.2.0",
          "state": {
            "_model_module": "@jupyter-widgets/base",
            "_model_module_version": "1.2.0",
            "_model_name": "LayoutModel",
            "_view_count": null,
            "_view_module": "@jupyter-widgets/base",
            "_view_module_version": "1.2.0",
            "_view_name": "LayoutView",
            "align_content": null,
            "align_items": null,
            "align_self": null,
            "border": null,
            "bottom": null,
            "display": null,
            "flex": null,
            "flex_flow": null,
            "grid_area": null,
            "grid_auto_columns": null,
            "grid_auto_flow": null,
            "grid_auto_rows": null,
            "grid_column": null,
            "grid_gap": null,
            "grid_row": null,
            "grid_template_areas": null,
            "grid_template_columns": null,
            "grid_template_rows": null,
            "height": null,
            "justify_content": null,
            "justify_items": null,
            "left": null,
            "margin": null,
            "max_height": null,
            "max_width": null,
            "min_height": null,
            "min_width": null,
            "object_fit": null,
            "object_position": null,
            "order": null,
            "overflow": null,
            "overflow_x": null,
            "overflow_y": null,
            "padding": null,
            "right": null,
            "top": null,
            "visibility": null,
            "width": null
          }
        },
        "e599d79dde69433ea895340950449db0": {
          "model_module": "@jupyter-widgets/controls",
          "model_name": "ProgressStyleModel",
          "model_module_version": "1.5.0",
          "state": {
            "_model_module": "@jupyter-widgets/controls",
            "_model_module_version": "1.5.0",
            "_model_name": "ProgressStyleModel",
            "_view_count": null,
            "_view_module": "@jupyter-widgets/base",
            "_view_module_version": "1.2.0",
            "_view_name": "StyleView",
            "bar_color": null,
            "description_width": ""
          }
        },
        "e33deacf461442ab8212d324e3f8f9bd": {
          "model_module": "@jupyter-widgets/base",
          "model_name": "LayoutModel",
          "model_module_version": "1.2.0",
          "state": {
            "_model_module": "@jupyter-widgets/base",
            "_model_module_version": "1.2.0",
            "_model_name": "LayoutModel",
            "_view_count": null,
            "_view_module": "@jupyter-widgets/base",
            "_view_module_version": "1.2.0",
            "_view_name": "LayoutView",
            "align_content": null,
            "align_items": null,
            "align_self": null,
            "border": null,
            "bottom": null,
            "display": null,
            "flex": null,
            "flex_flow": null,
            "grid_area": null,
            "grid_auto_columns": null,
            "grid_auto_flow": null,
            "grid_auto_rows": null,
            "grid_column": null,
            "grid_gap": null,
            "grid_row": null,
            "grid_template_areas": null,
            "grid_template_columns": null,
            "grid_template_rows": null,
            "height": null,
            "justify_content": null,
            "justify_items": null,
            "left": null,
            "margin": null,
            "max_height": null,
            "max_width": null,
            "min_height": null,
            "min_width": null,
            "object_fit": null,
            "object_position": null,
            "order": null,
            "overflow": null,
            "overflow_x": null,
            "overflow_y": null,
            "padding": null,
            "right": null,
            "top": null,
            "visibility": null,
            "width": null
          }
        },
        "2f90a55cd335425786d31a6f691403cd": {
          "model_module": "@jupyter-widgets/controls",
          "model_name": "DescriptionStyleModel",
          "model_module_version": "1.5.0",
          "state": {
            "_model_module": "@jupyter-widgets/controls",
            "_model_module_version": "1.5.0",
            "_model_name": "DescriptionStyleModel",
            "_view_count": null,
            "_view_module": "@jupyter-widgets/base",
            "_view_module_version": "1.2.0",
            "_view_name": "StyleView",
            "description_width": ""
          }
        }
      }
    }
  },
  "nbformat": 4,
  "nbformat_minor": 0
}