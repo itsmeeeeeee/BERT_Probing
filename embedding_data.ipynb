{
  "metadata": {
    "kernelspec": {
      "name": "python3",
      "display_name": "Python 3"
    },
    "language_info": {
      "name": "python",
      "version": "3.10.12",
      "mimetype": "text/x-python",
      "codemirror_mode": {
        "name": "ipython",
        "version": 3
      },
      "pygments_lexer": "ipython3",
      "nbconvert_exporter": "python",
      "file_extension": ".py"
    },
    "colab": {
      "provenance": [],
      "gpuType": "A100",
      "machine_shape": "hm",
      "include_colab_link": true
    },
    "accelerator": "GPU",
    "widgets": {
      "application/vnd.jupyter.widget-state+json": {
        "74110196fd9a4878ad215567c8862cc1": {
          "model_module": "@jupyter-widgets/controls",
          "model_name": "HBoxModel",
          "model_module_version": "1.5.0",
          "state": {
            "_dom_classes": [],
            "_model_module": "@jupyter-widgets/controls",
            "_model_module_version": "1.5.0",
            "_model_name": "HBoxModel",
            "_view_count": null,
            "_view_module": "@jupyter-widgets/controls",
            "_view_module_version": "1.5.0",
            "_view_name": "HBoxView",
            "box_style": "",
            "children": [
              "IPY_MODEL_c6ad64d537164ca5b9735c92affef2a8",
              "IPY_MODEL_140039c6a8f747678e0fc58993904bdb",
              "IPY_MODEL_a3dde84826c7495c84b0b9be9c7cc6c6"
            ],
            "layout": "IPY_MODEL_9f3ff1870ff24cb6bf9f589a051c9bae"
          }
        },
        "c6ad64d537164ca5b9735c92affef2a8": {
          "model_module": "@jupyter-widgets/controls",
          "model_name": "HTMLModel",
          "model_module_version": "1.5.0",
          "state": {
            "_dom_classes": [],
            "_model_module": "@jupyter-widgets/controls",
            "_model_module_version": "1.5.0",
            "_model_name": "HTMLModel",
            "_view_count": null,
            "_view_module": "@jupyter-widgets/controls",
            "_view_module_version": "1.5.0",
            "_view_name": "HTMLView",
            "description": "",
            "description_tooltip": null,
            "layout": "IPY_MODEL_e99000e8d3b34a3a948732748b2a5704",
            "placeholder": "​",
            "style": "IPY_MODEL_ce9f04f6e76b499c81c44ab7b71d8bc2",
            "value": "Downloading (…)okenizer_config.json: 100%"
          }
        },
        "140039c6a8f747678e0fc58993904bdb": {
          "model_module": "@jupyter-widgets/controls",
          "model_name": "FloatProgressModel",
          "model_module_version": "1.5.0",
          "state": {
            "_dom_classes": [],
            "_model_module": "@jupyter-widgets/controls",
            "_model_module_version": "1.5.0",
            "_model_name": "FloatProgressModel",
            "_view_count": null,
            "_view_module": "@jupyter-widgets/controls",
            "_view_module_version": "1.5.0",
            "_view_name": "ProgressView",
            "bar_style": "success",
            "description": "",
            "description_tooltip": null,
            "layout": "IPY_MODEL_bd65c7eba20d46989fcdc08eb75bfa4c",
            "max": 29,
            "min": 0,
            "orientation": "horizontal",
            "style": "IPY_MODEL_b7862a79bdda4b8b961e3faaa592e41a",
            "value": 29
          }
        },
        "a3dde84826c7495c84b0b9be9c7cc6c6": {
          "model_module": "@jupyter-widgets/controls",
          "model_name": "HTMLModel",
          "model_module_version": "1.5.0",
          "state": {
            "_dom_classes": [],
            "_model_module": "@jupyter-widgets/controls",
            "_model_module_version": "1.5.0",
            "_model_name": "HTMLModel",
            "_view_count": null,
            "_view_module": "@jupyter-widgets/controls",
            "_view_module_version": "1.5.0",
            "_view_name": "HTMLView",
            "description": "",
            "description_tooltip": null,
            "layout": "IPY_MODEL_b26f64bc163f4a2eaa0232736e15ddac",
            "placeholder": "​",
            "style": "IPY_MODEL_69966faad01245cc8dddd19d94172a54",
            "value": " 29.0/29.0 [00:00&lt;00:00, 2.20kB/s]"
          }
        },
        "9f3ff1870ff24cb6bf9f589a051c9bae": {
          "model_module": "@jupyter-widgets/base",
          "model_name": "LayoutModel",
          "model_module_version": "1.2.0",
          "state": {
            "_model_module": "@jupyter-widgets/base",
            "_model_module_version": "1.2.0",
            "_model_name": "LayoutModel",
            "_view_count": null,
            "_view_module": "@jupyter-widgets/base",
            "_view_module_version": "1.2.0",
            "_view_name": "LayoutView",
            "align_content": null,
            "align_items": null,
            "align_self": null,
            "border": null,
            "bottom": null,
            "display": null,
            "flex": null,
            "flex_flow": null,
            "grid_area": null,
            "grid_auto_columns": null,
            "grid_auto_flow": null,
            "grid_auto_rows": null,
            "grid_column": null,
            "grid_gap": null,
            "grid_row": null,
            "grid_template_areas": null,
            "grid_template_columns": null,
            "grid_template_rows": null,
            "height": null,
            "justify_content": null,
            "justify_items": null,
            "left": null,
            "margin": null,
            "max_height": null,
            "max_width": null,
            "min_height": null,
            "min_width": null,
            "object_fit": null,
            "object_position": null,
            "order": null,
            "overflow": null,
            "overflow_x": null,
            "overflow_y": null,
            "padding": null,
            "right": null,
            "top": null,
            "visibility": null,
            "width": null
          }
        },
        "e99000e8d3b34a3a948732748b2a5704": {
          "model_module": "@jupyter-widgets/base",
          "model_name": "LayoutModel",
          "model_module_version": "1.2.0",
          "state": {
            "_model_module": "@jupyter-widgets/base",
            "_model_module_version": "1.2.0",
            "_model_name": "LayoutModel",
            "_view_count": null,
            "_view_module": "@jupyter-widgets/base",
            "_view_module_version": "1.2.0",
            "_view_name": "LayoutView",
            "align_content": null,
            "align_items": null,
            "align_self": null,
            "border": null,
            "bottom": null,
            "display": null,
            "flex": null,
            "flex_flow": null,
            "grid_area": null,
            "grid_auto_columns": null,
            "grid_auto_flow": null,
            "grid_auto_rows": null,
            "grid_column": null,
            "grid_gap": null,
            "grid_row": null,
            "grid_template_areas": null,
            "grid_template_columns": null,
            "grid_template_rows": null,
            "height": null,
            "justify_content": null,
            "justify_items": null,
            "left": null,
            "margin": null,
            "max_height": null,
            "max_width": null,
            "min_height": null,
            "min_width": null,
            "object_fit": null,
            "object_position": null,
            "order": null,
            "overflow": null,
            "overflow_x": null,
            "overflow_y": null,
            "padding": null,
            "right": null,
            "top": null,
            "visibility": null,
            "width": null
          }
        },
        "ce9f04f6e76b499c81c44ab7b71d8bc2": {
          "model_module": "@jupyter-widgets/controls",
          "model_name": "DescriptionStyleModel",
          "model_module_version": "1.5.0",
          "state": {
            "_model_module": "@jupyter-widgets/controls",
            "_model_module_version": "1.5.0",
            "_model_name": "DescriptionStyleModel",
            "_view_count": null,
            "_view_module": "@jupyter-widgets/base",
            "_view_module_version": "1.2.0",
            "_view_name": "StyleView",
            "description_width": ""
          }
        },
        "bd65c7eba20d46989fcdc08eb75bfa4c": {
          "model_module": "@jupyter-widgets/base",
          "model_name": "LayoutModel",
          "model_module_version": "1.2.0",
          "state": {
            "_model_module": "@jupyter-widgets/base",
            "_model_module_version": "1.2.0",
            "_model_name": "LayoutModel",
            "_view_count": null,
            "_view_module": "@jupyter-widgets/base",
            "_view_module_version": "1.2.0",
            "_view_name": "LayoutView",
            "align_content": null,
            "align_items": null,
            "align_self": null,
            "border": null,
            "bottom": null,
            "display": null,
            "flex": null,
            "flex_flow": null,
            "grid_area": null,
            "grid_auto_columns": null,
            "grid_auto_flow": null,
            "grid_auto_rows": null,
            "grid_column": null,
            "grid_gap": null,
            "grid_row": null,
            "grid_template_areas": null,
            "grid_template_columns": null,
            "grid_template_rows": null,
            "height": null,
            "justify_content": null,
            "justify_items": null,
            "left": null,
            "margin": null,
            "max_height": null,
            "max_width": null,
            "min_height": null,
            "min_width": null,
            "object_fit": null,
            "object_position": null,
            "order": null,
            "overflow": null,
            "overflow_x": null,
            "overflow_y": null,
            "padding": null,
            "right": null,
            "top": null,
            "visibility": null,
            "width": null
          }
        },
        "b7862a79bdda4b8b961e3faaa592e41a": {
          "model_module": "@jupyter-widgets/controls",
          "model_name": "ProgressStyleModel",
          "model_module_version": "1.5.0",
          "state": {
            "_model_module": "@jupyter-widgets/controls",
            "_model_module_version": "1.5.0",
            "_model_name": "ProgressStyleModel",
            "_view_count": null,
            "_view_module": "@jupyter-widgets/base",
            "_view_module_version": "1.2.0",
            "_view_name": "StyleView",
            "bar_color": null,
            "description_width": ""
          }
        },
        "b26f64bc163f4a2eaa0232736e15ddac": {
          "model_module": "@jupyter-widgets/base",
          "model_name": "LayoutModel",
          "model_module_version": "1.2.0",
          "state": {
            "_model_module": "@jupyter-widgets/base",
            "_model_module_version": "1.2.0",
            "_model_name": "LayoutModel",
            "_view_count": null,
            "_view_module": "@jupyter-widgets/base",
            "_view_module_version": "1.2.0",
            "_view_name": "LayoutView",
            "align_content": null,
            "align_items": null,
            "align_self": null,
            "border": null,
            "bottom": null,
            "display": null,
            "flex": null,
            "flex_flow": null,
            "grid_area": null,
            "grid_auto_columns": null,
            "grid_auto_flow": null,
            "grid_auto_rows": null,
            "grid_column": null,
            "grid_gap": null,
            "grid_row": null,
            "grid_template_areas": null,
            "grid_template_columns": null,
            "grid_template_rows": null,
            "height": null,
            "justify_content": null,
            "justify_items": null,
            "left": null,
            "margin": null,
            "max_height": null,
            "max_width": null,
            "min_height": null,
            "min_width": null,
            "object_fit": null,
            "object_position": null,
            "order": null,
            "overflow": null,
            "overflow_x": null,
            "overflow_y": null,
            "padding": null,
            "right": null,
            "top": null,
            "visibility": null,
            "width": null
          }
        },
        "69966faad01245cc8dddd19d94172a54": {
          "model_module": "@jupyter-widgets/controls",
          "model_name": "DescriptionStyleModel",
          "model_module_version": "1.5.0",
          "state": {
            "_model_module": "@jupyter-widgets/controls",
            "_model_module_version": "1.5.0",
            "_model_name": "DescriptionStyleModel",
            "_view_count": null,
            "_view_module": "@jupyter-widgets/base",
            "_view_module_version": "1.2.0",
            "_view_name": "StyleView",
            "description_width": ""
          }
        },
        "c7ece062adc041f880f86b2591353c3e": {
          "model_module": "@jupyter-widgets/controls",
          "model_name": "HBoxModel",
          "model_module_version": "1.5.0",
          "state": {
            "_dom_classes": [],
            "_model_module": "@jupyter-widgets/controls",
            "_model_module_version": "1.5.0",
            "_model_name": "HBoxModel",
            "_view_count": null,
            "_view_module": "@jupyter-widgets/controls",
            "_view_module_version": "1.5.0",
            "_view_name": "HBoxView",
            "box_style": "",
            "children": [
              "IPY_MODEL_c6094321932b4eb8a9b400884885744f",
              "IPY_MODEL_0a36637107e6471b8f7a0872307e994f",
              "IPY_MODEL_01e1bfc633ef4026b91e0b08e73ccb93"
            ],
            "layout": "IPY_MODEL_bafa597bddba484191cec496859ec4f2"
          }
        },
        "c6094321932b4eb8a9b400884885744f": {
          "model_module": "@jupyter-widgets/controls",
          "model_name": "HTMLModel",
          "model_module_version": "1.5.0",
          "state": {
            "_dom_classes": [],
            "_model_module": "@jupyter-widgets/controls",
            "_model_module_version": "1.5.0",
            "_model_name": "HTMLModel",
            "_view_count": null,
            "_view_module": "@jupyter-widgets/controls",
            "_view_module_version": "1.5.0",
            "_view_name": "HTMLView",
            "description": "",
            "description_tooltip": null,
            "layout": "IPY_MODEL_4cd22028989e4485a2cfe9df6ec10698",
            "placeholder": "​",
            "style": "IPY_MODEL_ae1a01270154499c952cbc3bd1b428b1",
            "value": "Downloading (…)solve/main/vocab.txt: 100%"
          }
        },
        "0a36637107e6471b8f7a0872307e994f": {
          "model_module": "@jupyter-widgets/controls",
          "model_name": "FloatProgressModel",
          "model_module_version": "1.5.0",
          "state": {
            "_dom_classes": [],
            "_model_module": "@jupyter-widgets/controls",
            "_model_module_version": "1.5.0",
            "_model_name": "FloatProgressModel",
            "_view_count": null,
            "_view_module": "@jupyter-widgets/controls",
            "_view_module_version": "1.5.0",
            "_view_name": "ProgressView",
            "bar_style": "success",
            "description": "",
            "description_tooltip": null,
            "layout": "IPY_MODEL_24bbdb0c865c4b66909cd93334a0a8cd",
            "max": 213450,
            "min": 0,
            "orientation": "horizontal",
            "style": "IPY_MODEL_789c85acca074b44b431af0d40a2375b",
            "value": 213450
          }
        },
        "01e1bfc633ef4026b91e0b08e73ccb93": {
          "model_module": "@jupyter-widgets/controls",
          "model_name": "HTMLModel",
          "model_module_version": "1.5.0",
          "state": {
            "_dom_classes": [],
            "_model_module": "@jupyter-widgets/controls",
            "_model_module_version": "1.5.0",
            "_model_name": "HTMLModel",
            "_view_count": null,
            "_view_module": "@jupyter-widgets/controls",
            "_view_module_version": "1.5.0",
            "_view_name": "HTMLView",
            "description": "",
            "description_tooltip": null,
            "layout": "IPY_MODEL_9a550a688de34b7a9fdf481a27277dcf",
            "placeholder": "​",
            "style": "IPY_MODEL_ce73ab55bb07444f89af3c56d1184c82",
            "value": " 213k/213k [00:00&lt;00:00, 924kB/s]"
          }
        },
        "bafa597bddba484191cec496859ec4f2": {
          "model_module": "@jupyter-widgets/base",
          "model_name": "LayoutModel",
          "model_module_version": "1.2.0",
          "state": {
            "_model_module": "@jupyter-widgets/base",
            "_model_module_version": "1.2.0",
            "_model_name": "LayoutModel",
            "_view_count": null,
            "_view_module": "@jupyter-widgets/base",
            "_view_module_version": "1.2.0",
            "_view_name": "LayoutView",
            "align_content": null,
            "align_items": null,
            "align_self": null,
            "border": null,
            "bottom": null,
            "display": null,
            "flex": null,
            "flex_flow": null,
            "grid_area": null,
            "grid_auto_columns": null,
            "grid_auto_flow": null,
            "grid_auto_rows": null,
            "grid_column": null,
            "grid_gap": null,
            "grid_row": null,
            "grid_template_areas": null,
            "grid_template_columns": null,
            "grid_template_rows": null,
            "height": null,
            "justify_content": null,
            "justify_items": null,
            "left": null,
            "margin": null,
            "max_height": null,
            "max_width": null,
            "min_height": null,
            "min_width": null,
            "object_fit": null,
            "object_position": null,
            "order": null,
            "overflow": null,
            "overflow_x": null,
            "overflow_y": null,
            "padding": null,
            "right": null,
            "top": null,
            "visibility": null,
            "width": null
          }
        },
        "4cd22028989e4485a2cfe9df6ec10698": {
          "model_module": "@jupyter-widgets/base",
          "model_name": "LayoutModel",
          "model_module_version": "1.2.0",
          "state": {
            "_model_module": "@jupyter-widgets/base",
            "_model_module_version": "1.2.0",
            "_model_name": "LayoutModel",
            "_view_count": null,
            "_view_module": "@jupyter-widgets/base",
            "_view_module_version": "1.2.0",
            "_view_name": "LayoutView",
            "align_content": null,
            "align_items": null,
            "align_self": null,
            "border": null,
            "bottom": null,
            "display": null,
            "flex": null,
            "flex_flow": null,
            "grid_area": null,
            "grid_auto_columns": null,
            "grid_auto_flow": null,
            "grid_auto_rows": null,
            "grid_column": null,
            "grid_gap": null,
            "grid_row": null,
            "grid_template_areas": null,
            "grid_template_columns": null,
            "grid_template_rows": null,
            "height": null,
            "justify_content": null,
            "justify_items": null,
            "left": null,
            "margin": null,
            "max_height": null,
            "max_width": null,
            "min_height": null,
            "min_width": null,
            "object_fit": null,
            "object_position": null,
            "order": null,
            "overflow": null,
            "overflow_x": null,
            "overflow_y": null,
            "padding": null,
            "right": null,
            "top": null,
            "visibility": null,
            "width": null
          }
        },
        "ae1a01270154499c952cbc3bd1b428b1": {
          "model_module": "@jupyter-widgets/controls",
          "model_name": "DescriptionStyleModel",
          "model_module_version": "1.5.0",
          "state": {
            "_model_module": "@jupyter-widgets/controls",
            "_model_module_version": "1.5.0",
            "_model_name": "DescriptionStyleModel",
            "_view_count": null,
            "_view_module": "@jupyter-widgets/base",
            "_view_module_version": "1.2.0",
            "_view_name": "StyleView",
            "description_width": ""
          }
        },
        "24bbdb0c865c4b66909cd93334a0a8cd": {
          "model_module": "@jupyter-widgets/base",
          "model_name": "LayoutModel",
          "model_module_version": "1.2.0",
          "state": {
            "_model_module": "@jupyter-widgets/base",
            "_model_module_version": "1.2.0",
            "_model_name": "LayoutModel",
            "_view_count": null,
            "_view_module": "@jupyter-widgets/base",
            "_view_module_version": "1.2.0",
            "_view_name": "LayoutView",
            "align_content": null,
            "align_items": null,
            "align_self": null,
            "border": null,
            "bottom": null,
            "display": null,
            "flex": null,
            "flex_flow": null,
            "grid_area": null,
            "grid_auto_columns": null,
            "grid_auto_flow": null,
            "grid_auto_rows": null,
            "grid_column": null,
            "grid_gap": null,
            "grid_row": null,
            "grid_template_areas": null,
            "grid_template_columns": null,
            "grid_template_rows": null,
            "height": null,
            "justify_content": null,
            "justify_items": null,
            "left": null,
            "margin": null,
            "max_height": null,
            "max_width": null,
            "min_height": null,
            "min_width": null,
            "object_fit": null,
            "object_position": null,
            "order": null,
            "overflow": null,
            "overflow_x": null,
            "overflow_y": null,
            "padding": null,
            "right": null,
            "top": null,
            "visibility": null,
            "width": null
          }
        },
        "789c85acca074b44b431af0d40a2375b": {
          "model_module": "@jupyter-widgets/controls",
          "model_name": "ProgressStyleModel",
          "model_module_version": "1.5.0",
          "state": {
            "_model_module": "@jupyter-widgets/controls",
            "_model_module_version": "1.5.0",
            "_model_name": "ProgressStyleModel",
            "_view_count": null,
            "_view_module": "@jupyter-widgets/base",
            "_view_module_version": "1.2.0",
            "_view_name": "StyleView",
            "bar_color": null,
            "description_width": ""
          }
        },
        "9a550a688de34b7a9fdf481a27277dcf": {
          "model_module": "@jupyter-widgets/base",
          "model_name": "LayoutModel",
          "model_module_version": "1.2.0",
          "state": {
            "_model_module": "@jupyter-widgets/base",
            "_model_module_version": "1.2.0",
            "_model_name": "LayoutModel",
            "_view_count": null,
            "_view_module": "@jupyter-widgets/base",
            "_view_module_version": "1.2.0",
            "_view_name": "LayoutView",
            "align_content": null,
            "align_items": null,
            "align_self": null,
            "border": null,
            "bottom": null,
            "display": null,
            "flex": null,
            "flex_flow": null,
            "grid_area": null,
            "grid_auto_columns": null,
            "grid_auto_flow": null,
            "grid_auto_rows": null,
            "grid_column": null,
            "grid_gap": null,
            "grid_row": null,
            "grid_template_areas": null,
            "grid_template_columns": null,
            "grid_template_rows": null,
            "height": null,
            "justify_content": null,
            "justify_items": null,
            "left": null,
            "margin": null,
            "max_height": null,
            "max_width": null,
            "min_height": null,
            "min_width": null,
            "object_fit": null,
            "object_position": null,
            "order": null,
            "overflow": null,
            "overflow_x": null,
            "overflow_y": null,
            "padding": null,
            "right": null,
            "top": null,
            "visibility": null,
            "width": null
          }
        },
        "ce73ab55bb07444f89af3c56d1184c82": {
          "model_module": "@jupyter-widgets/controls",
          "model_name": "DescriptionStyleModel",
          "model_module_version": "1.5.0",
          "state": {
            "_model_module": "@jupyter-widgets/controls",
            "_model_module_version": "1.5.0",
            "_model_name": "DescriptionStyleModel",
            "_view_count": null,
            "_view_module": "@jupyter-widgets/base",
            "_view_module_version": "1.2.0",
            "_view_name": "StyleView",
            "description_width": ""
          }
        },
        "7c6627ef75614b34902e31d449f684e1": {
          "model_module": "@jupyter-widgets/controls",
          "model_name": "HBoxModel",
          "model_module_version": "1.5.0",
          "state": {
            "_dom_classes": [],
            "_model_module": "@jupyter-widgets/controls",
            "_model_module_version": "1.5.0",
            "_model_name": "HBoxModel",
            "_view_count": null,
            "_view_module": "@jupyter-widgets/controls",
            "_view_module_version": "1.5.0",
            "_view_name": "HBoxView",
            "box_style": "",
            "children": [
              "IPY_MODEL_b4cca4e4affb434d87f80d94fe3728dc",
              "IPY_MODEL_ba444411492e4183a7a80bd08303a936",
              "IPY_MODEL_7f573391252f458583920fb4b58bfb16"
            ],
            "layout": "IPY_MODEL_a075abd9170848bcba0c8f94fb171a87"
          }
        },
        "b4cca4e4affb434d87f80d94fe3728dc": {
          "model_module": "@jupyter-widgets/controls",
          "model_name": "HTMLModel",
          "model_module_version": "1.5.0",
          "state": {
            "_dom_classes": [],
            "_model_module": "@jupyter-widgets/controls",
            "_model_module_version": "1.5.0",
            "_model_name": "HTMLModel",
            "_view_count": null,
            "_view_module": "@jupyter-widgets/controls",
            "_view_module_version": "1.5.0",
            "_view_name": "HTMLView",
            "description": "",
            "description_tooltip": null,
            "layout": "IPY_MODEL_491557bd997845d585c3481d8fc940c7",
            "placeholder": "​",
            "style": "IPY_MODEL_6e720a2aa0b64026a0290f1d5e42e69e",
            "value": "Downloading (…)/main/tokenizer.json: 100%"
          }
        },
        "ba444411492e4183a7a80bd08303a936": {
          "model_module": "@jupyter-widgets/controls",
          "model_name": "FloatProgressModel",
          "model_module_version": "1.5.0",
          "state": {
            "_dom_classes": [],
            "_model_module": "@jupyter-widgets/controls",
            "_model_module_version": "1.5.0",
            "_model_name": "FloatProgressModel",
            "_view_count": null,
            "_view_module": "@jupyter-widgets/controls",
            "_view_module_version": "1.5.0",
            "_view_name": "ProgressView",
            "bar_style": "success",
            "description": "",
            "description_tooltip": null,
            "layout": "IPY_MODEL_fb023c34798e4e0490ab516d1a4160a5",
            "max": 435797,
            "min": 0,
            "orientation": "horizontal",
            "style": "IPY_MODEL_217af203145b44888d622242e190dfa1",
            "value": 435797
          }
        },
        "7f573391252f458583920fb4b58bfb16": {
          "model_module": "@jupyter-widgets/controls",
          "model_name": "HTMLModel",
          "model_module_version": "1.5.0",
          "state": {
            "_dom_classes": [],
            "_model_module": "@jupyter-widgets/controls",
            "_model_module_version": "1.5.0",
            "_model_name": "HTMLModel",
            "_view_count": null,
            "_view_module": "@jupyter-widgets/controls",
            "_view_module_version": "1.5.0",
            "_view_name": "HTMLView",
            "description": "",
            "description_tooltip": null,
            "layout": "IPY_MODEL_134550b3bc0f404bb2bd72133d45bd00",
            "placeholder": "​",
            "style": "IPY_MODEL_4d3134621374411aa0885deb618a6e04",
            "value": " 436k/436k [00:00&lt;00:00, 1.79MB/s]"
          }
        },
        "a075abd9170848bcba0c8f94fb171a87": {
          "model_module": "@jupyter-widgets/base",
          "model_name": "LayoutModel",
          "model_module_version": "1.2.0",
          "state": {
            "_model_module": "@jupyter-widgets/base",
            "_model_module_version": "1.2.0",
            "_model_name": "LayoutModel",
            "_view_count": null,
            "_view_module": "@jupyter-widgets/base",
            "_view_module_version": "1.2.0",
            "_view_name": "LayoutView",
            "align_content": null,
            "align_items": null,
            "align_self": null,
            "border": null,
            "bottom": null,
            "display": null,
            "flex": null,
            "flex_flow": null,
            "grid_area": null,
            "grid_auto_columns": null,
            "grid_auto_flow": null,
            "grid_auto_rows": null,
            "grid_column": null,
            "grid_gap": null,
            "grid_row": null,
            "grid_template_areas": null,
            "grid_template_columns": null,
            "grid_template_rows": null,
            "height": null,
            "justify_content": null,
            "justify_items": null,
            "left": null,
            "margin": null,
            "max_height": null,
            "max_width": null,
            "min_height": null,
            "min_width": null,
            "object_fit": null,
            "object_position": null,
            "order": null,
            "overflow": null,
            "overflow_x": null,
            "overflow_y": null,
            "padding": null,
            "right": null,
            "top": null,
            "visibility": null,
            "width": null
          }
        },
        "491557bd997845d585c3481d8fc940c7": {
          "model_module": "@jupyter-widgets/base",
          "model_name": "LayoutModel",
          "model_module_version": "1.2.0",
          "state": {
            "_model_module": "@jupyter-widgets/base",
            "_model_module_version": "1.2.0",
            "_model_name": "LayoutModel",
            "_view_count": null,
            "_view_module": "@jupyter-widgets/base",
            "_view_module_version": "1.2.0",
            "_view_name": "LayoutView",
            "align_content": null,
            "align_items": null,
            "align_self": null,
            "border": null,
            "bottom": null,
            "display": null,
            "flex": null,
            "flex_flow": null,
            "grid_area": null,
            "grid_auto_columns": null,
            "grid_auto_flow": null,
            "grid_auto_rows": null,
            "grid_column": null,
            "grid_gap": null,
            "grid_row": null,
            "grid_template_areas": null,
            "grid_template_columns": null,
            "grid_template_rows": null,
            "height": null,
            "justify_content": null,
            "justify_items": null,
            "left": null,
            "margin": null,
            "max_height": null,
            "max_width": null,
            "min_height": null,
            "min_width": null,
            "object_fit": null,
            "object_position": null,
            "order": null,
            "overflow": null,
            "overflow_x": null,
            "overflow_y": null,
            "padding": null,
            "right": null,
            "top": null,
            "visibility": null,
            "width": null
          }
        },
        "6e720a2aa0b64026a0290f1d5e42e69e": {
          "model_module": "@jupyter-widgets/controls",
          "model_name": "DescriptionStyleModel",
          "model_module_version": "1.5.0",
          "state": {
            "_model_module": "@jupyter-widgets/controls",
            "_model_module_version": "1.5.0",
            "_model_name": "DescriptionStyleModel",
            "_view_count": null,
            "_view_module": "@jupyter-widgets/base",
            "_view_module_version": "1.2.0",
            "_view_name": "StyleView",
            "description_width": ""
          }
        },
        "fb023c34798e4e0490ab516d1a4160a5": {
          "model_module": "@jupyter-widgets/base",
          "model_name": "LayoutModel",
          "model_module_version": "1.2.0",
          "state": {
            "_model_module": "@jupyter-widgets/base",
            "_model_module_version": "1.2.0",
            "_model_name": "LayoutModel",
            "_view_count": null,
            "_view_module": "@jupyter-widgets/base",
            "_view_module_version": "1.2.0",
            "_view_name": "LayoutView",
            "align_content": null,
            "align_items": null,
            "align_self": null,
            "border": null,
            "bottom": null,
            "display": null,
            "flex": null,
            "flex_flow": null,
            "grid_area": null,
            "grid_auto_columns": null,
            "grid_auto_flow": null,
            "grid_auto_rows": null,
            "grid_column": null,
            "grid_gap": null,
            "grid_row": null,
            "grid_template_areas": null,
            "grid_template_columns": null,
            "grid_template_rows": null,
            "height": null,
            "justify_content": null,
            "justify_items": null,
            "left": null,
            "margin": null,
            "max_height": null,
            "max_width": null,
            "min_height": null,
            "min_width": null,
            "object_fit": null,
            "object_position": null,
            "order": null,
            "overflow": null,
            "overflow_x": null,
            "overflow_y": null,
            "padding": null,
            "right": null,
            "top": null,
            "visibility": null,
            "width": null
          }
        },
        "217af203145b44888d622242e190dfa1": {
          "model_module": "@jupyter-widgets/controls",
          "model_name": "ProgressStyleModel",
          "model_module_version": "1.5.0",
          "state": {
            "_model_module": "@jupyter-widgets/controls",
            "_model_module_version": "1.5.0",
            "_model_name": "ProgressStyleModel",
            "_view_count": null,
            "_view_module": "@jupyter-widgets/base",
            "_view_module_version": "1.2.0",
            "_view_name": "StyleView",
            "bar_color": null,
            "description_width": ""
          }
        },
        "134550b3bc0f404bb2bd72133d45bd00": {
          "model_module": "@jupyter-widgets/base",
          "model_name": "LayoutModel",
          "model_module_version": "1.2.0",
          "state": {
            "_model_module": "@jupyter-widgets/base",
            "_model_module_version": "1.2.0",
            "_model_name": "LayoutModel",
            "_view_count": null,
            "_view_module": "@jupyter-widgets/base",
            "_view_module_version": "1.2.0",
            "_view_name": "LayoutView",
            "align_content": null,
            "align_items": null,
            "align_self": null,
            "border": null,
            "bottom": null,
            "display": null,
            "flex": null,
            "flex_flow": null,
            "grid_area": null,
            "grid_auto_columns": null,
            "grid_auto_flow": null,
            "grid_auto_rows": null,
            "grid_column": null,
            "grid_gap": null,
            "grid_row": null,
            "grid_template_areas": null,
            "grid_template_columns": null,
            "grid_template_rows": null,
            "height": null,
            "justify_content": null,
            "justify_items": null,
            "left": null,
            "margin": null,
            "max_height": null,
            "max_width": null,
            "min_height": null,
            "min_width": null,
            "object_fit": null,
            "object_position": null,
            "order": null,
            "overflow": null,
            "overflow_x": null,
            "overflow_y": null,
            "padding": null,
            "right": null,
            "top": null,
            "visibility": null,
            "width": null
          }
        },
        "4d3134621374411aa0885deb618a6e04": {
          "model_module": "@jupyter-widgets/controls",
          "model_name": "DescriptionStyleModel",
          "model_module_version": "1.5.0",
          "state": {
            "_model_module": "@jupyter-widgets/controls",
            "_model_module_version": "1.5.0",
            "_model_name": "DescriptionStyleModel",
            "_view_count": null,
            "_view_module": "@jupyter-widgets/base",
            "_view_module_version": "1.2.0",
            "_view_name": "StyleView",
            "description_width": ""
          }
        },
        "bce25dcbbefc4742b5118ff8cf265320": {
          "model_module": "@jupyter-widgets/controls",
          "model_name": "HBoxModel",
          "model_module_version": "1.5.0",
          "state": {
            "_dom_classes": [],
            "_model_module": "@jupyter-widgets/controls",
            "_model_module_version": "1.5.0",
            "_model_name": "HBoxModel",
            "_view_count": null,
            "_view_module": "@jupyter-widgets/controls",
            "_view_module_version": "1.5.0",
            "_view_name": "HBoxView",
            "box_style": "",
            "children": [
              "IPY_MODEL_d0eefbaf8747432ab5ff0c1d708038c8",
              "IPY_MODEL_77a8edfa3a8b4569b334c475e9e672de",
              "IPY_MODEL_42386577491f4ff59c054f120057b21a"
            ],
            "layout": "IPY_MODEL_4a518e20f5f843c78061ce758fa9d50e"
          }
        },
        "d0eefbaf8747432ab5ff0c1d708038c8": {
          "model_module": "@jupyter-widgets/controls",
          "model_name": "HTMLModel",
          "model_module_version": "1.5.0",
          "state": {
            "_dom_classes": [],
            "_model_module": "@jupyter-widgets/controls",
            "_model_module_version": "1.5.0",
            "_model_name": "HTMLModel",
            "_view_count": null,
            "_view_module": "@jupyter-widgets/controls",
            "_view_module_version": "1.5.0",
            "_view_name": "HTMLView",
            "description": "",
            "description_tooltip": null,
            "layout": "IPY_MODEL_a2c98f016a9841208032674d18c7ff65",
            "placeholder": "​",
            "style": "IPY_MODEL_cb9383bd79a14fd19f2b461dd562729b",
            "value": "Downloading (…)lve/main/config.json: 100%"
          }
        },
        "77a8edfa3a8b4569b334c475e9e672de": {
          "model_module": "@jupyter-widgets/controls",
          "model_name": "FloatProgressModel",
          "model_module_version": "1.5.0",
          "state": {
            "_dom_classes": [],
            "_model_module": "@jupyter-widgets/controls",
            "_model_module_version": "1.5.0",
            "_model_name": "FloatProgressModel",
            "_view_count": null,
            "_view_module": "@jupyter-widgets/controls",
            "_view_module_version": "1.5.0",
            "_view_name": "ProgressView",
            "bar_style": "success",
            "description": "",
            "description_tooltip": null,
            "layout": "IPY_MODEL_183c52ab4be443748c5f320db09dfa3f",
            "max": 570,
            "min": 0,
            "orientation": "horizontal",
            "style": "IPY_MODEL_dd7c672e422a46d8bc37bf667cb61a02",
            "value": 570
          }
        },
        "42386577491f4ff59c054f120057b21a": {
          "model_module": "@jupyter-widgets/controls",
          "model_name": "HTMLModel",
          "model_module_version": "1.5.0",
          "state": {
            "_dom_classes": [],
            "_model_module": "@jupyter-widgets/controls",
            "_model_module_version": "1.5.0",
            "_model_name": "HTMLModel",
            "_view_count": null,
            "_view_module": "@jupyter-widgets/controls",
            "_view_module_version": "1.5.0",
            "_view_name": "HTMLView",
            "description": "",
            "description_tooltip": null,
            "layout": "IPY_MODEL_d03898005a4e4db288bd411b0773dd31",
            "placeholder": "​",
            "style": "IPY_MODEL_7169be6e2e9b477da0c501dfc367e65a",
            "value": " 570/570 [00:00&lt;00:00, 44.7kB/s]"
          }
        },
        "4a518e20f5f843c78061ce758fa9d50e": {
          "model_module": "@jupyter-widgets/base",
          "model_name": "LayoutModel",
          "model_module_version": "1.2.0",
          "state": {
            "_model_module": "@jupyter-widgets/base",
            "_model_module_version": "1.2.0",
            "_model_name": "LayoutModel",
            "_view_count": null,
            "_view_module": "@jupyter-widgets/base",
            "_view_module_version": "1.2.0",
            "_view_name": "LayoutView",
            "align_content": null,
            "align_items": null,
            "align_self": null,
            "border": null,
            "bottom": null,
            "display": null,
            "flex": null,
            "flex_flow": null,
            "grid_area": null,
            "grid_auto_columns": null,
            "grid_auto_flow": null,
            "grid_auto_rows": null,
            "grid_column": null,
            "grid_gap": null,
            "grid_row": null,
            "grid_template_areas": null,
            "grid_template_columns": null,
            "grid_template_rows": null,
            "height": null,
            "justify_content": null,
            "justify_items": null,
            "left": null,
            "margin": null,
            "max_height": null,
            "max_width": null,
            "min_height": null,
            "min_width": null,
            "object_fit": null,
            "object_position": null,
            "order": null,
            "overflow": null,
            "overflow_x": null,
            "overflow_y": null,
            "padding": null,
            "right": null,
            "top": null,
            "visibility": null,
            "width": null
          }
        },
        "a2c98f016a9841208032674d18c7ff65": {
          "model_module": "@jupyter-widgets/base",
          "model_name": "LayoutModel",
          "model_module_version": "1.2.0",
          "state": {
            "_model_module": "@jupyter-widgets/base",
            "_model_module_version": "1.2.0",
            "_model_name": "LayoutModel",
            "_view_count": null,
            "_view_module": "@jupyter-widgets/base",
            "_view_module_version": "1.2.0",
            "_view_name": "LayoutView",
            "align_content": null,
            "align_items": null,
            "align_self": null,
            "border": null,
            "bottom": null,
            "display": null,
            "flex": null,
            "flex_flow": null,
            "grid_area": null,
            "grid_auto_columns": null,
            "grid_auto_flow": null,
            "grid_auto_rows": null,
            "grid_column": null,
            "grid_gap": null,
            "grid_row": null,
            "grid_template_areas": null,
            "grid_template_columns": null,
            "grid_template_rows": null,
            "height": null,
            "justify_content": null,
            "justify_items": null,
            "left": null,
            "margin": null,
            "max_height": null,
            "max_width": null,
            "min_height": null,
            "min_width": null,
            "object_fit": null,
            "object_position": null,
            "order": null,
            "overflow": null,
            "overflow_x": null,
            "overflow_y": null,
            "padding": null,
            "right": null,
            "top": null,
            "visibility": null,
            "width": null
          }
        },
        "cb9383bd79a14fd19f2b461dd562729b": {
          "model_module": "@jupyter-widgets/controls",
          "model_name": "DescriptionStyleModel",
          "model_module_version": "1.5.0",
          "state": {
            "_model_module": "@jupyter-widgets/controls",
            "_model_module_version": "1.5.0",
            "_model_name": "DescriptionStyleModel",
            "_view_count": null,
            "_view_module": "@jupyter-widgets/base",
            "_view_module_version": "1.2.0",
            "_view_name": "StyleView",
            "description_width": ""
          }
        },
        "183c52ab4be443748c5f320db09dfa3f": {
          "model_module": "@jupyter-widgets/base",
          "model_name": "LayoutModel",
          "model_module_version": "1.2.0",
          "state": {
            "_model_module": "@jupyter-widgets/base",
            "_model_module_version": "1.2.0",
            "_model_name": "LayoutModel",
            "_view_count": null,
            "_view_module": "@jupyter-widgets/base",
            "_view_module_version": "1.2.0",
            "_view_name": "LayoutView",
            "align_content": null,
            "align_items": null,
            "align_self": null,
            "border": null,
            "bottom": null,
            "display": null,
            "flex": null,
            "flex_flow": null,
            "grid_area": null,
            "grid_auto_columns": null,
            "grid_auto_flow": null,
            "grid_auto_rows": null,
            "grid_column": null,
            "grid_gap": null,
            "grid_row": null,
            "grid_template_areas": null,
            "grid_template_columns": null,
            "grid_template_rows": null,
            "height": null,
            "justify_content": null,
            "justify_items": null,
            "left": null,
            "margin": null,
            "max_height": null,
            "max_width": null,
            "min_height": null,
            "min_width": null,
            "object_fit": null,
            "object_position": null,
            "order": null,
            "overflow": null,
            "overflow_x": null,
            "overflow_y": null,
            "padding": null,
            "right": null,
            "top": null,
            "visibility": null,
            "width": null
          }
        },
        "dd7c672e422a46d8bc37bf667cb61a02": {
          "model_module": "@jupyter-widgets/controls",
          "model_name": "ProgressStyleModel",
          "model_module_version": "1.5.0",
          "state": {
            "_model_module": "@jupyter-widgets/controls",
            "_model_module_version": "1.5.0",
            "_model_name": "ProgressStyleModel",
            "_view_count": null,
            "_view_module": "@jupyter-widgets/base",
            "_view_module_version": "1.2.0",
            "_view_name": "StyleView",
            "bar_color": null,
            "description_width": ""
          }
        },
        "d03898005a4e4db288bd411b0773dd31": {
          "model_module": "@jupyter-widgets/base",
          "model_name": "LayoutModel",
          "model_module_version": "1.2.0",
          "state": {
            "_model_module": "@jupyter-widgets/base",
            "_model_module_version": "1.2.0",
            "_model_name": "LayoutModel",
            "_view_count": null,
            "_view_module": "@jupyter-widgets/base",
            "_view_module_version": "1.2.0",
            "_view_name": "LayoutView",
            "align_content": null,
            "align_items": null,
            "align_self": null,
            "border": null,
            "bottom": null,
            "display": null,
            "flex": null,
            "flex_flow": null,
            "grid_area": null,
            "grid_auto_columns": null,
            "grid_auto_flow": null,
            "grid_auto_rows": null,
            "grid_column": null,
            "grid_gap": null,
            "grid_row": null,
            "grid_template_areas": null,
            "grid_template_columns": null,
            "grid_template_rows": null,
            "height": null,
            "justify_content": null,
            "justify_items": null,
            "left": null,
            "margin": null,
            "max_height": null,
            "max_width": null,
            "min_height": null,
            "min_width": null,
            "object_fit": null,
            "object_position": null,
            "order": null,
            "overflow": null,
            "overflow_x": null,
            "overflow_y": null,
            "padding": null,
            "right": null,
            "top": null,
            "visibility": null,
            "width": null
          }
        },
        "7169be6e2e9b477da0c501dfc367e65a": {
          "model_module": "@jupyter-widgets/controls",
          "model_name": "DescriptionStyleModel",
          "model_module_version": "1.5.0",
          "state": {
            "_model_module": "@jupyter-widgets/controls",
            "_model_module_version": "1.5.0",
            "_model_name": "DescriptionStyleModel",
            "_view_count": null,
            "_view_module": "@jupyter-widgets/base",
            "_view_module_version": "1.2.0",
            "_view_name": "StyleView",
            "description_width": ""
          }
        },
        "e5ceccbd87e840829d208b702d93b388": {
          "model_module": "@jupyter-widgets/controls",
          "model_name": "HBoxModel",
          "model_module_version": "1.5.0",
          "state": {
            "_dom_classes": [],
            "_model_module": "@jupyter-widgets/controls",
            "_model_module_version": "1.5.0",
            "_model_name": "HBoxModel",
            "_view_count": null,
            "_view_module": "@jupyter-widgets/controls",
            "_view_module_version": "1.5.0",
            "_view_name": "HBoxView",
            "box_style": "",
            "children": [
              "IPY_MODEL_c1ab41cd34d14a02bfd2e7ba60dc134a",
              "IPY_MODEL_1c76d869f85a4456a8ce68d1219ffeba",
              "IPY_MODEL_746645a2cb2b415d933be6275659cc8f"
            ],
            "layout": "IPY_MODEL_a956c8a816de4de8b26ea31b83535c9d"
          }
        },
        "c1ab41cd34d14a02bfd2e7ba60dc134a": {
          "model_module": "@jupyter-widgets/controls",
          "model_name": "HTMLModel",
          "model_module_version": "1.5.0",
          "state": {
            "_dom_classes": [],
            "_model_module": "@jupyter-widgets/controls",
            "_model_module_version": "1.5.0",
            "_model_name": "HTMLModel",
            "_view_count": null,
            "_view_module": "@jupyter-widgets/controls",
            "_view_module_version": "1.5.0",
            "_view_name": "HTMLView",
            "description": "",
            "description_tooltip": null,
            "layout": "IPY_MODEL_f976839cd099452d8cd4e9b9cc8ebf37",
            "placeholder": "​",
            "style": "IPY_MODEL_29c5fd44f46a497e99b5c5e5ea5bff5d",
            "value": "Downloading model.safetensors: 100%"
          }
        },
        "1c76d869f85a4456a8ce68d1219ffeba": {
          "model_module": "@jupyter-widgets/controls",
          "model_name": "FloatProgressModel",
          "model_module_version": "1.5.0",
          "state": {
            "_dom_classes": [],
            "_model_module": "@jupyter-widgets/controls",
            "_model_module_version": "1.5.0",
            "_model_name": "FloatProgressModel",
            "_view_count": null,
            "_view_module": "@jupyter-widgets/controls",
            "_view_module_version": "1.5.0",
            "_view_name": "ProgressView",
            "bar_style": "success",
            "description": "",
            "description_tooltip": null,
            "layout": "IPY_MODEL_2491d8f9299f4a8e8ce24ecb40c4b5b2",
            "max": 435755784,
            "min": 0,
            "orientation": "horizontal",
            "style": "IPY_MODEL_bc51bfa2dfc544afa144531f6029347f",
            "value": 435755784
          }
        },
        "746645a2cb2b415d933be6275659cc8f": {
          "model_module": "@jupyter-widgets/controls",
          "model_name": "HTMLModel",
          "model_module_version": "1.5.0",
          "state": {
            "_dom_classes": [],
            "_model_module": "@jupyter-widgets/controls",
            "_model_module_version": "1.5.0",
            "_model_name": "HTMLModel",
            "_view_count": null,
            "_view_module": "@jupyter-widgets/controls",
            "_view_module_version": "1.5.0",
            "_view_name": "HTMLView",
            "description": "",
            "description_tooltip": null,
            "layout": "IPY_MODEL_b4fe5068b77c460196361877fb5c959b",
            "placeholder": "​",
            "style": "IPY_MODEL_f9c96d3383b14d33a055b238887d0199",
            "value": " 436M/436M [00:01&lt;00:00, 247MB/s]"
          }
        },
        "a956c8a816de4de8b26ea31b83535c9d": {
          "model_module": "@jupyter-widgets/base",
          "model_name": "LayoutModel",
          "model_module_version": "1.2.0",
          "state": {
            "_model_module": "@jupyter-widgets/base",
            "_model_module_version": "1.2.0",
            "_model_name": "LayoutModel",
            "_view_count": null,
            "_view_module": "@jupyter-widgets/base",
            "_view_module_version": "1.2.0",
            "_view_name": "LayoutView",
            "align_content": null,
            "align_items": null,
            "align_self": null,
            "border": null,
            "bottom": null,
            "display": null,
            "flex": null,
            "flex_flow": null,
            "grid_area": null,
            "grid_auto_columns": null,
            "grid_auto_flow": null,
            "grid_auto_rows": null,
            "grid_column": null,
            "grid_gap": null,
            "grid_row": null,
            "grid_template_areas": null,
            "grid_template_columns": null,
            "grid_template_rows": null,
            "height": null,
            "justify_content": null,
            "justify_items": null,
            "left": null,
            "margin": null,
            "max_height": null,
            "max_width": null,
            "min_height": null,
            "min_width": null,
            "object_fit": null,
            "object_position": null,
            "order": null,
            "overflow": null,
            "overflow_x": null,
            "overflow_y": null,
            "padding": null,
            "right": null,
            "top": null,
            "visibility": null,
            "width": null
          }
        },
        "f976839cd099452d8cd4e9b9cc8ebf37": {
          "model_module": "@jupyter-widgets/base",
          "model_name": "LayoutModel",
          "model_module_version": "1.2.0",
          "state": {
            "_model_module": "@jupyter-widgets/base",
            "_model_module_version": "1.2.0",
            "_model_name": "LayoutModel",
            "_view_count": null,
            "_view_module": "@jupyter-widgets/base",
            "_view_module_version": "1.2.0",
            "_view_name": "LayoutView",
            "align_content": null,
            "align_items": null,
            "align_self": null,
            "border": null,
            "bottom": null,
            "display": null,
            "flex": null,
            "flex_flow": null,
            "grid_area": null,
            "grid_auto_columns": null,
            "grid_auto_flow": null,
            "grid_auto_rows": null,
            "grid_column": null,
            "grid_gap": null,
            "grid_row": null,
            "grid_template_areas": null,
            "grid_template_columns": null,
            "grid_template_rows": null,
            "height": null,
            "justify_content": null,
            "justify_items": null,
            "left": null,
            "margin": null,
            "max_height": null,
            "max_width": null,
            "min_height": null,
            "min_width": null,
            "object_fit": null,
            "object_position": null,
            "order": null,
            "overflow": null,
            "overflow_x": null,
            "overflow_y": null,
            "padding": null,
            "right": null,
            "top": null,
            "visibility": null,
            "width": null
          }
        },
        "29c5fd44f46a497e99b5c5e5ea5bff5d": {
          "model_module": "@jupyter-widgets/controls",
          "model_name": "DescriptionStyleModel",
          "model_module_version": "1.5.0",
          "state": {
            "_model_module": "@jupyter-widgets/controls",
            "_model_module_version": "1.5.0",
            "_model_name": "DescriptionStyleModel",
            "_view_count": null,
            "_view_module": "@jupyter-widgets/base",
            "_view_module_version": "1.2.0",
            "_view_name": "StyleView",
            "description_width": ""
          }
        },
        "2491d8f9299f4a8e8ce24ecb40c4b5b2": {
          "model_module": "@jupyter-widgets/base",
          "model_name": "LayoutModel",
          "model_module_version": "1.2.0",
          "state": {
            "_model_module": "@jupyter-widgets/base",
            "_model_module_version": "1.2.0",
            "_model_name": "LayoutModel",
            "_view_count": null,
            "_view_module": "@jupyter-widgets/base",
            "_view_module_version": "1.2.0",
            "_view_name": "LayoutView",
            "align_content": null,
            "align_items": null,
            "align_self": null,
            "border": null,
            "bottom": null,
            "display": null,
            "flex": null,
            "flex_flow": null,
            "grid_area": null,
            "grid_auto_columns": null,
            "grid_auto_flow": null,
            "grid_auto_rows": null,
            "grid_column": null,
            "grid_gap": null,
            "grid_row": null,
            "grid_template_areas": null,
            "grid_template_columns": null,
            "grid_template_rows": null,
            "height": null,
            "justify_content": null,
            "justify_items": null,
            "left": null,
            "margin": null,
            "max_height": null,
            "max_width": null,
            "min_height": null,
            "min_width": null,
            "object_fit": null,
            "object_position": null,
            "order": null,
            "overflow": null,
            "overflow_x": null,
            "overflow_y": null,
            "padding": null,
            "right": null,
            "top": null,
            "visibility": null,
            "width": null
          }
        },
        "bc51bfa2dfc544afa144531f6029347f": {
          "model_module": "@jupyter-widgets/controls",
          "model_name": "ProgressStyleModel",
          "model_module_version": "1.5.0",
          "state": {
            "_model_module": "@jupyter-widgets/controls",
            "_model_module_version": "1.5.0",
            "_model_name": "ProgressStyleModel",
            "_view_count": null,
            "_view_module": "@jupyter-widgets/base",
            "_view_module_version": "1.2.0",
            "_view_name": "StyleView",
            "bar_color": null,
            "description_width": ""
          }
        },
        "b4fe5068b77c460196361877fb5c959b": {
          "model_module": "@jupyter-widgets/base",
          "model_name": "LayoutModel",
          "model_module_version": "1.2.0",
          "state": {
            "_model_module": "@jupyter-widgets/base",
            "_model_module_version": "1.2.0",
            "_model_name": "LayoutModel",
            "_view_count": null,
            "_view_module": "@jupyter-widgets/base",
            "_view_module_version": "1.2.0",
            "_view_name": "LayoutView",
            "align_content": null,
            "align_items": null,
            "align_self": null,
            "border": null,
            "bottom": null,
            "display": null,
            "flex": null,
            "flex_flow": null,
            "grid_area": null,
            "grid_auto_columns": null,
            "grid_auto_flow": null,
            "grid_auto_rows": null,
            "grid_column": null,
            "grid_gap": null,
            "grid_row": null,
            "grid_template_areas": null,
            "grid_template_columns": null,
            "grid_template_rows": null,
            "height": null,
            "justify_content": null,
            "justify_items": null,
            "left": null,
            "margin": null,
            "max_height": null,
            "max_width": null,
            "min_height": null,
            "min_width": null,
            "object_fit": null,
            "object_position": null,
            "order": null,
            "overflow": null,
            "overflow_x": null,
            "overflow_y": null,
            "padding": null,
            "right": null,
            "top": null,
            "visibility": null,
            "width": null
          }
        },
        "f9c96d3383b14d33a055b238887d0199": {
          "model_module": "@jupyter-widgets/controls",
          "model_name": "DescriptionStyleModel",
          "model_module_version": "1.5.0",
          "state": {
            "_model_module": "@jupyter-widgets/controls",
            "_model_module_version": "1.5.0",
            "_model_name": "DescriptionStyleModel",
            "_view_count": null,
            "_view_module": "@jupyter-widgets/base",
            "_view_module_version": "1.2.0",
            "_view_name": "StyleView",
            "description_width": ""
          }
        }
      }
    }
  },
  "nbformat_minor": 5,
  "nbformat": 4,
  "cells": [
    {
      "cell_type": "markdown",
      "metadata": {
        "id": "view-in-github",
        "colab_type": "text"
      },
      "source": [
        "<a href=\"https://colab.research.google.com/github/itsmeeeeeee/BERT_Probing/blob/main/embedding_data.ipynb\" target=\"_parent\"><img src=\"https://colab.research.google.com/assets/colab-badge.svg\" alt=\"Open In Colab\"/></a>"
      ]
    },
    {
      "cell_type": "code",
      "source": [
        "!pip install transformers"
      ],
      "metadata": {
        "pycharm": {
          "name": "#%%\n"
        },
        "execution": {
          "iopub.status.busy": "2023-10-18T21:26:26.100853Z",
          "iopub.execute_input": "2023-10-18T21:26:26.101123Z",
          "iopub.status.idle": "2023-10-18T21:26:47.996267Z",
          "shell.execute_reply.started": "2023-10-18T21:26:26.101099Z",
          "shell.execute_reply": "2023-10-18T21:26:47.995526Z"
        },
        "trusted": true,
        "colab": {
          "base_uri": "https://localhost:8080/"
        },
        "id": "jRXPJ55e-g-7",
        "outputId": "69dd7d1c-3080-46c7-87a0-52d78e2bf33b"
      },
      "execution_count": 1,
      "outputs": [
        {
          "output_type": "stream",
          "name": "stdout",
          "text": [
            "Collecting transformers\n",
            "  Downloading transformers-4.34.1-py3-none-any.whl (7.7 MB)\n",
            "\u001b[2K     \u001b[90m━━━━━━━━━━━━━━━━━━━━━━━━━━━━━━━━━━━━━━━━\u001b[0m \u001b[32m7.7/7.7 MB\u001b[0m \u001b[31m54.4 MB/s\u001b[0m eta \u001b[36m0:00:00\u001b[0m\n",
            "\u001b[?25hRequirement already satisfied: filelock in /usr/local/lib/python3.10/dist-packages (from transformers) (3.12.4)\n",
            "Collecting huggingface-hub<1.0,>=0.16.4 (from transformers)\n",
            "  Downloading huggingface_hub-0.18.0-py3-none-any.whl (301 kB)\n",
            "\u001b[2K     \u001b[90m━━━━━━━━━━━━━━━━━━━━━━━━━━━━━━━━━━━━━━━━\u001b[0m \u001b[32m302.0/302.0 kB\u001b[0m \u001b[31m41.4 MB/s\u001b[0m eta \u001b[36m0:00:00\u001b[0m\n",
            "\u001b[?25hRequirement already satisfied: numpy>=1.17 in /usr/local/lib/python3.10/dist-packages (from transformers) (1.23.5)\n",
            "Requirement already satisfied: packaging>=20.0 in /usr/local/lib/python3.10/dist-packages (from transformers) (23.2)\n",
            "Requirement already satisfied: pyyaml>=5.1 in /usr/local/lib/python3.10/dist-packages (from transformers) (6.0.1)\n",
            "Requirement already satisfied: regex!=2019.12.17 in /usr/local/lib/python3.10/dist-packages (from transformers) (2023.6.3)\n",
            "Requirement already satisfied: requests in /usr/local/lib/python3.10/dist-packages (from transformers) (2.31.0)\n",
            "Collecting tokenizers<0.15,>=0.14 (from transformers)\n",
            "  Downloading tokenizers-0.14.1-cp310-cp310-manylinux_2_17_x86_64.manylinux2014_x86_64.whl (3.8 MB)\n",
            "\u001b[2K     \u001b[90m━━━━━━━━━━━━━━━━━━━━━━━━━━━━━━━━━━━━━━━━\u001b[0m \u001b[32m3.8/3.8 MB\u001b[0m \u001b[31m108.8 MB/s\u001b[0m eta \u001b[36m0:00:00\u001b[0m\n",
            "\u001b[?25hCollecting safetensors>=0.3.1 (from transformers)\n",
            "  Downloading safetensors-0.4.0-cp310-cp310-manylinux_2_17_x86_64.manylinux2014_x86_64.whl (1.3 MB)\n",
            "\u001b[2K     \u001b[90m━━━━━━━━━━━━━━━━━━━━━━━━━━━━━━━━━━━━━━━━\u001b[0m \u001b[32m1.3/1.3 MB\u001b[0m \u001b[31m88.2 MB/s\u001b[0m eta \u001b[36m0:00:00\u001b[0m\n",
            "\u001b[?25hRequirement already satisfied: tqdm>=4.27 in /usr/local/lib/python3.10/dist-packages (from transformers) (4.66.1)\n",
            "Requirement already satisfied: fsspec>=2023.5.0 in /usr/local/lib/python3.10/dist-packages (from huggingface-hub<1.0,>=0.16.4->transformers) (2023.6.0)\n",
            "Requirement already satisfied: typing-extensions>=3.7.4.3 in /usr/local/lib/python3.10/dist-packages (from huggingface-hub<1.0,>=0.16.4->transformers) (4.5.0)\n",
            "Collecting huggingface-hub<1.0,>=0.16.4 (from transformers)\n",
            "  Downloading huggingface_hub-0.17.3-py3-none-any.whl (295 kB)\n",
            "\u001b[2K     \u001b[90m━━━━━━━━━━━━━━━━━━━━━━━━━━━━━━━━━━━━━━━━\u001b[0m \u001b[32m295.0/295.0 kB\u001b[0m \u001b[31m40.6 MB/s\u001b[0m eta \u001b[36m0:00:00\u001b[0m\n",
            "\u001b[?25hRequirement already satisfied: charset-normalizer<4,>=2 in /usr/local/lib/python3.10/dist-packages (from requests->transformers) (3.3.0)\n",
            "Requirement already satisfied: idna<4,>=2.5 in /usr/local/lib/python3.10/dist-packages (from requests->transformers) (3.4)\n",
            "Requirement already satisfied: urllib3<3,>=1.21.1 in /usr/local/lib/python3.10/dist-packages (from requests->transformers) (2.0.7)\n",
            "Requirement already satisfied: certifi>=2017.4.17 in /usr/local/lib/python3.10/dist-packages (from requests->transformers) (2023.7.22)\n",
            "Installing collected packages: safetensors, huggingface-hub, tokenizers, transformers\n",
            "Successfully installed huggingface-hub-0.17.3 safetensors-0.4.0 tokenizers-0.14.1 transformers-4.34.1\n"
          ]
        }
      ],
      "id": "jRXPJ55e-g-7"
    },
    {
      "cell_type": "code",
      "source": [
        "import json\n",
        "\n",
        "import pandas as pd\n",
        "import numpy as np\n",
        "from ast import literal_eval\n",
        "from transformers import BertTokenizer, BertModel, AutoTokenizer\n",
        "import torch\n",
        "from pathlib import Path\n",
        "from typing import Dict\n",
        "import os\n",
        "import glob\n",
        "import time\n",
        "import traceback"
      ],
      "metadata": {
        "id": "ce-BBKyX-ppM"
      },
      "id": "ce-BBKyX-ppM",
      "execution_count": 2,
      "outputs": []
    },
    {
      "cell_type": "code",
      "source": [
        "from google.colab import drive\n",
        "drive.mount('/content/drive')"
      ],
      "metadata": {
        "colab": {
          "base_uri": "https://localhost:8080/"
        },
        "id": "dhT798MvDuMT",
        "outputId": "6f6ef975-a39b-4bf8-fe4a-7d33bd97b624"
      },
      "id": "dhT798MvDuMT",
      "execution_count": 3,
      "outputs": [
        {
          "output_type": "stream",
          "name": "stdout",
          "text": [
            "Mounted at /content/drive\n"
          ]
        }
      ]
    },
    {
      "cell_type": "code",
      "source": [
        "model_ckpt = \"bert-base-cased\"\n",
        "tokenizer = BertTokenizer.from_pretrained(model_ckpt)\n",
        "# tokenizer.model_max_length = 518\n",
        "model = BertModel.from_pretrained(model_ckpt)\n"
      ],
      "metadata": {
        "jupyter": {
          "outputs_hidden": false
        },
        "pycharm": {
          "name": "#%%\n"
        },
        "execution": {
          "iopub.status.busy": "2023-10-18T21:26:47.997587Z",
          "iopub.execute_input": "2023-10-18T21:26:47.997869Z",
          "iopub.status.idle": "2023-10-18T21:26:52.772837Z",
          "shell.execute_reply.started": "2023-10-18T21:26:47.997845Z",
          "shell.execute_reply": "2023-10-18T21:26:52.771752Z"
        },
        "trusted": true,
        "id": "ReesZuK--g_A",
        "colab": {
          "base_uri": "https://localhost:8080/",
          "height": 177,
          "referenced_widgets": [
            "74110196fd9a4878ad215567c8862cc1",
            "c6ad64d537164ca5b9735c92affef2a8",
            "140039c6a8f747678e0fc58993904bdb",
            "a3dde84826c7495c84b0b9be9c7cc6c6",
            "9f3ff1870ff24cb6bf9f589a051c9bae",
            "e99000e8d3b34a3a948732748b2a5704",
            "ce9f04f6e76b499c81c44ab7b71d8bc2",
            "bd65c7eba20d46989fcdc08eb75bfa4c",
            "b7862a79bdda4b8b961e3faaa592e41a",
            "b26f64bc163f4a2eaa0232736e15ddac",
            "69966faad01245cc8dddd19d94172a54",
            "c7ece062adc041f880f86b2591353c3e",
            "c6094321932b4eb8a9b400884885744f",
            "0a36637107e6471b8f7a0872307e994f",
            "01e1bfc633ef4026b91e0b08e73ccb93",
            "bafa597bddba484191cec496859ec4f2",
            "4cd22028989e4485a2cfe9df6ec10698",
            "ae1a01270154499c952cbc3bd1b428b1",
            "24bbdb0c865c4b66909cd93334a0a8cd",
            "789c85acca074b44b431af0d40a2375b",
            "9a550a688de34b7a9fdf481a27277dcf",
            "ce73ab55bb07444f89af3c56d1184c82",
            "7c6627ef75614b34902e31d449f684e1",
            "b4cca4e4affb434d87f80d94fe3728dc",
            "ba444411492e4183a7a80bd08303a936",
            "7f573391252f458583920fb4b58bfb16",
            "a075abd9170848bcba0c8f94fb171a87",
            "491557bd997845d585c3481d8fc940c7",
            "6e720a2aa0b64026a0290f1d5e42e69e",
            "fb023c34798e4e0490ab516d1a4160a5",
            "217af203145b44888d622242e190dfa1",
            "134550b3bc0f404bb2bd72133d45bd00",
            "4d3134621374411aa0885deb618a6e04",
            "bce25dcbbefc4742b5118ff8cf265320",
            "d0eefbaf8747432ab5ff0c1d708038c8",
            "77a8edfa3a8b4569b334c475e9e672de",
            "42386577491f4ff59c054f120057b21a",
            "4a518e20f5f843c78061ce758fa9d50e",
            "a2c98f016a9841208032674d18c7ff65",
            "cb9383bd79a14fd19f2b461dd562729b",
            "183c52ab4be443748c5f320db09dfa3f",
            "dd7c672e422a46d8bc37bf667cb61a02",
            "d03898005a4e4db288bd411b0773dd31",
            "7169be6e2e9b477da0c501dfc367e65a",
            "e5ceccbd87e840829d208b702d93b388",
            "c1ab41cd34d14a02bfd2e7ba60dc134a",
            "1c76d869f85a4456a8ce68d1219ffeba",
            "746645a2cb2b415d933be6275659cc8f",
            "a956c8a816de4de8b26ea31b83535c9d",
            "f976839cd099452d8cd4e9b9cc8ebf37",
            "29c5fd44f46a497e99b5c5e5ea5bff5d",
            "2491d8f9299f4a8e8ce24ecb40c4b5b2",
            "bc51bfa2dfc544afa144531f6029347f",
            "b4fe5068b77c460196361877fb5c959b",
            "f9c96d3383b14d33a055b238887d0199"
          ]
        },
        "outputId": "673b0c0d-2975-4f68-fe7e-90a84d6a4ce0"
      },
      "execution_count": 4,
      "outputs": [
        {
          "output_type": "display_data",
          "data": {
            "text/plain": [
              "Downloading (…)okenizer_config.json:   0%|          | 0.00/29.0 [00:00<?, ?B/s]"
            ],
            "application/vnd.jupyter.widget-view+json": {
              "version_major": 2,
              "version_minor": 0,
              "model_id": "74110196fd9a4878ad215567c8862cc1"
            }
          },
          "metadata": {}
        },
        {
          "output_type": "display_data",
          "data": {
            "text/plain": [
              "Downloading (…)solve/main/vocab.txt:   0%|          | 0.00/213k [00:00<?, ?B/s]"
            ],
            "application/vnd.jupyter.widget-view+json": {
              "version_major": 2,
              "version_minor": 0,
              "model_id": "c7ece062adc041f880f86b2591353c3e"
            }
          },
          "metadata": {}
        },
        {
          "output_type": "display_data",
          "data": {
            "text/plain": [
              "Downloading (…)/main/tokenizer.json:   0%|          | 0.00/436k [00:00<?, ?B/s]"
            ],
            "application/vnd.jupyter.widget-view+json": {
              "version_major": 2,
              "version_minor": 0,
              "model_id": "7c6627ef75614b34902e31d449f684e1"
            }
          },
          "metadata": {}
        },
        {
          "output_type": "display_data",
          "data": {
            "text/plain": [
              "Downloading (…)lve/main/config.json:   0%|          | 0.00/570 [00:00<?, ?B/s]"
            ],
            "application/vnd.jupyter.widget-view+json": {
              "version_major": 2,
              "version_minor": 0,
              "model_id": "bce25dcbbefc4742b5118ff8cf265320"
            }
          },
          "metadata": {}
        },
        {
          "output_type": "display_data",
          "data": {
            "text/plain": [
              "Downloading model.safetensors:   0%|          | 0.00/436M [00:00<?, ?B/s]"
            ],
            "application/vnd.jupyter.widget-view+json": {
              "version_major": 2,
              "version_minor": 0,
              "model_id": "e5ceccbd87e840829d208b702d93b388"
            }
          },
          "metadata": {}
        }
      ],
      "id": "ReesZuK--g_A"
    },
    {
      "cell_type": "code",
      "source": [
        "\n",
        "# Returns a list of lists of indices for each subtoken from the tokenizer, if more than one subtoken appears\n",
        "\n",
        "def get_indexof_subtokens(tokenizer_output):\n",
        "    result = []\n",
        "    temp_liste = [tokenizer_output[0]]  # Start with the first word in the temporary list\n",
        "\n",
        "    for i in range(1, len(tokenizer_output)):\n",
        "        # If the current word has the same property as the previous word\n",
        "        if tokenizer_output[i][:2] == \"##\" and tokenizer_output[i - 1][:2] == \"##\":\n",
        "            temp_liste.append(i)\n",
        "\n",
        "\n",
        "\n",
        "        else:\n",
        "            if len(temp_liste) > 1:  # If the temporary list contains more than one word, add it to the result.\n",
        "                result.append(temp_liste)\n",
        "            temp_liste = [i]  # Start a new temporary list with the current word.\n",
        "\n",
        "    # Add the last temporary list to the result if it contains more than one word\n",
        "    if len(temp_liste) > 1:\n",
        "        result.append(temp_liste)\n",
        "\n",
        "    return result\n",
        "\n",
        "ll = ['[CLS]', 'Celebration', 'Shooting', 'Turn', '##s', 'Wedding', 'Into', 'a', 'Fun', '##eral', 'in', 'Southern',\n",
        "      'Gaza', 'Strip', 'As', '##ad', '1', '/', '20', '/', '2007', 'Gaza', '-', 'UP', '##I', 'The', 'cheer', '##s',\n",
        "      'and', 'hail', '##s', 'of', 'happiness', 'at', 'a', 'wedding', 'in', 'Khan', 'You', '##nes', 'in', 'the',\n",
        "      'southern', 'Gaza', 'Strip', 'turned', 'into', 'screams', 'and', 'moan', '##s', 'of', 'pain', 'after', 'one',\n",
        "      'of', 'the', 'c', '##ele', '##bra', '##tors', 'lost', 'control', 'of', 'his', 'weapon', ',', 'from', 'which', 'a',\n",
        "      'number', 'of', 'bullets', 'were', 'released', 'that', 'killed', 'the', 'groom', \"'\", 's', 'brother', 'and',\n",
        "      'hit', 'three', 'other', 'relatives', 'of', 'his', ',', 'turning', 'the', 'wedding', 'into', 'a', 'funeral', 'in',\n",
        "      'moments', 'c', '##ele', '##bra', '##tors', '[SEP]']\n",
        "\n",
        "get_indexof_subtokens(ll)"
      ],
      "metadata": {
        "jupyter": {
          "outputs_hidden": false
        },
        "pycharm": {
          "name": "#%%\n"
        },
        "execution": {
          "iopub.status.busy": "2023-10-18T21:28:02.318115Z",
          "iopub.execute_input": "2023-10-18T21:28:02.318447Z",
          "iopub.status.idle": "2023-10-18T21:28:02.329622Z",
          "shell.execute_reply.started": "2023-10-18T21:28:02.318416Z",
          "shell.execute_reply": "2023-10-18T21:28:02.328761Z"
        },
        "trusted": true,
        "id": "NGlgpy3S-g_B",
        "outputId": "3aff908d-d96e-4ee4-813a-25cbeee8c6e2",
        "colab": {
          "base_uri": "https://localhost:8080/"
        }
      },
      "execution_count": 5,
      "outputs": [
        {
          "output_type": "execute_result",
          "data": {
            "text/plain": [
              "[[58, 59, 60], [99, 100, 101]]"
            ]
          },
          "metadata": {},
          "execution_count": 5
        }
      ],
      "id": "NGlgpy3S-g_B"
    },
    {
      "cell_type": "code",
      "source": [
        "\n",
        "\n",
        "\"\"\"Returns three lists: one list with main words (only those tokenized into a single subword),\n",
        "   one with subword related to the main word, and one list with tokenizer indices of the main words.\n",
        "    All three lists are of the same length\"\"\"\n",
        "\n",
        "\n",
        "def get_main_token_subtoken_embed_index(tokens):\n",
        "    main_token = []\n",
        "    subtoken = []\n",
        "    embed_index_main_token = []\n",
        "\n",
        "    for i in range(len(tokens) - 1):\n",
        "        s = \"\"\n",
        "        if \"##\" in tokens[i] and \"##\" not in tokens[i - 1] and \"##\" not in tokens[i + 1]:\n",
        "            s += tokens[i - 1]\n",
        "            subtoken.append(tokens[i])\n",
        "            s += tokens[i]\n",
        "            embed_index_main_token.append(i - 1)\n",
        "\n",
        "\n",
        "        main_token.append(s.replace(\"##\", \"\"))\n",
        "    main_token = [x for x in main_token if x != \"\"]\n",
        "    return main_token, subtoken, embed_index_main_token\n",
        "\n",
        "\n",
        "ll = ['[CLS]', 'Celebration', 'Shooting', 'Turn', '##s', 'Wedding', 'Into', 'a', 'Fun', '##eral', 'in', 'Southern',\n",
        "      'Gaza', 'Strip', 'As', '##ad', '1', '/', '20', '/', '2007', 'Gaza', '-', 'UP', '##I', 'The', 'cheer', '##s',\n",
        "      'and', 'hail', '##s', 'of', 'happiness', 'at', 'a', 'wedding', 'in', 'Khan', 'You', '##nes', 'in', 'the',\n",
        "      'southern', 'Gaza', 'Strip', 'turned', 'into', 'screams', 'and', 'moan', '##s', 'of', 'pain', 'after', 'one',\n",
        "      'of', 'the', 'c', '##ele', '##bra', '##tors', 'lost', 'control', 'of', 'his', 'weapon', ',', 'from', 'which', 'a',\n",
        "      'number', 'of', 'bullets', 'were', 'released', 'that', 'killed', 'the', 'groom', \"'\", 's', 'brother', 'and',\n",
        "      'hit', 'three', 'other', 'relatives', 'of', 'his', ',', 'turning', 'the', 'wedding', 'into', 'a', 'funeral', 'in',\n",
        "      'moments', 'c', '##ele', '##bra', '##tors', '[SEP]']\n",
        "main_token, subtoken, embed_index = get_main_token_subtoken_embed_index(ll)\n",
        "print(main_token)\n",
        "print(subtoken)\n",
        "print(embed_index)"
      ],
      "metadata": {
        "jupyter": {
          "outputs_hidden": false
        },
        "pycharm": {
          "name": "#%%\n"
        },
        "execution": {
          "iopub.status.busy": "2023-10-18T21:28:04.468501Z",
          "iopub.execute_input": "2023-10-18T21:28:04.469308Z",
          "iopub.status.idle": "2023-10-18T21:28:04.479006Z",
          "shell.execute_reply.started": "2023-10-18T21:28:04.469279Z",
          "shell.execute_reply": "2023-10-18T21:28:04.478079Z"
        },
        "trusted": true,
        "id": "BwD6bHyH-g_C",
        "outputId": "190e74df-f997-4527-e814-1fdf922cd484",
        "colab": {
          "base_uri": "https://localhost:8080/"
        }
      },
      "execution_count": 6,
      "outputs": [
        {
          "output_type": "stream",
          "name": "stdout",
          "text": [
            "['Turns', 'Funeral', 'Asad', 'UPI', 'cheers', 'hails', 'Younes', 'moans']\n",
            "['##s', '##eral', '##ad', '##I', '##s', '##s', '##nes', '##s']\n",
            "[3, 8, 14, 23, 26, 29, 38, 49]\n"
          ]
        }
      ],
      "id": "BwD6bHyH-g_C"
    },
    {
      "cell_type": "code",
      "source": [
        "\n",
        "\"\"\"Returns three lists: one list with main words (only those tokenized into multi subwords),\n",
        "   one with list of subwords related to the main words, and one list with tokenizer indices of the main words.\n",
        "    All three lists are of the same length\"\"\"\n",
        "\n",
        "def get_main_tokens_subtokens_embed_index(tokenizer_output):\n",
        "    index_subtokens = get_indexof_subtokens(tokenizer_output)\n",
        "    main_words = []\n",
        "    subwords = []\n",
        "    embed_index = []\n",
        "    s = \"\"\n",
        "    for inds in index_subtokens:\n",
        "        #print(\".......\",res[0]-1)\n",
        "        s += tokenizer_output[inds[0] - 1]\n",
        "        l = []\n",
        "        for ind in inds:\n",
        "            l.append(tokenizer_output[ind])\n",
        "\n",
        "            s += tokenizer_output[ind]\n",
        "        subwords.append(l)\n",
        "        main_words.append(s.replace(\"##\", \"\"))\n",
        "        s = \"\"\n",
        "        embed_index.append(inds[0] - 1)\n",
        "\n",
        "    return main_words, subwords, embed_index\n",
        "\n",
        "ll = ['[CLS]', 'Celebration', 'Shooting', 'Turn', '##s', 'Wedding', 'Into', 'a', 'Fun', '##eral', 'in', 'Southern',\n",
        "      'Gaza', 'Strip', 'As', '##ad', '1', '/', '20', '/', '2007', 'Gaza', '-', 'UP', '##I', 'The', 'cheer', '##s',\n",
        "      'and', 'hail', '##s', 'of', 'happiness', 'at', 'a', 'wedding', 'in', 'Khan', 'You', '##nes', 'in', 'the',\n",
        "      'southern', 'Gaza', 'Strip', 'turned', 'into', 'screams', 'and', 'moan', '##s', 'of', 'pain', 'after', 'one',\n",
        "      'of', 'the', 'c', '##ele', '##bra', '##tors', 'lost', 'control', 'of', 'his', 'weapon', ',', 'from', 'which', 'a',\n",
        "      'number', 'of', 'bullets', 'were', 'released', 'that', 'killed', 'the', 'groom', \"'\", 's', 'brother', 'and',\n",
        "      'hit', 'three', 'other', 'relatives', 'of', 'his', ',', 'turning', 'the', 'wedding', 'into', 'a', 'funeral', 'in',\n",
        "      'moments', 'c', '##ele', '##bra', '##tors', '[SEP]']\n",
        "main_words, subwords, embed_index = get_main_tokens_subtokens_embed_index(ll)\n",
        "print(main_words)\n",
        "print(subwords)  #teilwort,embed_index)\n",
        "print(embed_index)"
      ],
      "metadata": {
        "jupyter": {
          "outputs_hidden": false
        },
        "pycharm": {
          "name": "#%%\n"
        },
        "execution": {
          "iopub.status.busy": "2023-10-18T21:28:06.493046Z",
          "iopub.execute_input": "2023-10-18T21:28:06.493437Z",
          "iopub.status.idle": "2023-10-18T21:28:06.503586Z",
          "shell.execute_reply.started": "2023-10-18T21:28:06.493406Z",
          "shell.execute_reply": "2023-10-18T21:28:06.502542Z"
        },
        "trusted": true,
        "id": "uHFBQ9No-g_D",
        "outputId": "0eb3186a-160c-44bb-9348-2f2b71c51501",
        "colab": {
          "base_uri": "https://localhost:8080/"
        }
      },
      "execution_count": 7,
      "outputs": [
        {
          "output_type": "stream",
          "name": "stdout",
          "text": [
            "['celebrators', 'celebrators']\n",
            "[['##ele', '##bra', '##tors'], ['##ele', '##bra', '##tors']]\n",
            "[57, 98]\n"
          ]
        }
      ],
      "id": "uHFBQ9No-g_D"
    },
    {
      "cell_type": "code",
      "source": [
        "#The data is read from Google Drive\n",
        "file_path = \"/content/drive/My Drive/embedding_data/final_endlabels_with_sentences.csv\"\n",
        "\n",
        "final_df = pd.read_csv(file_path)\n"
      ],
      "metadata": {
        "execution": {
          "iopub.status.busy": "2023-10-18T21:28:48.016354Z",
          "iopub.execute_input": "2023-10-18T21:28:48.017180Z",
          "iopub.status.idle": "2023-10-18T21:29:23.448900Z",
          "shell.execute_reply.started": "2023-10-18T21:28:48.017150Z",
          "shell.execute_reply": "2023-10-18T21:29:23.448089Z"
        },
        "trusted": true,
        "id": "faidVrWS-g_D",
        "colab": {
          "base_uri": "https://localhost:8080/"
        },
        "outputId": "cca2919f-3772-4213-8d7d-9132e792724c"
      },
      "execution_count": 8,
      "outputs": [
        {
          "output_type": "stream",
          "name": "stderr",
          "text": [
            "<ipython-input-8-eccc40b3a099>:9: DtypeWarning: Columns (5) have mixed types. Specify dtype option on import or set low_memory=False.\n",
            "  final_df = pd.read_csv(file_path)\n"
          ]
        }
      ],
      "id": "faidVrWS-g_D"
    },
    {
      "cell_type": "code",
      "source": [
        "# Initializes the two new columns\n",
        "final_df[\"Sentence_row\"] = np.NaN\n",
        "final_df[\"Word_count\"] = np.NaN"
      ],
      "metadata": {
        "id": "gcvEWg4v1Yqg"
      },
      "id": "gcvEWg4v1Yqg",
      "execution_count": 9,
      "outputs": []
    },
    {
      "cell_type": "code",
      "source": [
        "#Sentence_row\" for sentences in string format and \"Word_count\" for the number of words in each sentence.\"\"\"\n",
        "\n",
        "\n",
        "start_time = time.time()\n",
        "\n",
        "batch_size = 1000000\n",
        "num_batches = len(final_df) // batch_size\n",
        "\n",
        "# Process the data in batches\n",
        "for batch_num in range(num_batches + 1):\n",
        "    # Create a subset for the current batch\n",
        "    start_idx = batch_num * batch_size\n",
        "    end_idx = (batch_num + 1) * batch_size\n",
        "    batch_df = final_df.iloc[start_idx:end_idx]\n",
        "\n",
        "    for index , row in batch_df.iterrows():\n",
        "        sen = row['Sentence'].strip(\")(\").split(\", \")\n",
        "        sen_row = \"\"\n",
        "        for word in sen:\n",
        "            wo = word[1:-1]\n",
        "            sen_row += wo + \" \"\n",
        "        # print(sen_row)\n",
        "        batch_df.at[index,\"Sentence_row\"] = sen_row\n",
        "        batch_df.at[index,\"Word_count\"] = len(sen)\n",
        "    batch_df.to_csv(f\"/content/drive/My Drive/embedding_data/updated_data_batch_with_word_count_{batch_num}.csv\")\n",
        "\n",
        "elapsed_time_seconds = time.time() - start_time\n",
        "elapsed_time_minutes = elapsed_time_seconds / 60\n",
        "\n",
        "print(f\"Der Code hat {elapsed_time_minutes:.2f} Minuten gedauert.\")\n"
      ],
      "metadata": {
        "colab": {
          "base_uri": "https://localhost:8080/"
        },
        "id": "gyo6rnI5qbM4",
        "outputId": "eb4a73c8-6222-48b4-b708-567e75038ace"
      },
      "id": "gyo6rnI5qbM4",
      "execution_count": 10,
      "outputs": [
        {
          "output_type": "stream",
          "name": "stdout",
          "text": [
            "Der Code hat 11.73 Minuten gedauert.\n"
          ]
        }
      ]
    },
    {
      "cell_type": "code",
      "source": [
        "# Concatenate all 5 batches into one dataframe\n",
        "\n",
        "start_time = time.time()\n",
        "list_of_files=[]\n",
        "for batch_num in range(6):\n",
        "    list_of_files.append(f\"/content/drive/My Drive/embedding_data/updated_data_batch_with_word_count_{batch_num}.csv\")\n",
        "\n",
        "concat_with_sentences_word_count = pd.DataFrame()\n",
        "for df_file in list_of_files:\n",
        "    update_bach=pd.read_csv(df_file, low_memory=False)\n",
        "    concat_with_sentences_word_count = pd.concat([concat_with_sentences_word_count, update_bach], ignore_index=True)\n",
        "\n",
        "\n",
        "# Save DataFrame as a CSV file\n",
        "concat_with_sentences_word_count.to_csv('/content/drive/My Drive/embedding_data/final_endlabels_with_sentences_word_count.csv', index=False)\n",
        "\n",
        "elapsed_time_seconds = time.time() - start_time\n",
        "elapsed_time_minutes = elapsed_time_seconds / 60\n",
        "\n",
        "print(f\"Der Code hat {elapsed_time_minutes:.2f} Minuten gedauert.\")"
      ],
      "metadata": {
        "colab": {
          "base_uri": "https://localhost:8080/"
        },
        "id": "yto1Y2jhqiVw",
        "outputId": "b5de6afa-1394-43e6-d23d-c14855690475"
      },
      "id": "yto1Y2jhqiVw",
      "execution_count": 12,
      "outputs": [
        {
          "output_type": "stream",
          "name": "stdout",
          "text": [
            "Der Code hat 1.94 Minuten gedauert.\n"
          ]
        }
      ]
    },
    {
      "cell_type": "code",
      "source": [
        "final_df = pd.read_csv(\"/content/drive/My Drive/embedding_data/final_endlabels_with_sentences_word_count.csv\",low_memory=False)"
      ],
      "metadata": {
        "id": "O5N3HFXA1IZk"
      },
      "id": "O5N3HFXA1IZk",
      "execution_count": 13,
      "outputs": []
    },
    {
      "cell_type": "code",
      "source": [
        "final_df"
      ],
      "metadata": {
        "execution": {
          "iopub.execute_input": "2023-10-08T18:12:04.892072Z",
          "iopub.status.busy": "2023-10-08T18:12:04.891737Z",
          "iopub.status.idle": "2023-10-08T18:12:04.913097Z",
          "shell.execute_reply": "2023-10-08T18:12:04.911949Z",
          "shell.execute_reply.started": "2023-10-08T18:12:04.892044Z"
        },
        "id": "9f7nj166-g_E",
        "colab": {
          "base_uri": "https://localhost:8080/",
          "height": 1000
        },
        "outputId": "311357ca-5ac6-4b7f-aaa9-07acf0fc4e70"
      },
      "execution_count": 14,
      "outputs": [
        {
          "output_type": "execute_result",
          "data": {
            "text/plain": [
              "         Unnamed: 0.1  Unnamed: 0  \\\n",
              "0                   0           0   \n",
              "1                   1           1   \n",
              "2                   2           2   \n",
              "3                   3           3   \n",
              "4                   4           4   \n",
              "...               ...         ...   \n",
              "5910736       5910736     5910736   \n",
              "5910737       5910737     5910737   \n",
              "5910738       5910738     5910738   \n",
              "5910739       5910739     5910739   \n",
              "5910740       5910740     5910740   \n",
              "\n",
              "                                                  Sentence  Sentence_no  \\\n",
              "0        ('Celebration', 'Shooting', 'Turns', 'Wedding'...            0   \n",
              "1        ('Celebration', 'Shooting', 'Turns', 'Wedding'...            0   \n",
              "2        ('Celebration', 'Shooting', 'Turns', 'Wedding'...            0   \n",
              "3        ('Celebration', 'Shooting', 'Turns', 'Wedding'...            0   \n",
              "4        ('Celebration', 'Shooting', 'Turns', 'Wedding'...            0   \n",
              "...                                                    ...          ...   \n",
              "5910736  ('Barak', 'is', 'facing', 'mounting', 'pressur...       307833   \n",
              "5910737  ('Barak', 'is', 'facing', 'mounting', 'pressur...       307833   \n",
              "5910738  ('Barak', 'is', 'facing', 'mounting', 'pressur...       307833   \n",
              "5910739  ('Barak', 'is', 'facing', 'mounting', 'pressur...       307833   \n",
              "5910740  ('Barak', 'is', 'facing', 'mounting', 'pressur...       307833   \n",
              "\n",
              "                Word    POS coref_id antecedent  \\\n",
              "0        Celebration  PROPN      NaN        NaN   \n",
              "1           Shooting  PROPN      NaN        NaN   \n",
              "2              Turns   VERB      NaN        NaN   \n",
              "3            Wedding   NOUN     1__2        NaN   \n",
              "4               Into    ADP      NaN        NaN   \n",
              "...              ...    ...      ...        ...   \n",
              "5910736         drop   VERB      NaN        NaN   \n",
              "5910737          out    ADP      NaN        NaN   \n",
              "5910738           of    ADP      NaN        NaN   \n",
              "5910739          the    DET      NaN        NaN   \n",
              "5910740         race   NOUN      NaN        NaN   \n",
              "\n",
              "                                                 hypernyms     labels  \\\n",
              "0        ['psychological_feature', 'social_event', 'abs...  inanimate   \n",
              "1        ['psychological_feature', 'act', 'abstraction'...  inanimate   \n",
              "2                                                      NaN  other_pos   \n",
              "3        ['psychological_feature', 'social_event', 'abs...  inanimate   \n",
              "4                                                      NaN  other_pos   \n",
              "...                                                    ...        ...   \n",
              "5910736                                                NaN  other_pos   \n",
              "5910737                                                NaN  other_pos   \n",
              "5910738                                                NaN  other_pos   \n",
              "5910739                                                NaN  other_pos   \n",
              "5910740  ['psychological_feature', 'social_event', 'abs...  inanimate   \n",
              "\n",
              "         end_labels                                       Sentence_row  \\\n",
              "0               NaN  Celebration Shooting Turns Wedding Into a Fune...   \n",
              "1               NaN  Celebration Shooting Turns Wedding Into a Fune...   \n",
              "2               NaN  Celebration Shooting Turns Wedding Into a Fune...   \n",
              "3               NaN  Celebration Shooting Turns Wedding Into a Fune...   \n",
              "4               NaN  Celebration Shooting Turns Wedding Into a Fune...   \n",
              "...             ...                                                ...   \n",
              "5910736         NaN  Barak is facing mounting pressure ICH from wit...   \n",
              "5910737         NaN  Barak is facing mounting pressure ICH from wit...   \n",
              "5910738         NaN  Barak is facing mounting pressure ICH from wit...   \n",
              "5910739         NaN  Barak is facing mounting pressure ICH from wit...   \n",
              "5910740         NaN  Barak is facing mounting pressure ICH from wit...   \n",
              "\n",
              "         Word_count  \n",
              "0              82.0  \n",
              "1              82.0  \n",
              "2              82.0  \n",
              "3              82.0  \n",
              "4              82.0  \n",
              "...             ...  \n",
              "5910736        44.0  \n",
              "5910737        44.0  \n",
              "5910738        44.0  \n",
              "5910739        44.0  \n",
              "5910740        44.0  \n",
              "\n",
              "[5910741 rows x 13 columns]"
            ],
            "text/html": [
              "\n",
              "  <div id=\"df-f00b7e64-be4f-4592-88a4-0c82fc9580a0\" class=\"colab-df-container\">\n",
              "    <div>\n",
              "<style scoped>\n",
              "    .dataframe tbody tr th:only-of-type {\n",
              "        vertical-align: middle;\n",
              "    }\n",
              "\n",
              "    .dataframe tbody tr th {\n",
              "        vertical-align: top;\n",
              "    }\n",
              "\n",
              "    .dataframe thead th {\n",
              "        text-align: right;\n",
              "    }\n",
              "</style>\n",
              "<table border=\"1\" class=\"dataframe\">\n",
              "  <thead>\n",
              "    <tr style=\"text-align: right;\">\n",
              "      <th></th>\n",
              "      <th>Unnamed: 0.1</th>\n",
              "      <th>Unnamed: 0</th>\n",
              "      <th>Sentence</th>\n",
              "      <th>Sentence_no</th>\n",
              "      <th>Word</th>\n",
              "      <th>POS</th>\n",
              "      <th>coref_id</th>\n",
              "      <th>antecedent</th>\n",
              "      <th>hypernyms</th>\n",
              "      <th>labels</th>\n",
              "      <th>end_labels</th>\n",
              "      <th>Sentence_row</th>\n",
              "      <th>Word_count</th>\n",
              "    </tr>\n",
              "  </thead>\n",
              "  <tbody>\n",
              "    <tr>\n",
              "      <th>0</th>\n",
              "      <td>0</td>\n",
              "      <td>0</td>\n",
              "      <td>('Celebration', 'Shooting', 'Turns', 'Wedding'...</td>\n",
              "      <td>0</td>\n",
              "      <td>Celebration</td>\n",
              "      <td>PROPN</td>\n",
              "      <td>NaN</td>\n",
              "      <td>NaN</td>\n",
              "      <td>['psychological_feature', 'social_event', 'abs...</td>\n",
              "      <td>inanimate</td>\n",
              "      <td>NaN</td>\n",
              "      <td>Celebration Shooting Turns Wedding Into a Fune...</td>\n",
              "      <td>82.0</td>\n",
              "    </tr>\n",
              "    <tr>\n",
              "      <th>1</th>\n",
              "      <td>1</td>\n",
              "      <td>1</td>\n",
              "      <td>('Celebration', 'Shooting', 'Turns', 'Wedding'...</td>\n",
              "      <td>0</td>\n",
              "      <td>Shooting</td>\n",
              "      <td>PROPN</td>\n",
              "      <td>NaN</td>\n",
              "      <td>NaN</td>\n",
              "      <td>['psychological_feature', 'act', 'abstraction'...</td>\n",
              "      <td>inanimate</td>\n",
              "      <td>NaN</td>\n",
              "      <td>Celebration Shooting Turns Wedding Into a Fune...</td>\n",
              "      <td>82.0</td>\n",
              "    </tr>\n",
              "    <tr>\n",
              "      <th>2</th>\n",
              "      <td>2</td>\n",
              "      <td>2</td>\n",
              "      <td>('Celebration', 'Shooting', 'Turns', 'Wedding'...</td>\n",
              "      <td>0</td>\n",
              "      <td>Turns</td>\n",
              "      <td>VERB</td>\n",
              "      <td>NaN</td>\n",
              "      <td>NaN</td>\n",
              "      <td>NaN</td>\n",
              "      <td>other_pos</td>\n",
              "      <td>NaN</td>\n",
              "      <td>Celebration Shooting Turns Wedding Into a Fune...</td>\n",
              "      <td>82.0</td>\n",
              "    </tr>\n",
              "    <tr>\n",
              "      <th>3</th>\n",
              "      <td>3</td>\n",
              "      <td>3</td>\n",
              "      <td>('Celebration', 'Shooting', 'Turns', 'Wedding'...</td>\n",
              "      <td>0</td>\n",
              "      <td>Wedding</td>\n",
              "      <td>NOUN</td>\n",
              "      <td>1__2</td>\n",
              "      <td>NaN</td>\n",
              "      <td>['psychological_feature', 'social_event', 'abs...</td>\n",
              "      <td>inanimate</td>\n",
              "      <td>NaN</td>\n",
              "      <td>Celebration Shooting Turns Wedding Into a Fune...</td>\n",
              "      <td>82.0</td>\n",
              "    </tr>\n",
              "    <tr>\n",
              "      <th>4</th>\n",
              "      <td>4</td>\n",
              "      <td>4</td>\n",
              "      <td>('Celebration', 'Shooting', 'Turns', 'Wedding'...</td>\n",
              "      <td>0</td>\n",
              "      <td>Into</td>\n",
              "      <td>ADP</td>\n",
              "      <td>NaN</td>\n",
              "      <td>NaN</td>\n",
              "      <td>NaN</td>\n",
              "      <td>other_pos</td>\n",
              "      <td>NaN</td>\n",
              "      <td>Celebration Shooting Turns Wedding Into a Fune...</td>\n",
              "      <td>82.0</td>\n",
              "    </tr>\n",
              "    <tr>\n",
              "      <th>...</th>\n",
              "      <td>...</td>\n",
              "      <td>...</td>\n",
              "      <td>...</td>\n",
              "      <td>...</td>\n",
              "      <td>...</td>\n",
              "      <td>...</td>\n",
              "      <td>...</td>\n",
              "      <td>...</td>\n",
              "      <td>...</td>\n",
              "      <td>...</td>\n",
              "      <td>...</td>\n",
              "      <td>...</td>\n",
              "      <td>...</td>\n",
              "    </tr>\n",
              "    <tr>\n",
              "      <th>5910736</th>\n",
              "      <td>5910736</td>\n",
              "      <td>5910736</td>\n",
              "      <td>('Barak', 'is', 'facing', 'mounting', 'pressur...</td>\n",
              "      <td>307833</td>\n",
              "      <td>drop</td>\n",
              "      <td>VERB</td>\n",
              "      <td>NaN</td>\n",
              "      <td>NaN</td>\n",
              "      <td>NaN</td>\n",
              "      <td>other_pos</td>\n",
              "      <td>NaN</td>\n",
              "      <td>Barak is facing mounting pressure ICH from wit...</td>\n",
              "      <td>44.0</td>\n",
              "    </tr>\n",
              "    <tr>\n",
              "      <th>5910737</th>\n",
              "      <td>5910737</td>\n",
              "      <td>5910737</td>\n",
              "      <td>('Barak', 'is', 'facing', 'mounting', 'pressur...</td>\n",
              "      <td>307833</td>\n",
              "      <td>out</td>\n",
              "      <td>ADP</td>\n",
              "      <td>NaN</td>\n",
              "      <td>NaN</td>\n",
              "      <td>NaN</td>\n",
              "      <td>other_pos</td>\n",
              "      <td>NaN</td>\n",
              "      <td>Barak is facing mounting pressure ICH from wit...</td>\n",
              "      <td>44.0</td>\n",
              "    </tr>\n",
              "    <tr>\n",
              "      <th>5910738</th>\n",
              "      <td>5910738</td>\n",
              "      <td>5910738</td>\n",
              "      <td>('Barak', 'is', 'facing', 'mounting', 'pressur...</td>\n",
              "      <td>307833</td>\n",
              "      <td>of</td>\n",
              "      <td>ADP</td>\n",
              "      <td>NaN</td>\n",
              "      <td>NaN</td>\n",
              "      <td>NaN</td>\n",
              "      <td>other_pos</td>\n",
              "      <td>NaN</td>\n",
              "      <td>Barak is facing mounting pressure ICH from wit...</td>\n",
              "      <td>44.0</td>\n",
              "    </tr>\n",
              "    <tr>\n",
              "      <th>5910739</th>\n",
              "      <td>5910739</td>\n",
              "      <td>5910739</td>\n",
              "      <td>('Barak', 'is', 'facing', 'mounting', 'pressur...</td>\n",
              "      <td>307833</td>\n",
              "      <td>the</td>\n",
              "      <td>DET</td>\n",
              "      <td>NaN</td>\n",
              "      <td>NaN</td>\n",
              "      <td>NaN</td>\n",
              "      <td>other_pos</td>\n",
              "      <td>NaN</td>\n",
              "      <td>Barak is facing mounting pressure ICH from wit...</td>\n",
              "      <td>44.0</td>\n",
              "    </tr>\n",
              "    <tr>\n",
              "      <th>5910740</th>\n",
              "      <td>5910740</td>\n",
              "      <td>5910740</td>\n",
              "      <td>('Barak', 'is', 'facing', 'mounting', 'pressur...</td>\n",
              "      <td>307833</td>\n",
              "      <td>race</td>\n",
              "      <td>NOUN</td>\n",
              "      <td>NaN</td>\n",
              "      <td>NaN</td>\n",
              "      <td>['psychological_feature', 'social_event', 'abs...</td>\n",
              "      <td>inanimate</td>\n",
              "      <td>NaN</td>\n",
              "      <td>Barak is facing mounting pressure ICH from wit...</td>\n",
              "      <td>44.0</td>\n",
              "    </tr>\n",
              "  </tbody>\n",
              "</table>\n",
              "<p>5910741 rows × 13 columns</p>\n",
              "</div>\n",
              "    <div class=\"colab-df-buttons\">\n",
              "\n",
              "  <div class=\"colab-df-container\">\n",
              "    <button class=\"colab-df-convert\" onclick=\"convertToInteractive('df-f00b7e64-be4f-4592-88a4-0c82fc9580a0')\"\n",
              "            title=\"Convert this dataframe to an interactive table.\"\n",
              "            style=\"display:none;\">\n",
              "\n",
              "  <svg xmlns=\"http://www.w3.org/2000/svg\" height=\"24px\" viewBox=\"0 -960 960 960\">\n",
              "    <path d=\"M120-120v-720h720v720H120Zm60-500h600v-160H180v160Zm220 220h160v-160H400v160Zm0 220h160v-160H400v160ZM180-400h160v-160H180v160Zm440 0h160v-160H620v160ZM180-180h160v-160H180v160Zm440 0h160v-160H620v160Z\"/>\n",
              "  </svg>\n",
              "    </button>\n",
              "\n",
              "  <style>\n",
              "    .colab-df-container {\n",
              "      display:flex;\n",
              "      gap: 12px;\n",
              "    }\n",
              "\n",
              "    .colab-df-convert {\n",
              "      background-color: #E8F0FE;\n",
              "      border: none;\n",
              "      border-radius: 50%;\n",
              "      cursor: pointer;\n",
              "      display: none;\n",
              "      fill: #1967D2;\n",
              "      height: 32px;\n",
              "      padding: 0 0 0 0;\n",
              "      width: 32px;\n",
              "    }\n",
              "\n",
              "    .colab-df-convert:hover {\n",
              "      background-color: #E2EBFA;\n",
              "      box-shadow: 0px 1px 2px rgba(60, 64, 67, 0.3), 0px 1px 3px 1px rgba(60, 64, 67, 0.15);\n",
              "      fill: #174EA6;\n",
              "    }\n",
              "\n",
              "    .colab-df-buttons div {\n",
              "      margin-bottom: 4px;\n",
              "    }\n",
              "\n",
              "    [theme=dark] .colab-df-convert {\n",
              "      background-color: #3B4455;\n",
              "      fill: #D2E3FC;\n",
              "    }\n",
              "\n",
              "    [theme=dark] .colab-df-convert:hover {\n",
              "      background-color: #434B5C;\n",
              "      box-shadow: 0px 1px 3px 1px rgba(0, 0, 0, 0.15);\n",
              "      filter: drop-shadow(0px 1px 2px rgba(0, 0, 0, 0.3));\n",
              "      fill: #FFFFFF;\n",
              "    }\n",
              "  </style>\n",
              "\n",
              "    <script>\n",
              "      const buttonEl =\n",
              "        document.querySelector('#df-f00b7e64-be4f-4592-88a4-0c82fc9580a0 button.colab-df-convert');\n",
              "      buttonEl.style.display =\n",
              "        google.colab.kernel.accessAllowed ? 'block' : 'none';\n",
              "\n",
              "      async function convertToInteractive(key) {\n",
              "        const element = document.querySelector('#df-f00b7e64-be4f-4592-88a4-0c82fc9580a0');\n",
              "        const dataTable =\n",
              "          await google.colab.kernel.invokeFunction('convertToInteractive',\n",
              "                                                    [key], {});\n",
              "        if (!dataTable) return;\n",
              "\n",
              "        const docLinkHtml = 'Like what you see? Visit the ' +\n",
              "          '<a target=\"_blank\" href=https://colab.research.google.com/notebooks/data_table.ipynb>data table notebook</a>'\n",
              "          + ' to learn more about interactive tables.';\n",
              "        element.innerHTML = '';\n",
              "        dataTable['output_type'] = 'display_data';\n",
              "        await google.colab.output.renderOutput(dataTable, element);\n",
              "        const docLink = document.createElement('div');\n",
              "        docLink.innerHTML = docLinkHtml;\n",
              "        element.appendChild(docLink);\n",
              "      }\n",
              "    </script>\n",
              "  </div>\n",
              "\n",
              "\n",
              "<div id=\"df-6db460d7-25e0-4292-9ada-9a31ec17c65d\">\n",
              "  <button class=\"colab-df-quickchart\" onclick=\"quickchart('df-6db460d7-25e0-4292-9ada-9a31ec17c65d')\"\n",
              "            title=\"Suggest charts.\"\n",
              "            style=\"display:none;\">\n",
              "\n",
              "<svg xmlns=\"http://www.w3.org/2000/svg\" height=\"24px\"viewBox=\"0 0 24 24\"\n",
              "     width=\"24px\">\n",
              "    <g>\n",
              "        <path d=\"M19 3H5c-1.1 0-2 .9-2 2v14c0 1.1.9 2 2 2h14c1.1 0 2-.9 2-2V5c0-1.1-.9-2-2-2zM9 17H7v-7h2v7zm4 0h-2V7h2v10zm4 0h-2v-4h2v4z\"/>\n",
              "    </g>\n",
              "</svg>\n",
              "  </button>\n",
              "\n",
              "<style>\n",
              "  .colab-df-quickchart {\n",
              "      --bg-color: #E8F0FE;\n",
              "      --fill-color: #1967D2;\n",
              "      --hover-bg-color: #E2EBFA;\n",
              "      --hover-fill-color: #174EA6;\n",
              "      --disabled-fill-color: #AAA;\n",
              "      --disabled-bg-color: #DDD;\n",
              "  }\n",
              "\n",
              "  [theme=dark] .colab-df-quickchart {\n",
              "      --bg-color: #3B4455;\n",
              "      --fill-color: #D2E3FC;\n",
              "      --hover-bg-color: #434B5C;\n",
              "      --hover-fill-color: #FFFFFF;\n",
              "      --disabled-bg-color: #3B4455;\n",
              "      --disabled-fill-color: #666;\n",
              "  }\n",
              "\n",
              "  .colab-df-quickchart {\n",
              "    background-color: var(--bg-color);\n",
              "    border: none;\n",
              "    border-radius: 50%;\n",
              "    cursor: pointer;\n",
              "    display: none;\n",
              "    fill: var(--fill-color);\n",
              "    height: 32px;\n",
              "    padding: 0;\n",
              "    width: 32px;\n",
              "  }\n",
              "\n",
              "  .colab-df-quickchart:hover {\n",
              "    background-color: var(--hover-bg-color);\n",
              "    box-shadow: 0 1px 2px rgba(60, 64, 67, 0.3), 0 1px 3px 1px rgba(60, 64, 67, 0.15);\n",
              "    fill: var(--button-hover-fill-color);\n",
              "  }\n",
              "\n",
              "  .colab-df-quickchart-complete:disabled,\n",
              "  .colab-df-quickchart-complete:disabled:hover {\n",
              "    background-color: var(--disabled-bg-color);\n",
              "    fill: var(--disabled-fill-color);\n",
              "    box-shadow: none;\n",
              "  }\n",
              "\n",
              "  .colab-df-spinner {\n",
              "    border: 2px solid var(--fill-color);\n",
              "    border-color: transparent;\n",
              "    border-bottom-color: var(--fill-color);\n",
              "    animation:\n",
              "      spin 1s steps(1) infinite;\n",
              "  }\n",
              "\n",
              "  @keyframes spin {\n",
              "    0% {\n",
              "      border-color: transparent;\n",
              "      border-bottom-color: var(--fill-color);\n",
              "      border-left-color: var(--fill-color);\n",
              "    }\n",
              "    20% {\n",
              "      border-color: transparent;\n",
              "      border-left-color: var(--fill-color);\n",
              "      border-top-color: var(--fill-color);\n",
              "    }\n",
              "    30% {\n",
              "      border-color: transparent;\n",
              "      border-left-color: var(--fill-color);\n",
              "      border-top-color: var(--fill-color);\n",
              "      border-right-color: var(--fill-color);\n",
              "    }\n",
              "    40% {\n",
              "      border-color: transparent;\n",
              "      border-right-color: var(--fill-color);\n",
              "      border-top-color: var(--fill-color);\n",
              "    }\n",
              "    60% {\n",
              "      border-color: transparent;\n",
              "      border-right-color: var(--fill-color);\n",
              "    }\n",
              "    80% {\n",
              "      border-color: transparent;\n",
              "      border-right-color: var(--fill-color);\n",
              "      border-bottom-color: var(--fill-color);\n",
              "    }\n",
              "    90% {\n",
              "      border-color: transparent;\n",
              "      border-bottom-color: var(--fill-color);\n",
              "    }\n",
              "  }\n",
              "</style>\n",
              "\n",
              "  <script>\n",
              "    async function quickchart(key) {\n",
              "      const quickchartButtonEl =\n",
              "        document.querySelector('#' + key + ' button');\n",
              "      quickchartButtonEl.disabled = true;  // To prevent multiple clicks.\n",
              "      quickchartButtonEl.classList.add('colab-df-spinner');\n",
              "      try {\n",
              "        const charts = await google.colab.kernel.invokeFunction(\n",
              "            'suggestCharts', [key], {});\n",
              "      } catch (error) {\n",
              "        console.error('Error during call to suggestCharts:', error);\n",
              "      }\n",
              "      quickchartButtonEl.classList.remove('colab-df-spinner');\n",
              "      quickchartButtonEl.classList.add('colab-df-quickchart-complete');\n",
              "    }\n",
              "    (() => {\n",
              "      let quickchartButtonEl =\n",
              "        document.querySelector('#df-6db460d7-25e0-4292-9ada-9a31ec17c65d button');\n",
              "      quickchartButtonEl.style.display =\n",
              "        google.colab.kernel.accessAllowed ? 'block' : 'none';\n",
              "    })();\n",
              "  </script>\n",
              "</div>\n",
              "    </div>\n",
              "  </div>\n"
            ]
          },
          "metadata": {},
          "execution_count": 14
        }
      ],
      "id": "9f7nj166-g_E"
    },
    {
      "cell_type": "code",
      "source": [
        "\"\"\"\n",
        "This sentence appears twice consecutively in the dataset and has the same sentence number.\n",
        "This causes issues with indexing the words within a sentence. Refer to the function \"find_index_2\".Therefore, it is deleted.\"\"\"\n",
        "\n",
        "\n",
        "final_df[final_df[\"Word\"]==\"worst\"][100:150]\n",
        "final_df[(final_df.index == 5222032)][\"Sentence\"].tolist()[0]\n",
        "f_d=final_df[(final_df[\"Sentence_no\"] != 264185)]"
      ],
      "metadata": {
        "execution": {
          "iopub.status.busy": "2023-10-18T21:50:26.398752Z",
          "iopub.execute_input": "2023-10-18T21:50:26.399162Z",
          "iopub.status.idle": "2023-10-18T21:50:26.870293Z",
          "shell.execute_reply.started": "2023-10-18T21:50:26.399126Z",
          "shell.execute_reply": "2023-10-18T21:50:26.869122Z"
        },
        "trusted": true,
        "id": "Ce1Yc4g8-g_G"
      },
      "execution_count": 15,
      "outputs": [],
      "id": "Ce1Yc4g8-g_G"
    },
    {
      "cell_type": "code",
      "source": [
        "# Filters out the unnecessary columns for further processing\n",
        "select_columns = f_d[[\"Sentence_row\",\"Word_count\",\"Sentence\", \"Sentence_no\", \"Word\", \"POS\", \"end_labels\"]]\n",
        "select_columns\n"
      ],
      "metadata": {
        "jupyter": {
          "outputs_hidden": false
        },
        "pycharm": {
          "name": "#%%\n"
        },
        "execution": {
          "iopub.status.busy": "2023-10-18T21:50:33.126613Z",
          "iopub.execute_input": "2023-10-18T21:50:33.127498Z",
          "iopub.status.idle": "2023-10-18T21:50:33.638737Z",
          "shell.execute_reply.started": "2023-10-18T21:50:33.127466Z",
          "shell.execute_reply": "2023-10-18T21:50:33.637642Z"
        },
        "trusted": true,
        "id": "L20K4-tJ-g_H",
        "outputId": "da7a39a8-f0ff-4c5f-80cb-d935cfd03ba7",
        "colab": {
          "base_uri": "https://localhost:8080/",
          "height": 770
        }
      },
      "execution_count": 16,
      "outputs": [
        {
          "output_type": "execute_result",
          "data": {
            "text/plain": [
              "                                              Sentence_row  Word_count  \\\n",
              "0        Celebration Shooting Turns Wedding Into a Fune...        82.0   \n",
              "1        Celebration Shooting Turns Wedding Into a Fune...        82.0   \n",
              "2        Celebration Shooting Turns Wedding Into a Fune...        82.0   \n",
              "3        Celebration Shooting Turns Wedding Into a Fune...        82.0   \n",
              "4        Celebration Shooting Turns Wedding Into a Fune...        82.0   \n",
              "...                                                    ...         ...   \n",
              "5910736  Barak is facing mounting pressure ICH from wit...        44.0   \n",
              "5910737  Barak is facing mounting pressure ICH from wit...        44.0   \n",
              "5910738  Barak is facing mounting pressure ICH from wit...        44.0   \n",
              "5910739  Barak is facing mounting pressure ICH from wit...        44.0   \n",
              "5910740  Barak is facing mounting pressure ICH from wit...        44.0   \n",
              "\n",
              "                                                  Sentence  Sentence_no  \\\n",
              "0        ('Celebration', 'Shooting', 'Turns', 'Wedding'...            0   \n",
              "1        ('Celebration', 'Shooting', 'Turns', 'Wedding'...            0   \n",
              "2        ('Celebration', 'Shooting', 'Turns', 'Wedding'...            0   \n",
              "3        ('Celebration', 'Shooting', 'Turns', 'Wedding'...            0   \n",
              "4        ('Celebration', 'Shooting', 'Turns', 'Wedding'...            0   \n",
              "...                                                    ...          ...   \n",
              "5910736  ('Barak', 'is', 'facing', 'mounting', 'pressur...       307833   \n",
              "5910737  ('Barak', 'is', 'facing', 'mounting', 'pressur...       307833   \n",
              "5910738  ('Barak', 'is', 'facing', 'mounting', 'pressur...       307833   \n",
              "5910739  ('Barak', 'is', 'facing', 'mounting', 'pressur...       307833   \n",
              "5910740  ('Barak', 'is', 'facing', 'mounting', 'pressur...       307833   \n",
              "\n",
              "                Word    POS  end_labels  \n",
              "0        Celebration  PROPN         NaN  \n",
              "1           Shooting  PROPN         NaN  \n",
              "2              Turns   VERB         NaN  \n",
              "3            Wedding   NOUN         NaN  \n",
              "4               Into    ADP         NaN  \n",
              "...              ...    ...         ...  \n",
              "5910736         drop   VERB         NaN  \n",
              "5910737          out    ADP         NaN  \n",
              "5910738           of    ADP         NaN  \n",
              "5910739          the    DET         NaN  \n",
              "5910740         race   NOUN         NaN  \n",
              "\n",
              "[5910725 rows x 7 columns]"
            ],
            "text/html": [
              "\n",
              "  <div id=\"df-2f5fd502-23ee-4b2c-bfc2-d0d672164ee1\" class=\"colab-df-container\">\n",
              "    <div>\n",
              "<style scoped>\n",
              "    .dataframe tbody tr th:only-of-type {\n",
              "        vertical-align: middle;\n",
              "    }\n",
              "\n",
              "    .dataframe tbody tr th {\n",
              "        vertical-align: top;\n",
              "    }\n",
              "\n",
              "    .dataframe thead th {\n",
              "        text-align: right;\n",
              "    }\n",
              "</style>\n",
              "<table border=\"1\" class=\"dataframe\">\n",
              "  <thead>\n",
              "    <tr style=\"text-align: right;\">\n",
              "      <th></th>\n",
              "      <th>Sentence_row</th>\n",
              "      <th>Word_count</th>\n",
              "      <th>Sentence</th>\n",
              "      <th>Sentence_no</th>\n",
              "      <th>Word</th>\n",
              "      <th>POS</th>\n",
              "      <th>end_labels</th>\n",
              "    </tr>\n",
              "  </thead>\n",
              "  <tbody>\n",
              "    <tr>\n",
              "      <th>0</th>\n",
              "      <td>Celebration Shooting Turns Wedding Into a Fune...</td>\n",
              "      <td>82.0</td>\n",
              "      <td>('Celebration', 'Shooting', 'Turns', 'Wedding'...</td>\n",
              "      <td>0</td>\n",
              "      <td>Celebration</td>\n",
              "      <td>PROPN</td>\n",
              "      <td>NaN</td>\n",
              "    </tr>\n",
              "    <tr>\n",
              "      <th>1</th>\n",
              "      <td>Celebration Shooting Turns Wedding Into a Fune...</td>\n",
              "      <td>82.0</td>\n",
              "      <td>('Celebration', 'Shooting', 'Turns', 'Wedding'...</td>\n",
              "      <td>0</td>\n",
              "      <td>Shooting</td>\n",
              "      <td>PROPN</td>\n",
              "      <td>NaN</td>\n",
              "    </tr>\n",
              "    <tr>\n",
              "      <th>2</th>\n",
              "      <td>Celebration Shooting Turns Wedding Into a Fune...</td>\n",
              "      <td>82.0</td>\n",
              "      <td>('Celebration', 'Shooting', 'Turns', 'Wedding'...</td>\n",
              "      <td>0</td>\n",
              "      <td>Turns</td>\n",
              "      <td>VERB</td>\n",
              "      <td>NaN</td>\n",
              "    </tr>\n",
              "    <tr>\n",
              "      <th>3</th>\n",
              "      <td>Celebration Shooting Turns Wedding Into a Fune...</td>\n",
              "      <td>82.0</td>\n",
              "      <td>('Celebration', 'Shooting', 'Turns', 'Wedding'...</td>\n",
              "      <td>0</td>\n",
              "      <td>Wedding</td>\n",
              "      <td>NOUN</td>\n",
              "      <td>NaN</td>\n",
              "    </tr>\n",
              "    <tr>\n",
              "      <th>4</th>\n",
              "      <td>Celebration Shooting Turns Wedding Into a Fune...</td>\n",
              "      <td>82.0</td>\n",
              "      <td>('Celebration', 'Shooting', 'Turns', 'Wedding'...</td>\n",
              "      <td>0</td>\n",
              "      <td>Into</td>\n",
              "      <td>ADP</td>\n",
              "      <td>NaN</td>\n",
              "    </tr>\n",
              "    <tr>\n",
              "      <th>...</th>\n",
              "      <td>...</td>\n",
              "      <td>...</td>\n",
              "      <td>...</td>\n",
              "      <td>...</td>\n",
              "      <td>...</td>\n",
              "      <td>...</td>\n",
              "      <td>...</td>\n",
              "    </tr>\n",
              "    <tr>\n",
              "      <th>5910736</th>\n",
              "      <td>Barak is facing mounting pressure ICH from wit...</td>\n",
              "      <td>44.0</td>\n",
              "      <td>('Barak', 'is', 'facing', 'mounting', 'pressur...</td>\n",
              "      <td>307833</td>\n",
              "      <td>drop</td>\n",
              "      <td>VERB</td>\n",
              "      <td>NaN</td>\n",
              "    </tr>\n",
              "    <tr>\n",
              "      <th>5910737</th>\n",
              "      <td>Barak is facing mounting pressure ICH from wit...</td>\n",
              "      <td>44.0</td>\n",
              "      <td>('Barak', 'is', 'facing', 'mounting', 'pressur...</td>\n",
              "      <td>307833</td>\n",
              "      <td>out</td>\n",
              "      <td>ADP</td>\n",
              "      <td>NaN</td>\n",
              "    </tr>\n",
              "    <tr>\n",
              "      <th>5910738</th>\n",
              "      <td>Barak is facing mounting pressure ICH from wit...</td>\n",
              "      <td>44.0</td>\n",
              "      <td>('Barak', 'is', 'facing', 'mounting', 'pressur...</td>\n",
              "      <td>307833</td>\n",
              "      <td>of</td>\n",
              "      <td>ADP</td>\n",
              "      <td>NaN</td>\n",
              "    </tr>\n",
              "    <tr>\n",
              "      <th>5910739</th>\n",
              "      <td>Barak is facing mounting pressure ICH from wit...</td>\n",
              "      <td>44.0</td>\n",
              "      <td>('Barak', 'is', 'facing', 'mounting', 'pressur...</td>\n",
              "      <td>307833</td>\n",
              "      <td>the</td>\n",
              "      <td>DET</td>\n",
              "      <td>NaN</td>\n",
              "    </tr>\n",
              "    <tr>\n",
              "      <th>5910740</th>\n",
              "      <td>Barak is facing mounting pressure ICH from wit...</td>\n",
              "      <td>44.0</td>\n",
              "      <td>('Barak', 'is', 'facing', 'mounting', 'pressur...</td>\n",
              "      <td>307833</td>\n",
              "      <td>race</td>\n",
              "      <td>NOUN</td>\n",
              "      <td>NaN</td>\n",
              "    </tr>\n",
              "  </tbody>\n",
              "</table>\n",
              "<p>5910725 rows × 7 columns</p>\n",
              "</div>\n",
              "    <div class=\"colab-df-buttons\">\n",
              "\n",
              "  <div class=\"colab-df-container\">\n",
              "    <button class=\"colab-df-convert\" onclick=\"convertToInteractive('df-2f5fd502-23ee-4b2c-bfc2-d0d672164ee1')\"\n",
              "            title=\"Convert this dataframe to an interactive table.\"\n",
              "            style=\"display:none;\">\n",
              "\n",
              "  <svg xmlns=\"http://www.w3.org/2000/svg\" height=\"24px\" viewBox=\"0 -960 960 960\">\n",
              "    <path d=\"M120-120v-720h720v720H120Zm60-500h600v-160H180v160Zm220 220h160v-160H400v160Zm0 220h160v-160H400v160ZM180-400h160v-160H180v160Zm440 0h160v-160H620v160ZM180-180h160v-160H180v160Zm440 0h160v-160H620v160Z\"/>\n",
              "  </svg>\n",
              "    </button>\n",
              "\n",
              "  <style>\n",
              "    .colab-df-container {\n",
              "      display:flex;\n",
              "      gap: 12px;\n",
              "    }\n",
              "\n",
              "    .colab-df-convert {\n",
              "      background-color: #E8F0FE;\n",
              "      border: none;\n",
              "      border-radius: 50%;\n",
              "      cursor: pointer;\n",
              "      display: none;\n",
              "      fill: #1967D2;\n",
              "      height: 32px;\n",
              "      padding: 0 0 0 0;\n",
              "      width: 32px;\n",
              "    }\n",
              "\n",
              "    .colab-df-convert:hover {\n",
              "      background-color: #E2EBFA;\n",
              "      box-shadow: 0px 1px 2px rgba(60, 64, 67, 0.3), 0px 1px 3px 1px rgba(60, 64, 67, 0.15);\n",
              "      fill: #174EA6;\n",
              "    }\n",
              "\n",
              "    .colab-df-buttons div {\n",
              "      margin-bottom: 4px;\n",
              "    }\n",
              "\n",
              "    [theme=dark] .colab-df-convert {\n",
              "      background-color: #3B4455;\n",
              "      fill: #D2E3FC;\n",
              "    }\n",
              "\n",
              "    [theme=dark] .colab-df-convert:hover {\n",
              "      background-color: #434B5C;\n",
              "      box-shadow: 0px 1px 3px 1px rgba(0, 0, 0, 0.15);\n",
              "      filter: drop-shadow(0px 1px 2px rgba(0, 0, 0, 0.3));\n",
              "      fill: #FFFFFF;\n",
              "    }\n",
              "  </style>\n",
              "\n",
              "    <script>\n",
              "      const buttonEl =\n",
              "        document.querySelector('#df-2f5fd502-23ee-4b2c-bfc2-d0d672164ee1 button.colab-df-convert');\n",
              "      buttonEl.style.display =\n",
              "        google.colab.kernel.accessAllowed ? 'block' : 'none';\n",
              "\n",
              "      async function convertToInteractive(key) {\n",
              "        const element = document.querySelector('#df-2f5fd502-23ee-4b2c-bfc2-d0d672164ee1');\n",
              "        const dataTable =\n",
              "          await google.colab.kernel.invokeFunction('convertToInteractive',\n",
              "                                                    [key], {});\n",
              "        if (!dataTable) return;\n",
              "\n",
              "        const docLinkHtml = 'Like what you see? Visit the ' +\n",
              "          '<a target=\"_blank\" href=https://colab.research.google.com/notebooks/data_table.ipynb>data table notebook</a>'\n",
              "          + ' to learn more about interactive tables.';\n",
              "        element.innerHTML = '';\n",
              "        dataTable['output_type'] = 'display_data';\n",
              "        await google.colab.output.renderOutput(dataTable, element);\n",
              "        const docLink = document.createElement('div');\n",
              "        docLink.innerHTML = docLinkHtml;\n",
              "        element.appendChild(docLink);\n",
              "      }\n",
              "    </script>\n",
              "  </div>\n",
              "\n",
              "\n",
              "<div id=\"df-d3606193-fc0c-440e-a600-709baf8e4106\">\n",
              "  <button class=\"colab-df-quickchart\" onclick=\"quickchart('df-d3606193-fc0c-440e-a600-709baf8e4106')\"\n",
              "            title=\"Suggest charts.\"\n",
              "            style=\"display:none;\">\n",
              "\n",
              "<svg xmlns=\"http://www.w3.org/2000/svg\" height=\"24px\"viewBox=\"0 0 24 24\"\n",
              "     width=\"24px\">\n",
              "    <g>\n",
              "        <path d=\"M19 3H5c-1.1 0-2 .9-2 2v14c0 1.1.9 2 2 2h14c1.1 0 2-.9 2-2V5c0-1.1-.9-2-2-2zM9 17H7v-7h2v7zm4 0h-2V7h2v10zm4 0h-2v-4h2v4z\"/>\n",
              "    </g>\n",
              "</svg>\n",
              "  </button>\n",
              "\n",
              "<style>\n",
              "  .colab-df-quickchart {\n",
              "      --bg-color: #E8F0FE;\n",
              "      --fill-color: #1967D2;\n",
              "      --hover-bg-color: #E2EBFA;\n",
              "      --hover-fill-color: #174EA6;\n",
              "      --disabled-fill-color: #AAA;\n",
              "      --disabled-bg-color: #DDD;\n",
              "  }\n",
              "\n",
              "  [theme=dark] .colab-df-quickchart {\n",
              "      --bg-color: #3B4455;\n",
              "      --fill-color: #D2E3FC;\n",
              "      --hover-bg-color: #434B5C;\n",
              "      --hover-fill-color: #FFFFFF;\n",
              "      --disabled-bg-color: #3B4455;\n",
              "      --disabled-fill-color: #666;\n",
              "  }\n",
              "\n",
              "  .colab-df-quickchart {\n",
              "    background-color: var(--bg-color);\n",
              "    border: none;\n",
              "    border-radius: 50%;\n",
              "    cursor: pointer;\n",
              "    display: none;\n",
              "    fill: var(--fill-color);\n",
              "    height: 32px;\n",
              "    padding: 0;\n",
              "    width: 32px;\n",
              "  }\n",
              "\n",
              "  .colab-df-quickchart:hover {\n",
              "    background-color: var(--hover-bg-color);\n",
              "    box-shadow: 0 1px 2px rgba(60, 64, 67, 0.3), 0 1px 3px 1px rgba(60, 64, 67, 0.15);\n",
              "    fill: var(--button-hover-fill-color);\n",
              "  }\n",
              "\n",
              "  .colab-df-quickchart-complete:disabled,\n",
              "  .colab-df-quickchart-complete:disabled:hover {\n",
              "    background-color: var(--disabled-bg-color);\n",
              "    fill: var(--disabled-fill-color);\n",
              "    box-shadow: none;\n",
              "  }\n",
              "\n",
              "  .colab-df-spinner {\n",
              "    border: 2px solid var(--fill-color);\n",
              "    border-color: transparent;\n",
              "    border-bottom-color: var(--fill-color);\n",
              "    animation:\n",
              "      spin 1s steps(1) infinite;\n",
              "  }\n",
              "\n",
              "  @keyframes spin {\n",
              "    0% {\n",
              "      border-color: transparent;\n",
              "      border-bottom-color: var(--fill-color);\n",
              "      border-left-color: var(--fill-color);\n",
              "    }\n",
              "    20% {\n",
              "      border-color: transparent;\n",
              "      border-left-color: var(--fill-color);\n",
              "      border-top-color: var(--fill-color);\n",
              "    }\n",
              "    30% {\n",
              "      border-color: transparent;\n",
              "      border-left-color: var(--fill-color);\n",
              "      border-top-color: var(--fill-color);\n",
              "      border-right-color: var(--fill-color);\n",
              "    }\n",
              "    40% {\n",
              "      border-color: transparent;\n",
              "      border-right-color: var(--fill-color);\n",
              "      border-top-color: var(--fill-color);\n",
              "    }\n",
              "    60% {\n",
              "      border-color: transparent;\n",
              "      border-right-color: var(--fill-color);\n",
              "    }\n",
              "    80% {\n",
              "      border-color: transparent;\n",
              "      border-right-color: var(--fill-color);\n",
              "      border-bottom-color: var(--fill-color);\n",
              "    }\n",
              "    90% {\n",
              "      border-color: transparent;\n",
              "      border-bottom-color: var(--fill-color);\n",
              "    }\n",
              "  }\n",
              "</style>\n",
              "\n",
              "  <script>\n",
              "    async function quickchart(key) {\n",
              "      const quickchartButtonEl =\n",
              "        document.querySelector('#' + key + ' button');\n",
              "      quickchartButtonEl.disabled = true;  // To prevent multiple clicks.\n",
              "      quickchartButtonEl.classList.add('colab-df-spinner');\n",
              "      try {\n",
              "        const charts = await google.colab.kernel.invokeFunction(\n",
              "            'suggestCharts', [key], {});\n",
              "      } catch (error) {\n",
              "        console.error('Error during call to suggestCharts:', error);\n",
              "      }\n",
              "      quickchartButtonEl.classList.remove('colab-df-spinner');\n",
              "      quickchartButtonEl.classList.add('colab-df-quickchart-complete');\n",
              "    }\n",
              "    (() => {\n",
              "      let quickchartButtonEl =\n",
              "        document.querySelector('#df-d3606193-fc0c-440e-a600-709baf8e4106 button');\n",
              "      quickchartButtonEl.style.display =\n",
              "        google.colab.kernel.accessAllowed ? 'block' : 'none';\n",
              "    })();\n",
              "  </script>\n",
              "</div>\n",
              "    </div>\n",
              "  </div>\n"
            ]
          },
          "metadata": {},
          "execution_count": 16
        }
      ],
      "id": "L20K4-tJ-g_H"
    },
    {
      "cell_type": "code",
      "source": [
        "select_columns.shape"
      ],
      "metadata": {
        "colab": {
          "base_uri": "https://localhost:8080/"
        },
        "id": "Bqr-HNGQTH-7",
        "outputId": "e3098b01-c7e7-4c69-dd93-7dccde9d45f5"
      },
      "id": "Bqr-HNGQTH-7",
      "execution_count": 17,
      "outputs": [
        {
          "output_type": "execute_result",
          "data": {
            "text/plain": [
              "(5910725, 7)"
            ]
          },
          "metadata": {},
          "execution_count": 17
        }
      ]
    },
    {
      "cell_type": "code",
      "source": [
        "\n",
        "\n",
        "\"\"\" 1. Sentences longer than 5 words are selected because the same sentences frequently appear in the dataset with same sentence numbers.\n",
        "This complicates the mapping of the embedding vector to the word in the dataset.\"\"\"\n",
        "\n",
        "\"\"\" 2. Sentences shorter than 500 words are selected to ensure that the allowed length of the BERT tokenizer is not exceeded.\"\"\"\n",
        "\n",
        "filtered_df = select_columns[(select_columns['Word_count'] < 500) & (select_columns['Word_count'] > 5)]\n"
      ],
      "metadata": {
        "jupyter": {
          "outputs_hidden": false
        },
        "pycharm": {
          "name": "#%%\n"
        },
        "execution": {
          "iopub.status.busy": "2023-10-18T21:50:37.887778Z",
          "iopub.execute_input": "2023-10-18T21:50:37.888107Z",
          "iopub.status.idle": "2023-10-18T21:50:38.483000Z",
          "shell.execute_reply.started": "2023-10-18T21:50:37.888082Z",
          "shell.execute_reply": "2023-10-18T21:50:38.482033Z"
        },
        "trusted": true,
        "id": "uhovdPN1-g_H"
      },
      "execution_count": 18,
      "outputs": [],
      "id": "uhovdPN1-g_H"
    },
    {
      "cell_type": "code",
      "source": [
        "len(filtered_df.groupby([\"Sentence_row\"])[\"Sentence_row\"])\n"
      ],
      "metadata": {
        "jupyter": {
          "outputs_hidden": false
        },
        "pycharm": {
          "name": "#%%\n"
        },
        "execution": {
          "iopub.status.busy": "2023-10-18T21:50:53.780652Z",
          "iopub.execute_input": "2023-10-18T21:50:53.781189Z",
          "iopub.status.idle": "2023-10-18T21:50:55.973842Z",
          "shell.execute_reply.started": "2023-10-18T21:50:53.781155Z",
          "shell.execute_reply": "2023-10-18T21:50:55.972877Z"
        },
        "trusted": true,
        "id": "XtT7VVB3-g_H",
        "outputId": "98999e2a-abb8-4790-f959-756b3860154a",
        "colab": {
          "base_uri": "https://localhost:8080/"
        }
      },
      "execution_count": 19,
      "outputs": [
        {
          "output_type": "execute_result",
          "data": {
            "text/plain": [
              "35020"
            ]
          },
          "metadata": {},
          "execution_count": 19
        }
      ],
      "id": "XtT7VVB3-g_H"
    },
    {
      "cell_type": "code",
      "source": [
        "\"\"\"The function returns the main information for the correct assignment of the embedding vector\n",
        "  to each word in the respective sentence. It returns a list of main tokens, a list of subtokens,\n",
        "  a list of indices for the assignment of the embedding vector, a list for all tokens, and a list\n",
        "  with all contextualized vectors for a sentence.\"\"\"\n",
        "\n",
        "def extract_main_info_embedding_vec(texts_ohne_dublikate):\n",
        "    all_main_tokens = []\n",
        "    all_subtokens = []\n",
        "    all_embeded_index = []\n",
        "    all_tokens = []\n",
        "    all_contextualized_vectors = []\n",
        "    for ind, el in enumerate(texts_ohne_dublikate):\n",
        "\n",
        "        tokenized_input = tokenizer(el)\n",
        "        tokens = tokenizer.convert_ids_to_tokens(tokenized_input[\"input_ids\"])\n",
        "        #print(el)\n",
        "        #print(tokens)\n",
        "\n",
        "        main_tokens, subtokens, embed_index_main_tokens= get_main_tokens_subtokens_embed_index(tokens)\n",
        "        main_token, subtoken, embed_index_main_token = get_main_token_subtoken_embed_index(tokens)\n",
        "        main_tokens += main_token\n",
        "        subtokens += subtoken\n",
        "        embed_index_main_tokens += embed_index_main_token\n",
        "        all_tokens.append(tokens)\n",
        "        all_main_tokens.append(main_tokens)\n",
        "        all_subtokens.append(subtokens)\n",
        "        all_embeded_index.append(embed_index_main_tokens)\n",
        "\n",
        "        with torch.no_grad():\n",
        "            outputs = model(torch.tensor(tokenized_input[\"input_ids\"]).unsqueeze(0))\n",
        "            contextualized_vectors = outputs.last_hidden_state\n",
        "            for el in contextualized_vectors:\n",
        "                all_contextualized_vectors.append(el)\n",
        "\n",
        "\n",
        "\n",
        "        #print(f\"\"\"##########################################################################\n",
        "                ############################# new element {ind} ##############################\n",
        "        ########################################################################\"\"\")\n",
        "    return all_main_tokens,all_subtokens,all_embeded_index,all_tokens,all_contextualized_vectors\n",
        "\n",
        "#all_main_tokens,all_subtokens, all_embeded_index, all_tokens, all_contextualized_vectors=extract_main_info_embedding_vec(texts_ohne_dublikate)\n"
      ],
      "metadata": {
        "jupyter": {
          "outputs_hidden": false
        },
        "pycharm": {
          "name": "#%%\n"
        },
        "execution": {
          "iopub.status.busy": "2023-10-18T21:51:21.585403Z",
          "iopub.execute_input": "2023-10-18T21:51:21.586188Z",
          "iopub.status.idle": "2023-10-18T21:51:21.593415Z",
          "shell.execute_reply.started": "2023-10-18T21:51:21.586158Z",
          "shell.execute_reply": "2023-10-18T21:51:21.592418Z"
        },
        "trusted": true,
        "id": "ZUn3E622-g_H"
      },
      "execution_count": 20,
      "outputs": [],
      "id": "ZUn3E622-g_H"
    },
    {
      "cell_type": "code",
      "source": [],
      "metadata": {
        "id": "x548qAFD8u49"
      },
      "id": "x548qAFD8u49",
      "execution_count": null,
      "outputs": []
    },
    {
      "cell_type": "code",
      "source": [
        "# Initialize three new columns\n",
        "filtered_df['subword'] = None\n",
        "filtered_df['wort_index'] = None\n",
        "filtered_df['contextualized_vectors'] = None"
      ],
      "metadata": {
        "jupyter": {
          "outputs_hidden": false
        },
        "pycharm": {
          "name": "#%%\n"
        },
        "execution": {
          "iopub.status.busy": "2023-10-18T21:51:28.185088Z",
          "iopub.execute_input": "2023-10-18T21:51:28.185432Z",
          "iopub.status.idle": "2023-10-18T21:51:28.366899Z",
          "shell.execute_reply.started": "2023-10-18T21:51:28.185408Z",
          "shell.execute_reply": "2023-10-18T21:51:28.365941Z"
        },
        "trusted": true,
        "id": "-BIq3vRM-g_I",
        "outputId": "8d1b2aa3-dfcd-460d-83ac-8a3eb4b6bf58",
        "colab": {
          "base_uri": "https://localhost:8080/"
        }
      },
      "execution_count": 21,
      "outputs": [
        {
          "output_type": "stream",
          "name": "stderr",
          "text": [
            "<ipython-input-21-7a7f663c5fe2>:2: SettingWithCopyWarning: \n",
            "A value is trying to be set on a copy of a slice from a DataFrame.\n",
            "Try using .loc[row_indexer,col_indexer] = value instead\n",
            "\n",
            "See the caveats in the documentation: https://pandas.pydata.org/pandas-docs/stable/user_guide/indexing.html#returning-a-view-versus-a-copy\n",
            "  filtered_df['subword'] = None\n",
            "<ipython-input-21-7a7f663c5fe2>:3: SettingWithCopyWarning: \n",
            "A value is trying to be set on a copy of a slice from a DataFrame.\n",
            "Try using .loc[row_indexer,col_indexer] = value instead\n",
            "\n",
            "See the caveats in the documentation: https://pandas.pydata.org/pandas-docs/stable/user_guide/indexing.html#returning-a-view-versus-a-copy\n",
            "  filtered_df['wort_index'] = None\n",
            "<ipython-input-21-7a7f663c5fe2>:4: SettingWithCopyWarning: \n",
            "A value is trying to be set on a copy of a slice from a DataFrame.\n",
            "Try using .loc[row_indexer,col_indexer] = value instead\n",
            "\n",
            "See the caveats in the documentation: https://pandas.pydata.org/pandas-docs/stable/user_guide/indexing.html#returning-a-view-versus-a-copy\n",
            "  filtered_df['contextualized_vectors'] = None\n"
          ]
        }
      ],
      "id": "-BIq3vRM-g_I"
    },
    {
      "cell_type": "code",
      "source": [
        "\"\"\"\n",
        "    We iterate through the dataframe using a for loop. For all rows that have the same sentence,\n",
        "    we define a dictionary called 'word_already_seen', so that words that appear more than once\n",
        "    in a sentence don't receive the same index,\n",
        "    but rather a unique index.\n",
        "\n",
        "\"\"\"\n",
        "\n",
        "def find_index_2(curr_word: str, sub_tokens: list, already_seen: Dict):\n",
        "\n",
        "    last_index = already_seen.get(curr_word, 0)\n",
        "    curr_index = sub_tokens.index(curr_word, last_index + 1)\n",
        "    already_seen[curr_word] = curr_index\n",
        "    return curr_index"
      ],
      "metadata": {
        "jupyter": {
          "outputs_hidden": false
        },
        "pycharm": {
          "name": "#%%\n"
        },
        "execution": {
          "iopub.status.busy": "2023-10-18T21:51:32.244160Z",
          "iopub.execute_input": "2023-10-18T21:51:32.245071Z",
          "iopub.status.idle": "2023-10-18T21:51:32.250330Z",
          "shell.execute_reply.started": "2023-10-18T21:51:32.245034Z",
          "shell.execute_reply": "2023-10-18T21:51:32.249190Z"
        },
        "trusted": true,
        "id": "ynW1C1Vg-g_I"
      },
      "execution_count": 22,
      "outputs": [],
      "id": "ynW1C1Vg-g_I"
    },
    {
      "cell_type": "code",
      "source": [
        "\"\"\"This function is the main function for assigning 'subwords', word_index,\n",
        "and contextualized vectors to each word in the dataframe. Data is processed in batches\"\"\"\n",
        "\n",
        "\n",
        "start_time = time.time()\n",
        "\n",
        "batch_size = 100000\n",
        "num_batches = len(filtered_df) // batch_size\n",
        "\n",
        "# Process the data in batches\n",
        "for batch_num in range(num_batches + 1):\n",
        "    # Create a subset for the current batch\n",
        "    start_idx = batch_num * batch_size\n",
        "    end_idx = (batch_num + 1) * batch_size\n",
        "    batch_df = filtered_df.iloc[start_idx:end_idx]\n",
        "    # Raw sentences are saved without duplicates\n",
        "    texts = batch_df[\"Sentence_row\"].tolist()\n",
        "    texts_ohne_dublikate = pd.Series(texts).dropna().drop_duplicates().tolist()\n",
        "    all_main_tokens,all_subtokens, all_embeded_index, all_tokens, all_contextualized_vectors=extract_main_info_embedding_vec(texts_ohne_dublikate)\n",
        "\n",
        "    old_sentence_list = \"\"\n",
        "    counter = -1\n",
        "    main_tokens_fuer_current_satz = []\n",
        "    subtokens_fuer_current_satz = []\n",
        "    embed_index_fuer_current_satz = []\n",
        "    tokens_fuer_current_satz = []\n",
        "    previous_tokens = []\n",
        "    previous_sentence_no = None\n",
        "    word_already_seen = Dict\n",
        "\n",
        "    tensor_output = []\n",
        "    for index, row in batch_df.iterrows():\n",
        "        sentence_list = row[\"Sentence_row\"]\n",
        "\n",
        "        \"\"\"\"Search for the index in 'texts_without_duplicates'. This is important because it corresponds to the\n",
        "        index for contextualized vectors, subwords, main_words, and EmbeddingIndex \"\"\"\n",
        "\n",
        "        #all_main_tokens,all_subtokens, all_embeded_index, all_tokens, all_contextualized_vectors=extract_main_info_embedding_vec(texts_ohne_dublikate)\n",
        "        index_of_Sentence = texts_ohne_dublikate.index(sentence_list)\n",
        "        tokens_fuer_current_satz = all_tokens[index_of_Sentence]\n",
        "        main_tokens_fuer_current_satz = all_main_tokens[index_of_Sentence]\n",
        "        subtokens_fuer_current_satz = all_subtokens[index_of_Sentence]\n",
        "        embed_index_fuer_current_satz = all_embeded_index[index_of_Sentence]\n",
        "\n",
        "\n",
        "        sentence_no_fuer_current_satz = row['Sentence_no']\n",
        "        contextualized_vectors_fuer_current_satz = all_contextualized_vectors[index_of_Sentence]\n",
        "\n",
        "        \"\"\"When we come across a new sentence or the same sentence with a different sentence number,\n",
        "        the 'word_already_seen' is emptied \"\"\"\n",
        "\n",
        "        if previous_tokens != tokens_fuer_current_satz or previous_sentence_no != sentence_no_fuer_current_satz:\n",
        "            #print(f\"changing from S_no:{previous_sentence_no} to-> S_no:{sentence_no_fuer_current_satz}\")\n",
        "            word_already_seen = dict()\n",
        "        current_word = row['Word']\n",
        "        index_of_word = -1\n",
        "        if current_word in main_tokens_fuer_current_satz:\n",
        "            index_of_hauptwort =  main_tokens_fuer_current_satz.index(current_word)\n",
        "            batch_df.at[index, 'subword'] = subtokens_fuer_current_satz[index_of_hauptwort]\n",
        "            index_of_word = embed_index_fuer_current_satz[index_of_hauptwort]\n",
        "            batch_df.at[index, \"wort_index\"] = index_of_word\n",
        "\n",
        "        elif current_word in tokens_fuer_current_satz:\n",
        "            try:\n",
        "                index_of_word = find_index_2(current_word, tokens_fuer_current_satz, word_already_seen)\n",
        "            except Exception as e:\n",
        "                print(f\"\"\"*****************************************************************************\n",
        "            ********************************** index {index} *******************************************\n",
        "            *************************************************************************************\"\"\")\n",
        "                #print(index)\n",
        "                #print(\"current_word\", current_word)\n",
        "                #print(\"tokens_fuer_current_satz:\")\n",
        "                #print(tokens_fuer_current_satz)\n",
        "                #print(\"word already seen\")\n",
        "                #print(word_already_seen)\n",
        "                traceback.print_exc()\n",
        "                break\n",
        "            batch_df.at[index, \"wort_index\"] = index_of_word\n",
        "\n",
        "        if index_of_word != -1:\n",
        "\n",
        "            # If 'current_word' appears in main_word or in 'tokens', then the index must be a value that is >= 0\n",
        "\n",
        "\n",
        "            e = contextualized_vectors_fuer_current_satz[index_of_word].tolist()\n",
        "            tensor_output.append(e)\n",
        "\n",
        "        else:\n",
        "\n",
        "            # For the word (which was previously tokenized in our dataframe using spaCy), the tokenizer couldn't generate a value\n",
        "            tensor_output.append(None)\n",
        "\n",
        "\n",
        "        previous_tokens = tokens_fuer_current_satz\n",
        "        previous_sentence_no = sentence_no_fuer_current_satz\n",
        "\n",
        "    print(\"hallo there\")\n",
        "\n",
        "    batch_df['contextualized_vectors'] = tensor_output\n",
        "\n",
        "\n",
        "    # Save the updated dataframe for the current batch\n",
        "    batch_df.to_csv(f\"/content/drive/My Drive/embedding_data/updated_data_batch_embedding{batch_num}.csv\")\n",
        "\n",
        "\n",
        "    print(f\"Fertig_{batch_num}\")\n",
        "\n",
        "elapsed_time_seconds = time.time() - start_time\n",
        "elapsed_time_minutes = elapsed_time_seconds / 60\n",
        "\n",
        "print(f\"Der Code hat {elapsed_time_minutes:.2f} Minuten gedauert.\")\n"
      ],
      "metadata": {
        "jupyter": {
          "outputs_hidden": false
        },
        "pycharm": {
          "name": "#%%\n"
        },
        "execution": {
          "iopub.status.busy": "2023-10-18T21:53:05.450769Z",
          "iopub.execute_input": "2023-10-18T21:53:05.451160Z",
          "iopub.status.idle": "2023-10-18T22:08:19.235441Z",
          "shell.execute_reply.started": "2023-10-18T21:53:05.451131Z",
          "shell.execute_reply": "2023-10-18T22:08:19.234415Z"
        },
        "trusted": true,
        "id": "ysRw9k-s-g_I",
        "outputId": "412a58af-bbb7-4413-a8cf-e6bca241844b",
        "colab": {
          "base_uri": "https://localhost:8080/"
        }
      },
      "execution_count": 23,
      "outputs": [
        {
          "metadata": {
            "tags": null
          },
          "name": "stdout",
          "output_type": "stream",
          "text": [
            "hallo there\n"
          ]
        },
        {
          "metadata": {
            "tags": null
          },
          "name": "stderr",
          "output_type": "stream",
          "text": [
            "<ipython-input-23-154eacba1e4f>:95: SettingWithCopyWarning: \n",
            "A value is trying to be set on a copy of a slice from a DataFrame.\n",
            "Try using .loc[row_indexer,col_indexer] = value instead\n",
            "\n",
            "See the caveats in the documentation: https://pandas.pydata.org/pandas-docs/stable/user_guide/indexing.html#returning-a-view-versus-a-copy\n",
            "  batch_df['contextualized_vectors'] = tensor_output\n"
          ]
        },
        {
          "output_type": "stream",
          "name": "stdout",
          "text": [
            "Fertig_0\n",
            "hallo there\n",
            "Fertig_1\n",
            "hallo there\n",
            "Fertig_2\n",
            "hallo there\n",
            "Fertig_3\n",
            "hallo there\n",
            "Fertig_4\n",
            "hallo there\n",
            "Fertig_5\n",
            "hallo there\n",
            "Fertig_6\n",
            "hallo there\n",
            "Fertig_7\n",
            "hallo there\n",
            "Fertig_8\n",
            "hallo there\n",
            "Fertig_9\n",
            "hallo there\n",
            "Fertig_10\n",
            "hallo there\n",
            "Fertig_11\n",
            "hallo there\n",
            "Fertig_12\n",
            "hallo there\n",
            "Fertig_13\n",
            "hallo there\n",
            "Fertig_14\n",
            "hallo there\n",
            "Fertig_15\n",
            "hallo there\n",
            "Fertig_16\n",
            "hallo there\n",
            "Fertig_17\n",
            "hallo there\n",
            "Fertig_18\n",
            "hallo there\n",
            "Fertig_19\n",
            "hallo there\n",
            "Fertig_20\n",
            "hallo there\n",
            "Fertig_21\n",
            "hallo there\n",
            "Fertig_22\n",
            "hallo there\n",
            "Fertig_23\n",
            "hallo there\n",
            "Fertig_24\n",
            "hallo there\n",
            "Fertig_25\n",
            "hallo there\n",
            "Fertig_26\n",
            "hallo there\n",
            "Fertig_27\n",
            "hallo there\n",
            "Fertig_28\n",
            "hallo there\n",
            "Fertig_29\n",
            "hallo there\n",
            "Fertig_30\n",
            "hallo there\n",
            "Fertig_31\n",
            "hallo there\n",
            "Fertig_32\n",
            "hallo there\n",
            "Fertig_33\n",
            "hallo there\n",
            "Fertig_34\n",
            "hallo there\n",
            "Fertig_35\n",
            "hallo there\n",
            "Fertig_36\n",
            "hallo there\n",
            "Fertig_37\n",
            "hallo there\n",
            "Fertig_38\n",
            "hallo there\n",
            "Fertig_39\n",
            "hallo there\n",
            "Fertig_40\n",
            "hallo there\n",
            "Fertig_41\n",
            "hallo there\n",
            "Fertig_42\n",
            "hallo there\n",
            "Fertig_43\n",
            "hallo there\n",
            "Fertig_44\n",
            "hallo there\n",
            "Fertig_45\n",
            "hallo there\n",
            "Fertig_46\n",
            "hallo there\n",
            "Fertig_47\n",
            "hallo there\n",
            "Fertig_48\n",
            "hallo there\n",
            "Fertig_49\n",
            "hallo there\n",
            "Fertig_50\n",
            "hallo there\n",
            "Fertig_51\n",
            "hallo there\n",
            "Fertig_52\n",
            "hallo there\n",
            "Fertig_53\n",
            "hallo there\n",
            "Fertig_54\n",
            "hallo there\n",
            "Fertig_55\n",
            "hallo there\n",
            "Fertig_56\n",
            "hallo there\n",
            "Fertig_57\n",
            "Der Code hat 120.18 Minuten gedauert.\n"
          ]
        }
      ],
      "id": "ysRw9k-s-g_I"
    },
    {
      "cell_type": "code",
      "source": [
        "\"\"\"\n",
        "  All data distributed in batches are read and cleaned up. The data is filtered by end labels\n",
        "  (only 0 and 1 labels are taken). The NaN values from the \"embedding vector\" are removed.\n",
        "  Due to the fact that many sentences in the dataset repeat themselves,\n",
        "  similar embedding vectors also appear in the dataframe. However, they are removed here.\n",
        "\n",
        "\"\"\"\n",
        "start_time = time.time()\n",
        "concat_filtered_embedding=[]\n",
        "for bach_num in range(58):\n",
        "    update_bach=pd.read_csv(f\"/content/drive/My Drive/embedding_data/updated_data_batch_embedding{batch_num}.csv\", low_memory=False)\n",
        "    print(f\"read_{bach_num}_baches\")\n",
        "\n",
        "    #filtered by end labels (only 0 and 1 labels are taken)\n",
        "    update_bach_filtered_endlabels=update_bach[(update_bach[\"end_labels\"] >= 0.0) & (update_bach[\"end_labels\"] <= 1.0)]\n",
        "\n",
        "    #the NaN values from the \"contextualized_vectors\" are removed\n",
        "    update_bach_filtered_endlabels.dropna(subset=[\"contextualized_vectors\"],inplace=True)\n",
        "\n",
        "    # similar embedding vectors are remove\n",
        "    end_embedding = update_bach_filtered_endlabels.drop_duplicates(subset=\"contextualized_vectors\")\n",
        "    concat_filtered_embedding.append(end_embedding)\n",
        "    print(f\"append_num_{bach_num}\")\n",
        "# concatenate all dataframes\n",
        "filtered_embedding_data = pd.concat(concat_filtered_embedding,ignore_index=True)\n",
        "\n",
        "\n",
        "# Save DataFrame as a CSV file\n",
        "filtered_embedding_data.to_csv('/content/drive/My Drive/embedding_data/final_embedding_data.csv', index=False)\n",
        "\n",
        "elapsed_time_seconds = time.time() - start_time\n",
        "elapsed_time_minutes = elapsed_time_seconds / 60\n",
        "\n",
        "print(f\"Der Code hat {elapsed_time_minutes:.2f} Minuten gedauert.\")"
      ],
      "metadata": {
        "colab": {
          "base_uri": "https://localhost:8080/"
        },
        "id": "zydhlpPb8xHI",
        "outputId": "c447e44e-fe27-411b-fad9-f20b4e37cd68"
      },
      "id": "zydhlpPb8xHI",
      "execution_count": 24,
      "outputs": [
        {
          "output_type": "stream",
          "name": "stdout",
          "text": [
            "read_0_baches\n",
            "append_num_0\n"
          ]
        },
        {
          "output_type": "stream",
          "name": "stderr",
          "text": [
            "<ipython-input-24-728af1b84ec5>:8: SettingWithCopyWarning: \n",
            "A value is trying to be set on a copy of a slice from a DataFrame\n",
            "\n",
            "See the caveats in the documentation: https://pandas.pydata.org/pandas-docs/stable/user_guide/indexing.html#returning-a-view-versus-a-copy\n",
            "  update_bach_filtered_endlabels.dropna(subset=[\"contextualized_vectors\"],inplace=True)\n"
          ]
        },
        {
          "output_type": "stream",
          "name": "stdout",
          "text": [
            "read_1_baches\n",
            "append_num_1\n"
          ]
        },
        {
          "output_type": "stream",
          "name": "stderr",
          "text": [
            "<ipython-input-24-728af1b84ec5>:8: SettingWithCopyWarning: \n",
            "A value is trying to be set on a copy of a slice from a DataFrame\n",
            "\n",
            "See the caveats in the documentation: https://pandas.pydata.org/pandas-docs/stable/user_guide/indexing.html#returning-a-view-versus-a-copy\n",
            "  update_bach_filtered_endlabels.dropna(subset=[\"contextualized_vectors\"],inplace=True)\n"
          ]
        },
        {
          "output_type": "stream",
          "name": "stdout",
          "text": [
            "read_2_baches\n",
            "append_num_2\n"
          ]
        },
        {
          "output_type": "stream",
          "name": "stderr",
          "text": [
            "<ipython-input-24-728af1b84ec5>:8: SettingWithCopyWarning: \n",
            "A value is trying to be set on a copy of a slice from a DataFrame\n",
            "\n",
            "See the caveats in the documentation: https://pandas.pydata.org/pandas-docs/stable/user_guide/indexing.html#returning-a-view-versus-a-copy\n",
            "  update_bach_filtered_endlabels.dropna(subset=[\"contextualized_vectors\"],inplace=True)\n"
          ]
        },
        {
          "output_type": "stream",
          "name": "stdout",
          "text": [
            "read_3_baches\n",
            "append_num_3\n"
          ]
        },
        {
          "output_type": "stream",
          "name": "stderr",
          "text": [
            "<ipython-input-24-728af1b84ec5>:8: SettingWithCopyWarning: \n",
            "A value is trying to be set on a copy of a slice from a DataFrame\n",
            "\n",
            "See the caveats in the documentation: https://pandas.pydata.org/pandas-docs/stable/user_guide/indexing.html#returning-a-view-versus-a-copy\n",
            "  update_bach_filtered_endlabels.dropna(subset=[\"contextualized_vectors\"],inplace=True)\n"
          ]
        },
        {
          "output_type": "stream",
          "name": "stdout",
          "text": [
            "read_4_baches\n",
            "append_num_4\n"
          ]
        },
        {
          "output_type": "stream",
          "name": "stderr",
          "text": [
            "<ipython-input-24-728af1b84ec5>:8: SettingWithCopyWarning: \n",
            "A value is trying to be set on a copy of a slice from a DataFrame\n",
            "\n",
            "See the caveats in the documentation: https://pandas.pydata.org/pandas-docs/stable/user_guide/indexing.html#returning-a-view-versus-a-copy\n",
            "  update_bach_filtered_endlabels.dropna(subset=[\"contextualized_vectors\"],inplace=True)\n"
          ]
        },
        {
          "output_type": "stream",
          "name": "stdout",
          "text": [
            "read_5_baches\n",
            "append_num_5\n"
          ]
        },
        {
          "output_type": "stream",
          "name": "stderr",
          "text": [
            "<ipython-input-24-728af1b84ec5>:8: SettingWithCopyWarning: \n",
            "A value is trying to be set on a copy of a slice from a DataFrame\n",
            "\n",
            "See the caveats in the documentation: https://pandas.pydata.org/pandas-docs/stable/user_guide/indexing.html#returning-a-view-versus-a-copy\n",
            "  update_bach_filtered_endlabels.dropna(subset=[\"contextualized_vectors\"],inplace=True)\n"
          ]
        },
        {
          "output_type": "stream",
          "name": "stdout",
          "text": [
            "read_6_baches\n",
            "append_num_6\n"
          ]
        },
        {
          "output_type": "stream",
          "name": "stderr",
          "text": [
            "<ipython-input-24-728af1b84ec5>:8: SettingWithCopyWarning: \n",
            "A value is trying to be set on a copy of a slice from a DataFrame\n",
            "\n",
            "See the caveats in the documentation: https://pandas.pydata.org/pandas-docs/stable/user_guide/indexing.html#returning-a-view-versus-a-copy\n",
            "  update_bach_filtered_endlabels.dropna(subset=[\"contextualized_vectors\"],inplace=True)\n"
          ]
        },
        {
          "output_type": "stream",
          "name": "stdout",
          "text": [
            "read_7_baches\n",
            "append_num_7\n"
          ]
        },
        {
          "output_type": "stream",
          "name": "stderr",
          "text": [
            "<ipython-input-24-728af1b84ec5>:8: SettingWithCopyWarning: \n",
            "A value is trying to be set on a copy of a slice from a DataFrame\n",
            "\n",
            "See the caveats in the documentation: https://pandas.pydata.org/pandas-docs/stable/user_guide/indexing.html#returning-a-view-versus-a-copy\n",
            "  update_bach_filtered_endlabels.dropna(subset=[\"contextualized_vectors\"],inplace=True)\n"
          ]
        },
        {
          "output_type": "stream",
          "name": "stdout",
          "text": [
            "read_8_baches\n",
            "append_num_8\n"
          ]
        },
        {
          "output_type": "stream",
          "name": "stderr",
          "text": [
            "<ipython-input-24-728af1b84ec5>:8: SettingWithCopyWarning: \n",
            "A value is trying to be set on a copy of a slice from a DataFrame\n",
            "\n",
            "See the caveats in the documentation: https://pandas.pydata.org/pandas-docs/stable/user_guide/indexing.html#returning-a-view-versus-a-copy\n",
            "  update_bach_filtered_endlabels.dropna(subset=[\"contextualized_vectors\"],inplace=True)\n"
          ]
        },
        {
          "output_type": "stream",
          "name": "stdout",
          "text": [
            "read_9_baches\n",
            "append_num_9\n"
          ]
        },
        {
          "output_type": "stream",
          "name": "stderr",
          "text": [
            "<ipython-input-24-728af1b84ec5>:8: SettingWithCopyWarning: \n",
            "A value is trying to be set on a copy of a slice from a DataFrame\n",
            "\n",
            "See the caveats in the documentation: https://pandas.pydata.org/pandas-docs/stable/user_guide/indexing.html#returning-a-view-versus-a-copy\n",
            "  update_bach_filtered_endlabels.dropna(subset=[\"contextualized_vectors\"],inplace=True)\n"
          ]
        },
        {
          "output_type": "stream",
          "name": "stdout",
          "text": [
            "read_10_baches\n",
            "append_num_10\n"
          ]
        },
        {
          "output_type": "stream",
          "name": "stderr",
          "text": [
            "<ipython-input-24-728af1b84ec5>:8: SettingWithCopyWarning: \n",
            "A value is trying to be set on a copy of a slice from a DataFrame\n",
            "\n",
            "See the caveats in the documentation: https://pandas.pydata.org/pandas-docs/stable/user_guide/indexing.html#returning-a-view-versus-a-copy\n",
            "  update_bach_filtered_endlabels.dropna(subset=[\"contextualized_vectors\"],inplace=True)\n"
          ]
        },
        {
          "output_type": "stream",
          "name": "stdout",
          "text": [
            "read_11_baches\n",
            "append_num_11\n"
          ]
        },
        {
          "output_type": "stream",
          "name": "stderr",
          "text": [
            "<ipython-input-24-728af1b84ec5>:8: SettingWithCopyWarning: \n",
            "A value is trying to be set on a copy of a slice from a DataFrame\n",
            "\n",
            "See the caveats in the documentation: https://pandas.pydata.org/pandas-docs/stable/user_guide/indexing.html#returning-a-view-versus-a-copy\n",
            "  update_bach_filtered_endlabels.dropna(subset=[\"contextualized_vectors\"],inplace=True)\n"
          ]
        },
        {
          "output_type": "stream",
          "name": "stdout",
          "text": [
            "read_12_baches\n",
            "append_num_12\n"
          ]
        },
        {
          "output_type": "stream",
          "name": "stderr",
          "text": [
            "<ipython-input-24-728af1b84ec5>:8: SettingWithCopyWarning: \n",
            "A value is trying to be set on a copy of a slice from a DataFrame\n",
            "\n",
            "See the caveats in the documentation: https://pandas.pydata.org/pandas-docs/stable/user_guide/indexing.html#returning-a-view-versus-a-copy\n",
            "  update_bach_filtered_endlabels.dropna(subset=[\"contextualized_vectors\"],inplace=True)\n"
          ]
        },
        {
          "output_type": "stream",
          "name": "stdout",
          "text": [
            "read_13_baches\n",
            "append_num_13\n"
          ]
        },
        {
          "output_type": "stream",
          "name": "stderr",
          "text": [
            "<ipython-input-24-728af1b84ec5>:8: SettingWithCopyWarning: \n",
            "A value is trying to be set on a copy of a slice from a DataFrame\n",
            "\n",
            "See the caveats in the documentation: https://pandas.pydata.org/pandas-docs/stable/user_guide/indexing.html#returning-a-view-versus-a-copy\n",
            "  update_bach_filtered_endlabels.dropna(subset=[\"contextualized_vectors\"],inplace=True)\n"
          ]
        },
        {
          "output_type": "stream",
          "name": "stdout",
          "text": [
            "read_14_baches\n",
            "append_num_14\n"
          ]
        },
        {
          "output_type": "stream",
          "name": "stderr",
          "text": [
            "<ipython-input-24-728af1b84ec5>:8: SettingWithCopyWarning: \n",
            "A value is trying to be set on a copy of a slice from a DataFrame\n",
            "\n",
            "See the caveats in the documentation: https://pandas.pydata.org/pandas-docs/stable/user_guide/indexing.html#returning-a-view-versus-a-copy\n",
            "  update_bach_filtered_endlabels.dropna(subset=[\"contextualized_vectors\"],inplace=True)\n"
          ]
        },
        {
          "output_type": "stream",
          "name": "stdout",
          "text": [
            "read_15_baches\n",
            "append_num_15\n"
          ]
        },
        {
          "output_type": "stream",
          "name": "stderr",
          "text": [
            "<ipython-input-24-728af1b84ec5>:8: SettingWithCopyWarning: \n",
            "A value is trying to be set on a copy of a slice from a DataFrame\n",
            "\n",
            "See the caveats in the documentation: https://pandas.pydata.org/pandas-docs/stable/user_guide/indexing.html#returning-a-view-versus-a-copy\n",
            "  update_bach_filtered_endlabels.dropna(subset=[\"contextualized_vectors\"],inplace=True)\n"
          ]
        },
        {
          "output_type": "stream",
          "name": "stdout",
          "text": [
            "read_16_baches\n",
            "append_num_16\n"
          ]
        },
        {
          "output_type": "stream",
          "name": "stderr",
          "text": [
            "<ipython-input-24-728af1b84ec5>:8: SettingWithCopyWarning: \n",
            "A value is trying to be set on a copy of a slice from a DataFrame\n",
            "\n",
            "See the caveats in the documentation: https://pandas.pydata.org/pandas-docs/stable/user_guide/indexing.html#returning-a-view-versus-a-copy\n",
            "  update_bach_filtered_endlabels.dropna(subset=[\"contextualized_vectors\"],inplace=True)\n"
          ]
        },
        {
          "output_type": "stream",
          "name": "stdout",
          "text": [
            "read_17_baches\n",
            "append_num_17\n"
          ]
        },
        {
          "output_type": "stream",
          "name": "stderr",
          "text": [
            "<ipython-input-24-728af1b84ec5>:8: SettingWithCopyWarning: \n",
            "A value is trying to be set on a copy of a slice from a DataFrame\n",
            "\n",
            "See the caveats in the documentation: https://pandas.pydata.org/pandas-docs/stable/user_guide/indexing.html#returning-a-view-versus-a-copy\n",
            "  update_bach_filtered_endlabels.dropna(subset=[\"contextualized_vectors\"],inplace=True)\n"
          ]
        },
        {
          "output_type": "stream",
          "name": "stdout",
          "text": [
            "read_18_baches\n",
            "append_num_18\n"
          ]
        },
        {
          "output_type": "stream",
          "name": "stderr",
          "text": [
            "<ipython-input-24-728af1b84ec5>:8: SettingWithCopyWarning: \n",
            "A value is trying to be set on a copy of a slice from a DataFrame\n",
            "\n",
            "See the caveats in the documentation: https://pandas.pydata.org/pandas-docs/stable/user_guide/indexing.html#returning-a-view-versus-a-copy\n",
            "  update_bach_filtered_endlabels.dropna(subset=[\"contextualized_vectors\"],inplace=True)\n"
          ]
        },
        {
          "output_type": "stream",
          "name": "stdout",
          "text": [
            "read_19_baches\n",
            "append_num_19\n"
          ]
        },
        {
          "output_type": "stream",
          "name": "stderr",
          "text": [
            "<ipython-input-24-728af1b84ec5>:8: SettingWithCopyWarning: \n",
            "A value is trying to be set on a copy of a slice from a DataFrame\n",
            "\n",
            "See the caveats in the documentation: https://pandas.pydata.org/pandas-docs/stable/user_guide/indexing.html#returning-a-view-versus-a-copy\n",
            "  update_bach_filtered_endlabels.dropna(subset=[\"contextualized_vectors\"],inplace=True)\n"
          ]
        },
        {
          "output_type": "stream",
          "name": "stdout",
          "text": [
            "read_20_baches\n",
            "append_num_20\n"
          ]
        },
        {
          "output_type": "stream",
          "name": "stderr",
          "text": [
            "<ipython-input-24-728af1b84ec5>:8: SettingWithCopyWarning: \n",
            "A value is trying to be set on a copy of a slice from a DataFrame\n",
            "\n",
            "See the caveats in the documentation: https://pandas.pydata.org/pandas-docs/stable/user_guide/indexing.html#returning-a-view-versus-a-copy\n",
            "  update_bach_filtered_endlabels.dropna(subset=[\"contextualized_vectors\"],inplace=True)\n"
          ]
        },
        {
          "output_type": "stream",
          "name": "stdout",
          "text": [
            "read_21_baches\n",
            "append_num_21\n"
          ]
        },
        {
          "output_type": "stream",
          "name": "stderr",
          "text": [
            "<ipython-input-24-728af1b84ec5>:8: SettingWithCopyWarning: \n",
            "A value is trying to be set on a copy of a slice from a DataFrame\n",
            "\n",
            "See the caveats in the documentation: https://pandas.pydata.org/pandas-docs/stable/user_guide/indexing.html#returning-a-view-versus-a-copy\n",
            "  update_bach_filtered_endlabels.dropna(subset=[\"contextualized_vectors\"],inplace=True)\n"
          ]
        },
        {
          "output_type": "stream",
          "name": "stdout",
          "text": [
            "read_22_baches\n",
            "append_num_22\n"
          ]
        },
        {
          "output_type": "stream",
          "name": "stderr",
          "text": [
            "<ipython-input-24-728af1b84ec5>:8: SettingWithCopyWarning: \n",
            "A value is trying to be set on a copy of a slice from a DataFrame\n",
            "\n",
            "See the caveats in the documentation: https://pandas.pydata.org/pandas-docs/stable/user_guide/indexing.html#returning-a-view-versus-a-copy\n",
            "  update_bach_filtered_endlabels.dropna(subset=[\"contextualized_vectors\"],inplace=True)\n"
          ]
        },
        {
          "output_type": "stream",
          "name": "stdout",
          "text": [
            "read_23_baches\n",
            "append_num_23\n"
          ]
        },
        {
          "output_type": "stream",
          "name": "stderr",
          "text": [
            "<ipython-input-24-728af1b84ec5>:8: SettingWithCopyWarning: \n",
            "A value is trying to be set on a copy of a slice from a DataFrame\n",
            "\n",
            "See the caveats in the documentation: https://pandas.pydata.org/pandas-docs/stable/user_guide/indexing.html#returning-a-view-versus-a-copy\n",
            "  update_bach_filtered_endlabels.dropna(subset=[\"contextualized_vectors\"],inplace=True)\n"
          ]
        },
        {
          "output_type": "stream",
          "name": "stdout",
          "text": [
            "read_24_baches\n",
            "append_num_24\n"
          ]
        },
        {
          "output_type": "stream",
          "name": "stderr",
          "text": [
            "<ipython-input-24-728af1b84ec5>:8: SettingWithCopyWarning: \n",
            "A value is trying to be set on a copy of a slice from a DataFrame\n",
            "\n",
            "See the caveats in the documentation: https://pandas.pydata.org/pandas-docs/stable/user_guide/indexing.html#returning-a-view-versus-a-copy\n",
            "  update_bach_filtered_endlabels.dropna(subset=[\"contextualized_vectors\"],inplace=True)\n"
          ]
        },
        {
          "output_type": "stream",
          "name": "stdout",
          "text": [
            "read_25_baches\n",
            "append_num_25\n"
          ]
        },
        {
          "output_type": "stream",
          "name": "stderr",
          "text": [
            "<ipython-input-24-728af1b84ec5>:8: SettingWithCopyWarning: \n",
            "A value is trying to be set on a copy of a slice from a DataFrame\n",
            "\n",
            "See the caveats in the documentation: https://pandas.pydata.org/pandas-docs/stable/user_guide/indexing.html#returning-a-view-versus-a-copy\n",
            "  update_bach_filtered_endlabels.dropna(subset=[\"contextualized_vectors\"],inplace=True)\n"
          ]
        },
        {
          "output_type": "stream",
          "name": "stdout",
          "text": [
            "read_26_baches\n",
            "append_num_26\n"
          ]
        },
        {
          "output_type": "stream",
          "name": "stderr",
          "text": [
            "<ipython-input-24-728af1b84ec5>:8: SettingWithCopyWarning: \n",
            "A value is trying to be set on a copy of a slice from a DataFrame\n",
            "\n",
            "See the caveats in the documentation: https://pandas.pydata.org/pandas-docs/stable/user_guide/indexing.html#returning-a-view-versus-a-copy\n",
            "  update_bach_filtered_endlabels.dropna(subset=[\"contextualized_vectors\"],inplace=True)\n"
          ]
        },
        {
          "output_type": "stream",
          "name": "stdout",
          "text": [
            "read_27_baches\n",
            "append_num_27\n"
          ]
        },
        {
          "output_type": "stream",
          "name": "stderr",
          "text": [
            "<ipython-input-24-728af1b84ec5>:8: SettingWithCopyWarning: \n",
            "A value is trying to be set on a copy of a slice from a DataFrame\n",
            "\n",
            "See the caveats in the documentation: https://pandas.pydata.org/pandas-docs/stable/user_guide/indexing.html#returning-a-view-versus-a-copy\n",
            "  update_bach_filtered_endlabels.dropna(subset=[\"contextualized_vectors\"],inplace=True)\n"
          ]
        },
        {
          "output_type": "stream",
          "name": "stdout",
          "text": [
            "read_28_baches\n",
            "append_num_28\n"
          ]
        },
        {
          "output_type": "stream",
          "name": "stderr",
          "text": [
            "<ipython-input-24-728af1b84ec5>:8: SettingWithCopyWarning: \n",
            "A value is trying to be set on a copy of a slice from a DataFrame\n",
            "\n",
            "See the caveats in the documentation: https://pandas.pydata.org/pandas-docs/stable/user_guide/indexing.html#returning-a-view-versus-a-copy\n",
            "  update_bach_filtered_endlabels.dropna(subset=[\"contextualized_vectors\"],inplace=True)\n"
          ]
        },
        {
          "output_type": "stream",
          "name": "stdout",
          "text": [
            "read_29_baches\n",
            "append_num_29\n"
          ]
        },
        {
          "output_type": "stream",
          "name": "stderr",
          "text": [
            "<ipython-input-24-728af1b84ec5>:8: SettingWithCopyWarning: \n",
            "A value is trying to be set on a copy of a slice from a DataFrame\n",
            "\n",
            "See the caveats in the documentation: https://pandas.pydata.org/pandas-docs/stable/user_guide/indexing.html#returning-a-view-versus-a-copy\n",
            "  update_bach_filtered_endlabels.dropna(subset=[\"contextualized_vectors\"],inplace=True)\n"
          ]
        },
        {
          "output_type": "stream",
          "name": "stdout",
          "text": [
            "read_30_baches\n",
            "append_num_30\n"
          ]
        },
        {
          "output_type": "stream",
          "name": "stderr",
          "text": [
            "<ipython-input-24-728af1b84ec5>:8: SettingWithCopyWarning: \n",
            "A value is trying to be set on a copy of a slice from a DataFrame\n",
            "\n",
            "See the caveats in the documentation: https://pandas.pydata.org/pandas-docs/stable/user_guide/indexing.html#returning-a-view-versus-a-copy\n",
            "  update_bach_filtered_endlabels.dropna(subset=[\"contextualized_vectors\"],inplace=True)\n"
          ]
        },
        {
          "output_type": "stream",
          "name": "stdout",
          "text": [
            "read_31_baches\n",
            "append_num_31\n"
          ]
        },
        {
          "output_type": "stream",
          "name": "stderr",
          "text": [
            "<ipython-input-24-728af1b84ec5>:8: SettingWithCopyWarning: \n",
            "A value is trying to be set on a copy of a slice from a DataFrame\n",
            "\n",
            "See the caveats in the documentation: https://pandas.pydata.org/pandas-docs/stable/user_guide/indexing.html#returning-a-view-versus-a-copy\n",
            "  update_bach_filtered_endlabels.dropna(subset=[\"contextualized_vectors\"],inplace=True)\n"
          ]
        },
        {
          "output_type": "stream",
          "name": "stdout",
          "text": [
            "read_32_baches\n",
            "append_num_32\n"
          ]
        },
        {
          "output_type": "stream",
          "name": "stderr",
          "text": [
            "<ipython-input-24-728af1b84ec5>:8: SettingWithCopyWarning: \n",
            "A value is trying to be set on a copy of a slice from a DataFrame\n",
            "\n",
            "See the caveats in the documentation: https://pandas.pydata.org/pandas-docs/stable/user_guide/indexing.html#returning-a-view-versus-a-copy\n",
            "  update_bach_filtered_endlabels.dropna(subset=[\"contextualized_vectors\"],inplace=True)\n"
          ]
        },
        {
          "output_type": "stream",
          "name": "stdout",
          "text": [
            "read_33_baches\n",
            "append_num_33\n"
          ]
        },
        {
          "output_type": "stream",
          "name": "stderr",
          "text": [
            "<ipython-input-24-728af1b84ec5>:8: SettingWithCopyWarning: \n",
            "A value is trying to be set on a copy of a slice from a DataFrame\n",
            "\n",
            "See the caveats in the documentation: https://pandas.pydata.org/pandas-docs/stable/user_guide/indexing.html#returning-a-view-versus-a-copy\n",
            "  update_bach_filtered_endlabels.dropna(subset=[\"contextualized_vectors\"],inplace=True)\n"
          ]
        },
        {
          "output_type": "stream",
          "name": "stdout",
          "text": [
            "read_34_baches\n",
            "append_num_34\n"
          ]
        },
        {
          "output_type": "stream",
          "name": "stderr",
          "text": [
            "<ipython-input-24-728af1b84ec5>:8: SettingWithCopyWarning: \n",
            "A value is trying to be set on a copy of a slice from a DataFrame\n",
            "\n",
            "See the caveats in the documentation: https://pandas.pydata.org/pandas-docs/stable/user_guide/indexing.html#returning-a-view-versus-a-copy\n",
            "  update_bach_filtered_endlabels.dropna(subset=[\"contextualized_vectors\"],inplace=True)\n"
          ]
        },
        {
          "output_type": "stream",
          "name": "stdout",
          "text": [
            "read_35_baches\n",
            "append_num_35\n"
          ]
        },
        {
          "output_type": "stream",
          "name": "stderr",
          "text": [
            "<ipython-input-24-728af1b84ec5>:8: SettingWithCopyWarning: \n",
            "A value is trying to be set on a copy of a slice from a DataFrame\n",
            "\n",
            "See the caveats in the documentation: https://pandas.pydata.org/pandas-docs/stable/user_guide/indexing.html#returning-a-view-versus-a-copy\n",
            "  update_bach_filtered_endlabels.dropna(subset=[\"contextualized_vectors\"],inplace=True)\n"
          ]
        },
        {
          "output_type": "stream",
          "name": "stdout",
          "text": [
            "read_36_baches\n",
            "append_num_36\n"
          ]
        },
        {
          "output_type": "stream",
          "name": "stderr",
          "text": [
            "<ipython-input-24-728af1b84ec5>:8: SettingWithCopyWarning: \n",
            "A value is trying to be set on a copy of a slice from a DataFrame\n",
            "\n",
            "See the caveats in the documentation: https://pandas.pydata.org/pandas-docs/stable/user_guide/indexing.html#returning-a-view-versus-a-copy\n",
            "  update_bach_filtered_endlabels.dropna(subset=[\"contextualized_vectors\"],inplace=True)\n"
          ]
        },
        {
          "output_type": "stream",
          "name": "stdout",
          "text": [
            "read_37_baches\n",
            "append_num_37\n"
          ]
        },
        {
          "output_type": "stream",
          "name": "stderr",
          "text": [
            "<ipython-input-24-728af1b84ec5>:8: SettingWithCopyWarning: \n",
            "A value is trying to be set on a copy of a slice from a DataFrame\n",
            "\n",
            "See the caveats in the documentation: https://pandas.pydata.org/pandas-docs/stable/user_guide/indexing.html#returning-a-view-versus-a-copy\n",
            "  update_bach_filtered_endlabels.dropna(subset=[\"contextualized_vectors\"],inplace=True)\n"
          ]
        },
        {
          "output_type": "stream",
          "name": "stdout",
          "text": [
            "read_38_baches\n",
            "append_num_38\n"
          ]
        },
        {
          "output_type": "stream",
          "name": "stderr",
          "text": [
            "<ipython-input-24-728af1b84ec5>:8: SettingWithCopyWarning: \n",
            "A value is trying to be set on a copy of a slice from a DataFrame\n",
            "\n",
            "See the caveats in the documentation: https://pandas.pydata.org/pandas-docs/stable/user_guide/indexing.html#returning-a-view-versus-a-copy\n",
            "  update_bach_filtered_endlabels.dropna(subset=[\"contextualized_vectors\"],inplace=True)\n"
          ]
        },
        {
          "output_type": "stream",
          "name": "stdout",
          "text": [
            "read_39_baches\n",
            "append_num_39\n"
          ]
        },
        {
          "output_type": "stream",
          "name": "stderr",
          "text": [
            "<ipython-input-24-728af1b84ec5>:8: SettingWithCopyWarning: \n",
            "A value is trying to be set on a copy of a slice from a DataFrame\n",
            "\n",
            "See the caveats in the documentation: https://pandas.pydata.org/pandas-docs/stable/user_guide/indexing.html#returning-a-view-versus-a-copy\n",
            "  update_bach_filtered_endlabels.dropna(subset=[\"contextualized_vectors\"],inplace=True)\n"
          ]
        },
        {
          "output_type": "stream",
          "name": "stdout",
          "text": [
            "read_40_baches\n",
            "append_num_40\n"
          ]
        },
        {
          "output_type": "stream",
          "name": "stderr",
          "text": [
            "<ipython-input-24-728af1b84ec5>:8: SettingWithCopyWarning: \n",
            "A value is trying to be set on a copy of a slice from a DataFrame\n",
            "\n",
            "See the caveats in the documentation: https://pandas.pydata.org/pandas-docs/stable/user_guide/indexing.html#returning-a-view-versus-a-copy\n",
            "  update_bach_filtered_endlabels.dropna(subset=[\"contextualized_vectors\"],inplace=True)\n"
          ]
        },
        {
          "output_type": "stream",
          "name": "stdout",
          "text": [
            "read_41_baches\n",
            "append_num_41\n"
          ]
        },
        {
          "output_type": "stream",
          "name": "stderr",
          "text": [
            "<ipython-input-24-728af1b84ec5>:8: SettingWithCopyWarning: \n",
            "A value is trying to be set on a copy of a slice from a DataFrame\n",
            "\n",
            "See the caveats in the documentation: https://pandas.pydata.org/pandas-docs/stable/user_guide/indexing.html#returning-a-view-versus-a-copy\n",
            "  update_bach_filtered_endlabels.dropna(subset=[\"contextualized_vectors\"],inplace=True)\n"
          ]
        },
        {
          "output_type": "stream",
          "name": "stdout",
          "text": [
            "read_42_baches\n",
            "append_num_42\n"
          ]
        },
        {
          "output_type": "stream",
          "name": "stderr",
          "text": [
            "<ipython-input-24-728af1b84ec5>:8: SettingWithCopyWarning: \n",
            "A value is trying to be set on a copy of a slice from a DataFrame\n",
            "\n",
            "See the caveats in the documentation: https://pandas.pydata.org/pandas-docs/stable/user_guide/indexing.html#returning-a-view-versus-a-copy\n",
            "  update_bach_filtered_endlabels.dropna(subset=[\"contextualized_vectors\"],inplace=True)\n"
          ]
        },
        {
          "output_type": "stream",
          "name": "stdout",
          "text": [
            "read_43_baches\n",
            "append_num_43\n"
          ]
        },
        {
          "output_type": "stream",
          "name": "stderr",
          "text": [
            "<ipython-input-24-728af1b84ec5>:8: SettingWithCopyWarning: \n",
            "A value is trying to be set on a copy of a slice from a DataFrame\n",
            "\n",
            "See the caveats in the documentation: https://pandas.pydata.org/pandas-docs/stable/user_guide/indexing.html#returning-a-view-versus-a-copy\n",
            "  update_bach_filtered_endlabels.dropna(subset=[\"contextualized_vectors\"],inplace=True)\n"
          ]
        },
        {
          "output_type": "stream",
          "name": "stdout",
          "text": [
            "read_44_baches\n",
            "append_num_44\n"
          ]
        },
        {
          "output_type": "stream",
          "name": "stderr",
          "text": [
            "<ipython-input-24-728af1b84ec5>:8: SettingWithCopyWarning: \n",
            "A value is trying to be set on a copy of a slice from a DataFrame\n",
            "\n",
            "See the caveats in the documentation: https://pandas.pydata.org/pandas-docs/stable/user_guide/indexing.html#returning-a-view-versus-a-copy\n",
            "  update_bach_filtered_endlabels.dropna(subset=[\"contextualized_vectors\"],inplace=True)\n"
          ]
        },
        {
          "output_type": "stream",
          "name": "stdout",
          "text": [
            "read_45_baches\n",
            "append_num_45\n"
          ]
        },
        {
          "output_type": "stream",
          "name": "stderr",
          "text": [
            "<ipython-input-24-728af1b84ec5>:8: SettingWithCopyWarning: \n",
            "A value is trying to be set on a copy of a slice from a DataFrame\n",
            "\n",
            "See the caveats in the documentation: https://pandas.pydata.org/pandas-docs/stable/user_guide/indexing.html#returning-a-view-versus-a-copy\n",
            "  update_bach_filtered_endlabels.dropna(subset=[\"contextualized_vectors\"],inplace=True)\n"
          ]
        },
        {
          "output_type": "stream",
          "name": "stdout",
          "text": [
            "read_46_baches\n",
            "append_num_46\n"
          ]
        },
        {
          "output_type": "stream",
          "name": "stderr",
          "text": [
            "<ipython-input-24-728af1b84ec5>:8: SettingWithCopyWarning: \n",
            "A value is trying to be set on a copy of a slice from a DataFrame\n",
            "\n",
            "See the caveats in the documentation: https://pandas.pydata.org/pandas-docs/stable/user_guide/indexing.html#returning-a-view-versus-a-copy\n",
            "  update_bach_filtered_endlabels.dropna(subset=[\"contextualized_vectors\"],inplace=True)\n"
          ]
        },
        {
          "output_type": "stream",
          "name": "stdout",
          "text": [
            "read_47_baches\n",
            "append_num_47\n"
          ]
        },
        {
          "output_type": "stream",
          "name": "stderr",
          "text": [
            "<ipython-input-24-728af1b84ec5>:8: SettingWithCopyWarning: \n",
            "A value is trying to be set on a copy of a slice from a DataFrame\n",
            "\n",
            "See the caveats in the documentation: https://pandas.pydata.org/pandas-docs/stable/user_guide/indexing.html#returning-a-view-versus-a-copy\n",
            "  update_bach_filtered_endlabels.dropna(subset=[\"contextualized_vectors\"],inplace=True)\n"
          ]
        },
        {
          "output_type": "stream",
          "name": "stdout",
          "text": [
            "read_48_baches\n",
            "append_num_48\n"
          ]
        },
        {
          "output_type": "stream",
          "name": "stderr",
          "text": [
            "<ipython-input-24-728af1b84ec5>:8: SettingWithCopyWarning: \n",
            "A value is trying to be set on a copy of a slice from a DataFrame\n",
            "\n",
            "See the caveats in the documentation: https://pandas.pydata.org/pandas-docs/stable/user_guide/indexing.html#returning-a-view-versus-a-copy\n",
            "  update_bach_filtered_endlabels.dropna(subset=[\"contextualized_vectors\"],inplace=True)\n"
          ]
        },
        {
          "output_type": "stream",
          "name": "stdout",
          "text": [
            "read_49_baches\n",
            "append_num_49\n"
          ]
        },
        {
          "output_type": "stream",
          "name": "stderr",
          "text": [
            "<ipython-input-24-728af1b84ec5>:8: SettingWithCopyWarning: \n",
            "A value is trying to be set on a copy of a slice from a DataFrame\n",
            "\n",
            "See the caveats in the documentation: https://pandas.pydata.org/pandas-docs/stable/user_guide/indexing.html#returning-a-view-versus-a-copy\n",
            "  update_bach_filtered_endlabels.dropna(subset=[\"contextualized_vectors\"],inplace=True)\n"
          ]
        },
        {
          "output_type": "stream",
          "name": "stdout",
          "text": [
            "read_50_baches\n",
            "append_num_50\n"
          ]
        },
        {
          "output_type": "stream",
          "name": "stderr",
          "text": [
            "<ipython-input-24-728af1b84ec5>:8: SettingWithCopyWarning: \n",
            "A value is trying to be set on a copy of a slice from a DataFrame\n",
            "\n",
            "See the caveats in the documentation: https://pandas.pydata.org/pandas-docs/stable/user_guide/indexing.html#returning-a-view-versus-a-copy\n",
            "  update_bach_filtered_endlabels.dropna(subset=[\"contextualized_vectors\"],inplace=True)\n"
          ]
        },
        {
          "output_type": "stream",
          "name": "stdout",
          "text": [
            "read_51_baches\n",
            "append_num_51\n"
          ]
        },
        {
          "output_type": "stream",
          "name": "stderr",
          "text": [
            "<ipython-input-24-728af1b84ec5>:8: SettingWithCopyWarning: \n",
            "A value is trying to be set on a copy of a slice from a DataFrame\n",
            "\n",
            "See the caveats in the documentation: https://pandas.pydata.org/pandas-docs/stable/user_guide/indexing.html#returning-a-view-versus-a-copy\n",
            "  update_bach_filtered_endlabels.dropna(subset=[\"contextualized_vectors\"],inplace=True)\n"
          ]
        },
        {
          "output_type": "stream",
          "name": "stdout",
          "text": [
            "read_52_baches\n",
            "append_num_52\n"
          ]
        },
        {
          "output_type": "stream",
          "name": "stderr",
          "text": [
            "<ipython-input-24-728af1b84ec5>:8: SettingWithCopyWarning: \n",
            "A value is trying to be set on a copy of a slice from a DataFrame\n",
            "\n",
            "See the caveats in the documentation: https://pandas.pydata.org/pandas-docs/stable/user_guide/indexing.html#returning-a-view-versus-a-copy\n",
            "  update_bach_filtered_endlabels.dropna(subset=[\"contextualized_vectors\"],inplace=True)\n"
          ]
        },
        {
          "output_type": "stream",
          "name": "stdout",
          "text": [
            "read_53_baches\n",
            "append_num_53\n"
          ]
        },
        {
          "output_type": "stream",
          "name": "stderr",
          "text": [
            "<ipython-input-24-728af1b84ec5>:8: SettingWithCopyWarning: \n",
            "A value is trying to be set on a copy of a slice from a DataFrame\n",
            "\n",
            "See the caveats in the documentation: https://pandas.pydata.org/pandas-docs/stable/user_guide/indexing.html#returning-a-view-versus-a-copy\n",
            "  update_bach_filtered_endlabels.dropna(subset=[\"contextualized_vectors\"],inplace=True)\n"
          ]
        },
        {
          "output_type": "stream",
          "name": "stdout",
          "text": [
            "read_54_baches\n",
            "append_num_54\n"
          ]
        },
        {
          "output_type": "stream",
          "name": "stderr",
          "text": [
            "<ipython-input-24-728af1b84ec5>:8: SettingWithCopyWarning: \n",
            "A value is trying to be set on a copy of a slice from a DataFrame\n",
            "\n",
            "See the caveats in the documentation: https://pandas.pydata.org/pandas-docs/stable/user_guide/indexing.html#returning-a-view-versus-a-copy\n",
            "  update_bach_filtered_endlabels.dropna(subset=[\"contextualized_vectors\"],inplace=True)\n"
          ]
        },
        {
          "output_type": "stream",
          "name": "stdout",
          "text": [
            "read_55_baches\n",
            "append_num_55\n"
          ]
        },
        {
          "output_type": "stream",
          "name": "stderr",
          "text": [
            "<ipython-input-24-728af1b84ec5>:8: SettingWithCopyWarning: \n",
            "A value is trying to be set on a copy of a slice from a DataFrame\n",
            "\n",
            "See the caveats in the documentation: https://pandas.pydata.org/pandas-docs/stable/user_guide/indexing.html#returning-a-view-versus-a-copy\n",
            "  update_bach_filtered_endlabels.dropna(subset=[\"contextualized_vectors\"],inplace=True)\n"
          ]
        },
        {
          "output_type": "stream",
          "name": "stdout",
          "text": [
            "read_56_baches\n",
            "append_num_56\n"
          ]
        },
        {
          "output_type": "stream",
          "name": "stderr",
          "text": [
            "<ipython-input-24-728af1b84ec5>:8: SettingWithCopyWarning: \n",
            "A value is trying to be set on a copy of a slice from a DataFrame\n",
            "\n",
            "See the caveats in the documentation: https://pandas.pydata.org/pandas-docs/stable/user_guide/indexing.html#returning-a-view-versus-a-copy\n",
            "  update_bach_filtered_endlabels.dropna(subset=[\"contextualized_vectors\"],inplace=True)\n"
          ]
        },
        {
          "output_type": "stream",
          "name": "stdout",
          "text": [
            "read_57_baches\n",
            "append_num_57\n"
          ]
        },
        {
          "output_type": "stream",
          "name": "stderr",
          "text": [
            "<ipython-input-24-728af1b84ec5>:8: SettingWithCopyWarning: \n",
            "A value is trying to be set on a copy of a slice from a DataFrame\n",
            "\n",
            "See the caveats in the documentation: https://pandas.pydata.org/pandas-docs/stable/user_guide/indexing.html#returning-a-view-versus-a-copy\n",
            "  update_bach_filtered_endlabels.dropna(subset=[\"contextualized_vectors\"],inplace=True)\n"
          ]
        },
        {
          "output_type": "stream",
          "name": "stdout",
          "text": [
            "Der Code hat 9.29 Minuten gedauert.\n"
          ]
        }
      ]
    },
    {
      "cell_type": "code",
      "source": [
        "df_fin=pd.read_csv(\"/content/drive/My Drive/embedding_data/final_embedding_data.csv\", low_memory=False)"
      ],
      "metadata": {
        "execution": {
          "iopub.status.busy": "2023-10-18T22:31:28.818856Z",
          "iopub.execute_input": "2023-10-18T22:31:28.819803Z",
          "iopub.status.idle": "2023-10-18T22:32:16.581018Z",
          "shell.execute_reply.started": "2023-10-18T22:31:28.819752Z",
          "shell.execute_reply": "2023-10-18T22:32:16.580218Z"
        },
        "trusted": true,
        "id": "icD7T2gN-g_J"
      },
      "execution_count": 26,
      "outputs": [],
      "id": "icD7T2gN-g_J"
    },
    {
      "cell_type": "code",
      "source": [
        "df_fin.shape"
      ],
      "metadata": {
        "colab": {
          "base_uri": "https://localhost:8080/"
        },
        "id": "xTvO2vO1Bwcz",
        "outputId": "6f1f0c06-abaf-4144-9112-43e18cbf9e6b"
      },
      "id": "xTvO2vO1Bwcz",
      "execution_count": 28,
      "outputs": [
        {
          "output_type": "execute_result",
          "data": {
            "text/plain": [
              "(74414, 11)"
            ]
          },
          "metadata": {},
          "execution_count": 28
        }
      ]
    },
    {
      "cell_type": "markdown",
      "source": [],
      "metadata": {
        "id": "EW7vDjYdIDwQ"
      },
      "id": "EW7vDjYdIDwQ"
    },
    {
      "cell_type": "code",
      "source": [
        "df_fin"
      ],
      "metadata": {
        "id": "PSj-ex9o-g_K",
        "colab": {
          "base_uri": "https://localhost:8080/",
          "height": 1000
        },
        "outputId": "26fdb731-4fbc-444f-87ad-d25e6c5be431"
      },
      "execution_count": 34,
      "outputs": [
        {
          "output_type": "execute_result",
          "data": {
            "text/plain": [
              "       Unnamed: 0                                       Sentence_row  \\\n",
              "0         5842828  The Palestinian faction headed   by Yasser Ara...   \n",
              "1         5842838  The Palestinian faction headed   by Yasser Ara...   \n",
              "2         5842846  The Palestinian faction headed   by Yasser Ara...   \n",
              "3         5842982  Multinational companies investing in China had...   \n",
              "4         5842991  Multinational companies investing in China had...   \n",
              "...           ...                                                ...   \n",
              "74409     5910598  270 people died in the 1988 bombing over the S...   \n",
              "74410     5910618  Libya initially refused   to hand over the two...   \n",
              "74411     5910626  Libya initially refused   to hand over the two...   \n",
              "74412     5910657  Opinion polls in Israel show hard - liner Arie...   \n",
              "74413     5910661  Opinion polls in Israel show hard - liner Arie...   \n",
              "\n",
              "       Word_count                                           Sentence  \\\n",
              "0            30.0  ('The', 'Palestinian', 'faction', 'headed', ' ...   \n",
              "1            30.0  ('The', 'Palestinian', 'faction', 'headed', ' ...   \n",
              "2            30.0  ('The', 'Palestinian', 'faction', 'headed', ' ...   \n",
              "3            31.0  ('Multinational', 'companies', 'investing', 'i...   \n",
              "4            31.0  ('Multinational', 'companies', 'investing', 'i...   \n",
              "...           ...                                                ...   \n",
              "74409        13.0  ('270', 'people', 'died', 'in', 'the', '1988',...   \n",
              "74410        35.0  ('Libya', 'initially', 'refused', ' ', 'to', '...   \n",
              "74411        35.0  ('Libya', 'initially', 'refused', ' ', 'to', '...   \n",
              "74412        27.0  ('Opinion', 'polls', 'in', 'Israel', 'show', '...   \n",
              "74413        27.0  ('Opinion', 'polls', 'in', 'Israel', 'show', '...   \n",
              "\n",
              "       Sentence_no       Word   POS  end_labels subword  wort_index  \\\n",
              "0           303498    faction  NOUN         0.0     NaN         3.0   \n",
              "1           303498         it  PRON         0.0     NaN        15.0   \n",
              "2           303498        its  PRON         0.0     NaN        24.0   \n",
              "3           303506  companies  NOUN         0.0     NaN         3.0   \n",
              "4           303506       they  PRON         0.0     NaN        12.0   \n",
              "...            ...        ...   ...         ...     ...         ...   \n",
              "74409       307826    bombing  NOUN         0.0     NaN         7.0   \n",
              "74410       307827       them  PRON         0.0     NaN        13.0   \n",
              "74411       307827       they  PRON         0.0     NaN        21.0   \n",
              "74412       307829      liner  NOUN         0.0     NaN        10.0   \n",
              "74413       307829        his  PRON         0.0     NaN        14.0   \n",
              "\n",
              "                                  contextualized_vectors  \n",
              "0      [-0.2964571714401245, 0.02676987275481224, -0....  \n",
              "1      [-0.3028354048728943, -0.15795791149139404, -0...  \n",
              "2      [-0.48960378766059875, 0.4215056896209717, -0....  \n",
              "3      [0.2172500342130661, 0.2576604187488556, -0.01...  \n",
              "4      [-0.15129604935646057, -0.14134235680103302, -...  \n",
              "...                                                  ...  \n",
              "74409  [0.7685377597808838, 1.115256905555725, -0.038...  \n",
              "74410  [0.11229103803634644, 0.16903077065944672, -0....  \n",
              "74411  [0.4275742769241333, 0.07952270656824112, 0.25...  \n",
              "74412  [0.5175453424453735, -0.12556852400302887, -0....  \n",
              "74413  [-0.123340904712677, 0.005307200830429792, -0....  \n",
              "\n",
              "[74414 rows x 11 columns]"
            ],
            "text/html": [
              "\n",
              "  <div id=\"df-a3ad49d5-9e1d-45cb-87c1-efdc3feebbb6\" class=\"colab-df-container\">\n",
              "    <div>\n",
              "<style scoped>\n",
              "    .dataframe tbody tr th:only-of-type {\n",
              "        vertical-align: middle;\n",
              "    }\n",
              "\n",
              "    .dataframe tbody tr th {\n",
              "        vertical-align: top;\n",
              "    }\n",
              "\n",
              "    .dataframe thead th {\n",
              "        text-align: right;\n",
              "    }\n",
              "</style>\n",
              "<table border=\"1\" class=\"dataframe\">\n",
              "  <thead>\n",
              "    <tr style=\"text-align: right;\">\n",
              "      <th></th>\n",
              "      <th>Unnamed: 0</th>\n",
              "      <th>Sentence_row</th>\n",
              "      <th>Word_count</th>\n",
              "      <th>Sentence</th>\n",
              "      <th>Sentence_no</th>\n",
              "      <th>Word</th>\n",
              "      <th>POS</th>\n",
              "      <th>end_labels</th>\n",
              "      <th>subword</th>\n",
              "      <th>wort_index</th>\n",
              "      <th>contextualized_vectors</th>\n",
              "    </tr>\n",
              "  </thead>\n",
              "  <tbody>\n",
              "    <tr>\n",
              "      <th>0</th>\n",
              "      <td>5842828</td>\n",
              "      <td>The Palestinian faction headed   by Yasser Ara...</td>\n",
              "      <td>30.0</td>\n",
              "      <td>('The', 'Palestinian', 'faction', 'headed', ' ...</td>\n",
              "      <td>303498</td>\n",
              "      <td>faction</td>\n",
              "      <td>NOUN</td>\n",
              "      <td>0.0</td>\n",
              "      <td>NaN</td>\n",
              "      <td>3.0</td>\n",
              "      <td>[-0.2964571714401245, 0.02676987275481224, -0....</td>\n",
              "    </tr>\n",
              "    <tr>\n",
              "      <th>1</th>\n",
              "      <td>5842838</td>\n",
              "      <td>The Palestinian faction headed   by Yasser Ara...</td>\n",
              "      <td>30.0</td>\n",
              "      <td>('The', 'Palestinian', 'faction', 'headed', ' ...</td>\n",
              "      <td>303498</td>\n",
              "      <td>it</td>\n",
              "      <td>PRON</td>\n",
              "      <td>0.0</td>\n",
              "      <td>NaN</td>\n",
              "      <td>15.0</td>\n",
              "      <td>[-0.3028354048728943, -0.15795791149139404, -0...</td>\n",
              "    </tr>\n",
              "    <tr>\n",
              "      <th>2</th>\n",
              "      <td>5842846</td>\n",
              "      <td>The Palestinian faction headed   by Yasser Ara...</td>\n",
              "      <td>30.0</td>\n",
              "      <td>('The', 'Palestinian', 'faction', 'headed', ' ...</td>\n",
              "      <td>303498</td>\n",
              "      <td>its</td>\n",
              "      <td>PRON</td>\n",
              "      <td>0.0</td>\n",
              "      <td>NaN</td>\n",
              "      <td>24.0</td>\n",
              "      <td>[-0.48960378766059875, 0.4215056896209717, -0....</td>\n",
              "    </tr>\n",
              "    <tr>\n",
              "      <th>3</th>\n",
              "      <td>5842982</td>\n",
              "      <td>Multinational companies investing in China had...</td>\n",
              "      <td>31.0</td>\n",
              "      <td>('Multinational', 'companies', 'investing', 'i...</td>\n",
              "      <td>303506</td>\n",
              "      <td>companies</td>\n",
              "      <td>NOUN</td>\n",
              "      <td>0.0</td>\n",
              "      <td>NaN</td>\n",
              "      <td>3.0</td>\n",
              "      <td>[0.2172500342130661, 0.2576604187488556, -0.01...</td>\n",
              "    </tr>\n",
              "    <tr>\n",
              "      <th>4</th>\n",
              "      <td>5842991</td>\n",
              "      <td>Multinational companies investing in China had...</td>\n",
              "      <td>31.0</td>\n",
              "      <td>('Multinational', 'companies', 'investing', 'i...</td>\n",
              "      <td>303506</td>\n",
              "      <td>they</td>\n",
              "      <td>PRON</td>\n",
              "      <td>0.0</td>\n",
              "      <td>NaN</td>\n",
              "      <td>12.0</td>\n",
              "      <td>[-0.15129604935646057, -0.14134235680103302, -...</td>\n",
              "    </tr>\n",
              "    <tr>\n",
              "      <th>...</th>\n",
              "      <td>...</td>\n",
              "      <td>...</td>\n",
              "      <td>...</td>\n",
              "      <td>...</td>\n",
              "      <td>...</td>\n",
              "      <td>...</td>\n",
              "      <td>...</td>\n",
              "      <td>...</td>\n",
              "      <td>...</td>\n",
              "      <td>...</td>\n",
              "      <td>...</td>\n",
              "    </tr>\n",
              "    <tr>\n",
              "      <th>74409</th>\n",
              "      <td>5910598</td>\n",
              "      <td>270 people died in the 1988 bombing over the S...</td>\n",
              "      <td>13.0</td>\n",
              "      <td>('270', 'people', 'died', 'in', 'the', '1988',...</td>\n",
              "      <td>307826</td>\n",
              "      <td>bombing</td>\n",
              "      <td>NOUN</td>\n",
              "      <td>0.0</td>\n",
              "      <td>NaN</td>\n",
              "      <td>7.0</td>\n",
              "      <td>[0.7685377597808838, 1.115256905555725, -0.038...</td>\n",
              "    </tr>\n",
              "    <tr>\n",
              "      <th>74410</th>\n",
              "      <td>5910618</td>\n",
              "      <td>Libya initially refused   to hand over the two...</td>\n",
              "      <td>35.0</td>\n",
              "      <td>('Libya', 'initially', 'refused', ' ', 'to', '...</td>\n",
              "      <td>307827</td>\n",
              "      <td>them</td>\n",
              "      <td>PRON</td>\n",
              "      <td>0.0</td>\n",
              "      <td>NaN</td>\n",
              "      <td>13.0</td>\n",
              "      <td>[0.11229103803634644, 0.16903077065944672, -0....</td>\n",
              "    </tr>\n",
              "    <tr>\n",
              "      <th>74411</th>\n",
              "      <td>5910626</td>\n",
              "      <td>Libya initially refused   to hand over the two...</td>\n",
              "      <td>35.0</td>\n",
              "      <td>('Libya', 'initially', 'refused', ' ', 'to', '...</td>\n",
              "      <td>307827</td>\n",
              "      <td>they</td>\n",
              "      <td>PRON</td>\n",
              "      <td>0.0</td>\n",
              "      <td>NaN</td>\n",
              "      <td>21.0</td>\n",
              "      <td>[0.4275742769241333, 0.07952270656824112, 0.25...</td>\n",
              "    </tr>\n",
              "    <tr>\n",
              "      <th>74412</th>\n",
              "      <td>5910657</td>\n",
              "      <td>Opinion polls in Israel show hard - liner Arie...</td>\n",
              "      <td>27.0</td>\n",
              "      <td>('Opinion', 'polls', 'in', 'Israel', 'show', '...</td>\n",
              "      <td>307829</td>\n",
              "      <td>liner</td>\n",
              "      <td>NOUN</td>\n",
              "      <td>0.0</td>\n",
              "      <td>NaN</td>\n",
              "      <td>10.0</td>\n",
              "      <td>[0.5175453424453735, -0.12556852400302887, -0....</td>\n",
              "    </tr>\n",
              "    <tr>\n",
              "      <th>74413</th>\n",
              "      <td>5910661</td>\n",
              "      <td>Opinion polls in Israel show hard - liner Arie...</td>\n",
              "      <td>27.0</td>\n",
              "      <td>('Opinion', 'polls', 'in', 'Israel', 'show', '...</td>\n",
              "      <td>307829</td>\n",
              "      <td>his</td>\n",
              "      <td>PRON</td>\n",
              "      <td>0.0</td>\n",
              "      <td>NaN</td>\n",
              "      <td>14.0</td>\n",
              "      <td>[-0.123340904712677, 0.005307200830429792, -0....</td>\n",
              "    </tr>\n",
              "  </tbody>\n",
              "</table>\n",
              "<p>74414 rows × 11 columns</p>\n",
              "</div>\n",
              "    <div class=\"colab-df-buttons\">\n",
              "\n",
              "  <div class=\"colab-df-container\">\n",
              "    <button class=\"colab-df-convert\" onclick=\"convertToInteractive('df-a3ad49d5-9e1d-45cb-87c1-efdc3feebbb6')\"\n",
              "            title=\"Convert this dataframe to an interactive table.\"\n",
              "            style=\"display:none;\">\n",
              "\n",
              "  <svg xmlns=\"http://www.w3.org/2000/svg\" height=\"24px\" viewBox=\"0 -960 960 960\">\n",
              "    <path d=\"M120-120v-720h720v720H120Zm60-500h600v-160H180v160Zm220 220h160v-160H400v160Zm0 220h160v-160H400v160ZM180-400h160v-160H180v160Zm440 0h160v-160H620v160ZM180-180h160v-160H180v160Zm440 0h160v-160H620v160Z\"/>\n",
              "  </svg>\n",
              "    </button>\n",
              "\n",
              "  <style>\n",
              "    .colab-df-container {\n",
              "      display:flex;\n",
              "      gap: 12px;\n",
              "    }\n",
              "\n",
              "    .colab-df-convert {\n",
              "      background-color: #E8F0FE;\n",
              "      border: none;\n",
              "      border-radius: 50%;\n",
              "      cursor: pointer;\n",
              "      display: none;\n",
              "      fill: #1967D2;\n",
              "      height: 32px;\n",
              "      padding: 0 0 0 0;\n",
              "      width: 32px;\n",
              "    }\n",
              "\n",
              "    .colab-df-convert:hover {\n",
              "      background-color: #E2EBFA;\n",
              "      box-shadow: 0px 1px 2px rgba(60, 64, 67, 0.3), 0px 1px 3px 1px rgba(60, 64, 67, 0.15);\n",
              "      fill: #174EA6;\n",
              "    }\n",
              "\n",
              "    .colab-df-buttons div {\n",
              "      margin-bottom: 4px;\n",
              "    }\n",
              "\n",
              "    [theme=dark] .colab-df-convert {\n",
              "      background-color: #3B4455;\n",
              "      fill: #D2E3FC;\n",
              "    }\n",
              "\n",
              "    [theme=dark] .colab-df-convert:hover {\n",
              "      background-color: #434B5C;\n",
              "      box-shadow: 0px 1px 3px 1px rgba(0, 0, 0, 0.15);\n",
              "      filter: drop-shadow(0px 1px 2px rgba(0, 0, 0, 0.3));\n",
              "      fill: #FFFFFF;\n",
              "    }\n",
              "  </style>\n",
              "\n",
              "    <script>\n",
              "      const buttonEl =\n",
              "        document.querySelector('#df-a3ad49d5-9e1d-45cb-87c1-efdc3feebbb6 button.colab-df-convert');\n",
              "      buttonEl.style.display =\n",
              "        google.colab.kernel.accessAllowed ? 'block' : 'none';\n",
              "\n",
              "      async function convertToInteractive(key) {\n",
              "        const element = document.querySelector('#df-a3ad49d5-9e1d-45cb-87c1-efdc3feebbb6');\n",
              "        const dataTable =\n",
              "          await google.colab.kernel.invokeFunction('convertToInteractive',\n",
              "                                                    [key], {});\n",
              "        if (!dataTable) return;\n",
              "\n",
              "        const docLinkHtml = 'Like what you see? Visit the ' +\n",
              "          '<a target=\"_blank\" href=https://colab.research.google.com/notebooks/data_table.ipynb>data table notebook</a>'\n",
              "          + ' to learn more about interactive tables.';\n",
              "        element.innerHTML = '';\n",
              "        dataTable['output_type'] = 'display_data';\n",
              "        await google.colab.output.renderOutput(dataTable, element);\n",
              "        const docLink = document.createElement('div');\n",
              "        docLink.innerHTML = docLinkHtml;\n",
              "        element.appendChild(docLink);\n",
              "      }\n",
              "    </script>\n",
              "  </div>\n",
              "\n",
              "\n",
              "<div id=\"df-2b6ae100-16af-45dd-ad86-9a4c45cc2a6c\">\n",
              "  <button class=\"colab-df-quickchart\" onclick=\"quickchart('df-2b6ae100-16af-45dd-ad86-9a4c45cc2a6c')\"\n",
              "            title=\"Suggest charts.\"\n",
              "            style=\"display:none;\">\n",
              "\n",
              "<svg xmlns=\"http://www.w3.org/2000/svg\" height=\"24px\"viewBox=\"0 0 24 24\"\n",
              "     width=\"24px\">\n",
              "    <g>\n",
              "        <path d=\"M19 3H5c-1.1 0-2 .9-2 2v14c0 1.1.9 2 2 2h14c1.1 0 2-.9 2-2V5c0-1.1-.9-2-2-2zM9 17H7v-7h2v7zm4 0h-2V7h2v10zm4 0h-2v-4h2v4z\"/>\n",
              "    </g>\n",
              "</svg>\n",
              "  </button>\n",
              "\n",
              "<style>\n",
              "  .colab-df-quickchart {\n",
              "      --bg-color: #E8F0FE;\n",
              "      --fill-color: #1967D2;\n",
              "      --hover-bg-color: #E2EBFA;\n",
              "      --hover-fill-color: #174EA6;\n",
              "      --disabled-fill-color: #AAA;\n",
              "      --disabled-bg-color: #DDD;\n",
              "  }\n",
              "\n",
              "  [theme=dark] .colab-df-quickchart {\n",
              "      --bg-color: #3B4455;\n",
              "      --fill-color: #D2E3FC;\n",
              "      --hover-bg-color: #434B5C;\n",
              "      --hover-fill-color: #FFFFFF;\n",
              "      --disabled-bg-color: #3B4455;\n",
              "      --disabled-fill-color: #666;\n",
              "  }\n",
              "\n",
              "  .colab-df-quickchart {\n",
              "    background-color: var(--bg-color);\n",
              "    border: none;\n",
              "    border-radius: 50%;\n",
              "    cursor: pointer;\n",
              "    display: none;\n",
              "    fill: var(--fill-color);\n",
              "    height: 32px;\n",
              "    padding: 0;\n",
              "    width: 32px;\n",
              "  }\n",
              "\n",
              "  .colab-df-quickchart:hover {\n",
              "    background-color: var(--hover-bg-color);\n",
              "    box-shadow: 0 1px 2px rgba(60, 64, 67, 0.3), 0 1px 3px 1px rgba(60, 64, 67, 0.15);\n",
              "    fill: var(--button-hover-fill-color);\n",
              "  }\n",
              "\n",
              "  .colab-df-quickchart-complete:disabled,\n",
              "  .colab-df-quickchart-complete:disabled:hover {\n",
              "    background-color: var(--disabled-bg-color);\n",
              "    fill: var(--disabled-fill-color);\n",
              "    box-shadow: none;\n",
              "  }\n",
              "\n",
              "  .colab-df-spinner {\n",
              "    border: 2px solid var(--fill-color);\n",
              "    border-color: transparent;\n",
              "    border-bottom-color: var(--fill-color);\n",
              "    animation:\n",
              "      spin 1s steps(1) infinite;\n",
              "  }\n",
              "\n",
              "  @keyframes spin {\n",
              "    0% {\n",
              "      border-color: transparent;\n",
              "      border-bottom-color: var(--fill-color);\n",
              "      border-left-color: var(--fill-color);\n",
              "    }\n",
              "    20% {\n",
              "      border-color: transparent;\n",
              "      border-left-color: var(--fill-color);\n",
              "      border-top-color: var(--fill-color);\n",
              "    }\n",
              "    30% {\n",
              "      border-color: transparent;\n",
              "      border-left-color: var(--fill-color);\n",
              "      border-top-color: var(--fill-color);\n",
              "      border-right-color: var(--fill-color);\n",
              "    }\n",
              "    40% {\n",
              "      border-color: transparent;\n",
              "      border-right-color: var(--fill-color);\n",
              "      border-top-color: var(--fill-color);\n",
              "    }\n",
              "    60% {\n",
              "      border-color: transparent;\n",
              "      border-right-color: var(--fill-color);\n",
              "    }\n",
              "    80% {\n",
              "      border-color: transparent;\n",
              "      border-right-color: var(--fill-color);\n",
              "      border-bottom-color: var(--fill-color);\n",
              "    }\n",
              "    90% {\n",
              "      border-color: transparent;\n",
              "      border-bottom-color: var(--fill-color);\n",
              "    }\n",
              "  }\n",
              "</style>\n",
              "\n",
              "  <script>\n",
              "    async function quickchart(key) {\n",
              "      const quickchartButtonEl =\n",
              "        document.querySelector('#' + key + ' button');\n",
              "      quickchartButtonEl.disabled = true;  // To prevent multiple clicks.\n",
              "      quickchartButtonEl.classList.add('colab-df-spinner');\n",
              "      try {\n",
              "        const charts = await google.colab.kernel.invokeFunction(\n",
              "            'suggestCharts', [key], {});\n",
              "      } catch (error) {\n",
              "        console.error('Error during call to suggestCharts:', error);\n",
              "      }\n",
              "      quickchartButtonEl.classList.remove('colab-df-spinner');\n",
              "      quickchartButtonEl.classList.add('colab-df-quickchart-complete');\n",
              "    }\n",
              "    (() => {\n",
              "      let quickchartButtonEl =\n",
              "        document.querySelector('#df-2b6ae100-16af-45dd-ad86-9a4c45cc2a6c button');\n",
              "      quickchartButtonEl.style.display =\n",
              "        google.colab.kernel.accessAllowed ? 'block' : 'none';\n",
              "    })();\n",
              "  </script>\n",
              "</div>\n",
              "    </div>\n",
              "  </div>\n"
            ]
          },
          "metadata": {},
          "execution_count": 34
        }
      ],
      "id": "PSj-ex9o-g_K"
    },
    {
      "cell_type": "code",
      "source": [
        "# following teil ist für debugging gedacht\n",
        "\n",
        "#filtered_df[(filtered_df.index > 180000 ) & (filtered_df.index < 181180 )]\n",
        "#filtered_df[(filtered_df.index == 156602)]\n",
        "#filtered_df[(filtered_df['Sentence_no'] == 6184)]\n",
        "\n"
      ],
      "metadata": {
        "execution": {
          "iopub.status.busy": "2023-10-08T10:23:27.216094Z",
          "iopub.status.idle": "2023-10-08T10:23:27.217057Z",
          "shell.execute_reply": "2023-10-08T10:23:27.216819Z",
          "shell.execute_reply.started": "2023-10-08T10:23:27.216775Z"
        },
        "jupyter": {
          "outputs_hidden": false
        },
        "pycharm": {
          "name": "#%%\n"
        },
        "id": "INvFyozt-g_K"
      },
      "execution_count": null,
      "outputs": [],
      "id": "INvFyozt-g_K"
    },
    {
      "cell_type": "code",
      "source": [],
      "metadata": {
        "id": "23Q2Cw2F-g_L"
      },
      "execution_count": null,
      "outputs": [],
      "id": "23Q2Cw2F-g_L"
    }
  ]
}